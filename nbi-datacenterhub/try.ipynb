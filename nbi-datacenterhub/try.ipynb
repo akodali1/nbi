{
 "cells": [
  {
   "cell_type": "code",
   "execution_count": 1,
   "metadata": {},
   "outputs": [],
   "source": [
    "import csv\n",
    "import pandas as pd\n",
    "import numpy as np\n",
    "import requests\n",
    "import io"
   ]
  },
  {
   "cell_type": "code",
   "execution_count": 2,
   "metadata": {},
   "outputs": [
    {
     "name": "stderr",
     "output_type": "stream",
     "text": [
      "/Users/AkshayKale/anaconda3/lib/python3.6/site-packages/IPython/core/interactiveshell.py:2728: DtypeWarning: Columns (17,71,73,98,102,124,135) have mixed types. Specify dtype option on import or set low_memory=False.\n",
      "  interactivity=interactivity, compiler=compiler, result=result)\n"
     ]
    }
   ],
   "source": [
    "# function to take url as input and return a df\n",
    "url = 'https://www.fhwa.dot.gov/bridge/nbi/2018/delimited/NE18.txt'\n",
    "requested_csv = requests.get(url).content\n",
    "DF = pd.read_csv(io.StringIO(requested_csv.decode('utf-8')))"
   ]
  },
  {
   "cell_type": "code",
   "execution_count": 3,
   "metadata": {},
   "outputs": [],
   "source": [
    "NEW_NAMES_DICT ={'STATE_CODE_001':'1: State Code',\n",
    "                 'STRUCTURE_NUMBER_008': '8: Structure Number',\n",
    "                 'RECORD_TYPE_005A': '5A: Record Type',\n",
    "                 'ROUTE_PREFIX_005B' : '5B: Route Signing Prefix',\n",
    "                 'SERVICE_LEVEL_005C': '5C: Designated Level of Service',\n",
    "                 'ROUTE_NUMBER_005D': '5D: Route Number',\n",
    "                 'DIRECTION_005E': '5E: Directional Suffix',\n",
    "                 'HIGHWAY_DISTRICT_002':'2: Highway Agency District',\n",
    "                 'COUNTY_CODE_003' :'3: County (Parish) Code',\n",
    "                 'PLACE_CODE_004': '4: Place Code',\n",
    "                 'FEATURES_DESC_006A': '6A: Features Intersected',\n",
    "                 'CRITICAL_FACILITY_006B': '6B: Critical Facility Indicator',\n",
    "                 'FACILITY_CARRIED_007': '7: Facility Carried By Structure',\n",
    "                 'LOCATION_009': '9: Location',\n",
    "                 'MIN_VERT_CLR_010': '10: Inventory Rte, Min Vert Clearance',\n",
    "                 'KILOPOINT_011': '11: Kilometerpoint',\n",
    "                 'BASE_HWY_NETWORK_012': '12: Base Highway Network',\n",
    "                 'LRS_INV_ROUTE_013A': '13A: LRS Inventory Route',\n",
    "                 'SUBROUTE_NO_013B': '13B: Subroute Number',\n",
    "                 'LAT_016': '16: Latitude',\n",
    "                 'LONG_017': '17: Longitude',\n",
    "                 'DETOUR_KILOS_019': '19: Bypass/Detour Length',\n",
    "                 'TOLL_020': '20: Toll',\n",
    "                 'MAINTENANCE_021': '21: Maintenance Responsibility',\n",
    "                 'OWNER_022': '22: Owner',\n",
    "                 'FUNCTIONAL_CLASS_026': '26: Functional Class Of Inventory Rte.',\n",
    "                 'YEAR_BUILT_027': '27: Year Built',\n",
    "                 'TRAFFIC_LANES_ON_028A': '28A: Lanes On Structure',\n",
    "                 'TRAFFIC_LANES_UND_028B': '28B: Lanes Under Structure',\n",
    "                 'ADT_029': '29: Average Daily Traffic',\n",
    "                 'YEAR_ADT_030': '30: Year Of Average Daily Traffic',\n",
    "                 'DESIGN_LOAD_031': '31: Design Load',\n",
    "                 'APPR_WIDTH_MT_032': '32: Approach Roadway Width',\n",
    "                 'MEDIAN_CODE_033': '33: Bridge Median',\n",
    "                 'DEGREES_SKEW_034': '34: Skew',\n",
    "                 'STRUCTURE_FLARED_035': '35: Structure Flared',\n",
    "                 'RAILINGS_036A': '36A: Bridge Railings',\n",
    "                 'TRANSITIONS_036B': '36B: Transitions',\n",
    "                 'APPR_RAIL_036C': '36C: Approach Guardrail',\n",
    "                 'APPR_RAIL_END_036D': '36D: Approach Guardrail Ends',\n",
    "                 'HISTORY_037':'37: Historical significance',\n",
    "                 'NAVIGATION_038':'38: Navigation Control',\n",
    "                 'NAV_VERT_CLR_MT_039': '39: Navigation Vertical Clearance',\n",
    "                 'NAV_HORR_CLR_MT_040': '40: Navigation Horizontal Clearance',\n",
    "                 'OPEN_CLOSED_POSTED_041': '41: Structure Open/Posted/Closed',\n",
    "                 'SERVICE_ON_042A': '42A: Type of Service On Bridge',\n",
    "                 'SERVICE_UND_042B':'42B: Type of Service Under Bridge',\n",
    "                 'STRUCTURE_KIND_043A': '43A: Kind of Material/Design',\n",
    "                 'STRUCTURE_TYPE_043B': '43B: Type of Design/Construction',\n",
    "                 'APPR_KIND_044A': '44A: Kind of Material/Design',\n",
    "                 'APPR_TYPE_044B': '44B: Type of Design/Construction',\n",
    "                 'MAIN_UNIT_SPANS_045': '45: Number Of Spans In Main Unit',\n",
    "                 'APPR_SPANS_046': '46: Number Of Approach Spans',\n",
    "                 'HORR_CLR_MT_047': '47: Inventory Rte Total Horz Clearance',\n",
    "                 'MAX_SPAN_LEN_MT_048': '48: Length of Maximum Span',\n",
    "                 'STRUCTURE_LEN_MT_049': '49: Structure Length',\n",
    "                 'LEFT_CURB_MT_050A': '50A: Left Curb/Sidewalk Width',\n",
    "                 'RIGHT_CURB_MT_050B': '50B: Right Curb/Sidewalk Width',\n",
    "                 'ROADWAY_WIDTH_MT_051': '51: Bridge Roadway Width, Curb-To-Curb',\n",
    "                 'DECK_WIDTH_MT_052': '52: Deck Width, Out-To-Out',\n",
    "                 'VERT_CLR_OVER_MT_053': '53: Min Vert Clear Over Bridge Roadway',\n",
    "                 'VERT_CLR_UND_REF_054A': '54A: Reference Feature',\n",
    "                 'VERT_CLR_UND_054B': '54B: Minimum Vertical Underclearance',\n",
    "                 'LAT_UND_REF_055A': '55A: Reference Feature',\n",
    "                 'LAT_UND_MT_055B': '55B: Minimum Lateral Underclearance on Right',\n",
    "                 'LEFT_LAT_UND_MT_056': '56: Min Lateral Underclear On Left',\n",
    "                 'DECK_COND_058': '58: Deck',\n",
    "                 'SUPERSTRUCTURE_COND_059': '59: Superstructure',\n",
    "                 'SUBSTRUCTURE_COND_060': '60: Substructure',\n",
    "                 'CHANNEL_COND_061': '61: Channel/Channel Protection',\n",
    "                 'CULVERT_COND_062': '62: Culverts',\n",
    "                 'OPR_RATING_METH_063': '63: Method Used To Determine Operating Rating',\n",
    "                 'OPERATING_RATING_064': '64: Operating Rating',\n",
    "                 'INV_RATING_METH_065': '65: Method Used To Determine Inventory Rating',\n",
    "                 'INVENTORY_RATING_066': '66: Inventory Rating',\n",
    "                 'STRUCTURAL_EVAL_067': '67: Structural Evaluation',\n",
    "                 'DECK_GEOMETRY_EVAL_068': '68: Deck Geometry',\n",
    "                 'UNDCLRENCE_EVAL_069': '69: Underclear, Vertical &amp; Horizontal',\n",
    "                 'POSTING_EVAL_070': '70: Bridge Posting',\n",
    "                 'WATERWAY_EVAL_071': '71: Waterway Adequacy',\n",
    "                 'APPR_ROAD_EVAL_072': '72: Approach Roadway Alignment',\n",
    "                 'WORK_PROPOSED_075A': '75A: Type of Work Proposed',\n",
    "                 'WORK_DONE_BY_075B': '75B: Work Done By',\n",
    "                 'IMP_LEN_MT_076': '76: Length of Structure Improvement',\n",
    "                 'DATE_OF_INSPECT_090': '90: Inspection Date',\n",
    "                 'INSPECT_FREQ_MONTHS_091': '91: Designated Inspection Frequency',\n",
    "                 'FRACTURE_092A': '92A: Fracture Critical Details',\n",
    "                 'UNDWATER_LOOK_SEE_092B': '92B: Underwater Inspection',\n",
    "                 'SPEC_INSPECT_092C': '92C: Other Special Inspection',\n",
    "                 'FRACTURE_LAST_DATE_093A': '93A: Fracture Critical Details Date',\n",
    "                 'UNDWATER_LAST_DATE_093B': '93B: Underwater Inspection Date',\n",
    "                 'SPEC_LAST_DATE_093C': '93C: Other Special Inspection Date',\n",
    "                 'BRIDGE_IMP_COST_094': '94: Bridge Improvement Cost',\n",
    "                 'ROADWAY_IMP_COST_095': '95: Roadway Improvement Cost',\n",
    "                 'TOTAL_IMP_COST_096': '96: Total Project Cost',\n",
    "                 'YEAR_OF_IMP_097': '97: Year Of Improvement Cost Estimate',\n",
    "                 'OTHER_STATE_CODE_098A': '98A: Neighboring State Code',\n",
    "                 'OTHER_STATE_PCNT_098B': '98B: Percent Responsibility',\n",
    "                 'OTHR_STATE_STRUC_NO_099': '99: Border Bridge Structure Number',\n",
    "                 'STRAHNET_HIGHWAY_100': '100: STRAHNET Highway Designation',\n",
    "                 'PARALLEL_STRUCTURE_101': '101: Parallel Structure Designation',\n",
    "                 'TRAFFIC_DIRECTION_102': '102: Direction Of Traffic',\n",
    "                 'TEMP_STRUCTURE_103': '103: Temporary Structure Designation',\n",
    "                 'HIGHWAY_SYSTEM_104': '104: Highway System Of Inventory Route',\n",
    "                 'FEDERAL_LANDS_105': '105: Federal Lands Highways',\n",
    "                 'YEAR_RECONSTRUCTED_106': '106: Year Reconstructed',\n",
    "                 'DECK_STRUCTURE_TYPE_107': '107: Deck Structure Type',\n",
    "                 'SURFACE_TYPE_108A': '108A: Type of Wearing Surface',\n",
    "                 'MEMBRANE_TYPE_108B': '108B: Type of Membrane',\n",
    "                 'DECK_PROTECTION_108C': '108C: Deck Protection',\n",
    "                 'PERCENT_ADT_TRUCK_109': '109: AVERAGE DAILY TRUCK TRAFFIC',\n",
    "                 'NATIONAL_NETWORK_110': '110: DESIGNATED NATIONAL NETWORK',\n",
    "                 'PIER_PROTECTION_111': '111: PIER/ABUTMENT PROTECTION',\n",
    "                 'BRIDGE_LEN_IND_112': '112: NBIS BRIDGE LENGTH',\n",
    "                 'SCOUR_CRITICAL_113': '113: SCOUR CRITICAL BRIDGES',\n",
    "                 'FUTURE_ADT_114': '114: FUTURE AVERAGE DAILY TRAFFIC',\n",
    "                 'YEAR_OF_FUTURE_ADT_115': '115: YEAR OF FUTURE AVG DAILY TRAFFIC',\n",
    "                 'MIN_NAV_CLR_MT_116': '116: MINIMUM NAVIGATION VERTICAL CLEARANCE VERTICAL LIFT BRIDGE',\n",
    "                 'SUFFICIENCY_RATING' :'SR',\n",
    "                 'FED_AGENCY': 'Federal Agency'\n",
    "                }"
   ]
  },
  {
   "cell_type": "code",
   "execution_count": 4,
   "metadata": {},
   "outputs": [],
   "source": [
    "# get DF and names dict and return new named DF\n",
    "DF.rename(columns=NEW_NAMES_DICT, inplace=True)"
   ]
  },
  {
   "cell_type": "code",
   "execution_count": 5,
   "metadata": {},
   "outputs": [],
   "source": [
    "# Columns are to be ignored or to be not changed?\n",
    "# get dataframe, columname, and dictionary and return the output"
   ]
  },
  {
   "cell_type": "code",
   "execution_count": 6,
   "metadata": {},
   "outputs": [
    {
     "data": {
      "text/plain": [
       "Index(['1: State Code', '8: Structure Number', '5A: Record Type',\n",
       "       '5B: Route Signing Prefix', '5C: Designated Level of Service',\n",
       "       '5D: Route Number', '5E: Directional Suffix',\n",
       "       '2: Highway Agency District', '3: County (Parish) Code',\n",
       "       '4: Place Code',\n",
       "       ...\n",
       "       'DTL_TYPE_OF_IMP', 'SPECIAL_CODE', 'STEP_CODE', 'STATUS_WITH_10YR_RULE',\n",
       "       'SUFFICIENCY_ASTERC', 'SR', 'STATUS_NO_10YR_RULE', 'CAT10', 'CAT23',\n",
       "       'CAT29'],\n",
       "      dtype='object', length=137)"
      ]
     },
     "execution_count": 6,
     "metadata": {},
     "output_type": "execute_result"
    }
   ],
   "source": [
    "DF.columns"
   ]
  },
  {
   "cell_type": "code",
   "execution_count": 9,
   "metadata": {},
   "outputs": [],
   "source": [
    "COL_IGNORED = [ 'DATE_LAST_UPDATE',\n",
    "                'TYPE_LAST_UPDATE', \n",
    "                'DEDUCT_CODE', \n",
    "                'REMARKS', \n",
    "                'PROGRAM_CODE', \n",
    "                'PROJ_NO',\n",
    "                'PROJ_SUFFIX', \n",
    "                'NBI_TYPE_OF_IMP', \n",
    "                'DTL_TYPE_OF_IMP', \n",
    "                'SPECIAL_CODE', \n",
    "                'STEP_CODE', \n",
    "                'STATUS_WITH_10YR_RULE',\n",
    "                'SUFFICIENCY_ASTERC', \n",
    "                'STATUS_NO_10YR_RULE', \n",
    "                'CAT10',\n",
    "                'CAT23', \n",
    "                'CAT29']\n",
    "\n",
    "DF = DF.drop(COL_IGNORED, axis=1)"
   ]
  },
  {
   "cell_type": "code",
   "execution_count": 10,
   "metadata": {},
   "outputs": [],
   "source": [
    "DF['1: State Code'] = DF['1: State Code'].map({31:317})"
   ]
  },
  {
   "cell_type": "code",
   "execution_count": 11,
   "metadata": {},
   "outputs": [
    {
     "data": {
      "text/plain": [
       "0          NKA-MF-002\n",
       "1          NKA-MF-010\n",
       "2          NKA-RW-002\n",
       "3         NKA-FCD-001\n",
       "4         NKA-FCD-002\n",
       "5         NKA-FCD-003\n",
       "6         NKA-MIR-001\n",
       "7        NKA-AINS-023\n",
       "8        NKA-CAMB-001\n",
       "9        NKA-CAMB-003\n",
       "10       NKA-CAMB-004\n",
       "11       NKA-CAMB-013\n",
       "12       NKA-CAMB-021\n",
       "13       NKA-CAMB-037\n",
       "14       NKA-CULB-003\n",
       "15       NKA-CULB-006\n",
       "16       NKA-CULB-007\n",
       "17       NKA-CULB-010\n",
       "18       NKA-CULB-017\n",
       "19       NKA-CULB-018\n",
       "20       NKA-CULB-026\n",
       "21       NKA-CULB-031\n",
       "22       NKA-MEEK-003\n",
       "23       NKA-MEEK-004\n",
       "24       NKA-MEEK-005\n",
       "25       NKA-MEEK-006\n",
       "26       NKA-MEEK-007\n",
       "27       NKA-MEEK-008\n",
       "28       NKA-MEEK-009\n",
       "29       NKA-MEEK-010\n",
       "             ...     \n",
       "15319      U1825J5105\n",
       "15320      U1825J5505\n",
       "15321      U1825K1435\n",
       "15322      U1825K2205\n",
       "15323      U1825K4510\n",
       "15324      U1825M1205\n",
       "15325      U1825M5535\n",
       "15326      U1825N3115\n",
       "15327      U1825Q2005\n",
       "15328      U1825Q3505\n",
       "15329      U1825Q5505\n",
       "15330      U1825Q5510\n",
       "15331      U1825R1805\n",
       "15332     U191500305P\n",
       "15333     U191500610P\n",
       "15334     U191500805P\n",
       "15335      U191532910\n",
       "15336     U220002010P\n",
       "15337     U223004103P\n",
       "15338      U223014310\n",
       "15339      U223014410\n",
       "15340      U223024505\n",
       "15341      U2230K4105\n",
       "15342     U269502505P\n",
       "15343      U269506086\n",
       "15344      U269506204\n",
       "15345      U269506208\n",
       "15346      U269532830\n",
       "15347      U2695E2305\n",
       "15348      U2695L2605\n",
       "Name: 8: Structure Number, Length: 15349, dtype: object"
      ]
     },
     "execution_count": 11,
     "metadata": {},
     "output_type": "execute_result"
    }
   ],
   "source": [
    "#Trim all entries in columns 2 or “8: Structure Number” to eliminate any blank spaces\n",
    "DF['8: Structure Number'].str.strip()"
   ]
  },
  {
   "cell_type": "code",
   "execution_count": 12,
   "metadata": {},
   "outputs": [
    {
     "data": {
      "text/plain": [
       "0        Approx 16 miles southwest\n",
       "1        12 miles east-northeast o\n",
       "2        7.2 miles north east of M\n",
       "3        6.7 miles North & 2.6 mil\n",
       "4        .06 miles south & 2.6 mil\n",
       "5        2.5 MILES SOUTH & 0.75 MI\n",
       "6              5.2 M NW of Burewll\n",
       "7          7.7 mi WNW of Ainsworth\n",
       "8        2.5 miles east of Cambrid\n",
       "9        4.9 miles east of Cambrid\n",
       "10       5.6 miles east of Cambrid\n",
       "11       2.1 miles northeast of Ho\n",
       "12       0.8 miles north north eas\n",
       "13       Three and a half miles so\n",
       "14        1.2 mi NE of Palisde  NE\n",
       "15       2.0 miles east of Palisad\n",
       "16       3.1 miles east of Palisad\n",
       "17       4.6 miles southeast of Pa\n",
       "18       10.5 miles northwest of C\n",
       "19         9.3 mi NW of Culbertson\n",
       "20       3.2 mi. W of Arapahoe  NE\n",
       "21       5.7 miles northwest of Cu\n",
       "22       1.64 miles south-southwes\n",
       "23       1.7 miles south-southeast\n",
       "24          2.4 mi. SE Trenton  NE\n",
       "25        3.0 miles east-southeast\n",
       "26           3.5 mi ESE of Trenton\n",
       "27       6.1 miles southeast of Tr\n",
       "28       6.7 miles east of Trenton\n",
       "29       7.3 Miles east of Trenton\n",
       "                   ...            \n",
       "15319               OMAHA 39TH @ O\n",
       "15320           OMAHA 16TH @ MASON\n",
       "15321             118TH & MAPLE ST\n",
       "15322          OMAHA MARTHA @ 26TH\n",
       "15323            OMAHA BURT @ 77TH\n",
       "15324         PARKVIEW LANE @ 66TH\n",
       "15325                13TH @ FARNAM\n",
       "15326            .5N 156TH & US275\n",
       "15327           OMAHA MASON @ 16TH\n",
       "15328          OMAHA ARBOR @ 129TH\n",
       "15329     OMAHA 10TH @ LEAVENWORTH\n",
       "15330    OMAHA 10TH FARNAM/DOUGLAS\n",
       "15331       N BRIDGE RD @ 111TH ST\n",
       "15332                 IN PAPILLION\n",
       "15333                IN  PAPILLION\n",
       "15334       CEDARDALE RD @ 72ND ST\n",
       "15335                 IN PAPILLION\n",
       "15336                    IN SEWARD\n",
       "15337     SIDNEY 11TH/LODGEPOLE CR\n",
       "15338       FORT SIDNEY RD @TOLEDO\n",
       "15339      SIDNEY DRAW RD AND 19TH\n",
       "15340    GREENWOOD/LODGEPOLE CREEK\n",
       "15341     SIDNEY 13TH/LODGEPOLE CR\n",
       "15342                     .2S YORK\n",
       "15343                      IN YORK\n",
       "15344                      IN YORK\n",
       "15345                      IN YORK\n",
       "15346            YORK NOBES @ IOWA\n",
       "15347          YORK KINGSLEY @ 4TH\n",
       "15348         YORK WALNUT @ PLATTE\n",
       "Name: 9: Location, Length: 15349, dtype: object"
      ]
     },
     "execution_count": 12,
     "metadata": {},
     "output_type": "execute_result"
    }
   ],
   "source": [
    "# take column names and retrun output DF \n",
    "#Delete single quotes at beginning and end of entries in columns 11, 13 and 14 or, “6A: Features\n",
    "#Intersected”, “7: Facility Carried By Structure” and “9: Location” and trim to eliminate blank spaces\n",
    "\n",
    "DF['6A: Features Intersected'].str.strip(\"'\").str.strip()\n",
    "DF['7: Facility Carried By Structure'].str.strip(\"'\").str.strip()\n",
    "DF['9: Location'].str.strip(\"'\").str.strip()"
   ]
  },
  {
   "cell_type": "code",
   "execution_count": null,
   "metadata": {},
   "outputs": [],
   "source": []
  },
  {
   "cell_type": "code",
   "execution_count": 16,
   "metadata": {
    "scrolled": false
   },
   "outputs": [],
   "source": [
    "# # Convert 8-digit entry in column 20, “Latitude”, to decimal degrees:\n",
    "# # Check for the special condition \n",
    "# def convert_geocoordinates(geocoordinate):\n",
    "#     if len(geocoordinate) == 9 and geocoordinate[0] == '1':\n",
    "#         return int(geocoordinate[:3]) \\\n",
    "#          + (int(geocoordinate[3:5]) / 600) \\\n",
    "#          + (int(geocoordinate[5:]) / 360000)\n",
    "#     else:\n",
    "#         return int(geocoordinate[:2]) \\\n",
    "#         + (int(geocoordinate[2:4]) / 600) \\\n",
    "#         + (int(geocoordinate[4:]) / 360000)\n",
    "\n",
    "# DF['16: Latitude'] = DF['16: Latitude'].apply(str).apply(convert_geocoordinates)\n",
    "# DF['17: Longitude'] = DF['17: Longitude'].apply(str).apply(convert_geocoordinates)"
   ]
  },
  {
   "cell_type": "code",
   "execution_count": 14,
   "metadata": {},
   "outputs": [],
   "source": [
    "def convert_geocoordinates(geocoordinate):\n",
    "    return int(geocoordinate[:2]) + (int(geocoordinate[2:4]) / 600) + (int(geocoordinate[4:]) / 360000) "
   ]
  },
  {
   "cell_type": "code",
   "execution_count": 2,
   "metadata": {},
   "outputs": [
    {
     "data": {
      "text/plain": [
       "40.03834166666667"
      ]
     },
     "execution_count": 2,
     "metadata": {},
     "output_type": "execute_result"
    }
   ],
   "source": [
    "convert_geocoordinates(geocoordinate)"
   ]
  },
  {
   "cell_type": "code",
   "execution_count": 45,
   "metadata": {},
   "outputs": [],
   "source": [
    "# Convert entry in column 43, “Navigation Vertical Clearance”, to decimal with one decimal place\n",
    "# (Divide integer value by 10)\n",
    "DF['39: Navigation Vertical Clearance'] = DF['39: Navigation Vertical Clearance'] / 10\n",
    "DF['40: Navigation Horizontal Clearance'] = DF['40: Navigation Horizontal Clearance'] / 10"
   ]
  },
  {
   "cell_type": "code",
   "execution_count": 74,
   "metadata": {},
   "outputs": [],
   "source": [
    "DF.to_excel(\"Processed-NBI-spreadsheet.xls\")"
   ]
  },
  {
   "cell_type": "code",
   "execution_count": 19,
   "metadata": {},
   "outputs": [
    {
     "name": "stdout",
     "output_type": "stream",
     "text": [
      "Before Join\n",
      "    First      Last  Middle\n",
      "0  Ganesh  Gaitonde   Mohan\n",
      "1  Sartaj     Singh     Ram\n",
      "2  Anjali    Mathur  Raheem \n",
      "\n",
      "After join\n",
      "    First      Last  Middle                         Name\n",
      "0  Ganesh  Gaitonde   Mohan  Ganesh at Mohan at Gaitonde\n",
      "1  Sartaj     Singh     Ram       Sartaj at Ram at Singh\n",
      "2  Anjali    Mathur  Raheem   Anjali at Raheem at Mathur\n"
     ]
    }
   ],
   "source": [
    "import pandas as pd \n",
    "  \n",
    "df = pd.DataFrame({'Last': ['Gaitonde', 'Singh', 'Mathur'],\n",
    "                   'Middle':['Mohan', 'Ram', 'Raheem'], \n",
    "                   'First': ['Ganesh', 'Sartaj', 'Anjali']}) \n",
    "  \n",
    "print('Before Join') \n",
    "print(df, '\\n') \n",
    "  \n",
    "print('After join') \n",
    "df['Name'] = df[['First', 'Middle','Last']].apply(lambda x: ' at '.join(x), axis = 1) \n",
    "print(df) "
   ]
  },
  {
   "cell_type": "code",
   "execution_count": 25,
   "metadata": {},
   "outputs": [
    {
     "data": {
      "text/plain": [
       "2018"
      ]
     },
     "execution_count": 25,
     "metadata": {},
     "output_type": "execute_result"
    }
   ],
   "source": [
    "import os\n",
    "\n",
    "int(url.split(\"/\")[5])"
   ]
  },
  {
   "cell_type": "code",
   "execution_count": 27,
   "metadata": {},
   "outputs": [],
   "source": [
    "DF['Year'] = int(url.split(\"/\")[5])"
   ]
  },
  {
   "cell_type": "code",
   "execution_count": 28,
   "metadata": {},
   "outputs": [
    {
     "data": {
      "text/plain": [
       "0        2018\n",
       "1        2018\n",
       "2        2018\n",
       "3        2018\n",
       "4        2018\n",
       "5        2018\n",
       "6        2018\n",
       "7        2018\n",
       "8        2018\n",
       "9        2018\n",
       "10       2018\n",
       "11       2018\n",
       "12       2018\n",
       "13       2018\n",
       "14       2018\n",
       "15       2018\n",
       "16       2018\n",
       "17       2018\n",
       "18       2018\n",
       "19       2018\n",
       "20       2018\n",
       "21       2018\n",
       "22       2018\n",
       "23       2018\n",
       "24       2018\n",
       "25       2018\n",
       "26       2018\n",
       "27       2018\n",
       "28       2018\n",
       "29       2018\n",
       "         ... \n",
       "15319    2018\n",
       "15320    2018\n",
       "15321    2018\n",
       "15322    2018\n",
       "15323    2018\n",
       "15324    2018\n",
       "15325    2018\n",
       "15326    2018\n",
       "15327    2018\n",
       "15328    2018\n",
       "15329    2018\n",
       "15330    2018\n",
       "15331    2018\n",
       "15332    2018\n",
       "15333    2018\n",
       "15334    2018\n",
       "15335    2018\n",
       "15336    2018\n",
       "15337    2018\n",
       "15338    2018\n",
       "15339    2018\n",
       "15340    2018\n",
       "15341    2018\n",
       "15342    2018\n",
       "15343    2018\n",
       "15344    2018\n",
       "15345    2018\n",
       "15346    2018\n",
       "15347    2018\n",
       "15348    2018\n",
       "Name: Year, Length: 15349, dtype: int64"
      ]
     },
     "execution_count": 28,
     "metadata": {},
     "output_type": "execute_result"
    }
   ],
   "source": [
    "DF['Year']"
   ]
  },
  {
   "cell_type": "code",
   "execution_count": null,
   "metadata": {},
   "outputs": [],
   "source": []
  }
 ],
 "metadata": {
  "kernelspec": {
   "display_name": "Python 3",
   "language": "python",
   "name": "python3"
  },
  "language_info": {
   "codemirror_mode": {
    "name": "ipython",
    "version": 3
   },
   "file_extension": ".py",
   "mimetype": "text/x-python",
   "name": "python",
   "nbconvert_exporter": "python",
   "pygments_lexer": "ipython3",
   "version": "3.6.4"
  }
 },
 "nbformat": 4,
 "nbformat_minor": 2
}
