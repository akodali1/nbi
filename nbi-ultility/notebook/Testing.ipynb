{
 "cells": [
  {
   "cell_type": "code",
   "execution_count": 8,
   "metadata": {},
   "outputs": [],
   "source": [
    "import pymongo\n",
    "from pymongo import MongoClient\n",
    "import time\n",
    "import pandas as pd\n",
    "import numpy as np\n",
    "import seaborn as sns\n",
    "import matplotlib.pyplot as plt\n",
    "import csv\n",
    "from sklearn import preprocessing\n",
    "import warnings\n",
    "import sys\n",
    "sys.path.append('..')\n",
    "import data_code.data as data_functions \n",
    "from nbi import *"
   ]
  },
  {
   "cell_type": "markdown",
   "metadata": {},
   "source": [
    "## Testing functions"
   ]
  },
  {
   "cell_type": "code",
   "execution_count": 9,
   "metadata": {},
   "outputs": [],
   "source": [
    "datafunc = data_functions.Data()"
   ]
  },
  {
   "cell_type": "code",
   "execution_count": 11,
   "metadata": {},
   "outputs": [
    {
     "data": {
      "text/plain": [
       "{1: 3, 2: 4}"
      ]
     },
     "execution_count": 11,
     "metadata": {},
     "output_type": "execute_result"
    }
   ],
   "source": [
    "datafunc.create_dictionary([1, 2], [3, 4])"
   ]
  },
  {
   "cell_type": "code",
   "execution_count": null,
   "metadata": {},
   "outputs": [],
   "source": [
    "df"
   ]
  },
  {
   "cell_type": "markdown",
   "metadata": {},
   "source": [
    "## Import data"
   ]
  },
  {
   "cell_type": "code",
   "execution_count": null,
   "metadata": {},
   "outputs": [],
   "source": [
    "survey_records = pd.read_csv(\"/Users/AkshayKale/Documents/github/thesis/1992-2017-timeseries.csv\")\n",
    "survey_records.head()"
   ]
  },
  {
   "cell_type": "code",
   "execution_count": 6,
   "metadata": {},
   "outputs": [
    {
     "ename": "NameError",
     "evalue": "name 'survey_records' is not defined",
     "output_type": "error",
     "traceback": [
      "\u001b[0;31m---------------------------------------------------------------------------\u001b[0m",
      "\u001b[0;31mNameError\u001b[0m                                 Traceback (most recent call last)",
      "\u001b[0;32m<ipython-input-6-9a75eb920609>\u001b[0m in \u001b[0;36m<module>\u001b[0;34m()\u001b[0m\n\u001b[0;32m----> 1\u001b[0;31m \u001b[0msurvey_records\u001b[0m\u001b[0;34m[\u001b[0m\u001b[0;34m'structureNumber'\u001b[0m\u001b[0;34m]\u001b[0m\u001b[0;34m.\u001b[0m\u001b[0munique\u001b[0m\u001b[0;34m(\u001b[0m\u001b[0;34m)\u001b[0m\u001b[0;34m.\u001b[0m\u001b[0mshape\u001b[0m\u001b[0;34m\u001b[0m\u001b[0m\n\u001b[0m",
      "\u001b[0;31mNameError\u001b[0m: name 'survey_records' is not defined"
     ]
    }
   ],
   "source": [
    "survey_records['structureNumber'].unique().shape"
   ]
  },
  {
   "cell_type": "code",
   "execution_count": 9,
   "metadata": {},
   "outputs": [],
   "source": [
    "def createMapsLatest(survey_records, columns, key):\n",
    "    \"\"\"\n",
    "    Returns dictionary of key : lastest value of the column\n",
    "    for example:\n",
    "                structure number (key): lastest value of the deck (value)\n",
    "    Args:\n",
    "        key (string):\n",
    "        survey_records (pandas dataframe):\n",
    "    \n",
    "    Returns:\n",
    "        all_dict (dict):\n",
    "    \n",
    "    \"\"\"\n",
    "    # Initialize list\n",
    "    all_dict = []\n",
    "    for col in columns:\n",
    "        df = survey_records[[key, col]]\n",
    "        struct_dict = {i:0 for i in df[key]}\n",
    "       \n",
    "        for k, v in zip(df[key], df[col]):\n",
    "                struct_dict[k] = v\n",
    "        all_dict.append(struct_dict)  \n",
    "    \n",
    "    return all_dict\n",
    "\n",
    "def createMapsList(survey_records, columns, key):\n",
    "    \"\"\"\n",
    "    Returns dictionary of key (string) : list value of the column (list)\n",
    "    for example:\n",
    "                structure number (key): list of value of the deck (value)\n",
    "    Args:\n",
    "        key (string):\n",
    "        survey_records (pandas dataframe):\n",
    "    \n",
    "    Returns:\n",
    "        all_dict (dict):\n",
    "    \n",
    "    \"\"\"\n",
    "    \n",
    "    # Initialize list\n",
    "    all_dict = []\n",
    "    \n",
    "    for col in columns:\n",
    "        df = survey_records[[key, col]]\n",
    "        struct_dict_list = {i:[] for i in df[key]}\n",
    "        for k, v in zip(df[key], df[col]):\n",
    "            struct_dict_list[k].append(v)\n",
    "        all_dict.append(struct_dict_list)        \n",
    "    \n",
    "    return all_dict\n",
    "\n",
    "# calling of the functions\n",
    "\n",
    "\n",
    "\n",
    "def createGroupbyDf(key, df, list_of_maps):\n",
    "    \"\"\"\n",
    "    Returns Groupby dataframe with values of the columns arranged according to their time series.\n",
    "    \n",
    "    Args:\n",
    "        key (string): Key is the groupby criteria\n",
    "        df (dataframe): the existing dataframe of lose individual records\n",
    "        list_of_map (list): list of dictionary of columns in the df.\n",
    "                            Each column is mapped to the key such tha'key' as the key,\n",
    "                            and value as the 'value' of the column\n",
    "    Returns:\n",
    "        df_new (dataframe): a dataframe of columns grouped by key 'structure number'\n",
    "    \"\"\"\n",
    "    #Select columns\n",
    "    columns = list(df.columns)\n",
    "    \n",
    "    # initialize empty dataframe\n",
    "    df_new = pd.DataFrame(columns = columns)\n",
    "    \n",
    "    # Setting column of structure number\n",
    "    df_new[key] = df[key].unique()\n",
    "    \n",
    "    # mapping other column values to the structure number\n",
    "    for number, col in enumerate(columns[1:]):\n",
    "        df_new[col] = df_new[key].map(list_of_maps[number])\n",
    "    \n",
    "    return df_new   "
   ]
  },
  {
   "cell_type": "markdown",
   "metadata": {},
   "source": [
    "## Creating columns for snowfall and freeze thaw"
   ]
  },
  {
   "cell_type": "code",
   "execution_count": 14,
   "metadata": {},
   "outputs": [
    {
     "name": "stderr",
     "output_type": "stream",
     "text": [
      "/Users/AkshayKale/anaconda3/lib/python3.6/site-packages/IPython/core/interactiveshell.py:2728: DtypeWarning: Columns (1,2) have mixed types. Specify dtype option on import or set low_memory=False.\n",
      "  interactivity=interactivity, compiler=compiler, result=result)\n"
     ]
    }
   ],
   "source": [
    "snowfall = pd.read_csv('/Users/AkshayKale/Google Drive/Data/scripts/climate.csv')"
   ]
  },
  {
   "cell_type": "code",
   "execution_count": 15,
   "metadata": {},
   "outputs": [],
   "source": [
    "df_snowfall_freezethaw = snowfall[['structure_number', 'Year', 'NO_OF_FREEZE_THAW_CYCLES', 'no_of_snowfalls']]"
   ]
  },
  {
   "cell_type": "code",
   "execution_count": 16,
   "metadata": {},
   "outputs": [],
   "source": [
    "df_snowfall_freezethaw.to_csv(\"/Users/AkshayKale/Google Drive/Data/scripts/climate_reduced.csv\")"
   ]
  },
  {
   "cell_type": "code",
   "execution_count": 17,
   "metadata": {},
   "outputs": [],
   "source": [
    "bridge_snowfall_map = dict(zip(df_snowfall_freezethaw['structure_number'], df_snowfall_freezethaw['no_of_snowfalls']))\n",
    "bridge_freezethaw_map = dict(zip(df_snowfall_freezethaw['structure_number'], df_snowfall_freezethaw['NO_OF_FREEZE_THAW_CYCLES']))\n",
    "bridge_year_climate_data_map = dict(zip(df_snowfall_freezethaw['structure_number'], df_snowfall_freezethaw['Year']))"
   ]
  },
  {
   "cell_type": "code",
   "execution_count": 18,
   "metadata": {},
   "outputs": [],
   "source": [
    "bridge_climate_dict = createMapsLatest(df_snowfall_freezethaw, ['Year', 'NO_OF_FREEZE_THAW_CYCLES', 'no_of_snowfalls'], 'structure_number')"
   ]
  },
  {
   "cell_type": "code",
   "execution_count": null,
   "metadata": {},
   "outputs": [],
   "source": [
    "bridge_climate_dict_of_list = createMapsList(df_snowfall_freezethaw, ['Year', 'NO_OF_FREEZE_THAW_CYCLES', 'no_of_snowfalls'], 'structure_number')"
   ]
  },
  {
   "cell_type": "code",
   "execution_count": 19,
   "metadata": {},
   "outputs": [],
   "source": [
    "climate_columns = ['Year', 'NO_OF_FREEZE_THAW_CYCLE', 'no_of_snowfalls', 'Year list', 'NO_OF_FREEZE_THAW_CYCLE list', 'no_of_snowfalls list']"
   ]
  },
  {
   "cell_type": "code",
   "execution_count": null,
   "metadata": {},
   "outputs": [],
   "source": []
  }
 ],
 "metadata": {
  "kernelspec": {
   "display_name": "Python 3",
   "language": "python",
   "name": "python3"
  },
  "language_info": {
   "codemirror_mode": {
    "name": "ipython",
    "version": 3
   },
   "file_extension": ".py",
   "mimetype": "text/x-python",
   "name": "python",
   "nbconvert_exporter": "python",
   "pygments_lexer": "ipython3",
   "version": "3.6.4"
  }
 },
 "nbformat": 4,
 "nbformat_minor": 2
}
