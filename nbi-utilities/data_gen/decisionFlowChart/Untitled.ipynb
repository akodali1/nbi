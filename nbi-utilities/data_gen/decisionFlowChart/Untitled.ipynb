{
 "cells": [
  {
   "cell_type": "code",
   "execution_count": 10,
   "metadata": {},
   "outputs": [],
   "source": [
    "from collections import Counter\n",
    "import pandas as pd\n",
    "import numpy as np\n",
    "import matplotlib.pyplot as plt\n",
    "%matplotlib inline"
   ]
  },
  {
   "cell_type": "code",
   "execution_count": 2,
   "metadata": {},
   "outputs": [],
   "source": [
    "df = pd.read_csv('../../../../data/nbi/intervention_bds.csv')"
   ]
  },
  {
   "cell_type": "code",
   "execution_count": 8,
   "metadata": {},
   "outputs": [
    {
     "data": {
      "text/html": [
       "<div>\n",
       "<style scoped>\n",
       "    .dataframe tbody tr th:only-of-type {\n",
       "        vertical-align: middle;\n",
       "    }\n",
       "\n",
       "    .dataframe tbody tr th {\n",
       "        vertical-align: top;\n",
       "    }\n",
       "\n",
       "    .dataframe thead th {\n",
       "        text-align: right;\n",
       "    }\n",
       "</style>\n",
       "<table border=\"1\" class=\"dataframe\">\n",
       "  <thead>\n",
       "    <tr style=\"text-align: right;\">\n",
       "      <th></th>\n",
       "      <th>structureNumber</th>\n",
       "      <th>intervention</th>\n",
       "      <th>score</th>\n",
       "      <th>category</th>\n",
       "      <th>rfIntervention</th>\n",
       "    </tr>\n",
       "  </thead>\n",
       "  <tbody>\n",
       "    <tr>\n",
       "      <th>0</th>\n",
       "      <td>NKA-MF-002</td>\n",
       "      <td>Replace - Scour Rating = 8</td>\n",
       "      <td>NaN</td>\n",
       "      <td>NaN</td>\n",
       "      <td>NaN</td>\n",
       "    </tr>\n",
       "    <tr>\n",
       "      <th>1</th>\n",
       "      <td>NKA-MF-010</td>\n",
       "      <td>Replace - Scour Rating = 8</td>\n",
       "      <td>NaN</td>\n",
       "      <td>NaN</td>\n",
       "      <td>NaN</td>\n",
       "    </tr>\n",
       "    <tr>\n",
       "      <th>2</th>\n",
       "      <td>NKA-RW-002</td>\n",
       "      <td>Replace - Scour Rating = 8</td>\n",
       "      <td>-0.835658</td>\n",
       "      <td>Average</td>\n",
       "      <td>NaN</td>\n",
       "    </tr>\n",
       "    <tr>\n",
       "      <th>3</th>\n",
       "      <td>NKA-FCD-001</td>\n",
       "      <td>Replace - Scour Rating = 8</td>\n",
       "      <td>NaN</td>\n",
       "      <td>NaN</td>\n",
       "      <td>NaN</td>\n",
       "    </tr>\n",
       "    <tr>\n",
       "      <th>4</th>\n",
       "      <td>NKA-FCD-002</td>\n",
       "      <td>Replace - Scour Rating = 8</td>\n",
       "      <td>1.624089</td>\n",
       "      <td>Good</td>\n",
       "      <td>NaN</td>\n",
       "    </tr>\n",
       "  </tbody>\n",
       "</table>\n",
       "</div>"
      ],
      "text/plain": [
       "  structureNumber                intervention     score category  \\\n",
       "0      NKA-MF-002  Replace - Scour Rating = 8       NaN      NaN   \n",
       "1      NKA-MF-010  Replace - Scour Rating = 8       NaN      NaN   \n",
       "2      NKA-RW-002  Replace - Scour Rating = 8 -0.835658  Average   \n",
       "3     NKA-FCD-001  Replace - Scour Rating = 8       NaN      NaN   \n",
       "4     NKA-FCD-002  Replace - Scour Rating = 8  1.624089     Good   \n",
       "\n",
       "  rfIntervention  \n",
       "0            NaN  \n",
       "1            NaN  \n",
       "2            NaN  \n",
       "3            NaN  \n",
       "4            NaN  "
      ]
     },
     "execution_count": 8,
     "metadata": {},
     "output_type": "execute_result"
    }
   ],
   "source": [
    "df.head()"
   ]
  },
  {
   "cell_type": "markdown",
   "metadata": {},
   "source": [
    "## Number of bridges with respect to baseline difference score"
   ]
  },
  {
   "cell_type": "code",
   "execution_count": 20,
   "metadata": {},
   "outputs": [
    {
     "data": {
      "image/png": "[encoded data removed]",
      "text/plain": [
       "<matplotlib.figure.Figure at 0x7ffd0b3b56a0>"
      ]
     },
     "metadata": {},
     "output_type": "display_data"
    }
   ],
   "source": [
    "category = Counter(df['category']).keys()\n",
    "values = Counter(df['category']).values()\n",
    "plt.bar(category, values)\n",
    "plt.xticks(rotation='vertical')\n",
    "plt.show()"
   ]
  },
  {
   "cell_type": "markdown",
   "metadata": {},
   "source": [
    "## Number of bridges with repect to interventions identified by NDOT flow chart"
   ]
  },
  {
   "cell_type": "code",
   "execution_count": 21,
   "metadata": {},
   "outputs": [
    {
     "data": {
      "image/png": "[encoded data removed]",
      "text/plain": [
       "<matplotlib.figure.Figure at 0x7ffd0b466a58>"
      ]
     },
     "metadata": {},
     "output_type": "display_data"
    }
   ],
   "source": [
    "category = Counter(df['intervention']).keys()\n",
    "values = Counter(df['intervention']).values()\n",
    "plt.bar(category, values)\n",
    "plt.xticks(rotation='vertical')\n",
    "plt.show()"
   ]
  },
  {
   "cell_type": "markdown",
   "metadata": {},
   "source": [
    "## Number of bridges with respect to 'Yes' or 'No' intervention identified by random forest "
   ]
  },
  {
   "cell_type": "code",
   "execution_count": 22,
   "metadata": {},
   "outputs": [
    {
     "data": {
      "image/png": "[encoded data removed]",
      "text/plain": [
       "<matplotlib.figure.Figure at 0x7ffd0b47e8d0>"
      ]
     },
     "metadata": {},
     "output_type": "display_data"
    }
   ],
   "source": [
    "category = Counter(df['rfIntervention']).keys()\n",
    "values = Counter(df['rfIntervention']).values()\n",
    "plt.bar(category, values)\n",
    "plt.xticks(rotation='vertical')\n",
    "plt.show()"
   ]
  },
  {
   "cell_type": "code",
   "execution_count": 35,
   "metadata": {},
   "outputs": [
    {
     "data": {
      "text/plain": [
       "Counter({'Average': 3, 'Bad': 8, 'Good': 1, nan: 1})"
      ]
     },
     "execution_count": 35,
     "metadata": {},
     "output_type": "execute_result"
    }
   ],
   "source": [
    "Counter(df[df['rfIntervention'] == 'yes']['category'])"
   ]
  },
  {
   "cell_type": "code",
   "execution_count": 45,
   "metadata": {},
   "outputs": [
    {
     "data": {
      "text/html": [
       "<div>\n",
       "<style scoped>\n",
       "    .dataframe tbody tr th:only-of-type {\n",
       "        vertical-align: middle;\n",
       "    }\n",
       "\n",
       "    .dataframe tbody tr th {\n",
       "        vertical-align: top;\n",
       "    }\n",
       "\n",
       "    .dataframe thead th {\n",
       "        text-align: right;\n",
       "    }\n",
       "</style>\n",
       "<table border=\"1\" class=\"dataframe\">\n",
       "  <thead>\n",
       "    <tr style=\"text-align: right;\">\n",
       "      <th></th>\n",
       "      <th>structureNumber</th>\n",
       "      <th>intervention</th>\n",
       "      <th>score</th>\n",
       "      <th>category</th>\n",
       "      <th>rfIntervention</th>\n",
       "    </tr>\n",
       "  </thead>\n",
       "  <tbody>\n",
       "    <tr>\n",
       "      <th>769</th>\n",
       "      <td>C001004905</td>\n",
       "      <td>Replace - Scour Rating = 8</td>\n",
       "      <td>NaN</td>\n",
       "      <td>NaN</td>\n",
       "      <td>yes</td>\n",
       "    </tr>\n",
       "    <tr>\n",
       "      <th>1101</th>\n",
       "      <td>C001111725</td>\n",
       "      <td>None - Super condition check</td>\n",
       "      <td>0.653276</td>\n",
       "      <td>Bad</td>\n",
       "      <td>yes</td>\n",
       "    </tr>\n",
       "    <tr>\n",
       "      <th>2851</th>\n",
       "      <td>C002313205</td>\n",
       "      <td>None - Super condition check</td>\n",
       "      <td>-0.071594</td>\n",
       "      <td>Bad</td>\n",
       "      <td>yes</td>\n",
       "    </tr>\n",
       "    <tr>\n",
       "      <th>2868</th>\n",
       "      <td>C002322905</td>\n",
       "      <td>Replace - Scour Rating = 8</td>\n",
       "      <td>-0.493900</td>\n",
       "      <td>Bad</td>\n",
       "      <td>yes</td>\n",
       "    </tr>\n",
       "    <tr>\n",
       "      <th>7832</th>\n",
       "      <td>C007000815</td>\n",
       "      <td>Replace - Scour Rating = 8</td>\n",
       "      <td>1.653276</td>\n",
       "      <td>Good</td>\n",
       "      <td>yes</td>\n",
       "    </tr>\n",
       "  </tbody>\n",
       "</table>\n",
       "</div>"
      ],
      "text/plain": [
       "     structureNumber                  intervention     score category  \\\n",
       "769       C001004905    Replace - Scour Rating = 8       NaN      NaN   \n",
       "1101      C001111725  None - Super condition check  0.653276      Bad   \n",
       "2851      C002313205  None - Super condition check -0.071594      Bad   \n",
       "2868      C002322905    Replace - Scour Rating = 8 -0.493900      Bad   \n",
       "7832      C007000815    Replace - Scour Rating = 8  1.653276     Good   \n",
       "\n",
       "     rfIntervention  \n",
       "769             yes  \n",
       "1101            yes  \n",
       "2851            yes  \n",
       "2868            yes  \n",
       "7832            yes  "
      ]
     },
     "execution_count": 45,
     "metadata": {},
     "output_type": "execute_result"
    }
   ],
   "source": [
    "df[df['rfIntervention'] == 'yes'].head()"
   ]
  },
  {
   "cell_type": "code",
   "execution_count": 33,
   "metadata": {},
   "outputs": [
    {
     "data": {
      "text/plain": [
       "Counter({'Average': 130, 'Bad': 475, 'Good': 214, nan: 154})"
      ]
     },
     "execution_count": 33,
     "metadata": {},
     "output_type": "execute_result"
    }
   ],
   "source": [
    "Counter(df[df['rfIntervention'] == 'no']['category'])"
   ]
  },
  {
   "cell_type": "code",
   "execution_count": 44,
   "metadata": {},
   "outputs": [
    {
     "data": {
      "text/html": [
       "<div>\n",
       "<style scoped>\n",
       "    .dataframe tbody tr th:only-of-type {\n",
       "        vertical-align: middle;\n",
       "    }\n",
       "\n",
       "    .dataframe tbody tr th {\n",
       "        vertical-align: top;\n",
       "    }\n",
       "\n",
       "    .dataframe thead th {\n",
       "        text-align: right;\n",
       "    }\n",
       "</style>\n",
       "<table border=\"1\" class=\"dataframe\">\n",
       "  <thead>\n",
       "    <tr style=\"text-align: right;\">\n",
       "      <th></th>\n",
       "      <th>structureNumber</th>\n",
       "      <th>intervention</th>\n",
       "      <th>score</th>\n",
       "      <th>category</th>\n",
       "      <th>rfIntervention</th>\n",
       "    </tr>\n",
       "  </thead>\n",
       "  <tbody>\n",
       "    <tr>\n",
       "      <th>70</th>\n",
       "      <td>C000101505</td>\n",
       "      <td>Replace - Scour Rating = 8</td>\n",
       "      <td>-0.664168</td>\n",
       "      <td>Average</td>\n",
       "      <td>no</td>\n",
       "    </tr>\n",
       "    <tr>\n",
       "      <th>77</th>\n",
       "      <td>C000101720</td>\n",
       "      <td>None - Super condition check</td>\n",
       "      <td>0.808519</td>\n",
       "      <td>Bad</td>\n",
       "      <td>no</td>\n",
       "    </tr>\n",
       "    <tr>\n",
       "      <th>93</th>\n",
       "      <td>C000102205</td>\n",
       "      <td>None - Super condition check</td>\n",
       "      <td>0.730199</td>\n",
       "      <td>Bad</td>\n",
       "      <td>no</td>\n",
       "    </tr>\n",
       "    <tr>\n",
       "      <th>246</th>\n",
       "      <td>C000204605</td>\n",
       "      <td>Replace - Scour Rating = 8</td>\n",
       "      <td>0.727115</td>\n",
       "      <td>Bad</td>\n",
       "      <td>no</td>\n",
       "    </tr>\n",
       "    <tr>\n",
       "      <th>256</th>\n",
       "      <td>C000205805</td>\n",
       "      <td>Replace</td>\n",
       "      <td>-0.029510</td>\n",
       "      <td>Bad</td>\n",
       "      <td>no</td>\n",
       "    </tr>\n",
       "    <tr>\n",
       "      <th>264</th>\n",
       "      <td>C000210405</td>\n",
       "      <td>Replace - Scour Rating = 8</td>\n",
       "      <td>NaN</td>\n",
       "      <td>NaN</td>\n",
       "      <td>no</td>\n",
       "    </tr>\n",
       "    <tr>\n",
       "      <th>278</th>\n",
       "      <td>C000212710</td>\n",
       "      <td>None - Super condition check</td>\n",
       "      <td>0.727115</td>\n",
       "      <td>Bad</td>\n",
       "      <td>no</td>\n",
       "    </tr>\n",
       "    <tr>\n",
       "      <th>286</th>\n",
       "      <td>C000214405</td>\n",
       "      <td>None - Super condition check</td>\n",
       "      <td>NaN</td>\n",
       "      <td>NaN</td>\n",
       "      <td>no</td>\n",
       "    </tr>\n",
       "    <tr>\n",
       "      <th>309</th>\n",
       "      <td>C000220810</td>\n",
       "      <td>Replace - Scour Rating = 8</td>\n",
       "      <td>NaN</td>\n",
       "      <td>NaN</td>\n",
       "      <td>no</td>\n",
       "    </tr>\n",
       "    <tr>\n",
       "      <th>367</th>\n",
       "      <td>C000500210P</td>\n",
       "      <td>Replace</td>\n",
       "      <td>-1.109801</td>\n",
       "      <td>Average</td>\n",
       "      <td>no</td>\n",
       "    </tr>\n",
       "  </tbody>\n",
       "</table>\n",
       "</div>"
      ],
      "text/plain": [
       "    structureNumber                  intervention     score category  \\\n",
       "70       C000101505    Replace - Scour Rating = 8 -0.664168  Average   \n",
       "77       C000101720  None - Super condition check  0.808519      Bad   \n",
       "93       C000102205  None - Super condition check  0.730199      Bad   \n",
       "246      C000204605    Replace - Scour Rating = 8  0.727115      Bad   \n",
       "256      C000205805                       Replace -0.029510      Bad   \n",
       "264      C000210405    Replace - Scour Rating = 8       NaN      NaN   \n",
       "278      C000212710  None - Super condition check  0.727115      Bad   \n",
       "286      C000214405  None - Super condition check       NaN      NaN   \n",
       "309      C000220810    Replace - Scour Rating = 8       NaN      NaN   \n",
       "367     C000500210P                       Replace -1.109801  Average   \n",
       "\n",
       "    rfIntervention  \n",
       "70              no  \n",
       "77              no  \n",
       "93              no  \n",
       "246             no  \n",
       "256             no  \n",
       "264             no  \n",
       "278             no  \n",
       "286             no  \n",
       "309             no  \n",
       "367             no  "
      ]
     },
     "execution_count": 44,
     "metadata": {},
     "output_type": "execute_result"
    }
   ],
   "source": [
    "df[df['rfIntervention'] == 'no'].head(10)"
   ]
  }
 ],
 "metadata": {
  "kernelspec": {
   "display_name": "Python 3",
   "language": "python",
   "name": "python3"
  },
  "language_info": {
   "codemirror_mode": {
    "name": "ipython",
    "version": 3
   },
   "file_extension": ".py",
   "mimetype": "text/x-python",
   "name": "python",
   "nbconvert_exporter": "python",
   "pygments_lexer": "ipython3",
   "version": "3.6.4"
  }
 },
 "nbformat": 4,
 "nbformat_minor": 2
}
