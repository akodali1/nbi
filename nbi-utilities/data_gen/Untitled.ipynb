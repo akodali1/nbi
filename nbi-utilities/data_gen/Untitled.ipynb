{
 "cells": [
  {
   "cell_type": "code",
   "execution_count": 54,
   "metadata": {},
   "outputs": [],
   "source": [
    "import pandas as pd\n",
    "import numpy as np\n",
    "import plotly.express as px\n",
    "import plotly.graph_objects as go\n",
    "import plotly.figure_factory as ff"
   ]
  },
  {
   "cell_type": "markdown",
   "metadata": {},
   "source": [
    "## Import datasets"
   ]
  },
  {
   "cell_type": "code",
   "execution_count": 19,
   "metadata": {
    "collapsed": true
   },
   "outputs": [],
   "source": [
    "flowChart = pd.read_csv(\"../../../data/nbi/TrueFlFalseRf.csv\")\n",
    "randomForest = pd.read_csv(\"../../../data/nbi/TrueRfFalseFl.csv\")\n",
    "\n",
    "# Adding attributes\n",
    "randomForest['label'] = ['True - RF & False - FL']*len(randomForest)\n",
    "flowChart['label'] = ['True - FL & False - RF']*len(flowChart)\n",
    "\n",
    "# Concat two dataframes\n",
    "df = pd.concat([randomForest, flowChart])"
   ]
  },
  {
   "cell_type": "code",
   "execution_count": 58,
   "metadata": {},
   "outputs": [
    {
     "data": {
      "text/html": [
       "<div>\n",
       "<style scoped>\n",
       "    .dataframe tbody tr th:only-of-type {\n",
       "        vertical-align: middle;\n",
       "    }\n",
       "\n",
       "    .dataframe tbody tr th {\n",
       "        vertical-align: top;\n",
       "    }\n",
       "\n",
       "    .dataframe thead th {\n",
       "        text-align: right;\n",
       "    }\n",
       "</style>\n",
       "<table border=\"1\" class=\"dataframe\">\n",
       "  <thead>\n",
       "    <tr style=\"text-align: right;\">\n",
       "      <th></th>\n",
       "      <th>year</th>\n",
       "      <th>stateCode</th>\n",
       "      <th>structureNumber</th>\n",
       "      <th>countyCode</th>\n",
       "      <th>yearBuilt</th>\n",
       "      <th>averageDailyTraffic</th>\n",
       "      <th>deck</th>\n",
       "      <th>yearReconstructed</th>\n",
       "      <th>avgDailyTruckTraffic</th>\n",
       "      <th>material</th>\n",
       "      <th>structureType</th>\n",
       "      <th>label</th>\n",
       "    </tr>\n",
       "  </thead>\n",
       "  <tbody>\n",
       "    <tr>\n",
       "      <th>0</th>\n",
       "      <td>2018</td>\n",
       "      <td>31</td>\n",
       "      <td>C000622910</td>\n",
       "      <td>11</td>\n",
       "      <td>1935</td>\n",
       "      <td>20</td>\n",
       "      <td>7</td>\n",
       "      <td>1990</td>\n",
       "      <td>0</td>\n",
       "      <td>3</td>\n",
       "      <td>2</td>\n",
       "      <td>True - FL &amp; False - RF</td>\n",
       "    </tr>\n",
       "    <tr>\n",
       "      <th>1</th>\n",
       "      <td>2018</td>\n",
       "      <td>31</td>\n",
       "      <td>C001402720</td>\n",
       "      <td>27</td>\n",
       "      <td>1935</td>\n",
       "      <td>30</td>\n",
       "      <td>5</td>\n",
       "      <td>2002</td>\n",
       "      <td>0</td>\n",
       "      <td>1</td>\n",
       "      <td>2</td>\n",
       "      <td>True - FL &amp; False - RF</td>\n",
       "    </tr>\n",
       "    <tr>\n",
       "      <th>2</th>\n",
       "      <td>2018</td>\n",
       "      <td>31</td>\n",
       "      <td>C004501305P</td>\n",
       "      <td>89</td>\n",
       "      <td>2003</td>\n",
       "      <td>20</td>\n",
       "      <td>8</td>\n",
       "      <td>0</td>\n",
       "      <td>0</td>\n",
       "      <td>5</td>\n",
       "      <td>4</td>\n",
       "      <td>True - FL &amp; False - RF</td>\n",
       "    </tr>\n",
       "    <tr>\n",
       "      <th>3</th>\n",
       "      <td>2018</td>\n",
       "      <td>31</td>\n",
       "      <td>C006311110</td>\n",
       "      <td>125</td>\n",
       "      <td>1974</td>\n",
       "      <td>75</td>\n",
       "      <td>7</td>\n",
       "      <td>0</td>\n",
       "      <td>0</td>\n",
       "      <td>3</td>\n",
       "      <td>2</td>\n",
       "      <td>True - FL &amp; False - RF</td>\n",
       "    </tr>\n",
       "    <tr>\n",
       "      <th>4</th>\n",
       "      <td>2018</td>\n",
       "      <td>31</td>\n",
       "      <td>S030 00591</td>\n",
       "      <td>105</td>\n",
       "      <td>1991</td>\n",
       "      <td>495</td>\n",
       "      <td>9</td>\n",
       "      <td>2014</td>\n",
       "      <td>12</td>\n",
       "      <td>5</td>\n",
       "      <td>4</td>\n",
       "      <td>True - FL &amp; False - RF</td>\n",
       "    </tr>\n",
       "    <tr>\n",
       "      <th>5</th>\n",
       "      <td>2018</td>\n",
       "      <td>31</td>\n",
       "      <td>S030 00920</td>\n",
       "      <td>105</td>\n",
       "      <td>1991</td>\n",
       "      <td>495</td>\n",
       "      <td>9</td>\n",
       "      <td>2014</td>\n",
       "      <td>12</td>\n",
       "      <td>2</td>\n",
       "      <td>1</td>\n",
       "      <td>True - FL &amp; False - RF</td>\n",
       "    </tr>\n",
       "    <tr>\n",
       "      <th>6</th>\n",
       "      <td>2018</td>\n",
       "      <td>31</td>\n",
       "      <td>S092 46106</td>\n",
       "      <td>155</td>\n",
       "      <td>1960</td>\n",
       "      <td>7640</td>\n",
       "      <td>9</td>\n",
       "      <td>1990</td>\n",
       "      <td>8</td>\n",
       "      <td>3</td>\n",
       "      <td>2</td>\n",
       "      <td>True - FL &amp; False - RF</td>\n",
       "    </tr>\n",
       "  </tbody>\n",
       "</table>\n",
       "</div>"
      ],
      "text/plain": [
       "   year  stateCode structureNumber  countyCode  yearBuilt  \\\n",
       "0  2018         31      C000622910          11       1935   \n",
       "1  2018         31      C001402720          27       1935   \n",
       "2  2018         31     C004501305P          89       2003   \n",
       "3  2018         31      C006311110         125       1974   \n",
       "4  2018         31      S030 00591         105       1991   \n",
       "5  2018         31      S030 00920         105       1991   \n",
       "6  2018         31      S092 46106         155       1960   \n",
       "\n",
       "   averageDailyTraffic  deck  yearReconstructed  avgDailyTruckTraffic  \\\n",
       "0                   20     7               1990                     0   \n",
       "1                   30     5               2002                     0   \n",
       "2                   20     8                  0                     0   \n",
       "3                   75     7                  0                     0   \n",
       "4                  495     9               2014                    12   \n",
       "5                  495     9               2014                    12   \n",
       "6                 7640     9               1990                     8   \n",
       "\n",
       "   material  structureType                   label  \n",
       "0         3              2  True - FL & False - RF  \n",
       "1         1              2  True - FL & False - RF  \n",
       "2         5              4  True - FL & False - RF  \n",
       "3         3              2  True - FL & False - RF  \n",
       "4         5              4  True - FL & False - RF  \n",
       "5         2              1  True - FL & False - RF  \n",
       "6         3              2  True - FL & False - RF  "
      ]
     },
     "execution_count": 58,
     "metadata": {},
     "output_type": "execute_result"
    }
   ],
   "source": []
  },
  {
   "cell_type": "markdown",
   "metadata": {},
   "source": [
    "## Number of Bridges"
   ]
  },
  {
   "cell_type": "code",
   "execution_count": 53,
   "metadata": {},
   "outputs": [
    {
     "data": {
      "application/vnd.plotly.v1+json": {
       "config": {
        "plotlyServerURL": "https://plot.ly"
       },
       "data": [
        {
         "type": "bar",
         "x": [
          "True RandomForest",
          "True FlowChart"
         ],
         "y": [
          38,
          7
         ]
        }
       ],
       "layout": {
        "template": {
         "data": {
          "bar": [
           {
            "error_x": {
             "color": "#2a3f5f"
            },
            "error_y": {
             "color": "#2a3f5f"
            },
            "marker": {
             "line": {
              "color": "#E5ECF6",
              "width": 0.5
             }
            },
            "type": "bar"
           }
          ],
          "barpolar": [
           {
            "marker": {
             "line": {
              "color": "#E5ECF6",
              "width": 0.5
             }
            },
            "type": "barpolar"
           }
          ],
          "carpet": [
           {
            "aaxis": {
             "endlinecolor": "#2a3f5f",
             "gridcolor": "white",
             "linecolor": "white",
             "minorgridcolor": "white",
             "startlinecolor": "#2a3f5f"
            },
            "baxis": {
             "endlinecolor": "#2a3f5f",
             "gridcolor": "white",
             "linecolor": "white",
             "minorgridcolor": "white",
             "startlinecolor": "#2a3f5f"
            },
            "type": "carpet"
           }
          ],
          "choropleth": [
           {
            "colorbar": {
             "outlinewidth": 0,
             "ticks": ""
            },
            "type": "choropleth"
           }
          ],
          "contour": [
           {
            "colorbar": {
             "outlinewidth": 0,
             "ticks": ""
            },
            "colorscale": [
             [
              0,
              "#0d0887"
             ],
             [
              0.1111111111111111,
              "#46039f"
             ],
             [
              0.2222222222222222,
              "#7201a8"
             ],
             [
              0.3333333333333333,
              "#9c179e"
             ],
             [
              0.4444444444444444,
              "#bd3786"
             ],
             [
              0.5555555555555556,
              "#d8576b"
             ],
             [
              0.6666666666666666,
              "#ed7953"
             ],
             [
              0.7777777777777778,
              "#fb9f3a"
             ],
             [
              0.8888888888888888,
              "#fdca26"
             ],
             [
              1,
              "#f0f921"
             ]
            ],
            "type": "contour"
           }
          ],
          "contourcarpet": [
           {
            "colorbar": {
             "outlinewidth": 0,
             "ticks": ""
            },
            "type": "contourcarpet"
           }
          ],
          "heatmap": [
           {
            "colorbar": {
             "outlinewidth": 0,
             "ticks": ""
            },
            "colorscale": [
             [
              0,
              "#0d0887"
             ],
             [
              0.1111111111111111,
              "#46039f"
             ],
             [
              0.2222222222222222,
              "#7201a8"
             ],
             [
              0.3333333333333333,
              "#9c179e"
             ],
             [
              0.4444444444444444,
              "#bd3786"
             ],
             [
              0.5555555555555556,
              "#d8576b"
             ],
             [
              0.6666666666666666,
              "#ed7953"
             ],
             [
              0.7777777777777778,
              "#fb9f3a"
             ],
             [
              0.8888888888888888,
              "#fdca26"
             ],
             [
              1,
              "#f0f921"
             ]
            ],
            "type": "heatmap"
           }
          ],
          "heatmapgl": [
           {
            "colorbar": {
             "outlinewidth": 0,
             "ticks": ""
            },
            "colorscale": [
             [
              0,
              "#0d0887"
             ],
             [
              0.1111111111111111,
              "#46039f"
             ],
             [
              0.2222222222222222,
              "#7201a8"
             ],
             [
              0.3333333333333333,
              "#9c179e"
             ],
             [
              0.4444444444444444,
              "#bd3786"
             ],
             [
              0.5555555555555556,
              "#d8576b"
             ],
             [
              0.6666666666666666,
              "#ed7953"
             ],
             [
              0.7777777777777778,
              "#fb9f3a"
             ],
             [
              0.8888888888888888,
              "#fdca26"
             ],
             [
              1,
              "#f0f921"
             ]
            ],
            "type": "heatmapgl"
           }
          ],
          "histogram": [
           {
            "marker": {
             "colorbar": {
              "outlinewidth": 0,
              "ticks": ""
             }
            },
            "type": "histogram"
           }
          ],
          "histogram2d": [
           {
            "colorbar": {
             "outlinewidth": 0,
             "ticks": ""
            },
            "colorscale": [
             [
              0,
              "#0d0887"
             ],
             [
              0.1111111111111111,
              "#46039f"
             ],
             [
              0.2222222222222222,
              "#7201a8"
             ],
             [
              0.3333333333333333,
              "#9c179e"
             ],
             [
              0.4444444444444444,
              "#bd3786"
             ],
             [
              0.5555555555555556,
              "#d8576b"
             ],
             [
              0.6666666666666666,
              "#ed7953"
             ],
             [
              0.7777777777777778,
              "#fb9f3a"
             ],
             [
              0.8888888888888888,
              "#fdca26"
             ],
             [
              1,
              "#f0f921"
             ]
            ],
            "type": "histogram2d"
           }
          ],
          "histogram2dcontour": [
           {
            "colorbar": {
             "outlinewidth": 0,
             "ticks": ""
            },
            "colorscale": [
             [
              0,
              "#0d0887"
             ],
             [
              0.1111111111111111,
              "#46039f"
             ],
             [
              0.2222222222222222,
              "#7201a8"
             ],
             [
              0.3333333333333333,
              "#9c179e"
             ],
             [
              0.4444444444444444,
              "#bd3786"
             ],
             [
              0.5555555555555556,
              "#d8576b"
             ],
             [
              0.6666666666666666,
              "#ed7953"
             ],
             [
              0.7777777777777778,
              "#fb9f3a"
             ],
             [
              0.8888888888888888,
              "#fdca26"
             ],
             [
              1,
              "#f0f921"
             ]
            ],
            "type": "histogram2dcontour"
           }
          ],
          "mesh3d": [
           {
            "colorbar": {
             "outlinewidth": 0,
             "ticks": ""
            },
            "type": "mesh3d"
           }
          ],
          "parcoords": [
           {
            "line": {
             "colorbar": {
              "outlinewidth": 0,
              "ticks": ""
             }
            },
            "type": "parcoords"
           }
          ],
          "scatter": [
           {
            "marker": {
             "colorbar": {
              "outlinewidth": 0,
              "ticks": ""
             }
            },
            "type": "scatter"
           }
          ],
          "scatter3d": [
           {
            "line": {
             "colorbar": {
              "outlinewidth": 0,
              "ticks": ""
             }
            },
            "marker": {
             "colorbar": {
              "outlinewidth": 0,
              "ticks": ""
             }
            },
            "type": "scatter3d"
           }
          ],
          "scattercarpet": [
           {
            "marker": {
             "colorbar": {
              "outlinewidth": 0,
              "ticks": ""
             }
            },
            "type": "scattercarpet"
           }
          ],
          "scattergeo": [
           {
            "marker": {
             "colorbar": {
              "outlinewidth": 0,
              "ticks": ""
             }
            },
            "type": "scattergeo"
           }
          ],
          "scattergl": [
           {
            "marker": {
             "colorbar": {
              "outlinewidth": 0,
              "ticks": ""
             }
            },
            "type": "scattergl"
           }
          ],
          "scattermapbox": [
           {
            "marker": {
             "colorbar": {
              "outlinewidth": 0,
              "ticks": ""
             }
            },
            "type": "scattermapbox"
           }
          ],
          "scatterpolar": [
           {
            "marker": {
             "colorbar": {
              "outlinewidth": 0,
              "ticks": ""
             }
            },
            "type": "scatterpolar"
           }
          ],
          "scatterpolargl": [
           {
            "marker": {
             "colorbar": {
              "outlinewidth": 0,
              "ticks": ""
             }
            },
            "type": "scatterpolargl"
           }
          ],
          "scatterternary": [
           {
            "marker": {
             "colorbar": {
              "outlinewidth": 0,
              "ticks": ""
             }
            },
            "type": "scatterternary"
           }
          ],
          "surface": [
           {
            "colorbar": {
             "outlinewidth": 0,
             "ticks": ""
            },
            "colorscale": [
             [
              0,
              "#0d0887"
             ],
             [
              0.1111111111111111,
              "#46039f"
             ],
             [
              0.2222222222222222,
              "#7201a8"
             ],
             [
              0.3333333333333333,
              "#9c179e"
             ],
             [
              0.4444444444444444,
              "#bd3786"
             ],
             [
              0.5555555555555556,
              "#d8576b"
             ],
             [
              0.6666666666666666,
              "#ed7953"
             ],
             [
              0.7777777777777778,
              "#fb9f3a"
             ],
             [
              0.8888888888888888,
              "#fdca26"
             ],
             [
              1,
              "#f0f921"
             ]
            ],
            "type": "surface"
           }
          ],
          "table": [
           {
            "cells": {
             "fill": {
              "color": "#EBF0F8"
             },
             "line": {
              "color": "white"
             }
            },
            "header": {
             "fill": {
              "color": "#C8D4E3"
             },
             "line": {
              "color": "white"
             }
            },
            "type": "table"
           }
          ]
         },
         "layout": {
          "annotationdefaults": {
           "arrowcolor": "#2a3f5f",
           "arrowhead": 0,
           "arrowwidth": 1
          },
          "colorscale": {
           "diverging": [
            [
             0,
             "#8e0152"
            ],
            [
             0.1,
             "#c51b7d"
            ],
            [
             0.2,
             "#de77ae"
            ],
            [
             0.3,
             "#f1b6da"
            ],
            [
             0.4,
             "#fde0ef"
            ],
            [
             0.5,
             "#f7f7f7"
            ],
            [
             0.6,
             "#e6f5d0"
            ],
            [
             0.7,
             "#b8e186"
            ],
            [
             0.8,
             "#7fbc41"
            ],
            [
             0.9,
             "#4d9221"
            ],
            [
             1,
             "#276419"
            ]
           ],
           "sequential": [
            [
             0,
             "#0d0887"
            ],
            [
             0.1111111111111111,
             "#46039f"
            ],
            [
             0.2222222222222222,
             "#7201a8"
            ],
            [
             0.3333333333333333,
             "#9c179e"
            ],
            [
             0.4444444444444444,
             "#bd3786"
            ],
            [
             0.5555555555555556,
             "#d8576b"
            ],
            [
             0.6666666666666666,
             "#ed7953"
            ],
            [
             0.7777777777777778,
             "#fb9f3a"
            ],
            [
             0.8888888888888888,
             "#fdca26"
            ],
            [
             1,
             "#f0f921"
            ]
           ],
           "sequentialminus": [
            [
             0,
             "#0d0887"
            ],
            [
             0.1111111111111111,
             "#46039f"
            ],
            [
             0.2222222222222222,
             "#7201a8"
            ],
            [
             0.3333333333333333,
             "#9c179e"
            ],
            [
             0.4444444444444444,
             "#bd3786"
            ],
            [
             0.5555555555555556,
             "#d8576b"
            ],
            [
             0.6666666666666666,
             "#ed7953"
            ],
            [
             0.7777777777777778,
             "#fb9f3a"
            ],
            [
             0.8888888888888888,
             "#fdca26"
            ],
            [
             1,
             "#f0f921"
            ]
           ]
          },
          "colorway": [
           "#636efa",
           "#EF553B",
           "#00cc96",
           "#ab63fa",
           "#FFA15A",
           "#19d3f3",
           "#FF6692",
           "#B6E880",
           "#FF97FF",
           "#FECB52"
          ],
          "font": {
           "color": "#2a3f5f"
          },
          "geo": {
           "bgcolor": "white",
           "lakecolor": "white",
           "landcolor": "#E5ECF6",
           "showlakes": true,
           "showland": true,
           "subunitcolor": "white"
          },
          "hoverlabel": {
           "align": "left"
          },
          "hovermode": "closest",
          "mapbox": {
           "style": "light"
          },
          "paper_bgcolor": "white",
          "plot_bgcolor": "#E5ECF6",
          "polar": {
           "angularaxis": {
            "gridcolor": "white",
            "linecolor": "white",
            "ticks": ""
           },
           "bgcolor": "#E5ECF6",
           "radialaxis": {
            "gridcolor": "white",
            "linecolor": "white",
            "ticks": ""
           }
          },
          "scene": {
           "xaxis": {
            "backgroundcolor": "#E5ECF6",
            "gridcolor": "white",
            "gridwidth": 2,
            "linecolor": "white",
            "showbackground": true,
            "ticks": "",
            "zerolinecolor": "white"
           },
           "yaxis": {
            "backgroundcolor": "#E5ECF6",
            "gridcolor": "white",
            "gridwidth": 2,
            "linecolor": "white",
            "showbackground": true,
            "ticks": "",
            "zerolinecolor": "white"
           },
           "zaxis": {
            "backgroundcolor": "#E5ECF6",
            "gridcolor": "white",
            "gridwidth": 2,
            "linecolor": "white",
            "showbackground": true,
            "ticks": "",
            "zerolinecolor": "white"
           }
          },
          "shapedefaults": {
           "line": {
            "color": "#2a3f5f"
           }
          },
          "ternary": {
           "aaxis": {
            "gridcolor": "white",
            "linecolor": "white",
            "ticks": ""
           },
           "baxis": {
            "gridcolor": "white",
            "linecolor": "white",
            "ticks": ""
           },
           "bgcolor": "#E5ECF6",
           "caxis": {
            "gridcolor": "white",
            "linecolor": "white",
            "ticks": ""
           }
          },
          "title": {
           "x": 0.05
          },
          "xaxis": {
           "automargin": true,
           "gridcolor": "white",
           "linecolor": "white",
           "ticks": "",
           "zerolinecolor": "white",
           "zerolinewidth": 2
          },
          "yaxis": {
           "automargin": true,
           "gridcolor": "white",
           "linecolor": "white",
           "ticks": "",
           "zerolinecolor": "white",
           "zerolinewidth": 2
          }
         }
        }
       }
      },
      "text/html": [
       "<div>\n",
       "        \n",
       "        \n",
       "            <div id=\"98979343-8dd8-40c2-ba51-e86f41e4e0af\" class=\"plotly-graph-div\" style=\"height:525px; width:100%;\"></div>\n",
       "            <script type=\"text/javascript\">\n",
       "                require([\"plotly\"], function(Plotly) {\n",
       "                    window.PLOTLYENV=window.PLOTLYENV || {};\n",
       "                    \n",
       "                if (document.getElementById(\"98979343-8dd8-40c2-ba51-e86f41e4e0af\")) {\n",
       "                    Plotly.newPlot(\n",
       "                        '98979343-8dd8-40c2-ba51-e86f41e4e0af',\n",
       "                        [{\"type\": \"bar\", \"x\": [\"True RandomForest\", \"True FlowChart\"], \"y\": [38, 7]}],\n",
       "                        {\"template\": {\"data\": {\"bar\": [{\"error_x\": {\"color\": \"#2a3f5f\"}, \"error_y\": {\"color\": \"#2a3f5f\"}, \"marker\": {\"line\": {\"color\": \"#E5ECF6\", \"width\": 0.5}}, \"type\": \"bar\"}], \"barpolar\": [{\"marker\": {\"line\": {\"color\": \"#E5ECF6\", \"width\": 0.5}}, \"type\": \"barpolar\"}], \"carpet\": [{\"aaxis\": {\"endlinecolor\": \"#2a3f5f\", \"gridcolor\": \"white\", \"linecolor\": \"white\", \"minorgridcolor\": \"white\", \"startlinecolor\": \"#2a3f5f\"}, \"baxis\": {\"endlinecolor\": \"#2a3f5f\", \"gridcolor\": \"white\", \"linecolor\": \"white\", \"minorgridcolor\": \"white\", \"startlinecolor\": \"#2a3f5f\"}, \"type\": \"carpet\"}], \"choropleth\": [{\"colorbar\": {\"outlinewidth\": 0, \"ticks\": \"\"}, \"type\": \"choropleth\"}], \"contour\": [{\"colorbar\": {\"outlinewidth\": 0, \"ticks\": \"\"}, \"colorscale\": [[0.0, \"#0d0887\"], [0.1111111111111111, \"#46039f\"], [0.2222222222222222, \"#7201a8\"], [0.3333333333333333, \"#9c179e\"], [0.4444444444444444, \"#bd3786\"], [0.5555555555555556, \"#d8576b\"], [0.6666666666666666, \"#ed7953\"], [0.7777777777777778, \"#fb9f3a\"], [0.8888888888888888, \"#fdca26\"], [1.0, \"#f0f921\"]], \"type\": \"contour\"}], \"contourcarpet\": [{\"colorbar\": {\"outlinewidth\": 0, \"ticks\": \"\"}, \"type\": \"contourcarpet\"}], \"heatmap\": [{\"colorbar\": {\"outlinewidth\": 0, \"ticks\": \"\"}, \"colorscale\": [[0.0, \"#0d0887\"], [0.1111111111111111, \"#46039f\"], [0.2222222222222222, \"#7201a8\"], [0.3333333333333333, \"#9c179e\"], [0.4444444444444444, \"#bd3786\"], [0.5555555555555556, \"#d8576b\"], [0.6666666666666666, \"#ed7953\"], [0.7777777777777778, \"#fb9f3a\"], [0.8888888888888888, \"#fdca26\"], [1.0, \"#f0f921\"]], \"type\": \"heatmap\"}], \"heatmapgl\": [{\"colorbar\": {\"outlinewidth\": 0, \"ticks\": \"\"}, \"colorscale\": [[0.0, \"#0d0887\"], [0.1111111111111111, \"#46039f\"], [0.2222222222222222, \"#7201a8\"], [0.3333333333333333, \"#9c179e\"], [0.4444444444444444, \"#bd3786\"], [0.5555555555555556, \"#d8576b\"], [0.6666666666666666, \"#ed7953\"], [0.7777777777777778, \"#fb9f3a\"], [0.8888888888888888, \"#fdca26\"], [1.0, \"#f0f921\"]], \"type\": \"heatmapgl\"}], \"histogram\": [{\"marker\": {\"colorbar\": {\"outlinewidth\": 0, \"ticks\": \"\"}}, \"type\": \"histogram\"}], \"histogram2d\": [{\"colorbar\": {\"outlinewidth\": 0, \"ticks\": \"\"}, \"colorscale\": [[0.0, \"#0d0887\"], [0.1111111111111111, \"#46039f\"], [0.2222222222222222, \"#7201a8\"], [0.3333333333333333, \"#9c179e\"], [0.4444444444444444, \"#bd3786\"], [0.5555555555555556, \"#d8576b\"], [0.6666666666666666, \"#ed7953\"], [0.7777777777777778, \"#fb9f3a\"], [0.8888888888888888, \"#fdca26\"], [1.0, \"#f0f921\"]], \"type\": \"histogram2d\"}], \"histogram2dcontour\": [{\"colorbar\": {\"outlinewidth\": 0, \"ticks\": \"\"}, \"colorscale\": [[0.0, \"#0d0887\"], [0.1111111111111111, \"#46039f\"], [0.2222222222222222, \"#7201a8\"], [0.3333333333333333, \"#9c179e\"], [0.4444444444444444, \"#bd3786\"], [0.5555555555555556, \"#d8576b\"], [0.6666666666666666, \"#ed7953\"], [0.7777777777777778, \"#fb9f3a\"], [0.8888888888888888, \"#fdca26\"], [1.0, \"#f0f921\"]], \"type\": \"histogram2dcontour\"}], \"mesh3d\": [{\"colorbar\": {\"outlinewidth\": 0, \"ticks\": \"\"}, \"type\": \"mesh3d\"}], \"parcoords\": [{\"line\": {\"colorbar\": {\"outlinewidth\": 0, \"ticks\": \"\"}}, \"type\": \"parcoords\"}], \"scatter\": [{\"marker\": {\"colorbar\": {\"outlinewidth\": 0, \"ticks\": \"\"}}, \"type\": \"scatter\"}], \"scatter3d\": [{\"line\": {\"colorbar\": {\"outlinewidth\": 0, \"ticks\": \"\"}}, \"marker\": {\"colorbar\": {\"outlinewidth\": 0, \"ticks\": \"\"}}, \"type\": \"scatter3d\"}], \"scattercarpet\": [{\"marker\": {\"colorbar\": {\"outlinewidth\": 0, \"ticks\": \"\"}}, \"type\": \"scattercarpet\"}], \"scattergeo\": [{\"marker\": {\"colorbar\": {\"outlinewidth\": 0, \"ticks\": \"\"}}, \"type\": \"scattergeo\"}], \"scattergl\": [{\"marker\": {\"colorbar\": {\"outlinewidth\": 0, \"ticks\": \"\"}}, \"type\": \"scattergl\"}], \"scattermapbox\": [{\"marker\": {\"colorbar\": {\"outlinewidth\": 0, \"ticks\": \"\"}}, \"type\": \"scattermapbox\"}], \"scatterpolar\": [{\"marker\": {\"colorbar\": {\"outlinewidth\": 0, \"ticks\": \"\"}}, \"type\": \"scatterpolar\"}], \"scatterpolargl\": [{\"marker\": {\"colorbar\": {\"outlinewidth\": 0, \"ticks\": \"\"}}, \"type\": \"scatterpolargl\"}], \"scatterternary\": [{\"marker\": {\"colorbar\": {\"outlinewidth\": 0, \"ticks\": \"\"}}, \"type\": \"scatterternary\"}], \"surface\": [{\"colorbar\": {\"outlinewidth\": 0, \"ticks\": \"\"}, \"colorscale\": [[0.0, \"#0d0887\"], [0.1111111111111111, \"#46039f\"], [0.2222222222222222, \"#7201a8\"], [0.3333333333333333, \"#9c179e\"], [0.4444444444444444, \"#bd3786\"], [0.5555555555555556, \"#d8576b\"], [0.6666666666666666, \"#ed7953\"], [0.7777777777777778, \"#fb9f3a\"], [0.8888888888888888, \"#fdca26\"], [1.0, \"#f0f921\"]], \"type\": \"surface\"}], \"table\": [{\"cells\": {\"fill\": {\"color\": \"#EBF0F8\"}, \"line\": {\"color\": \"white\"}}, \"header\": {\"fill\": {\"color\": \"#C8D4E3\"}, \"line\": {\"color\": \"white\"}}, \"type\": \"table\"}]}, \"layout\": {\"annotationdefaults\": {\"arrowcolor\": \"#2a3f5f\", \"arrowhead\": 0, \"arrowwidth\": 1}, \"colorscale\": {\"diverging\": [[0, \"#8e0152\"], [0.1, \"#c51b7d\"], [0.2, \"#de77ae\"], [0.3, \"#f1b6da\"], [0.4, \"#fde0ef\"], [0.5, \"#f7f7f7\"], [0.6, \"#e6f5d0\"], [0.7, \"#b8e186\"], [0.8, \"#7fbc41\"], [0.9, \"#4d9221\"], [1, \"#276419\"]], \"sequential\": [[0.0, \"#0d0887\"], [0.1111111111111111, \"#46039f\"], [0.2222222222222222, \"#7201a8\"], [0.3333333333333333, \"#9c179e\"], [0.4444444444444444, \"#bd3786\"], [0.5555555555555556, \"#d8576b\"], [0.6666666666666666, \"#ed7953\"], [0.7777777777777778, \"#fb9f3a\"], [0.8888888888888888, \"#fdca26\"], [1.0, \"#f0f921\"]], \"sequentialminus\": [[0.0, \"#0d0887\"], [0.1111111111111111, \"#46039f\"], [0.2222222222222222, \"#7201a8\"], [0.3333333333333333, \"#9c179e\"], [0.4444444444444444, \"#bd3786\"], [0.5555555555555556, \"#d8576b\"], [0.6666666666666666, \"#ed7953\"], [0.7777777777777778, \"#fb9f3a\"], [0.8888888888888888, \"#fdca26\"], [1.0, \"#f0f921\"]]}, \"colorway\": [\"#636efa\", \"#EF553B\", \"#00cc96\", \"#ab63fa\", \"#FFA15A\", \"#19d3f3\", \"#FF6692\", \"#B6E880\", \"#FF97FF\", \"#FECB52\"], \"font\": {\"color\": \"#2a3f5f\"}, \"geo\": {\"bgcolor\": \"white\", \"lakecolor\": \"white\", \"landcolor\": \"#E5ECF6\", \"showlakes\": true, \"showland\": true, \"subunitcolor\": \"white\"}, \"hoverlabel\": {\"align\": \"left\"}, \"hovermode\": \"closest\", \"mapbox\": {\"style\": \"light\"}, \"paper_bgcolor\": \"white\", \"plot_bgcolor\": \"#E5ECF6\", \"polar\": {\"angularaxis\": {\"gridcolor\": \"white\", \"linecolor\": \"white\", \"ticks\": \"\"}, \"bgcolor\": \"#E5ECF6\", \"radialaxis\": {\"gridcolor\": \"white\", \"linecolor\": \"white\", \"ticks\": \"\"}}, \"scene\": {\"xaxis\": {\"backgroundcolor\": \"#E5ECF6\", \"gridcolor\": \"white\", \"gridwidth\": 2, \"linecolor\": \"white\", \"showbackground\": true, \"ticks\": \"\", \"zerolinecolor\": \"white\"}, \"yaxis\": {\"backgroundcolor\": \"#E5ECF6\", \"gridcolor\": \"white\", \"gridwidth\": 2, \"linecolor\": \"white\", \"showbackground\": true, \"ticks\": \"\", \"zerolinecolor\": \"white\"}, \"zaxis\": {\"backgroundcolor\": \"#E5ECF6\", \"gridcolor\": \"white\", \"gridwidth\": 2, \"linecolor\": \"white\", \"showbackground\": true, \"ticks\": \"\", \"zerolinecolor\": \"white\"}}, \"shapedefaults\": {\"line\": {\"color\": \"#2a3f5f\"}}, \"ternary\": {\"aaxis\": {\"gridcolor\": \"white\", \"linecolor\": \"white\", \"ticks\": \"\"}, \"baxis\": {\"gridcolor\": \"white\", \"linecolor\": \"white\", \"ticks\": \"\"}, \"bgcolor\": \"#E5ECF6\", \"caxis\": {\"gridcolor\": \"white\", \"linecolor\": \"white\", \"ticks\": \"\"}}, \"title\": {\"x\": 0.05}, \"xaxis\": {\"automargin\": true, \"gridcolor\": \"white\", \"linecolor\": \"white\", \"ticks\": \"\", \"zerolinecolor\": \"white\", \"zerolinewidth\": 2}, \"yaxis\": {\"automargin\": true, \"gridcolor\": \"white\", \"linecolor\": \"white\", \"ticks\": \"\", \"zerolinecolor\": \"white\", \"zerolinewidth\": 2}}}},\n",
       "                        {\"responsive\": true}\n",
       "                    ).then(function(){\n",
       "                            \n",
       "var gd = document.getElementById('98979343-8dd8-40c2-ba51-e86f41e4e0af');\n",
       "var x = new MutationObserver(function (mutations, observer) {{\n",
       "        var display = window.getComputedStyle(gd).display;\n",
       "        if (!display || display === 'none') {{\n",
       "            console.log([gd, 'removed!']);\n",
       "            Plotly.purge(gd);\n",
       "            observer.disconnect();\n",
       "        }}\n",
       "}});\n",
       "\n",
       "// Listen for the removal of the full notebook cells\n",
       "var notebookContainer = gd.closest('#notebook-container');\n",
       "if (notebookContainer) {{\n",
       "    x.observe(notebookContainer, {childList: true});\n",
       "}}\n",
       "\n",
       "// Listen for the clearing of the current output cell\n",
       "var outputEl = gd.closest('.output');\n",
       "if (outputEl) {{\n",
       "    x.observe(outputEl, {childList: true});\n",
       "}}\n",
       "\n",
       "                        })\n",
       "                };\n",
       "                });\n",
       "            </script>\n",
       "        </div>"
      ]
     },
     "metadata": {},
     "output_type": "display_data"
    }
   ],
   "source": [
    "models =['True RandomForest-False FlowChart', 'True FlowChart-False Random Forest']\n",
    "fig = go.Figure([go.Bar(x=models, y=[randomForest.shape[0], flowChart.shape[0]])])\n",
    "fig.show()"
   ]
  },
  {
   "cell_type": "markdown",
   "metadata": {},
   "source": [
    "## Comparison of models with respect to year built"
   ]
  },
  {
   "cell_type": "code",
   "execution_count": 46,
   "metadata": {},
   "outputs": [
    {
     "data": {
      "application/vnd.plotly.v1+json": {
       "config": {
        "plotlyServerURL": "https://plot.ly"
       },
       "data": [
        {
         "alignmentgroup": "True",
         "bingroup": "x",
         "hoverlabel": {
          "namelength": 0
         },
         "hovertemplate": "label=True - RF & False - FL<br>yearBuilt=%{x}<br>count=%{y}",
         "legendgroup": "label=True - RF & False - FL",
         "marker": {
          "color": "#636efa"
         },
         "name": "label=True - RF & False - FL",
         "offsetgroup": "label=True - RF & False - FL",
         "orientation": "v",
         "showlegend": true,
         "type": "histogram",
         "x": [
          1970,
          1997,
          1995,
          1935,
          1989,
          1935,
          1989,
          1979,
          1986,
          1910,
          1984,
          1983,
          1963,
          1935,
          1935,
          1974,
          1960,
          1935,
          1935,
          1935,
          1954,
          1961,
          1935,
          1935,
          1940,
          1975,
          1935,
          1935,
          1967,
          2006,
          1935,
          1957,
          1958,
          1964,
          1959,
          1953,
          1966,
          1968
         ],
         "xaxis": "x",
         "yaxis": "y"
        },
        {
         "alignmentgroup": "True",
         "boxpoints": "all",
         "customdata": [
          [
           2018,
           31,
           "C000503515",
           9,
           1970,
           10,
           8,
           0,
           2,
           7,
           2,
           "True - RF & False - FL"
          ],
          [
           2018,
           31,
           "C001003810P",
           19,
           1997,
           20,
           5,
           0,
           0,
           1,
           2,
           "True - RF & False - FL"
          ],
          [
           2018,
           31,
           "C001043135",
           19,
           1995,
           40,
           8,
           0,
           0,
           1,
           2,
           "True - RF & False - FL"
          ],
          [
           2018,
           31,
           "C001111725",
           21,
           1935,
           50,
           8,
           0,
           0,
           3,
           3,
           "True - RF & False - FL"
          ],
          [
           2018,
           31,
           "C001301705",
           25,
           1989,
           30,
           6,
           0,
           0,
           3,
           2,
           "True - RF & False - FL"
          ],
          [
           2018,
           31,
           "C001321855",
           25,
           1935,
           20,
           5,
           0,
           0,
           3,
           10,
           "True - RF & False - FL"
          ],
          [
           2018,
           31,
           "C001903205",
           37,
           1989,
           30,
           7,
           0,
           0,
           3,
           2,
           "True - RF & False - FL"
          ],
          [
           2018,
           31,
           "C001913015",
           37,
           1979,
           20,
           6,
           0,
           0,
           3,
           2,
           "True - RF & False - FL"
          ],
          [
           2018,
           31,
           "C002022515",
           39,
           1986,
           35,
           7,
           0,
           0,
           2,
           1,
           "True - RF & False - FL"
          ],
          [
           2018,
           31,
           "C002212405P",
           43,
           1910,
           30,
           7,
           0,
           0,
           3,
           10,
           "True - RF & False - FL"
          ],
          [
           2018,
           31,
           "C002436120",
           47,
           1984,
           10,
           7,
           0,
           0,
           5,
           4,
           "True - RF & False - FL"
          ],
          [
           2018,
           31,
           "C002505505",
           49,
           1983,
           20,
           6,
           0,
           0,
           1,
           22,
           "True - RF & False - FL"
          ],
          [
           2018,
           31,
           "C004101115",
           81,
           1963,
           25,
           7,
           0,
           0,
           3,
           2,
           "True - RF & False - FL"
          ],
          [
           2018,
           31,
           "C004103915",
           81,
           1935,
           30,
           7,
           0,
           0,
           3,
           3,
           "True - RF & False - FL"
          ],
          [
           2018,
           31,
           "C004104015",
           81,
           1935,
           30,
           6,
           0,
           0,
           3,
           3,
           "True - RF & False - FL"
          ],
          [
           2018,
           31,
           "C004800610",
           95,
           1974,
           45,
           7,
           0,
           0,
           3,
           2,
           "True - RF & False - FL"
          ],
          [
           2018,
           31,
           "C004801510",
           95,
           1960,
           20,
           6,
           0,
           0,
           3,
           2,
           "True - RF & False - FL"
          ],
          [
           2018,
           31,
           "C004823430",
           95,
           1935,
           45,
           6,
           0,
           0,
           3,
           3,
           "True - RF & False - FL"
          ],
          [
           2018,
           31,
           "C005402305P",
           107,
           1935,
           15,
           5,
           1967,
           0,
           3,
           10,
           "True - RF & False - FL"
          ],
          [
           2018,
           31,
           "C005404305P",
           107,
           1935,
           30,
           5,
           0,
           0,
           3,
           10,
           "True - RF & False - FL"
          ],
          [
           2018,
           31,
           "C005504010",
           109,
           1954,
           125,
           7,
           0,
           0,
           3,
           2,
           "True - RF & False - FL"
          ],
          [
           2018,
           31,
           "C005516040",
           109,
           1961,
           50,
           6,
           0,
           0,
           3,
           2,
           "True - RF & False - FL"
          ],
          [
           2018,
           31,
           "C006711925",
           133,
           1935,
           30,
           6,
           1982,
           0,
           3,
           2,
           "True - RF & False - FL"
          ],
          [
           2018,
           31,
           "C006712410",
           133,
           1935,
           25,
           6,
           0,
           0,
           3,
           3,
           "True - RF & False - FL"
          ],
          [
           2018,
           31,
           "C007402015P",
           147,
           1940,
           50,
           7,
           1979,
           0,
           3,
           2,
           "True - RF & False - FL"
          ],
          [
           2018,
           31,
           "C007441705",
           147,
           1975,
           10,
           6,
           0,
           0,
           3,
           2,
           "True - RF & False - FL"
          ],
          [
           2018,
           31,
           "C007910815",
           157,
           1935,
           125,
           7,
           2007,
           30,
           3,
           2,
           "True - RF & False - FL"
          ],
          [
           2018,
           31,
           "C007915110",
           157,
           1935,
           50,
           7,
           1997,
           0,
           3,
           2,
           "True - RF & False - FL"
          ],
          [
           2018,
           31,
           "C007941455",
           157,
           1967,
           75,
           7,
           2007,
           0,
           3,
           2,
           "True - RF & False - FL"
          ],
          [
           2018,
           31,
           "C008304705",
           165,
           2006,
           35,
           9,
           0,
           0,
           3,
           2,
           "True - RF & False - FL"
          ],
          [
           2018,
           31,
           "C0E5600305P",
           111,
           1935,
           10,
           7,
           1964,
           0,
           7,
           2,
           "True - RF & False - FL"
          ],
          [
           2018,
           31,
           "S025 03653",
           85,
           1957,
           675,
           7,
           2013,
           10,
           2,
           1,
           "True - RF & False - FL"
          ],
          [
           2018,
           31,
           "S035 02714",
           179,
           1958,
           3100,
           6,
           0,
           11,
           1,
           1,
           "True - RF & False - FL"
          ],
          [
           2018,
           31,
           "S080 18470L",
           111,
           1964,
           17730,
           7,
           1989,
           39,
           5,
           2,
           "True - RF & False - FL"
          ],
          [
           2018,
           31,
           "S092 30077",
           41,
           1959,
           570,
           6,
           0,
           15,
           2,
           1,
           "True - RF & False - FL"
          ],
          [
           2018,
           31,
           "S136 07825",
           181,
           1953,
           685,
           7,
           2014,
           13,
           2,
           1,
           "True - RF & False - FL"
          ],
          [
           2018,
           31,
           "S275 12670",
           53,
           1966,
           5725,
           4,
           0,
           15,
           3,
           2,
           "True - RF & False - FL"
          ],
          [
           2018,
           31,
           "U182522220",
           55,
           1968,
           32400,
           8,
           1976,
           0,
           4,
           2,
           "True - RF & False - FL"
          ]
         ],
         "fillcolor": "rgba(255,255,255,0)",
         "hoverlabel": {
          "namelength": 0
         },
         "hoveron": "points",
         "hovertemplate": "label=%{customdata[11]}<br>yearBuilt=%{customdata[4]}<br>year=%{customdata[0]}<br>stateCode=%{customdata[1]}<br>structureNumber=%{customdata[2]}<br>countyCode=%{customdata[3]}<br>averageDailyTraffic=%{customdata[5]}<br>deck=%{customdata[6]}<br>yearReconstructed=%{customdata[7]}<br>avgDailyTruckTraffic=%{customdata[8]}<br>material=%{customdata[9]}<br>structureType=%{customdata[10]}",
         "jitter": 0,
         "legendgroup": "label=True - RF & False - FL",
         "line": {
          "color": "rgba(255,255,255,0)"
         },
         "marker": {
          "color": "#636efa",
          "symbol": "line-ns-open"
         },
         "name": "label=True - RF & False - FL",
         "offsetgroup": "label=True - RF & False - FL",
         "showlegend": false,
         "type": "box",
         "x": [
          1970,
          1997,
          1995,
          1935,
          1989,
          1935,
          1989,
          1979,
          1986,
          1910,
          1984,
          1983,
          1963,
          1935,
          1935,
          1974,
          1960,
          1935,
          1935,
          1935,
          1954,
          1961,
          1935,
          1935,
          1940,
          1975,
          1935,
          1935,
          1967,
          2006,
          1935,
          1957,
          1958,
          1964,
          1959,
          1953,
          1966,
          1968
         ],
         "xaxis": "x2",
         "yaxis": "y2"
        },
        {
         "alignmentgroup": "True",
         "bingroup": "x",
         "hoverlabel": {
          "namelength": 0
         },
         "hovertemplate": "label=True - FL & False - RF<br>yearBuilt=%{x}<br>count=%{y}",
         "legendgroup": "label=True - FL & False - RF",
         "marker": {
          "color": "#EF553B"
         },
         "name": "label=True - FL & False - RF",
         "offsetgroup": "label=True - FL & False - RF",
         "orientation": "v",
         "showlegend": true,
         "type": "histogram",
         "x": [
          1935,
          1935,
          2003,
          1974,
          1991,
          1991,
          1960
         ],
         "xaxis": "x",
         "yaxis": "y"
        },
        {
         "alignmentgroup": "True",
         "boxpoints": "all",
         "customdata": [
          [
           2018,
           31,
           "C000622910",
           11,
           1935,
           20,
           7,
           1990,
           0,
           3,
           2,
           "True - FL & False - RF"
          ],
          [
           2018,
           31,
           "C001402720",
           27,
           1935,
           30,
           5,
           2002,
           0,
           1,
           2,
           "True - FL & False - RF"
          ],
          [
           2018,
           31,
           "C004501305P",
           89,
           2003,
           20,
           8,
           0,
           0,
           5,
           4,
           "True - FL & False - RF"
          ],
          [
           2018,
           31,
           "C006311110",
           125,
           1974,
           75,
           7,
           0,
           0,
           3,
           2,
           "True - FL & False - RF"
          ],
          [
           2018,
           31,
           "S030 00591",
           105,
           1991,
           495,
           9,
           2014,
           12,
           5,
           4,
           "True - FL & False - RF"
          ],
          [
           2018,
           31,
           "S030 00920",
           105,
           1991,
           495,
           9,
           2014,
           12,
           2,
           1,
           "True - FL & False - RF"
          ],
          [
           2018,
           31,
           "S092 46106",
           155,
           1960,
           7640,
           9,
           1990,
           8,
           3,
           2,
           "True - FL & False - RF"
          ]
         ],
         "fillcolor": "rgba(255,255,255,0)",
         "hoverlabel": {
          "namelength": 0
         },
         "hoveron": "points",
         "hovertemplate": "label=%{customdata[11]}<br>yearBuilt=%{customdata[4]}<br>year=%{customdata[0]}<br>stateCode=%{customdata[1]}<br>structureNumber=%{customdata[2]}<br>countyCode=%{customdata[3]}<br>averageDailyTraffic=%{customdata[5]}<br>deck=%{customdata[6]}<br>yearReconstructed=%{customdata[7]}<br>avgDailyTruckTraffic=%{customdata[8]}<br>material=%{customdata[9]}<br>structureType=%{customdata[10]}",
         "jitter": 0,
         "legendgroup": "label=True - FL & False - RF",
         "line": {
          "color": "rgba(255,255,255,0)"
         },
         "marker": {
          "color": "#EF553B",
          "symbol": "line-ns-open"
         },
         "name": "label=True - FL & False - RF",
         "offsetgroup": "label=True - FL & False - RF",
         "showlegend": false,
         "type": "box",
         "x": [
          1935,
          1935,
          2003,
          1974,
          1991,
          1991,
          1960
         ],
         "xaxis": "x2",
         "yaxis": "y2"
        }
       ],
       "layout": {
        "barmode": "relative",
        "height": 600,
        "legend": {
         "tracegroupgap": 0
        },
        "margin": {
         "t": 60
        },
        "template": {
         "data": {
          "bar": [
           {
            "error_x": {
             "color": "#2a3f5f"
            },
            "error_y": {
             "color": "#2a3f5f"
            },
            "marker": {
             "line": {
              "color": "#E5ECF6",
              "width": 0.5
             }
            },
            "type": "bar"
           }
          ],
          "barpolar": [
           {
            "marker": {
             "line": {
              "color": "#E5ECF6",
              "width": 0.5
             }
            },
            "type": "barpolar"
           }
          ],
          "carpet": [
           {
            "aaxis": {
             "endlinecolor": "#2a3f5f",
             "gridcolor": "white",
             "linecolor": "white",
             "minorgridcolor": "white",
             "startlinecolor": "#2a3f5f"
            },
            "baxis": {
             "endlinecolor": "#2a3f5f",
             "gridcolor": "white",
             "linecolor": "white",
             "minorgridcolor": "white",
             "startlinecolor": "#2a3f5f"
            },
            "type": "carpet"
           }
          ],
          "choropleth": [
           {
            "colorbar": {
             "outlinewidth": 0,
             "ticks": ""
            },
            "type": "choropleth"
           }
          ],
          "contour": [
           {
            "colorbar": {
             "outlinewidth": 0,
             "ticks": ""
            },
            "colorscale": [
             [
              0,
              "#0d0887"
             ],
             [
              0.1111111111111111,
              "#46039f"
             ],
             [
              0.2222222222222222,
              "#7201a8"
             ],
             [
              0.3333333333333333,
              "#9c179e"
             ],
             [
              0.4444444444444444,
              "#bd3786"
             ],
             [
              0.5555555555555556,
              "#d8576b"
             ],
             [
              0.6666666666666666,
              "#ed7953"
             ],
             [
              0.7777777777777778,
              "#fb9f3a"
             ],
             [
              0.8888888888888888,
              "#fdca26"
             ],
             [
              1,
              "#f0f921"
             ]
            ],
            "type": "contour"
           }
          ],
          "contourcarpet": [
           {
            "colorbar": {
             "outlinewidth": 0,
             "ticks": ""
            },
            "type": "contourcarpet"
           }
          ],
          "heatmap": [
           {
            "colorbar": {
             "outlinewidth": 0,
             "ticks": ""
            },
            "colorscale": [
             [
              0,
              "#0d0887"
             ],
             [
              0.1111111111111111,
              "#46039f"
             ],
             [
              0.2222222222222222,
              "#7201a8"
             ],
             [
              0.3333333333333333,
              "#9c179e"
             ],
             [
              0.4444444444444444,
              "#bd3786"
             ],
             [
              0.5555555555555556,
              "#d8576b"
             ],
             [
              0.6666666666666666,
              "#ed7953"
             ],
             [
              0.7777777777777778,
              "#fb9f3a"
             ],
             [
              0.8888888888888888,
              "#fdca26"
             ],
             [
              1,
              "#f0f921"
             ]
            ],
            "type": "heatmap"
           }
          ],
          "heatmapgl": [
           {
            "colorbar": {
             "outlinewidth": 0,
             "ticks": ""
            },
            "colorscale": [
             [
              0,
              "#0d0887"
             ],
             [
              0.1111111111111111,
              "#46039f"
             ],
             [
              0.2222222222222222,
              "#7201a8"
             ],
             [
              0.3333333333333333,
              "#9c179e"
             ],
             [
              0.4444444444444444,
              "#bd3786"
             ],
             [
              0.5555555555555556,
              "#d8576b"
             ],
             [
              0.6666666666666666,
              "#ed7953"
             ],
             [
              0.7777777777777778,
              "#fb9f3a"
             ],
             [
              0.8888888888888888,
              "#fdca26"
             ],
             [
              1,
              "#f0f921"
             ]
            ],
            "type": "heatmapgl"
           }
          ],
          "histogram": [
           {
            "marker": {
             "colorbar": {
              "outlinewidth": 0,
              "ticks": ""
             }
            },
            "type": "histogram"
           }
          ],
          "histogram2d": [
           {
            "colorbar": {
             "outlinewidth": 0,
             "ticks": ""
            },
            "colorscale": [
             [
              0,
              "#0d0887"
             ],
             [
              0.1111111111111111,
              "#46039f"
             ],
             [
              0.2222222222222222,
              "#7201a8"
             ],
             [
              0.3333333333333333,
              "#9c179e"
             ],
             [
              0.4444444444444444,
              "#bd3786"
             ],
             [
              0.5555555555555556,
              "#d8576b"
             ],
             [
              0.6666666666666666,
              "#ed7953"
             ],
             [
              0.7777777777777778,
              "#fb9f3a"
             ],
             [
              0.8888888888888888,
              "#fdca26"
             ],
             [
              1,
              "#f0f921"
             ]
            ],
            "type": "histogram2d"
           }
          ],
          "histogram2dcontour": [
           {
            "colorbar": {
             "outlinewidth": 0,
             "ticks": ""
            },
            "colorscale": [
             [
              0,
              "#0d0887"
             ],
             [
              0.1111111111111111,
              "#46039f"
             ],
             [
              0.2222222222222222,
              "#7201a8"
             ],
             [
              0.3333333333333333,
              "#9c179e"
             ],
             [
              0.4444444444444444,
              "#bd3786"
             ],
             [
              0.5555555555555556,
              "#d8576b"
             ],
             [
              0.6666666666666666,
              "#ed7953"
             ],
             [
              0.7777777777777778,
              "#fb9f3a"
             ],
             [
              0.8888888888888888,
              "#fdca26"
             ],
             [
              1,
              "#f0f921"
             ]
            ],
            "type": "histogram2dcontour"
           }
          ],
          "mesh3d": [
           {
            "colorbar": {
             "outlinewidth": 0,
             "ticks": ""
            },
            "type": "mesh3d"
           }
          ],
          "parcoords": [
           {
            "line": {
             "colorbar": {
              "outlinewidth": 0,
              "ticks": ""
             }
            },
            "type": "parcoords"
           }
          ],
          "scatter": [
           {
            "marker": {
             "colorbar": {
              "outlinewidth": 0,
              "ticks": ""
             }
            },
            "type": "scatter"
           }
          ],
          "scatter3d": [
           {
            "line": {
             "colorbar": {
              "outlinewidth": 0,
              "ticks": ""
             }
            },
            "marker": {
             "colorbar": {
              "outlinewidth": 0,
              "ticks": ""
             }
            },
            "type": "scatter3d"
           }
          ],
          "scattercarpet": [
           {
            "marker": {
             "colorbar": {
              "outlinewidth": 0,
              "ticks": ""
             }
            },
            "type": "scattercarpet"
           }
          ],
          "scattergeo": [
           {
            "marker": {
             "colorbar": {
              "outlinewidth": 0,
              "ticks": ""
             }
            },
            "type": "scattergeo"
           }
          ],
          "scattergl": [
           {
            "marker": {
             "colorbar": {
              "outlinewidth": 0,
              "ticks": ""
             }
            },
            "type": "scattergl"
           }
          ],
          "scattermapbox": [
           {
            "marker": {
             "colorbar": {
              "outlinewidth": 0,
              "ticks": ""
             }
            },
            "type": "scattermapbox"
           }
          ],
          "scatterpolar": [
           {
            "marker": {
             "colorbar": {
              "outlinewidth": 0,
              "ticks": ""
             }
            },
            "type": "scatterpolar"
           }
          ],
          "scatterpolargl": [
           {
            "marker": {
             "colorbar": {
              "outlinewidth": 0,
              "ticks": ""
             }
            },
            "type": "scatterpolargl"
           }
          ],
          "scatterternary": [
           {
            "marker": {
             "colorbar": {
              "outlinewidth": 0,
              "ticks": ""
             }
            },
            "type": "scatterternary"
           }
          ],
          "surface": [
           {
            "colorbar": {
             "outlinewidth": 0,
             "ticks": ""
            },
            "colorscale": [
             [
              0,
              "#0d0887"
             ],
             [
              0.1111111111111111,
              "#46039f"
             ],
             [
              0.2222222222222222,
              "#7201a8"
             ],
             [
              0.3333333333333333,
              "#9c179e"
             ],
             [
              0.4444444444444444,
              "#bd3786"
             ],
             [
              0.5555555555555556,
              "#d8576b"
             ],
             [
              0.6666666666666666,
              "#ed7953"
             ],
             [
              0.7777777777777778,
              "#fb9f3a"
             ],
             [
              0.8888888888888888,
              "#fdca26"
             ],
             [
              1,
              "#f0f921"
             ]
            ],
            "type": "surface"
           }
          ],
          "table": [
           {
            "cells": {
             "fill": {
              "color": "#EBF0F8"
             },
             "line": {
              "color": "white"
             }
            },
            "header": {
             "fill": {
              "color": "#C8D4E3"
             },
             "line": {
              "color": "white"
             }
            },
            "type": "table"
           }
          ]
         },
         "layout": {
          "annotationdefaults": {
           "arrowcolor": "#2a3f5f",
           "arrowhead": 0,
           "arrowwidth": 1
          },
          "colorscale": {
           "diverging": [
            [
             0,
             "#8e0152"
            ],
            [
             0.1,
             "#c51b7d"
            ],
            [
             0.2,
             "#de77ae"
            ],
            [
             0.3,
             "#f1b6da"
            ],
            [
             0.4,
             "#fde0ef"
            ],
            [
             0.5,
             "#f7f7f7"
            ],
            [
             0.6,
             "#e6f5d0"
            ],
            [
             0.7,
             "#b8e186"
            ],
            [
             0.8,
             "#7fbc41"
            ],
            [
             0.9,
             "#4d9221"
            ],
            [
             1,
             "#276419"
            ]
           ],
           "sequential": [
            [
             0,
             "#0d0887"
            ],
            [
             0.1111111111111111,
             "#46039f"
            ],
            [
             0.2222222222222222,
             "#7201a8"
            ],
            [
             0.3333333333333333,
             "#9c179e"
            ],
            [
             0.4444444444444444,
             "#bd3786"
            ],
            [
             0.5555555555555556,
             "#d8576b"
            ],
            [
             0.6666666666666666,
             "#ed7953"
            ],
            [
             0.7777777777777778,
             "#fb9f3a"
            ],
            [
             0.8888888888888888,
             "#fdca26"
            ],
            [
             1,
             "#f0f921"
            ]
           ],
           "sequentialminus": [
            [
             0,
             "#0d0887"
            ],
            [
             0.1111111111111111,
             "#46039f"
            ],
            [
             0.2222222222222222,
             "#7201a8"
            ],
            [
             0.3333333333333333,
             "#9c179e"
            ],
            [
             0.4444444444444444,
             "#bd3786"
            ],
            [
             0.5555555555555556,
             "#d8576b"
            ],
            [
             0.6666666666666666,
             "#ed7953"
            ],
            [
             0.7777777777777778,
             "#fb9f3a"
            ],
            [
             0.8888888888888888,
             "#fdca26"
            ],
            [
             1,
             "#f0f921"
            ]
           ]
          },
          "colorway": [
           "#636efa",
           "#EF553B",
           "#00cc96",
           "#ab63fa",
           "#FFA15A",
           "#19d3f3",
           "#FF6692",
           "#B6E880",
           "#FF97FF",
           "#FECB52"
          ],
          "font": {
           "color": "#2a3f5f"
          },
          "geo": {
           "bgcolor": "white",
           "lakecolor": "white",
           "landcolor": "#E5ECF6",
           "showlakes": true,
           "showland": true,
           "subunitcolor": "white"
          },
          "hoverlabel": {
           "align": "left"
          },
          "hovermode": "closest",
          "mapbox": {
           "style": "light"
          },
          "paper_bgcolor": "white",
          "plot_bgcolor": "#E5ECF6",
          "polar": {
           "angularaxis": {
            "gridcolor": "white",
            "linecolor": "white",
            "ticks": ""
           },
           "bgcolor": "#E5ECF6",
           "radialaxis": {
            "gridcolor": "white",
            "linecolor": "white",
            "ticks": ""
           }
          },
          "scene": {
           "xaxis": {
            "backgroundcolor": "#E5ECF6",
            "gridcolor": "white",
            "gridwidth": 2,
            "linecolor": "white",
            "showbackground": true,
            "ticks": "",
            "zerolinecolor": "white"
           },
           "yaxis": {
            "backgroundcolor": "#E5ECF6",
            "gridcolor": "white",
            "gridwidth": 2,
            "linecolor": "white",
            "showbackground": true,
            "ticks": "",
            "zerolinecolor": "white"
           },
           "zaxis": {
            "backgroundcolor": "#E5ECF6",
            "gridcolor": "white",
            "gridwidth": 2,
            "linecolor": "white",
            "showbackground": true,
            "ticks": "",
            "zerolinecolor": "white"
           }
          },
          "shapedefaults": {
           "line": {
            "color": "#2a3f5f"
           }
          },
          "ternary": {
           "aaxis": {
            "gridcolor": "white",
            "linecolor": "white",
            "ticks": ""
           },
           "baxis": {
            "gridcolor": "white",
            "linecolor": "white",
            "ticks": ""
           },
           "bgcolor": "#E5ECF6",
           "caxis": {
            "gridcolor": "white",
            "linecolor": "white",
            "ticks": ""
           }
          },
          "title": {
           "x": 0.05
          },
          "xaxis": {
           "automargin": true,
           "gridcolor": "white",
           "linecolor": "white",
           "ticks": "",
           "zerolinecolor": "white",
           "zerolinewidth": 2
          },
          "yaxis": {
           "automargin": true,
           "gridcolor": "white",
           "linecolor": "white",
           "ticks": "",
           "zerolinecolor": "white",
           "zerolinewidth": 2
          }
         }
        },
        "xaxis": {
         "anchor": "y",
         "domain": [
          0,
          0.98
         ]
        },
        "xaxis2": {
         "anchor": "y2",
         "domain": [
          0,
          0.98
         ],
         "matches": "x",
         "showgrid": true,
         "showticklabels": false
        },
        "yaxis": {
         "anchor": "x",
         "domain": [
          0,
          0.7326
         ],
         "title": {
          "text": "count"
         }
        },
        "yaxis2": {
         "anchor": "x2",
         "domain": [
          0.7426,
          1
         ],
         "matches": "y2",
         "showgrid": false,
         "showticklabels": false
        }
       }
      },
      "text/html": [
       "<div>\n",
       "        \n",
       "        \n",
       "            <div id=\"312afbaf-5180-4df5-9e0a-2b1d71f7df50\" class=\"plotly-graph-div\" style=\"height:600px; width:100%;\"></div>\n",
       "            <script type=\"text/javascript\">\n",
       "                require([\"plotly\"], function(Plotly) {\n",
       "                    window.PLOTLYENV=window.PLOTLYENV || {};\n",
       "                    \n",
       "                if (document.getElementById(\"312afbaf-5180-4df5-9e0a-2b1d71f7df50\")) {\n",
       "                    Plotly.newPlot(\n",
       "                        '312afbaf-5180-4df5-9e0a-2b1d71f7df50',\n",
       "                        [{\"alignmentgroup\": \"True\", \"bingroup\": \"x\", \"hoverlabel\": {\"namelength\": 0}, \"hovertemplate\": \"label=True - RF & False - FL<br>yearBuilt=%{x}<br>count=%{y}\", \"legendgroup\": \"label=True - RF & False - FL\", \"marker\": {\"color\": \"#636efa\"}, \"name\": \"label=True - RF & False - FL\", \"offsetgroup\": \"label=True - RF & False - FL\", \"orientation\": \"v\", \"showlegend\": true, \"type\": \"histogram\", \"x\": [1970, 1997, 1995, 1935, 1989, 1935, 1989, 1979, 1986, 1910, 1984, 1983, 1963, 1935, 1935, 1974, 1960, 1935, 1935, 1935, 1954, 1961, 1935, 1935, 1940, 1975, 1935, 1935, 1967, 2006, 1935, 1957, 1958, 1964, 1959, 1953, 1966, 1968], \"xaxis\": \"x\", \"yaxis\": \"y\"}, {\"alignmentgroup\": \"True\", \"boxpoints\": \"all\", \"customdata\": [[2018, 31, \"C000503515\", 9, 1970, 10, 8, 0, 2, 7, 2, \"True - RF & False - FL\"], [2018, 31, \"C001003810P\", 19, 1997, 20, 5, 0, 0, 1, 2, \"True - RF & False - FL\"], [2018, 31, \"C001043135\", 19, 1995, 40, 8, 0, 0, 1, 2, \"True - RF & False - FL\"], [2018, 31, \"C001111725\", 21, 1935, 50, 8, 0, 0, 3, 3, \"True - RF & False - FL\"], [2018, 31, \"C001301705\", 25, 1989, 30, 6, 0, 0, 3, 2, \"True - RF & False - FL\"], [2018, 31, \"C001321855\", 25, 1935, 20, 5, 0, 0, 3, 10, \"True - RF & False - FL\"], [2018, 31, \"C001903205\", 37, 1989, 30, 7, 0, 0, 3, 2, \"True - RF & False - FL\"], [2018, 31, \"C001913015\", 37, 1979, 20, 6, 0, 0, 3, 2, \"True - RF & False - FL\"], [2018, 31, \"C002022515\", 39, 1986, 35, 7, 0, 0, 2, 1, \"True - RF & False - FL\"], [2018, 31, \"C002212405P\", 43, 1910, 30, 7, 0, 0, 3, 10, \"True - RF & False - FL\"], [2018, 31, \"C002436120\", 47, 1984, 10, 7, 0, 0, 5, 4, \"True - RF & False - FL\"], [2018, 31, \"C002505505\", 49, 1983, 20, 6, 0, 0, 1, 22, \"True - RF & False - FL\"], [2018, 31, \"C004101115\", 81, 1963, 25, 7, 0, 0, 3, 2, \"True - RF & False - FL\"], [2018, 31, \"C004103915\", 81, 1935, 30, 7, 0, 0, 3, 3, \"True - RF & False - FL\"], [2018, 31, \"C004104015\", 81, 1935, 30, 6, 0, 0, 3, 3, \"True - RF & False - FL\"], [2018, 31, \"C004800610\", 95, 1974, 45, 7, 0, 0, 3, 2, \"True - RF & False - FL\"], [2018, 31, \"C004801510\", 95, 1960, 20, 6, 0, 0, 3, 2, \"True - RF & False - FL\"], [2018, 31, \"C004823430\", 95, 1935, 45, 6, 0, 0, 3, 3, \"True - RF & False - FL\"], [2018, 31, \"C005402305P\", 107, 1935, 15, 5, 1967, 0, 3, 10, \"True - RF & False - FL\"], [2018, 31, \"C005404305P\", 107, 1935, 30, 5, 0, 0, 3, 10, \"True - RF & False - FL\"], [2018, 31, \"C005504010\", 109, 1954, 125, 7, 0, 0, 3, 2, \"True - RF & False - FL\"], [2018, 31, \"C005516040\", 109, 1961, 50, 6, 0, 0, 3, 2, \"True - RF & False - FL\"], [2018, 31, \"C006711925\", 133, 1935, 30, 6, 1982, 0, 3, 2, \"True - RF & False - FL\"], [2018, 31, \"C006712410\", 133, 1935, 25, 6, 0, 0, 3, 3, \"True - RF & False - FL\"], [2018, 31, \"C007402015P\", 147, 1940, 50, 7, 1979, 0, 3, 2, \"True - RF & False - FL\"], [2018, 31, \"C007441705\", 147, 1975, 10, 6, 0, 0, 3, 2, \"True - RF & False - FL\"], [2018, 31, \"C007910815\", 157, 1935, 125, 7, 2007, 30, 3, 2, \"True - RF & False - FL\"], [2018, 31, \"C007915110\", 157, 1935, 50, 7, 1997, 0, 3, 2, \"True - RF & False - FL\"], [2018, 31, \"C007941455\", 157, 1967, 75, 7, 2007, 0, 3, 2, \"True - RF & False - FL\"], [2018, 31, \"C008304705\", 165, 2006, 35, 9, 0, 0, 3, 2, \"True - RF & False - FL\"], [2018, 31, \"C0E5600305P\", 111, 1935, 10, 7, 1964, 0, 7, 2, \"True - RF & False - FL\"], [2018, 31, \"S025 03653\", 85, 1957, 675, 7, 2013, 10, 2, 1, \"True - RF & False - FL\"], [2018, 31, \"S035 02714\", 179, 1958, 3100, 6, 0, 11, 1, 1, \"True - RF & False - FL\"], [2018, 31, \"S080 18470L\", 111, 1964, 17730, 7, 1989, 39, 5, 2, \"True - RF & False - FL\"], [2018, 31, \"S092 30077\", 41, 1959, 570, 6, 0, 15, 2, 1, \"True - RF & False - FL\"], [2018, 31, \"S136 07825\", 181, 1953, 685, 7, 2014, 13, 2, 1, \"True - RF & False - FL\"], [2018, 31, \"S275 12670\", 53, 1966, 5725, 4, 0, 15, 3, 2, \"True - RF & False - FL\"], [2018, 31, \"U182522220\", 55, 1968, 32400, 8, 1976, 0, 4, 2, \"True - RF & False - FL\"]], \"fillcolor\": \"rgba(255,255,255,0)\", \"hoverlabel\": {\"namelength\": 0}, \"hoveron\": \"points\", \"hovertemplate\": \"label=%{customdata[11]}<br>yearBuilt=%{customdata[4]}<br>year=%{customdata[0]}<br>stateCode=%{customdata[1]}<br>structureNumber=%{customdata[2]}<br>countyCode=%{customdata[3]}<br>averageDailyTraffic=%{customdata[5]}<br>deck=%{customdata[6]}<br>yearReconstructed=%{customdata[7]}<br>avgDailyTruckTraffic=%{customdata[8]}<br>material=%{customdata[9]}<br>structureType=%{customdata[10]}\", \"jitter\": 0, \"legendgroup\": \"label=True - RF & False - FL\", \"line\": {\"color\": \"rgba(255,255,255,0)\"}, \"marker\": {\"color\": \"#636efa\", \"symbol\": \"line-ns-open\"}, \"name\": \"label=True - RF & False - FL\", \"offsetgroup\": \"label=True - RF & False - FL\", \"showlegend\": false, \"type\": \"box\", \"x\": [1970, 1997, 1995, 1935, 1989, 1935, 1989, 1979, 1986, 1910, 1984, 1983, 1963, 1935, 1935, 1974, 1960, 1935, 1935, 1935, 1954, 1961, 1935, 1935, 1940, 1975, 1935, 1935, 1967, 2006, 1935, 1957, 1958, 1964, 1959, 1953, 1966, 1968], \"xaxis\": \"x2\", \"yaxis\": \"y2\"}, {\"alignmentgroup\": \"True\", \"bingroup\": \"x\", \"hoverlabel\": {\"namelength\": 0}, \"hovertemplate\": \"label=True - FL & False - RF<br>yearBuilt=%{x}<br>count=%{y}\", \"legendgroup\": \"label=True - FL & False - RF\", \"marker\": {\"color\": \"#EF553B\"}, \"name\": \"label=True - FL & False - RF\", \"offsetgroup\": \"label=True - FL & False - RF\", \"orientation\": \"v\", \"showlegend\": true, \"type\": \"histogram\", \"x\": [1935, 1935, 2003, 1974, 1991, 1991, 1960], \"xaxis\": \"x\", \"yaxis\": \"y\"}, {\"alignmentgroup\": \"True\", \"boxpoints\": \"all\", \"customdata\": [[2018, 31, \"C000622910\", 11, 1935, 20, 7, 1990, 0, 3, 2, \"True - FL & False - RF\"], [2018, 31, \"C001402720\", 27, 1935, 30, 5, 2002, 0, 1, 2, \"True - FL & False - RF\"], [2018, 31, \"C004501305P\", 89, 2003, 20, 8, 0, 0, 5, 4, \"True - FL & False - RF\"], [2018, 31, \"C006311110\", 125, 1974, 75, 7, 0, 0, 3, 2, \"True - FL & False - RF\"], [2018, 31, \"S030 00591\", 105, 1991, 495, 9, 2014, 12, 5, 4, \"True - FL & False - RF\"], [2018, 31, \"S030 00920\", 105, 1991, 495, 9, 2014, 12, 2, 1, \"True - FL & False - RF\"], [2018, 31, \"S092 46106\", 155, 1960, 7640, 9, 1990, 8, 3, 2, \"True - FL & False - RF\"]], \"fillcolor\": \"rgba(255,255,255,0)\", \"hoverlabel\": {\"namelength\": 0}, \"hoveron\": \"points\", \"hovertemplate\": \"label=%{customdata[11]}<br>yearBuilt=%{customdata[4]}<br>year=%{customdata[0]}<br>stateCode=%{customdata[1]}<br>structureNumber=%{customdata[2]}<br>countyCode=%{customdata[3]}<br>averageDailyTraffic=%{customdata[5]}<br>deck=%{customdata[6]}<br>yearReconstructed=%{customdata[7]}<br>avgDailyTruckTraffic=%{customdata[8]}<br>material=%{customdata[9]}<br>structureType=%{customdata[10]}\", \"jitter\": 0, \"legendgroup\": \"label=True - FL & False - RF\", \"line\": {\"color\": \"rgba(255,255,255,0)\"}, \"marker\": {\"color\": \"#EF553B\", \"symbol\": \"line-ns-open\"}, \"name\": \"label=True - FL & False - RF\", \"offsetgroup\": \"label=True - FL & False - RF\", \"showlegend\": false, \"type\": \"box\", \"x\": [1935, 1935, 2003, 1974, 1991, 1991, 1960], \"xaxis\": \"x2\", \"yaxis\": \"y2\"}],\n",
       "                        {\"barmode\": \"relative\", \"height\": 600, \"legend\": {\"tracegroupgap\": 0}, \"margin\": {\"t\": 60}, \"template\": {\"data\": {\"bar\": [{\"error_x\": {\"color\": \"#2a3f5f\"}, \"error_y\": {\"color\": \"#2a3f5f\"}, \"marker\": {\"line\": {\"color\": \"#E5ECF6\", \"width\": 0.5}}, \"type\": \"bar\"}], \"barpolar\": [{\"marker\": {\"line\": {\"color\": \"#E5ECF6\", \"width\": 0.5}}, \"type\": \"barpolar\"}], \"carpet\": [{\"aaxis\": {\"endlinecolor\": \"#2a3f5f\", \"gridcolor\": \"white\", \"linecolor\": \"white\", \"minorgridcolor\": \"white\", \"startlinecolor\": \"#2a3f5f\"}, \"baxis\": {\"endlinecolor\": \"#2a3f5f\", \"gridcolor\": \"white\", \"linecolor\": \"white\", \"minorgridcolor\": \"white\", \"startlinecolor\": \"#2a3f5f\"}, \"type\": \"carpet\"}], \"choropleth\": [{\"colorbar\": {\"outlinewidth\": 0, \"ticks\": \"\"}, \"type\": \"choropleth\"}], \"contour\": [{\"colorbar\": {\"outlinewidth\": 0, \"ticks\": \"\"}, \"colorscale\": [[0.0, \"#0d0887\"], [0.1111111111111111, \"#46039f\"], [0.2222222222222222, \"#7201a8\"], [0.3333333333333333, \"#9c179e\"], [0.4444444444444444, \"#bd3786\"], [0.5555555555555556, \"#d8576b\"], [0.6666666666666666, \"#ed7953\"], [0.7777777777777778, \"#fb9f3a\"], [0.8888888888888888, \"#fdca26\"], [1.0, \"#f0f921\"]], \"type\": \"contour\"}], \"contourcarpet\": [{\"colorbar\": {\"outlinewidth\": 0, \"ticks\": \"\"}, \"type\": \"contourcarpet\"}], \"heatmap\": [{\"colorbar\": {\"outlinewidth\": 0, \"ticks\": \"\"}, \"colorscale\": [[0.0, \"#0d0887\"], [0.1111111111111111, \"#46039f\"], [0.2222222222222222, \"#7201a8\"], [0.3333333333333333, \"#9c179e\"], [0.4444444444444444, \"#bd3786\"], [0.5555555555555556, \"#d8576b\"], [0.6666666666666666, \"#ed7953\"], [0.7777777777777778, \"#fb9f3a\"], [0.8888888888888888, \"#fdca26\"], [1.0, \"#f0f921\"]], \"type\": \"heatmap\"}], \"heatmapgl\": [{\"colorbar\": {\"outlinewidth\": 0, \"ticks\": \"\"}, \"colorscale\": [[0.0, \"#0d0887\"], [0.1111111111111111, \"#46039f\"], [0.2222222222222222, \"#7201a8\"], [0.3333333333333333, \"#9c179e\"], [0.4444444444444444, \"#bd3786\"], [0.5555555555555556, \"#d8576b\"], [0.6666666666666666, \"#ed7953\"], [0.7777777777777778, \"#fb9f3a\"], [0.8888888888888888, \"#fdca26\"], [1.0, \"#f0f921\"]], \"type\": \"heatmapgl\"}], \"histogram\": [{\"marker\": {\"colorbar\": {\"outlinewidth\": 0, \"ticks\": \"\"}}, \"type\": \"histogram\"}], \"histogram2d\": [{\"colorbar\": {\"outlinewidth\": 0, \"ticks\": \"\"}, \"colorscale\": [[0.0, \"#0d0887\"], [0.1111111111111111, \"#46039f\"], [0.2222222222222222, \"#7201a8\"], [0.3333333333333333, \"#9c179e\"], [0.4444444444444444, \"#bd3786\"], [0.5555555555555556, \"#d8576b\"], [0.6666666666666666, \"#ed7953\"], [0.7777777777777778, \"#fb9f3a\"], [0.8888888888888888, \"#fdca26\"], [1.0, \"#f0f921\"]], \"type\": \"histogram2d\"}], \"histogram2dcontour\": [{\"colorbar\": {\"outlinewidth\": 0, \"ticks\": \"\"}, \"colorscale\": [[0.0, \"#0d0887\"], [0.1111111111111111, \"#46039f\"], [0.2222222222222222, \"#7201a8\"], [0.3333333333333333, \"#9c179e\"], [0.4444444444444444, \"#bd3786\"], [0.5555555555555556, \"#d8576b\"], [0.6666666666666666, \"#ed7953\"], [0.7777777777777778, \"#fb9f3a\"], [0.8888888888888888, \"#fdca26\"], [1.0, \"#f0f921\"]], \"type\": \"histogram2dcontour\"}], \"mesh3d\": [{\"colorbar\": {\"outlinewidth\": 0, \"ticks\": \"\"}, \"type\": \"mesh3d\"}], \"parcoords\": [{\"line\": {\"colorbar\": {\"outlinewidth\": 0, \"ticks\": \"\"}}, \"type\": \"parcoords\"}], \"scatter\": [{\"marker\": {\"colorbar\": {\"outlinewidth\": 0, \"ticks\": \"\"}}, \"type\": \"scatter\"}], \"scatter3d\": [{\"line\": {\"colorbar\": {\"outlinewidth\": 0, \"ticks\": \"\"}}, \"marker\": {\"colorbar\": {\"outlinewidth\": 0, \"ticks\": \"\"}}, \"type\": \"scatter3d\"}], \"scattercarpet\": [{\"marker\": {\"colorbar\": {\"outlinewidth\": 0, \"ticks\": \"\"}}, \"type\": \"scattercarpet\"}], \"scattergeo\": [{\"marker\": {\"colorbar\": {\"outlinewidth\": 0, \"ticks\": \"\"}}, \"type\": \"scattergeo\"}], \"scattergl\": [{\"marker\": {\"colorbar\": {\"outlinewidth\": 0, \"ticks\": \"\"}}, \"type\": \"scattergl\"}], \"scattermapbox\": [{\"marker\": {\"colorbar\": {\"outlinewidth\": 0, \"ticks\": \"\"}}, \"type\": \"scattermapbox\"}], \"scatterpolar\": [{\"marker\": {\"colorbar\": {\"outlinewidth\": 0, \"ticks\": \"\"}}, \"type\": \"scatterpolar\"}], \"scatterpolargl\": [{\"marker\": {\"colorbar\": {\"outlinewidth\": 0, \"ticks\": \"\"}}, \"type\": \"scatterpolargl\"}], \"scatterternary\": [{\"marker\": {\"colorbar\": {\"outlinewidth\": 0, \"ticks\": \"\"}}, \"type\": \"scatterternary\"}], \"surface\": [{\"colorbar\": {\"outlinewidth\": 0, \"ticks\": \"\"}, \"colorscale\": [[0.0, \"#0d0887\"], [0.1111111111111111, \"#46039f\"], [0.2222222222222222, \"#7201a8\"], [0.3333333333333333, \"#9c179e\"], [0.4444444444444444, \"#bd3786\"], [0.5555555555555556, \"#d8576b\"], [0.6666666666666666, \"#ed7953\"], [0.7777777777777778, \"#fb9f3a\"], [0.8888888888888888, \"#fdca26\"], [1.0, \"#f0f921\"]], \"type\": \"surface\"}], \"table\": [{\"cells\": {\"fill\": {\"color\": \"#EBF0F8\"}, \"line\": {\"color\": \"white\"}}, \"header\": {\"fill\": {\"color\": \"#C8D4E3\"}, \"line\": {\"color\": \"white\"}}, \"type\": \"table\"}]}, \"layout\": {\"annotationdefaults\": {\"arrowcolor\": \"#2a3f5f\", \"arrowhead\": 0, \"arrowwidth\": 1}, \"colorscale\": {\"diverging\": [[0, \"#8e0152\"], [0.1, \"#c51b7d\"], [0.2, \"#de77ae\"], [0.3, \"#f1b6da\"], [0.4, \"#fde0ef\"], [0.5, \"#f7f7f7\"], [0.6, \"#e6f5d0\"], [0.7, \"#b8e186\"], [0.8, \"#7fbc41\"], [0.9, \"#4d9221\"], [1, \"#276419\"]], \"sequential\": [[0.0, \"#0d0887\"], [0.1111111111111111, \"#46039f\"], [0.2222222222222222, \"#7201a8\"], [0.3333333333333333, \"#9c179e\"], [0.4444444444444444, \"#bd3786\"], [0.5555555555555556, \"#d8576b\"], [0.6666666666666666, \"#ed7953\"], [0.7777777777777778, \"#fb9f3a\"], [0.8888888888888888, \"#fdca26\"], [1.0, \"#f0f921\"]], \"sequentialminus\": [[0.0, \"#0d0887\"], [0.1111111111111111, \"#46039f\"], [0.2222222222222222, \"#7201a8\"], [0.3333333333333333, \"#9c179e\"], [0.4444444444444444, \"#bd3786\"], [0.5555555555555556, \"#d8576b\"], [0.6666666666666666, \"#ed7953\"], [0.7777777777777778, \"#fb9f3a\"], [0.8888888888888888, \"#fdca26\"], [1.0, \"#f0f921\"]]}, \"colorway\": [\"#636efa\", \"#EF553B\", \"#00cc96\", \"#ab63fa\", \"#FFA15A\", \"#19d3f3\", \"#FF6692\", \"#B6E880\", \"#FF97FF\", \"#FECB52\"], \"font\": {\"color\": \"#2a3f5f\"}, \"geo\": {\"bgcolor\": \"white\", \"lakecolor\": \"white\", \"landcolor\": \"#E5ECF6\", \"showlakes\": true, \"showland\": true, \"subunitcolor\": \"white\"}, \"hoverlabel\": {\"align\": \"left\"}, \"hovermode\": \"closest\", \"mapbox\": {\"style\": \"light\"}, \"paper_bgcolor\": \"white\", \"plot_bgcolor\": \"#E5ECF6\", \"polar\": {\"angularaxis\": {\"gridcolor\": \"white\", \"linecolor\": \"white\", \"ticks\": \"\"}, \"bgcolor\": \"#E5ECF6\", \"radialaxis\": {\"gridcolor\": \"white\", \"linecolor\": \"white\", \"ticks\": \"\"}}, \"scene\": {\"xaxis\": {\"backgroundcolor\": \"#E5ECF6\", \"gridcolor\": \"white\", \"gridwidth\": 2, \"linecolor\": \"white\", \"showbackground\": true, \"ticks\": \"\", \"zerolinecolor\": \"white\"}, \"yaxis\": {\"backgroundcolor\": \"#E5ECF6\", \"gridcolor\": \"white\", \"gridwidth\": 2, \"linecolor\": \"white\", \"showbackground\": true, \"ticks\": \"\", \"zerolinecolor\": \"white\"}, \"zaxis\": {\"backgroundcolor\": \"#E5ECF6\", \"gridcolor\": \"white\", \"gridwidth\": 2, \"linecolor\": \"white\", \"showbackground\": true, \"ticks\": \"\", \"zerolinecolor\": \"white\"}}, \"shapedefaults\": {\"line\": {\"color\": \"#2a3f5f\"}}, \"ternary\": {\"aaxis\": {\"gridcolor\": \"white\", \"linecolor\": \"white\", \"ticks\": \"\"}, \"baxis\": {\"gridcolor\": \"white\", \"linecolor\": \"white\", \"ticks\": \"\"}, \"bgcolor\": \"#E5ECF6\", \"caxis\": {\"gridcolor\": \"white\", \"linecolor\": \"white\", \"ticks\": \"\"}}, \"title\": {\"x\": 0.05}, \"xaxis\": {\"automargin\": true, \"gridcolor\": \"white\", \"linecolor\": \"white\", \"ticks\": \"\", \"zerolinecolor\": \"white\", \"zerolinewidth\": 2}, \"yaxis\": {\"automargin\": true, \"gridcolor\": \"white\", \"linecolor\": \"white\", \"ticks\": \"\", \"zerolinecolor\": \"white\", \"zerolinewidth\": 2}}}, \"xaxis\": {\"anchor\": \"y\", \"domain\": [0.0, 0.98]}, \"xaxis2\": {\"anchor\": \"y2\", \"domain\": [0.0, 0.98], \"matches\": \"x\", \"showgrid\": true, \"showticklabels\": false}, \"yaxis\": {\"anchor\": \"x\", \"domain\": [0.0, 0.7326], \"title\": {\"text\": \"count\"}}, \"yaxis2\": {\"anchor\": \"x2\", \"domain\": [0.7426, 1.0], \"matches\": \"y2\", \"showgrid\": false, \"showticklabels\": false}},\n",
       "                        {\"responsive\": true}\n",
       "                    ).then(function(){\n",
       "                            \n",
       "var gd = document.getElementById('312afbaf-5180-4df5-9e0a-2b1d71f7df50');\n",
       "var x = new MutationObserver(function (mutations, observer) {{\n",
       "        var display = window.getComputedStyle(gd).display;\n",
       "        if (!display || display === 'none') {{\n",
       "            console.log([gd, 'removed!']);\n",
       "            Plotly.purge(gd);\n",
       "            observer.disconnect();\n",
       "        }}\n",
       "}});\n",
       "\n",
       "// Listen for the removal of the full notebook cells\n",
       "var notebookContainer = gd.closest('#notebook-container');\n",
       "if (notebookContainer) {{\n",
       "    x.observe(notebookContainer, {childList: true});\n",
       "}}\n",
       "\n",
       "// Listen for the clearing of the current output cell\n",
       "var outputEl = gd.closest('.output');\n",
       "if (outputEl) {{\n",
       "    x.observe(outputEl, {childList: true});\n",
       "}}\n",
       "\n",
       "                        })\n",
       "                };\n",
       "                });\n",
       "            </script>\n",
       "        </div>"
      ]
     },
     "metadata": {},
     "output_type": "display_data"
    }
   ],
   "source": [
    "fig = px.histogram(df, x=\"yearBuilt\", color=\"label\", marginal=\"rug\", # can be `box`, `violin`\n",
    "                         hover_data=df.columns)\n",
    "fig.show()"
   ]
  },
  {
   "cell_type": "markdown",
   "metadata": {},
   "source": [
    "## Comparison of models with respect to county Code"
   ]
  },
  {
   "cell_type": "code",
   "execution_count": 56,
   "metadata": {},
   "outputs": [
    {
     "data": {
      "application/vnd.plotly.v1+json": {
       "config": {
        "plotlyServerURL": "https://plot.ly"
       },
       "data": [
        {
         "autobinx": false,
         "histnorm": "probability density",
         "legendgroup": "True RandomForest",
         "marker": {
          "color": "#A56CC1"
         },
         "name": "True RandomForest",
         "opacity": 0.7,
         "type": "histogram",
         "x": [
          9,
          19,
          19,
          21,
          25,
          25,
          37,
          37,
          39,
          43,
          47,
          49,
          81,
          81,
          81,
          95,
          95,
          95,
          107,
          107,
          109,
          109,
          133,
          133,
          147,
          147,
          157,
          157,
          157,
          165,
          111,
          85,
          179,
          111,
          41,
          181,
          53,
          55
         ],
         "xaxis": "x",
         "xbins": {
          "end": 181,
          "size": 0.2,
          "start": 9
         },
         "yaxis": "y"
        },
        {
         "autobinx": false,
         "histnorm": "probability density",
         "legendgroup": "True FlowChart",
         "marker": {
          "color": "#A6ACEC"
         },
         "name": "True FlowChart",
         "opacity": 0.7,
         "type": "histogram",
         "x": [
          11,
          27,
          89,
          125,
          105,
          105,
          155
         ],
         "xaxis": "x",
         "xbins": {
          "end": 155,
          "size": 0.2,
          "start": 11
         },
         "yaxis": "y"
        },
        {
         "legendgroup": "True RandomForest",
         "marker": {
          "color": "#A56CC1"
         },
         "mode": "lines",
         "name": "True RandomForest",
         "showlegend": false,
         "type": "scatter",
         "x": [
          9,
          9.344,
          9.688,
          10.032,
          10.376,
          10.72,
          11.064,
          11.408,
          11.751999999999999,
          12.096,
          12.44,
          12.783999999999999,
          13.128,
          13.472000000000001,
          13.815999999999999,
          14.16,
          14.504,
          14.847999999999999,
          15.192,
          15.536,
          15.879999999999999,
          16.224,
          16.567999999999998,
          16.912,
          17.256,
          17.6,
          17.944000000000003,
          18.288,
          18.631999999999998,
          18.976,
          19.32,
          19.664,
          20.008,
          20.352,
          20.695999999999998,
          21.04,
          21.384,
          21.728,
          22.072,
          22.416,
          22.759999999999998,
          23.104,
          23.448,
          23.792,
          24.136,
          24.48,
          24.823999999999998,
          25.168,
          25.512,
          25.856,
          26.2,
          26.544,
          26.888,
          27.232,
          27.576,
          27.92,
          28.264,
          28.608,
          28.952,
          29.296,
          29.64,
          29.984,
          30.328,
          30.672,
          31.016,
          31.36,
          31.704,
          32.048,
          32.391999999999996,
          32.736000000000004,
          33.08,
          33.424,
          33.768,
          34.111999999999995,
          34.456,
          34.8,
          35.144,
          35.488,
          35.832,
          36.176,
          36.519999999999996,
          36.864000000000004,
          37.208,
          37.552,
          37.896,
          38.239999999999995,
          38.584,
          38.928,
          39.272,
          39.616,
          39.96,
          40.304,
          40.647999999999996,
          40.992000000000004,
          41.336,
          41.68,
          42.024,
          42.368,
          42.712,
          43.056,
          43.4,
          43.744,
          44.088,
          44.432,
          44.776,
          45.12,
          45.464,
          45.808,
          46.152,
          46.496,
          46.84,
          47.184,
          47.528,
          47.872,
          48.216,
          48.56,
          48.904,
          49.248,
          49.592,
          49.936,
          50.28,
          50.624,
          50.968,
          51.312,
          51.656,
          52,
          52.344,
          52.688,
          53.032,
          53.376,
          53.72,
          54.064,
          54.408,
          54.752,
          55.096,
          55.44,
          55.784,
          56.128,
          56.472,
          56.816,
          57.16,
          57.504,
          57.848,
          58.192,
          58.536,
          58.88,
          59.224,
          59.568,
          59.912,
          60.256,
          60.6,
          60.944,
          61.288,
          61.632,
          61.976,
          62.32,
          62.664,
          63.008,
          63.352,
          63.696,
          64.03999999999999,
          64.384,
          64.72800000000001,
          65.072,
          65.416,
          65.75999999999999,
          66.104,
          66.44800000000001,
          66.792,
          67.136,
          67.47999999999999,
          67.824,
          68.168,
          68.512,
          68.856,
          69.2,
          69.544,
          69.888,
          70.232,
          70.576,
          70.92,
          71.26400000000001,
          71.608,
          71.952,
          72.29599999999999,
          72.64,
          72.98400000000001,
          73.328,
          73.672,
          74.016,
          74.36,
          74.704,
          75.048,
          75.392,
          75.736,
          76.08,
          76.424,
          76.768,
          77.112,
          77.456,
          77.8,
          78.144,
          78.488,
          78.832,
          79.176,
          79.52,
          79.864,
          80.208,
          80.552,
          80.896,
          81.24,
          81.584,
          81.928,
          82.272,
          82.616,
          82.96,
          83.304,
          83.648,
          83.992,
          84.336,
          84.68,
          85.024,
          85.368,
          85.712,
          86.056,
          86.4,
          86.744,
          87.088,
          87.432,
          87.776,
          88.12,
          88.464,
          88.808,
          89.152,
          89.496,
          89.84,
          90.184,
          90.528,
          90.872,
          91.216,
          91.56,
          91.904,
          92.248,
          92.592,
          92.936,
          93.28,
          93.624,
          93.968,
          94.312,
          94.656,
          95,
          95.344,
          95.688,
          96.032,
          96.376,
          96.72,
          97.064,
          97.408,
          97.752,
          98.096,
          98.44,
          98.784,
          99.128,
          99.472,
          99.816,
          100.16,
          100.504,
          100.848,
          101.192,
          101.536,
          101.88,
          102.224,
          102.568,
          102.912,
          103.256,
          103.6,
          103.944,
          104.288,
          104.632,
          104.976,
          105.32,
          105.664,
          106.008,
          106.352,
          106.696,
          107.04,
          107.384,
          107.728,
          108.072,
          108.416,
          108.76,
          109.104,
          109.448,
          109.792,
          110.136,
          110.48,
          110.824,
          111.168,
          111.512,
          111.856,
          112.2,
          112.544,
          112.888,
          113.232,
          113.576,
          113.92,
          114.264,
          114.608,
          114.952,
          115.296,
          115.64,
          115.984,
          116.328,
          116.672,
          117.016,
          117.36,
          117.704,
          118.048,
          118.392,
          118.736,
          119.08,
          119.424,
          119.768,
          120.112,
          120.456,
          120.8,
          121.144,
          121.488,
          121.832,
          122.176,
          122.52,
          122.864,
          123.208,
          123.552,
          123.896,
          124.24,
          124.584,
          124.928,
          125.272,
          125.616,
          125.96,
          126.304,
          126.648,
          126.992,
          127.336,
          127.68,
          128.024,
          128.368,
          128.712,
          129.05599999999998,
          129.4,
          129.744,
          130.088,
          130.43200000000002,
          130.776,
          131.12,
          131.464,
          131.808,
          132.152,
          132.49599999999998,
          132.84,
          133.184,
          133.52800000000002,
          133.872,
          134.216,
          134.56,
          134.904,
          135.248,
          135.59199999999998,
          135.936,
          136.28,
          136.624,
          136.96800000000002,
          137.312,
          137.656,
          138,
          138.344,
          138.688,
          139.032,
          139.376,
          139.72,
          140.064,
          140.408,
          140.752,
          141.096,
          141.44,
          141.784,
          142.128,
          142.472,
          142.816,
          143.16,
          143.504,
          143.848,
          144.192,
          144.536,
          144.88,
          145.224,
          145.568,
          145.912,
          146.256,
          146.6,
          146.944,
          147.288,
          147.632,
          147.976,
          148.32,
          148.664,
          149.008,
          149.352,
          149.696,
          150.04,
          150.384,
          150.728,
          151.072,
          151.416,
          151.76,
          152.104,
          152.448,
          152.792,
          153.136,
          153.48,
          153.824,
          154.168,
          154.512,
          154.856,
          155.2,
          155.544,
          155.888,
          156.232,
          156.576,
          156.92,
          157.264,
          157.608,
          157.952,
          158.296,
          158.64,
          158.984,
          159.328,
          159.672,
          160.016,
          160.36,
          160.704,
          161.048,
          161.392,
          161.736,
          162.08,
          162.424,
          162.768,
          163.112,
          163.456,
          163.8,
          164.144,
          164.488,
          164.832,
          165.176,
          165.52,
          165.864,
          166.208,
          166.552,
          166.896,
          167.24,
          167.584,
          167.928,
          168.272,
          168.616,
          168.96,
          169.304,
          169.648,
          169.992,
          170.336,
          170.68,
          171.024,
          171.368,
          171.712,
          172.056,
          172.4,
          172.744,
          173.088,
          173.432,
          173.776,
          174.12,
          174.464,
          174.808,
          175.152,
          175.496,
          175.84,
          176.184,
          176.528,
          176.872,
          177.216,
          177.56,
          177.904,
          178.248,
          178.592,
          178.936,
          179.28,
          179.624,
          179.968,
          180.312,
          180.656
         ],
         "xaxis": "x",
         "y": [
          0.0037064357097809824,
          0.0037471396126840667,
          0.0037877703756951414,
          0.0038283171968316477,
          0.0038687692428270148,
          0.003909115655453535,
          0.003949345557923619,
          0.003989448061365072,
          0.004029412271365829,
          0.004069227294583577,
          0.0041088822454155806,
          0.004148366252723874,
          0.004187668466610943,
          0.004226778065240923,
          0.004265684261701195,
          0.004304376310899272,
          0.004342843516489707,
          0.004381075237825707,
          0.004419060896930064,
          0.004456789985479928,
          0.004494252071799933,
          0.0045314368078580546,
          0.004568333936258517,
          0.00460493329722616,
          0.0046412248355763444,
          0.004677198607664782,
          0.004712844788311316,
          0.004748153677691824,
          0.00478311570819234,
          0.004817721451219456,
          0.004851961623961057,
          0.00488582709609136,
          0.00491930889641434,
          0.004952398219439535,
          0.004985086431884133,
          0.005017365079095505,
          0.005049225891388065,
          0.005080660790288491,
          0.005111661894683462,
          0.005142221526863789,
          0.005172332218459205,
          0.005201986716257849,
          0.005231177987904581,
          0.005259899227472452,
          0.0052881438609015,
          0.005315905551299176,
          0.005343178204096899,
          0.00536995597205704,
          0.005396233260124991,
          0.005422004730120839,
          0.005447265305265371,
          0.0054720101745352155,
          0.0054962347968419475,
          0.00551993490503019,
          0.005543106509689827,
          0.005565745902777468,
          0.005587849661042575,
          0.005609414649253698,
          0.005630438023220388,
          0.005650917232606595,
          0.005670850023531349,
          0.005690234440952868,
          0.005709068830832203,
          0.005727351842072815,
          0.005745082428232681,
          0.00576225984900551,
          0.005778883671468052,
          0.005794953771090601,
          0.005810470332507833,
          0.005825433850047617,
          0.005839845128015297,
          0.0058537052807314935,
          0.005867015732321353,
          0.005879778216253679,
          0.005891994774628391,
          0.005903667757211141,
          0.005914799820214009,
          0.00592539392482152,
          0.005935453335461493,
          0.0059449816178203385,
          0.005953982636602831,
          0.005962460553036514,
          0.0059704198221212056,
          0.005977865189624293,
          0.005984801688822817,
          0.005991234636993515,
          0.00599716963165234,
          0.006002612546545243,
          0.006007569527392113,
          0.006012046987386281,
          0.006016051602452061,
          0.0060195903062631555,
          0.006022670285024964,
          0.006025298972024268,
          0.006027484041949668,
          0.006029233404986931,
          0.006030555200693134,
          0.006031457791654158,
          0.006031949756930111,
          0.006032039885293695,
          0.0060317371682665245,
          0.006031050792959008,
          0.00602999013471931,
          0.0060285647495974225,
          0.006026784366630392,
          0.006024658879955211,
          0.006022198340755913,
          0.006019412949051743,
          0.006016313045333463,
          0.006012909102055115,
          0.006009211714988631,
          0.006005231594449132,
          0.006000979556398588,
          0.005996466513436151,
          0.005991703465683169,
          0.00598670149157147,
          0.005981471738543391,
          0.005976025413672328,
          0.005970373774212659,
          0.005964528118088036,
          0.0059584997743272194,
          0.005952300093456638,
          0.005945940437859057,
          0.005939432172107823,
          0.005932786653286141,
          0.005926015221301035,
          0.005919129189201651,
          0.0059121398335115856,
          0.005905058384585017,
          0.005897896016996371,
          0.0058906638399733625,
          0.0058833728878831945,
          0.005876034110781652,
          0.005868658365034939,
          0.0058612564040239285,
          0.005853838868940519,
          0.005846416279685778,
          0.00583899902587939,
          0.005831597357989876,
          0.005824221378595056,
          0.005816881033781931,
          0.005809586104695238,
          0.0058023461992436675,
          0.00579517074397265,
          0.005788068976112482,
          0.005781049935810314,
          0.005774122458554472,
          0.0057672951677992515,
          0.005760576467798324,
          0.0057539745366544,
          0.005747497319592885,
          0.005741152522466822,
          0.005734947605500247,
          0.005728889777276857,
          0.005722985988980541,
          0.005717242928894227,
          0.005711667017163,
          0.005706264400827315,
          0.005701040949131864,
          0.005696002249115168,
          0.005691153601484847,
          0.005686500016783145,
          0.005682046211846864,
          0.005677796606565761,
          0.0056737553209428365,
          0.005669926172459892,
          0.005666312673751128,
          0.005662918030587474,
          0.005659745140173699,
          0.005656796589760259,
          0.005654074655571303,
          0.005651581302049997,
          0.005649318181421889,
          0.0056472866335767315,
          0.005645487686268817,
          0.005643922055635417,
          0.005642590147032711,
          0.005641492056188062,
          0.005640627570667263,
          0.005639996171654933,
          0.00563959703604587,
          0.00563942903884496,
          0.005639490755872612,
          0.005639780466772643,
          0.005640296158318923,
          0.005641035528016945,
          0.005641995987996027,
          0.005643174669187558,
          0.0056445684257843305,
          0.005646173839975809,
          0.005647987226953676,
          0.005650004640181811,
          0.005652221876924588,
          0.005654634484026913,
          0.005657237763939354,
          0.00566002678098124,
          0.005662996367834498,
          0.005666141132260595,
          0.00566945546403282,
          0.005672933542075809,
          0.005676569341804042,
          0.005680356642650787,
          0.005684289035778768,
          0.005688359931963641,
          0.005692562569641124,
          0.005696890023108557,
          0.00570133521087134,
          0.005705890904124708,
          0.005710549735361049,
          0.005715304207092854,
          0.005720146700681342,
          0.0057250694852605585,
          0.005730064726746822,
          0.0057351244969231436,
          0.005740240782588281,
          0.005745405494760022,
          0.005750610477922179,
          0.00575584751930481,
          0.005761108358187158,
          0.005766384695212726,
          0.0057716682017060345,
          0.005776950528980448,
          0.005782223317626688,
          0.005787478206771546,
          0.005792706843296365,
          0.0057979008910051125,
          0.005803052039731617,
          0.0058081520143759904,
          0.005813192583860095,
          0.005818165569992144,
          0.005823062856230644,
          0.005827876396338024,
          0.005832598222914401,
          0.005837220455802149,
          0.0058417353103521,
          0.005846135105542321,
          0.0058504122719407374,
          0.005854559359502898,
          0.005858569045196561,
          0.005862434140444908,
          0.00586614759838038,
          0.00586970252090152,
          0.005873092165525338,
          0.0058763099520279145,
          0.005879349468866462,
          0.005882204479376042,
          0.005884868927734639,
          0.005887336944690456,
          0.005889602853045664,
          0.005891661172891079,
          0.0058935066265866035,
          0.0058951341434824904,
          0.005896538864376989,
          0.005897716145705975,
          0.0058986615634608105,
          0.005899370916830716,
          0.005899840231566508,
          0.005900065763062769,
          0.0059000439991558325,
          0.005899771662635454,
          0.005899245713468205,
          0.005898463350731129,
          0.0058974220142544494,
          0.005896119385972478,
          0.005894553390982339,
          0.005892722198310255,
          0.0058906242213857245,
          0.0058882581182241,
          0.0058856227913185516,
          0.005882717387242588,
          0.0058795412959648605,
          0.005876094149878126,
          0.005872375822544691,
          0.00586838642716098,
          0.005864126314744173,
          0.005859596072044203,
          0.005854796519184748,
          0.005849728707037153,
          0.005844393914331491,
          0.005838793644509377,
          0.00583292962232336,
          0.005826803790188033,
          0.0058204183042883635,
          0.0058137755304508865,
          0.0058068780397838495,
          0.00579972860409249,
          0.005792330191076018,
          0.00578468595931309,
          0.0057767992530427205,
          0.00576867359674797,
          0.005760312689549768,
          0.005751720399418673,
          0.0057429007572123185,
          0.005733857950546766,
          0.005724596317509868,
          0.005715120340225196,
          0.005705434638275046,
          0.005695543961991276,
          0.005685453185622857,
          0.005675167300389142,
          0.005664691407427913,
          0.005654030710647524,
          0.0056431905094923235,
          0.005632176191630832,
          0.005620993225576077,
          0.005609647153247613,
          0.0055981435824847565,
          0.005586488179520588,
          0.005574686661426365,
          0.005562744788535879,
          0.005550668356859392,
          0.0055384631904966475,
          0.005526135134058569,
          0.005513690045107049,
          0.005501133786622309,
          0.005488472219507147,
          0.005475711195137353,
          0.005462856547967485,
          0.005449914088201037,
          0.005436889594533986,
          0.005423788806980513,
          0.0054106174197895655,
          0.005397381074460837,
          0.005384085352868453,
          0.005370735770500609,
          0.00535733776982315,
          0.00534389671377484,
          0.005330417879402055,
          0.005316906451640109,
          0.005303367517248552,
          0.00528980605890726,
          0.005276226949480038,
          0.005262634946452194,
          0.005249034686548251,
          0.0052354306805357095,
          0.005221827308220539,
          0.005208228813639748,
          0.005194639300456096,
          0.005181062727559793,
          0.005167502904881647,
          0.005153963489421876,
          0.005140447981498464,
          0.005126959721218672,
          0.005113501885176928,
          0.005100077483382124,
          0.005086689356416875,
          0.005073340172831149,
          0.005060032426772151,
          0.005046768435852255,
          0.005033550339256245,
          0.00502038009608892,
          0.0050072594839637675,
          0.004994190097833076,
          0.004981173349059508,
          0.004968210464728981,
          0.0049553024872040965,
          0.004942450273917387,
          0.004929654497403058,
          0.004916915645565773,
          0.004904234022184594,
          0.004891609747650029,
          0.004879042759931691,
          0.00486653281577389,
          0.004854079492116192,
          0.0048416821877356065,
          0.004829340125106907,
          0.00481705235247726,
          0.004804817746151086,
          0.004792635012980826,
          0.004780502693059083,
          0.004768419162607308,
          0.004756382637056012,
          0.0047443911743112995,
          0.00473244267820221,
          0.004720534902103309,
          0.004708665452726589,
          0.004696831794076775,
          0.0046850312515637465,
          0.004673261016265817,
          0.004661518149337327,
          0.004649799586553933,
          0.004638102142988834,
          0.004626422517813077,
          0.004614757299212915,
          0.004603102969417184,
          0.00459145590982752,
          0.004579812406244152,
          0.004568168654180035,
          0.004556520764255879,
          0.004544864767668814,
          0.004533196621727095,
          0.004521512215443583,
          0.004509807375180421,
          0.004498077870337531,
          0.004486319419077464,
          0.004474527694079198,
          0.0044626983283135285,
          0.0044508269208326685,
          0.004438909042566845,
          0.004426940242120609,
          0.0044149160515617614,
          0.004402831992195806,
          0.004390683580318972,
          0.004378466332942966,
          0.004366175773484597,
          0.004353807437413751,
          0.004341356877853122,
          0.004328819671123312,
          0.004316191422227113,
          0.004303467770266796,
          0.0042906443937885215,
          0.004277717016048062,
          0.004264681410192236,
          0.0042515334043505834,
          0.004238268886632048,
          0.004224883810021564,
          0.004211374197171673,
          0.004197736145084438,
          0.004183965829679187,
          0.00417005951024175,
          0.0041560135337511085,
          0.00414182433907955,
          0.004127488461062656,
          0.004113002534435623,
          0.004098363297632684,
          0.004083567596446564,
          0.004068612387545146,
          0.004053494741842717,
          0.0040382118477234295,
          0.004022761014114758,
          0.004007139673409001,
          0.003991345384231095,
          0.00397537583405119,
          0.003959228841640653,
          0.003942902359370434,
          0.003926394475350861,
          0.003909703415412188,
          0.0038928275449254266,
          0.0038757653704631616,
          0.0038585155413002853,
          0.003841076850754777,
          0.003823448237368826,
          0.0038056287859308097,
          0.0037876177283388164,
          0.003769414444306592,
          0.0037510184619129385,
          0.0037324294579958363,
          0.0037136472583926064,
          0.0036946718380277493,
          0.0036755033208501213,
          0.0036561419796213492,
          0.0036365882355574738,
          0.003616842657826007,
          0.0035969059629006876,
          0.0035767790137763746,
          0.0035564628190466194,
          0.0035359585318466323,
          0.0035152674486643694,
          0.0034943910080227234,
          0.0034733307890357557,
          0.003452088509842114,
          0.0034306660259188068,
          0.003409065328278626,
          0.003387288541554569,
          0.003365337921974706,
          0.003343215855230985,
          0.003320924854245518,
          0.00329846755683802,
          0.0032758467232980107,
          0.0032530652338655383,
          0.003230126086124166,
          0.0032070323923099877,
          0.0031837873765405275,
          0.0031603943719673484,
          0.003136856817856205,
          0.0031131782565986536,
          0.003089362330658965,
          0.0030654127794602242,
          0.0030413334362135286,
          0.003017128224694113,
          0.002992801155968305,
          0.0029683563250751197,
          0.002943797907666348,
          0.002919130156608947,
          0.0028943573985534704,
          0.002869484030472341,
          0.0028445145161716126,
          0.002819453382779938,
          0.0027943052172183652,
          0.0027690746626545214,
          0.00274376641494474,
          0.0027183852190676176,
          0.0026929358655524184,
          0.002667423186905707,
          0.0026418520540395342,
          0.002616227372704391,
          0.002590554079930177,
          0.0025648371404782683,
          0.0025390815433077333,
          0.0025132922980587416
         ],
         "yaxis": "y"
        },
        {
         "legendgroup": "True FlowChart",
         "marker": {
          "color": "#A6ACEC"
         },
         "mode": "lines",
         "name": "True FlowChart",
         "showlegend": false,
         "type": "scatter",
         "x": [
          11,
          11.288,
          11.576,
          11.864,
          12.152,
          12.44,
          12.728,
          13.016,
          13.304,
          13.592,
          13.879999999999999,
          14.168,
          14.456,
          14.744,
          15.032,
          15.32,
          15.608,
          15.896,
          16.184,
          16.472,
          16.759999999999998,
          17.048000000000002,
          17.336,
          17.624,
          17.912,
          18.2,
          18.488,
          18.776,
          19.064,
          19.352,
          19.64,
          19.928,
          20.216,
          20.503999999999998,
          20.792,
          21.08,
          21.368000000000002,
          21.656,
          21.944000000000003,
          22.232,
          22.52,
          22.808,
          23.096,
          23.384,
          23.672,
          23.96,
          24.247999999999998,
          24.536,
          24.823999999999998,
          25.112000000000002,
          25.4,
          25.688000000000002,
          25.976,
          26.264,
          26.552,
          26.84,
          27.128,
          27.416,
          27.704,
          27.992,
          28.28,
          28.568,
          28.856,
          29.144,
          29.432,
          29.72,
          30.008,
          30.296,
          30.584,
          30.872,
          31.16,
          31.448,
          31.736,
          32.024,
          32.312,
          32.6,
          32.888000000000005,
          33.176,
          33.464,
          33.751999999999995,
          34.04,
          34.328,
          34.616,
          34.903999999999996,
          35.192,
          35.480000000000004,
          35.768,
          36.056,
          36.344,
          36.632000000000005,
          36.92,
          37.208,
          37.495999999999995,
          37.784,
          38.072,
          38.36,
          38.647999999999996,
          38.936,
          39.224000000000004,
          39.512,
          39.8,
          40.088,
          40.376000000000005,
          40.664,
          40.952,
          41.239999999999995,
          41.528,
          41.816,
          42.104,
          42.391999999999996,
          42.68,
          42.968,
          43.256,
          43.544,
          43.832,
          44.12,
          44.408,
          44.696,
          44.984,
          45.272,
          45.56,
          45.848,
          46.136,
          46.424,
          46.712,
          47,
          47.288,
          47.576,
          47.864,
          48.152,
          48.44,
          48.728,
          49.016,
          49.304,
          49.592,
          49.88,
          50.168,
          50.456,
          50.744,
          51.032,
          51.32,
          51.608,
          51.896,
          52.184,
          52.472,
          52.76,
          53.048,
          53.336,
          53.624,
          53.912,
          54.2,
          54.488,
          54.776,
          55.064,
          55.352,
          55.64,
          55.928,
          56.216,
          56.504,
          56.792,
          57.08,
          57.368,
          57.656,
          57.944,
          58.232,
          58.52,
          58.808,
          59.096,
          59.384,
          59.672,
          59.96,
          60.248,
          60.536,
          60.824,
          61.112,
          61.4,
          61.688,
          61.976,
          62.264,
          62.552,
          62.84,
          63.128,
          63.416,
          63.704,
          63.992,
          64.28,
          64.568,
          64.856,
          65.144,
          65.432,
          65.72,
          66.00800000000001,
          66.29599999999999,
          66.584,
          66.872,
          67.16,
          67.44800000000001,
          67.73599999999999,
          68.024,
          68.312,
          68.6,
          68.888,
          69.176,
          69.464,
          69.75200000000001,
          70.03999999999999,
          70.328,
          70.616,
          70.904,
          71.19200000000001,
          71.47999999999999,
          71.768,
          72.056,
          72.344,
          72.632,
          72.92,
          73.208,
          73.49600000000001,
          73.78399999999999,
          74.072,
          74.36,
          74.648,
          74.936,
          75.224,
          75.512,
          75.8,
          76.088,
          76.376,
          76.664,
          76.952,
          77.24,
          77.528,
          77.816,
          78.104,
          78.392,
          78.68,
          78.968,
          79.256,
          79.544,
          79.832,
          80.12,
          80.408,
          80.696,
          80.984,
          81.272,
          81.56,
          81.848,
          82.136,
          82.424,
          82.712,
          83,
          83.288,
          83.576,
          83.864,
          84.152,
          84.44,
          84.728,
          85.016,
          85.304,
          85.592,
          85.88,
          86.168,
          86.456,
          86.744,
          87.032,
          87.32,
          87.608,
          87.896,
          88.184,
          88.472,
          88.76,
          89.048,
          89.336,
          89.624,
          89.912,
          90.2,
          90.488,
          90.776,
          91.064,
          91.352,
          91.64,
          91.928,
          92.216,
          92.504,
          92.792,
          93.08,
          93.368,
          93.656,
          93.944,
          94.232,
          94.52,
          94.808,
          95.096,
          95.384,
          95.672,
          95.96,
          96.248,
          96.536,
          96.824,
          97.112,
          97.4,
          97.688,
          97.976,
          98.264,
          98.552,
          98.84,
          99.128,
          99.416,
          99.704,
          99.992,
          100.28,
          100.568,
          100.856,
          101.144,
          101.432,
          101.72,
          102.008,
          102.296,
          102.584,
          102.872,
          103.16,
          103.448,
          103.736,
          104.024,
          104.312,
          104.6,
          104.888,
          105.176,
          105.464,
          105.752,
          106.04,
          106.328,
          106.616,
          106.904,
          107.192,
          107.48,
          107.768,
          108.056,
          108.344,
          108.632,
          108.92,
          109.208,
          109.496,
          109.784,
          110.072,
          110.36,
          110.648,
          110.936,
          111.224,
          111.512,
          111.8,
          112.088,
          112.376,
          112.664,
          112.952,
          113.24,
          113.528,
          113.816,
          114.104,
          114.392,
          114.68,
          114.968,
          115.256,
          115.544,
          115.832,
          116.12,
          116.408,
          116.696,
          116.984,
          117.272,
          117.56,
          117.848,
          118.136,
          118.424,
          118.712,
          119,
          119.288,
          119.576,
          119.864,
          120.152,
          120.44,
          120.728,
          121.016,
          121.304,
          121.592,
          121.88,
          122.168,
          122.456,
          122.744,
          123.032,
          123.32,
          123.608,
          123.896,
          124.184,
          124.472,
          124.76,
          125.048,
          125.336,
          125.624,
          125.912,
          126.2,
          126.488,
          126.776,
          127.064,
          127.352,
          127.64,
          127.928,
          128.216,
          128.50400000000002,
          128.792,
          129.07999999999998,
          129.368,
          129.656,
          129.94400000000002,
          130.232,
          130.51999999999998,
          130.808,
          131.096,
          131.38400000000001,
          131.672,
          131.95999999999998,
          132.248,
          132.536,
          132.824,
          133.112,
          133.4,
          133.688,
          133.976,
          134.264,
          134.55200000000002,
          134.84,
          135.128,
          135.416,
          135.704,
          135.99200000000002,
          136.28,
          136.56799999999998,
          136.856,
          137.144,
          137.43200000000002,
          137.72,
          138.00799999999998,
          138.296,
          138.584,
          138.872,
          139.16,
          139.448,
          139.736,
          140.024,
          140.312,
          140.6,
          140.888,
          141.176,
          141.464,
          141.752,
          142.04,
          142.328,
          142.616,
          142.904,
          143.192,
          143.48,
          143.768,
          144.056,
          144.344,
          144.632,
          144.92,
          145.208,
          145.496,
          145.784,
          146.072,
          146.36,
          146.648,
          146.936,
          147.224,
          147.512,
          147.8,
          148.088,
          148.376,
          148.664,
          148.952,
          149.24,
          149.528,
          149.816,
          150.104,
          150.392,
          150.68,
          150.968,
          151.256,
          151.544,
          151.832,
          152.12,
          152.408,
          152.696,
          152.984,
          153.272,
          153.56,
          153.848,
          154.136,
          154.424,
          154.712
         ],
         "xaxis": "x",
         "y": [
          0.0033238968483786527,
          0.0033340339868646505,
          0.003344063095947977,
          0.003353984211454388,
          0.003363797409112044,
          0.0033735028047046397,
          0.0033831005542096044,
          0.003392590853921242,
          0.0034019739405586414,
          0.0034112500913582567,
          0.0034204196241509766,
          0.0034294828974235823,
          0.003438440310364485,
          0.0034472923028935915,
          0.0034560393556762226,
          0.003464681990120981,
          0.0034732207683614426,
          0.0034816562932216237,
          0.0034899892081651247,
          0.0034982201972278706,
          0.0035063499849343977,
          0.0035143793361976042,
          0.003522309056201951,
          0.003530139990270006,
          0.0035378730237123714,
          0.003545509081660888,
          0.0035530491288851508,
          0.0035604941695922872,
          0.003567845247209996,
          0.003575103444152867,
          0.0035822698815719456,
          0.003589345719087609,
          0.003596332154505732,
          0.003603230423517193,
          0.003610041799380764,
          0.003616767592589404,
          0.0036234091505200432,
          0.0036299678570668897,
          0.0036364451322583326,
          0.0036428424318575357,
          0.0036491612469467917,
          0.0036554031034957165,
          0.0036615695619134055,
          0.00366766221658466,
          0.0036736826953903574,
          0.003679632659212153,
          0.003685513801421585,
          0.0036913278473537556,
          0.0036970765537657096,
          0.0037027617082796963,
          0.0037083851288114244,
          0.0037139486629835378,
          0.0037194541875244336,
          0.0037249036076526425,
          0.0037302988564469437,
          0.0037356418942024023,
          0.003740934707772569,
          0.0037461793098980075,
          0.003751377738521408,
          0.003756532056089486,
          0.0037616443488419048,
          0.0037667167260874695,
          0.0037717513194678327,
          0.0037767502822089564,
          0.0037817157883606035,
          0.0037866500320241072,
          0.003791555226568709,
          0.003796433603836733,
          0.003801287413337867,
          0.0038061189214328665,
          0.0038109304105069645,
          0.0038157241781332845,
          0.0038205025362265605,
          0.0038252678101874976,
          0.0038300223380380713,
          0.003834768469548088,
          0.003839508565353356,
          0.003844244996065766,
          0.0038489801413756556,
          0.0038537163891467813,
          0.0038584561345042356,
          0.0038632017789156812,
          0.003867955729266256,
          0.0038727203969274875,
          0.003877498196820603,
          0.0038822915464745977,
          0.003887102865079431,
          0.0038919345725347064,
          0.0038967890884942474,
          0.003901668831406937,
          0.003906576217554182,
          0.00391151366008442,
          0.003916483568045045,
          0.003921488345412135,
          0.003926530390118395,
          0.0039316120930796925,
          0.003936735837220584,
          0.003941903996499268,
          0.0039471189349322856,
          0.003952383005619466,
          0.003957698549769454,
          0.003963067895726236,
          0.003968493357997103,
          0.003973977236282401,
          0.003979521814507525,
          0.003985129359857529,
          0.0039908021218147734,
          0.0039965423312000176,
          0.004002352199217342,
          0.004008233916503344,
          0.004014189652180953,
          0.004020221552918339,
          0.004026331741993248,
          0.004032522318363214,
          0.004038795355742012,
          0.004045152901682788,
          0.004051596976668211,
          0.004058129573208087,
          0.00406475265494479,
          0.004071468155766923,
          0.00407827797893159,
          0.004085183996195634,
          0.004092188046956265,
          0.004099291937401429,
          0.004106497439670278,
          0.004113806291024141,
          0.004121220193028348,
          0.004128740810745246,
          0.004136369771938813,
          0.0041441086662911755,
          0.004151959044631399,
          0.004159922418176903,
          0.00416800025778782,
          0.004176193993234649,
          0.004184505012479516,
          0.004192934660971391,
          0.004201484240955539,
          0.004210155010797563,
          0.004218948184322312,
          0.0042278649301679665,
          0.004236906371155599,
          0.004246073583674485,
          0.00425536759708346,
          0.004264789393128605,
          0.0042743399053774825,
          0.004284020018670254,
          0.004293830568587879,
          0.004303772340937659,
          0.004313846071256384,
          0.004324052444331285,
          0.004334392093739043,
          0.004344865601403053,
          0.004355473497169173,
          0.004366216258400146,
          0.004377094309588888,
          0.004388108021990841,
          0.004399257713275559,
          0.004410543647197703,
          0.004421966033287601,
          0.00443352502656154,
          0.004445220727251909,
          0.004457053180557366,
          0.004469022376413115,
          0.004481128249281458,
          0.004493370677962698,
          0.004505749485426498,
          0.004518264438663814,
          0.004530915248559457,
          0.004543701569785382,
          0.004556623000714748,
          0.0045696790833568285,
          0.004582869303312807,
          0.004596193089752498,
          0.004609649815412025,
          0.004623238796612483,
          0.004636959293299581,
          0.004650810509104291,
          0.004664791591424465,
          0.004678901631527434,
          0.004693139664673554,
          0.004707504670260654,
          0.004721995571989356,
          0.00473661123804921,
          0.004751350481325583,
          0.004766212059627237,
          0.00478119467593449,
          0.004796296978667922,
          0.00481151756197747,
          0.004826854966051856,
          0.004842307677448189,
          0.004857874129441658,
          0.004873552702395147,
          0.004889341724148654,
          0.004905239470428356,
          0.004921244165275149,
          0.004937353981492525,
          0.004953567041113572,
          0.004969881415886947,
          0.004986295127781613,
          0.005002806149510128,
          0.0050194124050703,
          0.0050361117703049945,
          0.0050529020734798175,
          0.005069781095878528,
          0.005086746572415852,
          0.005103796192267515,
          0.00512092759951721,
          0.005138138393820226,
          0.005155426131083503,
          0.00517278832416181,
          0.005190222443569758,
          0.0052077259182094025,
          0.005225296136113059,
          0.005242930445201115,
          0.005260626154054467,
          0.005278380532701292,
          0.005296190813417833,
          0.005314054191542859,
          0.005331967826305473,
          0.005349928841665932,
          0.005367934327169121,
          0.005385981338810356,
          0.005404066899913136,
          0.005422188002018486,
          0.005440341605785552,
          0.005458524641903059,
          0.005476734012011246,
          0.005494966589633942,
          0.005513219221120347,
          0.005531488726596189,
          0.005549771900923825,
          0.005568065514670915,
          0.005586366315087268,
          0.005604671027089464,
          0.005622976354252849,
          0.005641278979810497,
          0.005659575567658736,
          0.005677862763368829,
          0.005696137195204402,
          0.0057143954751441945,
          0.005732634199909741,
          0.00575084995199754,
          0.005769039300715318,
          0.005787198803221961,
          0.005805325005570685,
          0.00582341444375505,
          0.005841463644757372,
          0.005859469127599139,
          0.005877427404392977,
          0.005895334981395788,
          0.005913188360062607,
          0.005930984038100779,
          0.005948718510524016,
          0.005966388270705958,
          0.005983989811432768,
          0.0060015196259543945,
          0.006018974209034065,
          0.0060363500579956,
          0.006053643673768136,
          0.006070851561927883,
          0.006087970233736458,
          0.006104996207175432,
          0.006121926007976682,
          0.006138756170648159,
          0.00615548323949465,
          0.00617210376963318,
          0.006188614328002655,
          0.0062050114943673455,
          0.00622129186231387,
          0.0062374520402412635,
          0.006253488652343794,
          0.0062693983395861255,
          0.006285177760670514,
          0.006300823592995633,
          0.006316332533606706,
          0.006331701300136576,
          0.006346926631737412,
          0.006362005290002653,
          0.00637693405987893,
          0.006391709750567574,
          0.006406329196415445,
          0.00642078925779473,
          0.006435086821971434,
          0.006449218803962235,
          0.006463182147379419,
          0.006476973825263625,
          0.006490590840904088,
          0.006504030228646113,
          0.006517289054685544,
          0.006530364417849907,
          0.00654325345036603,
          0.006555953318613868,
          0.006568461223866272,
          0.0065807744030145195,
          0.006592890129279339,
          0.006604805712907225,
          0.006616518501851843,
          0.006628025882440295,
          0.006639325280024095,
          0.006650414159614609,
          0.006661290026502848,
          0.00667195042686337,
          0.006682392948342202,
          0.006692615220628565,
          0.006702614916010286,
          0.006712389749912752,
          0.006721937481421286,
          0.006731255913786793,
          0.006740342894914594,
          0.006749196317836315,
          0.0067578141211647605,
          0.0067661942895316605,
          0.006774334854008202,
          0.0067822338925083115,
          0.006789889530174569,
          0.006797299939746748,
          0.006804463341912895,
          0.006811378005642932,
          0.0068180422485047305,
          0.00682445443696265,
          0.006830612986658518,
          0.0068365163626750445,
          0.006842163079781665,
          0.006847551702662832,
          0.006852680846128761,
          0.006857549175308661,
          0.006862155405826489,
          0.006866498303959237,
          0.006870576686777851,
          0.006874389422270787,
          0.006877935429450291,
          0.006881213678441485,
          0.006884223190554305,
          0.006886963038338406,
          0.006889432345621108,
          0.006891630287528493,
          0.006893556090489764,
          0.006895209032224951,
          0.006896588441716137,
          0.006897693699162271,
          0.00689852423591776,
          0.006899079534414926,
          0.00689935912807053,
          0.006899362601176467,
          0.006899089588774834,
          0.006898539776517497,
          0.0068977129005103706,
          0.00689660874714255,
          0.006895227152900503,
          0.006893568004167506,
          0.006891631237008514,
          0.006889416836940667,
          0.006886924838689627,
          0.006884155325931996,
          0.0068811084310239625,
          0.0068777843347164564,
          0.00687418326585701,
          0.0068703055010785495,
          0.006866151364475364,
          0.006861721227266479,
          0.006857015507446677,
          0.006852034669425408,
          0.006846779223653846,
          0.006841249726240328,
          0.006835446778554456,
          0.00682937102682008,
          0.006823023161697463,
          0.006816403917854868,
          0.006809514073529845,
          0.006802354450080474,
          0.006794925911526848,
          0.006787229364083057,
          0.006779265755679969,
          0.006771036075479048,
          0.006762541353377538,
          0.006753782659505231,
          0.006744761103713171,
          0.00673547783505451,
          0.006725934041257838,
          0.0067161309481932755,
          0.006706069819331577,
          0.0066957519551965605,
          0.0066851786928111565,
          0.006674351405137334,
          0.006663271500510188,
          0.006651940422066523,
          0.006640359647168147,
          0.006628530686820224,
          0.00661645508508492,
          0.006604134418490667,
          0.006591570295437281,
          0.006578764355597276,
          0.006565718269313589,
          0.006552433736994037,
          0.006538912488502776,
          0.006525156282549022,
          0.006511166906073333,
          0.006496946173631677,
          0.006482495926777632,
          0.0064678180334429005,
          0.006452914387316469,
          0.006437786907222634,
          0.006422437536498173,
          0.0064068682423689205,
          0.006391081015325987,
          0.006375077868501901,
          0.006358860837046873,
          0.006342431977505482,
          0.0063257933671940015,
          0.006308947103578591,
          0.006291895303654601,
          0.006274640103327241,
          0.006257183656793797,
          0.006239528135927664,
          0.006221675729664382,
          0.00620362864338991,
          0.006185389098331343,
          0.006166959330950295,
          0.006148341592339114,
          0.00612953814762018,
          0.006110551275348432,
          0.006091383266917358,
          0.006072036425968605,
          0.006052513067805401,
          0.006032815518809973,
          0.006012946115865105,
          0.005992907205780076,
          0.005972701144721026,
          0.0059523302976460446,
          0.0059317970377450084,
          0.005911103745884421,
          0.00589025281005732,
          0.005869246624838451,
          0.005848087590844811,
          0.0058267781142016944,
          0.005805320606014378,
          0.00578371748184555,
          0.005761971161198616,
          0.005740084067006986,
          0.005718058625129434,
          0.005695897263851658,
          0.005673602413394098,
          0.005651176505426159,
          0.005628621972586867,
          0.0056059412480120715,
          0.005583136764868269,
          0.0055602109558931054,
          0.005537166252942645,
          0.00551400508654544,
          0.005490729885463499,
          0.005467343076260152,
          0.005443847082874913,
          0.005420244326205353,
          0.005396537223696029,
          0.005372728188934506,
          0.0053488196312545125,
          0.005324813955346205,
          0.005300713560873656,
          0.005276520842099484,
          0.005252238187516688,
          0.005227867979487714,
          0.005203412593890688,
          0.005178874399772903,
          0.005154255759011486,
          0.005129559025981256,
          0.005104786547229804,
          0.005079940661159702,
          0.005055023697717899,
          0.005030037978092226,
          0.005004985814415002,
          0.0049798695094737345,
          0.004954691356428835,
          0.004929453638538349,
          0.00490415862888966,
          0.004878808590138083,
          0.004853405774252371,
          0.004827952422267028,
          0.004802450764041376,
          0.004776903018025389,
          0.004751311391032138,
          0.004725678078016876,
          0.0047000052618626454,
          0.0046742951131723475,
          0.004648549790067256,
          0.004622771437991825,
          0.0045969621895247895,
          0.004571124164196461,
          0.004545259468312109,
          0.004519370194781424,
          0.004493458422953907,
          0.004467526218460138,
          0.004441575633058878,
          0.00441560870448982,
          0.004389627456332034,
          0.004363633897867898,
          0.004337630023952494,
          0.004311617814888394,
          0.004285599236305678,
          0.004259576239047149,
          0.004233550759058647
         ],
         "yaxis": "y"
        }
       ],
       "layout": {
        "barmode": "overlay",
        "hovermode": "closest",
        "legend": {
         "traceorder": "reversed"
        },
        "template": {
         "data": {
          "bar": [
           {
            "error_x": {
             "color": "#2a3f5f"
            },
            "error_y": {
             "color": "#2a3f5f"
            },
            "marker": {
             "line": {
              "color": "#E5ECF6",
              "width": 0.5
             }
            },
            "type": "bar"
           }
          ],
          "barpolar": [
           {
            "marker": {
             "line": {
              "color": "#E5ECF6",
              "width": 0.5
             }
            },
            "type": "barpolar"
           }
          ],
          "carpet": [
           {
            "aaxis": {
             "endlinecolor": "#2a3f5f",
             "gridcolor": "white",
             "linecolor": "white",
             "minorgridcolor": "white",
             "startlinecolor": "#2a3f5f"
            },
            "baxis": {
             "endlinecolor": "#2a3f5f",
             "gridcolor": "white",
             "linecolor": "white",
             "minorgridcolor": "white",
             "startlinecolor": "#2a3f5f"
            },
            "type": "carpet"
           }
          ],
          "choropleth": [
           {
            "colorbar": {
             "outlinewidth": 0,
             "ticks": ""
            },
            "type": "choropleth"
           }
          ],
          "contour": [
           {
            "colorbar": {
             "outlinewidth": 0,
             "ticks": ""
            },
            "colorscale": [
             [
              0,
              "#0d0887"
             ],
             [
              0.1111111111111111,
              "#46039f"
             ],
             [
              0.2222222222222222,
              "#7201a8"
             ],
             [
              0.3333333333333333,
              "#9c179e"
             ],
             [
              0.4444444444444444,
              "#bd3786"
             ],
             [
              0.5555555555555556,
              "#d8576b"
             ],
             [
              0.6666666666666666,
              "#ed7953"
             ],
             [
              0.7777777777777778,
              "#fb9f3a"
             ],
             [
              0.8888888888888888,
              "#fdca26"
             ],
             [
              1,
              "#f0f921"
             ]
            ],
            "type": "contour"
           }
          ],
          "contourcarpet": [
           {
            "colorbar": {
             "outlinewidth": 0,
             "ticks": ""
            },
            "type": "contourcarpet"
           }
          ],
          "heatmap": [
           {
            "colorbar": {
             "outlinewidth": 0,
             "ticks": ""
            },
            "colorscale": [
             [
              0,
              "#0d0887"
             ],
             [
              0.1111111111111111,
              "#46039f"
             ],
             [
              0.2222222222222222,
              "#7201a8"
             ],
             [
              0.3333333333333333,
              "#9c179e"
             ],
             [
              0.4444444444444444,
              "#bd3786"
             ],
             [
              0.5555555555555556,
              "#d8576b"
             ],
             [
              0.6666666666666666,
              "#ed7953"
             ],
             [
              0.7777777777777778,
              "#fb9f3a"
             ],
             [
              0.8888888888888888,
              "#fdca26"
             ],
             [
              1,
              "#f0f921"
             ]
            ],
            "type": "heatmap"
           }
          ],
          "heatmapgl": [
           {
            "colorbar": {
             "outlinewidth": 0,
             "ticks": ""
            },
            "colorscale": [
             [
              0,
              "#0d0887"
             ],
             [
              0.1111111111111111,
              "#46039f"
             ],
             [
              0.2222222222222222,
              "#7201a8"
             ],
             [
              0.3333333333333333,
              "#9c179e"
             ],
             [
              0.4444444444444444,
              "#bd3786"
             ],
             [
              0.5555555555555556,
              "#d8576b"
             ],
             [
              0.6666666666666666,
              "#ed7953"
             ],
             [
              0.7777777777777778,
              "#fb9f3a"
             ],
             [
              0.8888888888888888,
              "#fdca26"
             ],
             [
              1,
              "#f0f921"
             ]
            ],
            "type": "heatmapgl"
           }
          ],
          "histogram": [
           {
            "marker": {
             "colorbar": {
              "outlinewidth": 0,
              "ticks": ""
             }
            },
            "type": "histogram"
           }
          ],
          "histogram2d": [
           {
            "colorbar": {
             "outlinewidth": 0,
             "ticks": ""
            },
            "colorscale": [
             [
              0,
              "#0d0887"
             ],
             [
              0.1111111111111111,
              "#46039f"
             ],
             [
              0.2222222222222222,
              "#7201a8"
             ],
             [
              0.3333333333333333,
              "#9c179e"
             ],
             [
              0.4444444444444444,
              "#bd3786"
             ],
             [
              0.5555555555555556,
              "#d8576b"
             ],
             [
              0.6666666666666666,
              "#ed7953"
             ],
             [
              0.7777777777777778,
              "#fb9f3a"
             ],
             [
              0.8888888888888888,
              "#fdca26"
             ],
             [
              1,
              "#f0f921"
             ]
            ],
            "type": "histogram2d"
           }
          ],
          "histogram2dcontour": [
           {
            "colorbar": {
             "outlinewidth": 0,
             "ticks": ""
            },
            "colorscale": [
             [
              0,
              "#0d0887"
             ],
             [
              0.1111111111111111,
              "#46039f"
             ],
             [
              0.2222222222222222,
              "#7201a8"
             ],
             [
              0.3333333333333333,
              "#9c179e"
             ],
             [
              0.4444444444444444,
              "#bd3786"
             ],
             [
              0.5555555555555556,
              "#d8576b"
             ],
             [
              0.6666666666666666,
              "#ed7953"
             ],
             [
              0.7777777777777778,
              "#fb9f3a"
             ],
             [
              0.8888888888888888,
              "#fdca26"
             ],
             [
              1,
              "#f0f921"
             ]
            ],
            "type": "histogram2dcontour"
           }
          ],
          "mesh3d": [
           {
            "colorbar": {
             "outlinewidth": 0,
             "ticks": ""
            },
            "type": "mesh3d"
           }
          ],
          "parcoords": [
           {
            "line": {
             "colorbar": {
              "outlinewidth": 0,
              "ticks": ""
             }
            },
            "type": "parcoords"
           }
          ],
          "scatter": [
           {
            "marker": {
             "colorbar": {
              "outlinewidth": 0,
              "ticks": ""
             }
            },
            "type": "scatter"
           }
          ],
          "scatter3d": [
           {
            "line": {
             "colorbar": {
              "outlinewidth": 0,
              "ticks": ""
             }
            },
            "marker": {
             "colorbar": {
              "outlinewidth": 0,
              "ticks": ""
             }
            },
            "type": "scatter3d"
           }
          ],
          "scattercarpet": [
           {
            "marker": {
             "colorbar": {
              "outlinewidth": 0,
              "ticks": ""
             }
            },
            "type": "scattercarpet"
           }
          ],
          "scattergeo": [
           {
            "marker": {
             "colorbar": {
              "outlinewidth": 0,
              "ticks": ""
             }
            },
            "type": "scattergeo"
           }
          ],
          "scattergl": [
           {
            "marker": {
             "colorbar": {
              "outlinewidth": 0,
              "ticks": ""
             }
            },
            "type": "scattergl"
           }
          ],
          "scattermapbox": [
           {
            "marker": {
             "colorbar": {
              "outlinewidth": 0,
              "ticks": ""
             }
            },
            "type": "scattermapbox"
           }
          ],
          "scatterpolar": [
           {
            "marker": {
             "colorbar": {
              "outlinewidth": 0,
              "ticks": ""
             }
            },
            "type": "scatterpolar"
           }
          ],
          "scatterpolargl": [
           {
            "marker": {
             "colorbar": {
              "outlinewidth": 0,
              "ticks": ""
             }
            },
            "type": "scatterpolargl"
           }
          ],
          "scatterternary": [
           {
            "marker": {
             "colorbar": {
              "outlinewidth": 0,
              "ticks": ""
             }
            },
            "type": "scatterternary"
           }
          ],
          "surface": [
           {
            "colorbar": {
             "outlinewidth": 0,
             "ticks": ""
            },
            "colorscale": [
             [
              0,
              "#0d0887"
             ],
             [
              0.1111111111111111,
              "#46039f"
             ],
             [
              0.2222222222222222,
              "#7201a8"
             ],
             [
              0.3333333333333333,
              "#9c179e"
             ],
             [
              0.4444444444444444,
              "#bd3786"
             ],
             [
              0.5555555555555556,
              "#d8576b"
             ],
             [
              0.6666666666666666,
              "#ed7953"
             ],
             [
              0.7777777777777778,
              "#fb9f3a"
             ],
             [
              0.8888888888888888,
              "#fdca26"
             ],
             [
              1,
              "#f0f921"
             ]
            ],
            "type": "surface"
           }
          ],
          "table": [
           {
            "cells": {
             "fill": {
              "color": "#EBF0F8"
             },
             "line": {
              "color": "white"
             }
            },
            "header": {
             "fill": {
              "color": "#C8D4E3"
             },
             "line": {
              "color": "white"
             }
            },
            "type": "table"
           }
          ]
         },
         "layout": {
          "annotationdefaults": {
           "arrowcolor": "#2a3f5f",
           "arrowhead": 0,
           "arrowwidth": 1
          },
          "colorscale": {
           "diverging": [
            [
             0,
             "#8e0152"
            ],
            [
             0.1,
             "#c51b7d"
            ],
            [
             0.2,
             "#de77ae"
            ],
            [
             0.3,
             "#f1b6da"
            ],
            [
             0.4,
             "#fde0ef"
            ],
            [
             0.5,
             "#f7f7f7"
            ],
            [
             0.6,
             "#e6f5d0"
            ],
            [
             0.7,
             "#b8e186"
            ],
            [
             0.8,
             "#7fbc41"
            ],
            [
             0.9,
             "#4d9221"
            ],
            [
             1,
             "#276419"
            ]
           ],
           "sequential": [
            [
             0,
             "#0d0887"
            ],
            [
             0.1111111111111111,
             "#46039f"
            ],
            [
             0.2222222222222222,
             "#7201a8"
            ],
            [
             0.3333333333333333,
             "#9c179e"
            ],
            [
             0.4444444444444444,
             "#bd3786"
            ],
            [
             0.5555555555555556,
             "#d8576b"
            ],
            [
             0.6666666666666666,
             "#ed7953"
            ],
            [
             0.7777777777777778,
             "#fb9f3a"
            ],
            [
             0.8888888888888888,
             "#fdca26"
            ],
            [
             1,
             "#f0f921"
            ]
           ],
           "sequentialminus": [
            [
             0,
             "#0d0887"
            ],
            [
             0.1111111111111111,
             "#46039f"
            ],
            [
             0.2222222222222222,
             "#7201a8"
            ],
            [
             0.3333333333333333,
             "#9c179e"
            ],
            [
             0.4444444444444444,
             "#bd3786"
            ],
            [
             0.5555555555555556,
             "#d8576b"
            ],
            [
             0.6666666666666666,
             "#ed7953"
            ],
            [
             0.7777777777777778,
             "#fb9f3a"
            ],
            [
             0.8888888888888888,
             "#fdca26"
            ],
            [
             1,
             "#f0f921"
            ]
           ]
          },
          "colorway": [
           "#636efa",
           "#EF553B",
           "#00cc96",
           "#ab63fa",
           "#FFA15A",
           "#19d3f3",
           "#FF6692",
           "#B6E880",
           "#FF97FF",
           "#FECB52"
          ],
          "font": {
           "color": "#2a3f5f"
          },
          "geo": {
           "bgcolor": "white",
           "lakecolor": "white",
           "landcolor": "#E5ECF6",
           "showlakes": true,
           "showland": true,
           "subunitcolor": "white"
          },
          "hoverlabel": {
           "align": "left"
          },
          "hovermode": "closest",
          "mapbox": {
           "style": "light"
          },
          "paper_bgcolor": "white",
          "plot_bgcolor": "#E5ECF6",
          "polar": {
           "angularaxis": {
            "gridcolor": "white",
            "linecolor": "white",
            "ticks": ""
           },
           "bgcolor": "#E5ECF6",
           "radialaxis": {
            "gridcolor": "white",
            "linecolor": "white",
            "ticks": ""
           }
          },
          "scene": {
           "xaxis": {
            "backgroundcolor": "#E5ECF6",
            "gridcolor": "white",
            "gridwidth": 2,
            "linecolor": "white",
            "showbackground": true,
            "ticks": "",
            "zerolinecolor": "white"
           },
           "yaxis": {
            "backgroundcolor": "#E5ECF6",
            "gridcolor": "white",
            "gridwidth": 2,
            "linecolor": "white",
            "showbackground": true,
            "ticks": "",
            "zerolinecolor": "white"
           },
           "zaxis": {
            "backgroundcolor": "#E5ECF6",
            "gridcolor": "white",
            "gridwidth": 2,
            "linecolor": "white",
            "showbackground": true,
            "ticks": "",
            "zerolinecolor": "white"
           }
          },
          "shapedefaults": {
           "line": {
            "color": "#2a3f5f"
           }
          },
          "ternary": {
           "aaxis": {
            "gridcolor": "white",
            "linecolor": "white",
            "ticks": ""
           },
           "baxis": {
            "gridcolor": "white",
            "linecolor": "white",
            "ticks": ""
           },
           "bgcolor": "#E5ECF6",
           "caxis": {
            "gridcolor": "white",
            "linecolor": "white",
            "ticks": ""
           }
          },
          "title": {
           "x": 0.05
          },
          "xaxis": {
           "automargin": true,
           "gridcolor": "white",
           "linecolor": "white",
           "ticks": "",
           "zerolinecolor": "white",
           "zerolinewidth": 2
          },
          "yaxis": {
           "automargin": true,
           "gridcolor": "white",
           "linecolor": "white",
           "ticks": "",
           "zerolinecolor": "white",
           "zerolinewidth": 2
          }
         }
        },
        "title": {
         "text": "Comparison of Models in predicting bridges with respect to countyCode"
        },
        "xaxis": {
         "anchor": "y2",
         "domain": [
          0,
          1
         ],
         "zeroline": false
        },
        "yaxis": {
         "anchor": "free",
         "domain": [
          0,
          1
         ],
         "position": 0
        }
       }
      },
      "text/html": [
       "<div>\n",
       "        \n",
       "        \n",
       "            <div id=\"d9dc64c8-cc8b-4090-a6b6-6d8cab7031db\" class=\"plotly-graph-div\" style=\"height:525px; width:100%;\"></div>\n",
       "            <script type=\"text/javascript\">\n",
       "                require([\"plotly\"], function(Plotly) {\n",
       "                    window.PLOTLYENV=window.PLOTLYENV || {};\n",
       "                    \n",
       "                if (document.getElementById(\"d9dc64c8-cc8b-4090-a6b6-6d8cab7031db\")) {\n",
       "                    Plotly.newPlot(\n",
       "                        'd9dc64c8-cc8b-4090-a6b6-6d8cab7031db',\n",
       "                        [{\"autobinx\": false, \"histnorm\": \"probability density\", \"legendgroup\": \"True RandomForest\", \"marker\": {\"color\": \"#A56CC1\"}, \"name\": \"True RandomForest\", \"opacity\": 0.7, \"type\": \"histogram\", \"x\": [9, 19, 19, 21, 25, 25, 37, 37, 39, 43, 47, 49, 81, 81, 81, 95, 95, 95, 107, 107, 109, 109, 133, 133, 147, 147, 157, 157, 157, 165, 111, 85, 179, 111, 41, 181, 53, 55], \"xaxis\": \"x\", \"xbins\": {\"end\": 181.0, \"size\": 0.2, \"start\": 9.0}, \"yaxis\": \"y\"}, {\"autobinx\": false, \"histnorm\": \"probability density\", \"legendgroup\": \"True FlowChart\", \"marker\": {\"color\": \"#A6ACEC\"}, \"name\": \"True FlowChart\", \"opacity\": 0.7, \"type\": \"histogram\", \"x\": [11, 27, 89, 125, 105, 105, 155], \"xaxis\": \"x\", \"xbins\": {\"end\": 155.0, \"size\": 0.2, \"start\": 11.0}, \"yaxis\": \"y\"}, {\"legendgroup\": \"True RandomForest\", \"marker\": {\"color\": \"#A56CC1\"}, \"mode\": \"lines\", \"name\": \"True RandomForest\", \"showlegend\": false, \"type\": \"scatter\", \"x\": [9.0, 9.344, 9.688, 10.032, 10.376, 10.72, 11.064, 11.408, 11.751999999999999, 12.096, 12.44, 12.783999999999999, 13.128, 13.472000000000001, 13.815999999999999, 14.16, 14.504, 14.847999999999999, 15.192, 15.536, 15.879999999999999, 16.224, 16.567999999999998, 16.912, 17.256, 17.6, 17.944000000000003, 18.288, 18.631999999999998, 18.976, 19.32, 19.664, 20.008, 20.352, 20.695999999999998, 21.04, 21.384, 21.728, 22.072, 22.416, 22.759999999999998, 23.104, 23.448, 23.792, 24.136, 24.48, 24.823999999999998, 25.168, 25.512, 25.856, 26.2, 26.544, 26.888, 27.232, 27.576, 27.92, 28.264, 28.608, 28.952, 29.296, 29.64, 29.984, 30.328, 30.672, 31.016, 31.36, 31.704, 32.048, 32.391999999999996, 32.736000000000004, 33.08, 33.424, 33.768, 34.111999999999995, 34.456, 34.8, 35.144, 35.488, 35.832, 36.176, 36.519999999999996, 36.864000000000004, 37.208, 37.552, 37.896, 38.239999999999995, 38.584, 38.928, 39.272, 39.616, 39.96, 40.304, 40.647999999999996, 40.992000000000004, 41.336, 41.68, 42.024, 42.368, 42.712, 43.056, 43.4, 43.744, 44.088, 44.432, 44.776, 45.12, 45.464, 45.808, 46.152, 46.496, 46.84, 47.184, 47.528, 47.872, 48.216, 48.56, 48.904, 49.248, 49.592, 49.936, 50.28, 50.624, 50.968, 51.312, 51.656, 52.0, 52.344, 52.688, 53.032, 53.376, 53.72, 54.064, 54.408, 54.752, 55.096, 55.44, 55.784, 56.128, 56.472, 56.816, 57.16, 57.504, 57.848, 58.192, 58.536, 58.88, 59.224, 59.568, 59.912, 60.256, 60.6, 60.944, 61.288, 61.632, 61.976, 62.32, 62.664, 63.008, 63.352, 63.696, 64.03999999999999, 64.384, 64.72800000000001, 65.072, 65.416, 65.75999999999999, 66.104, 66.44800000000001, 66.792, 67.136, 67.47999999999999, 67.824, 68.168, 68.512, 68.856, 69.2, 69.544, 69.888, 70.232, 70.576, 70.92, 71.26400000000001, 71.608, 71.952, 72.29599999999999, 72.64, 72.98400000000001, 73.328, 73.672, 74.016, 74.36, 74.704, 75.048, 75.392, 75.736, 76.08, 76.424, 76.768, 77.112, 77.456, 77.8, 78.144, 78.488, 78.832, 79.176, 79.52, 79.864, 80.208, 80.552, 80.896, 81.24, 81.584, 81.928, 82.272, 82.616, 82.96, 83.304, 83.648, 83.992, 84.336, 84.68, 85.024, 85.368, 85.712, 86.056, 86.4, 86.744, 87.088, 87.432, 87.776, 88.12, 88.464, 88.808, 89.152, 89.496, 89.84, 90.184, 90.528, 90.872, 91.216, 91.56, 91.904, 92.248, 92.592, 92.936, 93.28, 93.624, 93.968, 94.312, 94.656, 95.0, 95.344, 95.688, 96.032, 96.376, 96.72, 97.064, 97.408, 97.752, 98.096, 98.44, 98.784, 99.128, 99.472, 99.816, 100.16, 100.504, 100.848, 101.192, 101.536, 101.88, 102.224, 102.568, 102.912, 103.256, 103.6, 103.944, 104.288, 104.632, 104.976, 105.32, 105.664, 106.008, 106.352, 106.696, 107.04, 107.384, 107.728, 108.072, 108.416, 108.76, 109.104, 109.448, 109.792, 110.136, 110.48, 110.824, 111.168, 111.512, 111.856, 112.2, 112.544, 112.888, 113.232, 113.576, 113.92, 114.264, 114.608, 114.952, 115.296, 115.64, 115.984, 116.328, 116.672, 117.016, 117.36, 117.704, 118.048, 118.392, 118.736, 119.08, 119.424, 119.768, 120.112, 120.456, 120.8, 121.144, 121.488, 121.832, 122.176, 122.52, 122.864, 123.208, 123.552, 123.896, 124.24, 124.584, 124.928, 125.272, 125.616, 125.96, 126.304, 126.648, 126.992, 127.336, 127.68, 128.024, 128.368, 128.712, 129.05599999999998, 129.4, 129.744, 130.088, 130.43200000000002, 130.776, 131.12, 131.464, 131.808, 132.152, 132.49599999999998, 132.84, 133.184, 133.52800000000002, 133.872, 134.216, 134.56, 134.904, 135.248, 135.59199999999998, 135.936, 136.28, 136.624, 136.96800000000002, 137.312, 137.656, 138.0, 138.344, 138.688, 139.032, 139.376, 139.72, 140.064, 140.408, 140.752, 141.096, 141.44, 141.784, 142.128, 142.472, 142.816, 143.16, 143.504, 143.848, 144.192, 144.536, 144.88, 145.224, 145.568, 145.912, 146.256, 146.6, 146.944, 147.288, 147.632, 147.976, 148.32, 148.664, 149.008, 149.352, 149.696, 150.04, 150.384, 150.728, 151.072, 151.416, 151.76, 152.104, 152.448, 152.792, 153.136, 153.48, 153.824, 154.168, 154.512, 154.856, 155.2, 155.544, 155.888, 156.232, 156.576, 156.92, 157.264, 157.608, 157.952, 158.296, 158.64, 158.984, 159.328, 159.672, 160.016, 160.36, 160.704, 161.048, 161.392, 161.736, 162.08, 162.424, 162.768, 163.112, 163.456, 163.8, 164.144, 164.488, 164.832, 165.176, 165.52, 165.864, 166.208, 166.552, 166.896, 167.24, 167.584, 167.928, 168.272, 168.616, 168.96, 169.304, 169.648, 169.992, 170.336, 170.68, 171.024, 171.368, 171.712, 172.056, 172.4, 172.744, 173.088, 173.432, 173.776, 174.12, 174.464, 174.808, 175.152, 175.496, 175.84, 176.184, 176.528, 176.872, 177.216, 177.56, 177.904, 178.248, 178.592, 178.936, 179.28, 179.624, 179.968, 180.312, 180.656], \"xaxis\": \"x\", \"y\": [0.0037064357097809824, 0.0037471396126840667, 0.0037877703756951414, 0.0038283171968316477, 0.0038687692428270148, 0.003909115655453535, 0.003949345557923619, 0.003989448061365072, 0.004029412271365829, 0.004069227294583577, 0.0041088822454155806, 0.004148366252723874, 0.004187668466610943, 0.004226778065240923, 0.004265684261701195, 0.004304376310899272, 0.004342843516489707, 0.004381075237825707, 0.004419060896930064, 0.004456789985479928, 0.004494252071799933, 0.0045314368078580546, 0.004568333936258517, 0.00460493329722616, 0.0046412248355763444, 0.004677198607664782, 0.004712844788311316, 0.004748153677691824, 0.00478311570819234, 0.004817721451219456, 0.004851961623961057, 0.00488582709609136, 0.00491930889641434, 0.004952398219439535, 0.004985086431884133, 0.005017365079095505, 0.005049225891388065, 0.005080660790288491, 0.005111661894683462, 0.005142221526863789, 0.005172332218459205, 0.005201986716257849, 0.005231177987904581, 0.005259899227472452, 0.0052881438609015, 0.005315905551299176, 0.005343178204096899, 0.00536995597205704, 0.005396233260124991, 0.005422004730120839, 0.005447265305265371, 0.0054720101745352155, 0.0054962347968419475, 0.00551993490503019, 0.005543106509689827, 0.005565745902777468, 0.005587849661042575, 0.005609414649253698, 0.005630438023220388, 0.005650917232606595, 0.005670850023531349, 0.005690234440952868, 0.005709068830832203, 0.005727351842072815, 0.005745082428232681, 0.00576225984900551, 0.005778883671468052, 0.005794953771090601, 0.005810470332507833, 0.005825433850047617, 0.005839845128015297, 0.0058537052807314935, 0.005867015732321353, 0.005879778216253679, 0.005891994774628391, 0.005903667757211141, 0.005914799820214009, 0.00592539392482152, 0.005935453335461493, 0.0059449816178203385, 0.005953982636602831, 0.005962460553036514, 0.0059704198221212056, 0.005977865189624293, 0.005984801688822817, 0.005991234636993515, 0.00599716963165234, 0.006002612546545243, 0.006007569527392113, 0.006012046987386281, 0.006016051602452061, 0.0060195903062631555, 0.006022670285024964, 0.006025298972024268, 0.006027484041949668, 0.006029233404986931, 0.006030555200693134, 0.006031457791654158, 0.006031949756930111, 0.006032039885293695, 0.0060317371682665245, 0.006031050792959008, 0.00602999013471931, 0.0060285647495974225, 0.006026784366630392, 0.006024658879955211, 0.006022198340755913, 0.006019412949051743, 0.006016313045333463, 0.006012909102055115, 0.006009211714988631, 0.006005231594449132, 0.006000979556398588, 0.005996466513436151, 0.005991703465683169, 0.00598670149157147, 0.005981471738543391, 0.005976025413672328, 0.005970373774212659, 0.005964528118088036, 0.0059584997743272194, 0.005952300093456638, 0.005945940437859057, 0.005939432172107823, 0.005932786653286141, 0.005926015221301035, 0.005919129189201651, 0.0059121398335115856, 0.005905058384585017, 0.005897896016996371, 0.0058906638399733625, 0.0058833728878831945, 0.005876034110781652, 0.005868658365034939, 0.0058612564040239285, 0.005853838868940519, 0.005846416279685778, 0.00583899902587939, 0.005831597357989876, 0.005824221378595056, 0.005816881033781931, 0.005809586104695238, 0.0058023461992436675, 0.00579517074397265, 0.005788068976112482, 0.005781049935810314, 0.005774122458554472, 0.0057672951677992515, 0.005760576467798324, 0.0057539745366544, 0.005747497319592885, 0.005741152522466822, 0.005734947605500247, 0.005728889777276857, 0.005722985988980541, 0.005717242928894227, 0.005711667017163, 0.005706264400827315, 0.005701040949131864, 0.005696002249115168, 0.005691153601484847, 0.005686500016783145, 0.005682046211846864, 0.005677796606565761, 0.0056737553209428365, 0.005669926172459892, 0.005666312673751128, 0.005662918030587474, 0.005659745140173699, 0.005656796589760259, 0.005654074655571303, 0.005651581302049997, 0.005649318181421889, 0.0056472866335767315, 0.005645487686268817, 0.005643922055635417, 0.005642590147032711, 0.005641492056188062, 0.005640627570667263, 0.005639996171654933, 0.00563959703604587, 0.00563942903884496, 0.005639490755872612, 0.005639780466772643, 0.005640296158318923, 0.005641035528016945, 0.005641995987996027, 0.005643174669187558, 0.0056445684257843305, 0.005646173839975809, 0.005647987226953676, 0.005650004640181811, 0.005652221876924588, 0.005654634484026913, 0.005657237763939354, 0.00566002678098124, 0.005662996367834498, 0.005666141132260595, 0.00566945546403282, 0.005672933542075809, 0.005676569341804042, 0.005680356642650787, 0.005684289035778768, 0.005688359931963641, 0.005692562569641124, 0.005696890023108557, 0.00570133521087134, 0.005705890904124708, 0.005710549735361049, 0.005715304207092854, 0.005720146700681342, 0.0057250694852605585, 0.005730064726746822, 0.0057351244969231436, 0.005740240782588281, 0.005745405494760022, 0.005750610477922179, 0.00575584751930481, 0.005761108358187158, 0.005766384695212726, 0.0057716682017060345, 0.005776950528980448, 0.005782223317626688, 0.005787478206771546, 0.005792706843296365, 0.0057979008910051125, 0.005803052039731617, 0.0058081520143759904, 0.005813192583860095, 0.005818165569992144, 0.005823062856230644, 0.005827876396338024, 0.005832598222914401, 0.005837220455802149, 0.0058417353103521, 0.005846135105542321, 0.0058504122719407374, 0.005854559359502898, 0.005858569045196561, 0.005862434140444908, 0.00586614759838038, 0.00586970252090152, 0.005873092165525338, 0.0058763099520279145, 0.005879349468866462, 0.005882204479376042, 0.005884868927734639, 0.005887336944690456, 0.005889602853045664, 0.005891661172891079, 0.0058935066265866035, 0.0058951341434824904, 0.005896538864376989, 0.005897716145705975, 0.0058986615634608105, 0.005899370916830716, 0.005899840231566508, 0.005900065763062769, 0.0059000439991558325, 0.005899771662635454, 0.005899245713468205, 0.005898463350731129, 0.0058974220142544494, 0.005896119385972478, 0.005894553390982339, 0.005892722198310255, 0.0058906242213857245, 0.0058882581182241, 0.0058856227913185516, 0.005882717387242588, 0.0058795412959648605, 0.005876094149878126, 0.005872375822544691, 0.00586838642716098, 0.005864126314744173, 0.005859596072044203, 0.005854796519184748, 0.005849728707037153, 0.005844393914331491, 0.005838793644509377, 0.00583292962232336, 0.005826803790188033, 0.0058204183042883635, 0.0058137755304508865, 0.0058068780397838495, 0.00579972860409249, 0.005792330191076018, 0.00578468595931309, 0.0057767992530427205, 0.00576867359674797, 0.005760312689549768, 0.005751720399418673, 0.0057429007572123185, 0.005733857950546766, 0.005724596317509868, 0.005715120340225196, 0.005705434638275046, 0.005695543961991276, 0.005685453185622857, 0.005675167300389142, 0.005664691407427913, 0.005654030710647524, 0.0056431905094923235, 0.005632176191630832, 0.005620993225576077, 0.005609647153247613, 0.0055981435824847565, 0.005586488179520588, 0.005574686661426365, 0.005562744788535879, 0.005550668356859392, 0.0055384631904966475, 0.005526135134058569, 0.005513690045107049, 0.005501133786622309, 0.005488472219507147, 0.005475711195137353, 0.005462856547967485, 0.005449914088201037, 0.005436889594533986, 0.005423788806980513, 0.0054106174197895655, 0.005397381074460837, 0.005384085352868453, 0.005370735770500609, 0.00535733776982315, 0.00534389671377484, 0.005330417879402055, 0.005316906451640109, 0.005303367517248552, 0.00528980605890726, 0.005276226949480038, 0.005262634946452194, 0.005249034686548251, 0.0052354306805357095, 0.005221827308220539, 0.005208228813639748, 0.005194639300456096, 0.005181062727559793, 0.005167502904881647, 0.005153963489421876, 0.005140447981498464, 0.005126959721218672, 0.005113501885176928, 0.005100077483382124, 0.005086689356416875, 0.005073340172831149, 0.005060032426772151, 0.005046768435852255, 0.005033550339256245, 0.00502038009608892, 0.0050072594839637675, 0.004994190097833076, 0.004981173349059508, 0.004968210464728981, 0.0049553024872040965, 0.004942450273917387, 0.004929654497403058, 0.004916915645565773, 0.004904234022184594, 0.004891609747650029, 0.004879042759931691, 0.00486653281577389, 0.004854079492116192, 0.0048416821877356065, 0.004829340125106907, 0.00481705235247726, 0.004804817746151086, 0.004792635012980826, 0.004780502693059083, 0.004768419162607308, 0.004756382637056012, 0.0047443911743112995, 0.00473244267820221, 0.004720534902103309, 0.004708665452726589, 0.004696831794076775, 0.0046850312515637465, 0.004673261016265817, 0.004661518149337327, 0.004649799586553933, 0.004638102142988834, 0.004626422517813077, 0.004614757299212915, 0.004603102969417184, 0.00459145590982752, 0.004579812406244152, 0.004568168654180035, 0.004556520764255879, 0.004544864767668814, 0.004533196621727095, 0.004521512215443583, 0.004509807375180421, 0.004498077870337531, 0.004486319419077464, 0.004474527694079198, 0.0044626983283135285, 0.0044508269208326685, 0.004438909042566845, 0.004426940242120609, 0.0044149160515617614, 0.004402831992195806, 0.004390683580318972, 0.004378466332942966, 0.004366175773484597, 0.004353807437413751, 0.004341356877853122, 0.004328819671123312, 0.004316191422227113, 0.004303467770266796, 0.0042906443937885215, 0.004277717016048062, 0.004264681410192236, 0.0042515334043505834, 0.004238268886632048, 0.004224883810021564, 0.004211374197171673, 0.004197736145084438, 0.004183965829679187, 0.00417005951024175, 0.0041560135337511085, 0.00414182433907955, 0.004127488461062656, 0.004113002534435623, 0.004098363297632684, 0.004083567596446564, 0.004068612387545146, 0.004053494741842717, 0.0040382118477234295, 0.004022761014114758, 0.004007139673409001, 0.003991345384231095, 0.00397537583405119, 0.003959228841640653, 0.003942902359370434, 0.003926394475350861, 0.003909703415412188, 0.0038928275449254266, 0.0038757653704631616, 0.0038585155413002853, 0.003841076850754777, 0.003823448237368826, 0.0038056287859308097, 0.0037876177283388164, 0.003769414444306592, 0.0037510184619129385, 0.0037324294579958363, 0.0037136472583926064, 0.0036946718380277493, 0.0036755033208501213, 0.0036561419796213492, 0.0036365882355574738, 0.003616842657826007, 0.0035969059629006876, 0.0035767790137763746, 0.0035564628190466194, 0.0035359585318466323, 0.0035152674486643694, 0.0034943910080227234, 0.0034733307890357557, 0.003452088509842114, 0.0034306660259188068, 0.003409065328278626, 0.003387288541554569, 0.003365337921974706, 0.003343215855230985, 0.003320924854245518, 0.00329846755683802, 0.0032758467232980107, 0.0032530652338655383, 0.003230126086124166, 0.0032070323923099877, 0.0031837873765405275, 0.0031603943719673484, 0.003136856817856205, 0.0031131782565986536, 0.003089362330658965, 0.0030654127794602242, 0.0030413334362135286, 0.003017128224694113, 0.002992801155968305, 0.0029683563250751197, 0.002943797907666348, 0.002919130156608947, 0.0028943573985534704, 0.002869484030472341, 0.0028445145161716126, 0.002819453382779938, 0.0027943052172183652, 0.0027690746626545214, 0.00274376641494474, 0.0027183852190676176, 0.0026929358655524184, 0.002667423186905707, 0.0026418520540395342, 0.002616227372704391, 0.002590554079930177, 0.0025648371404782683, 0.0025390815433077333, 0.0025132922980587416], \"yaxis\": \"y\"}, {\"legendgroup\": \"True FlowChart\", \"marker\": {\"color\": \"#A6ACEC\"}, \"mode\": \"lines\", \"name\": \"True FlowChart\", \"showlegend\": false, \"type\": \"scatter\", \"x\": [11.0, 11.288, 11.576, 11.864, 12.152, 12.44, 12.728, 13.016, 13.304, 13.592, 13.879999999999999, 14.168, 14.456, 14.744, 15.032, 15.32, 15.608, 15.896, 16.184, 16.472, 16.759999999999998, 17.048000000000002, 17.336, 17.624, 17.912, 18.2, 18.488, 18.776, 19.064, 19.352, 19.64, 19.928, 20.216, 20.503999999999998, 20.792, 21.08, 21.368000000000002, 21.656, 21.944000000000003, 22.232, 22.52, 22.808, 23.096, 23.384, 23.672, 23.96, 24.247999999999998, 24.536, 24.823999999999998, 25.112000000000002, 25.4, 25.688000000000002, 25.976, 26.264, 26.552, 26.84, 27.128, 27.416, 27.704, 27.992, 28.28, 28.568, 28.856, 29.144, 29.432, 29.72, 30.008, 30.296, 30.584, 30.872, 31.16, 31.448, 31.736, 32.024, 32.312, 32.6, 32.888000000000005, 33.176, 33.464, 33.751999999999995, 34.04, 34.328, 34.616, 34.903999999999996, 35.192, 35.480000000000004, 35.768, 36.056, 36.344, 36.632000000000005, 36.92, 37.208, 37.495999999999995, 37.784, 38.072, 38.36, 38.647999999999996, 38.936, 39.224000000000004, 39.512, 39.8, 40.088, 40.376000000000005, 40.664, 40.952, 41.239999999999995, 41.528, 41.816, 42.104, 42.391999999999996, 42.68, 42.968, 43.256, 43.544, 43.832, 44.12, 44.408, 44.696, 44.984, 45.272, 45.56, 45.848, 46.136, 46.424, 46.712, 47.0, 47.288, 47.576, 47.864, 48.152, 48.44, 48.728, 49.016, 49.304, 49.592, 49.88, 50.168, 50.456, 50.744, 51.032, 51.32, 51.608, 51.896, 52.184, 52.472, 52.76, 53.048, 53.336, 53.624, 53.912, 54.2, 54.488, 54.776, 55.064, 55.352, 55.64, 55.928, 56.216, 56.504, 56.792, 57.08, 57.368, 57.656, 57.944, 58.232, 58.52, 58.808, 59.096, 59.384, 59.672, 59.96, 60.248, 60.536, 60.824, 61.112, 61.4, 61.688, 61.976, 62.264, 62.552, 62.84, 63.128, 63.416, 63.704, 63.992, 64.28, 64.568, 64.856, 65.144, 65.432, 65.72, 66.00800000000001, 66.29599999999999, 66.584, 66.872, 67.16, 67.44800000000001, 67.73599999999999, 68.024, 68.312, 68.6, 68.888, 69.176, 69.464, 69.75200000000001, 70.03999999999999, 70.328, 70.616, 70.904, 71.19200000000001, 71.47999999999999, 71.768, 72.056, 72.344, 72.632, 72.92, 73.208, 73.49600000000001, 73.78399999999999, 74.072, 74.36, 74.648, 74.936, 75.224, 75.512, 75.8, 76.088, 76.376, 76.664, 76.952, 77.24, 77.528, 77.816, 78.104, 78.392, 78.68, 78.968, 79.256, 79.544, 79.832, 80.12, 80.408, 80.696, 80.984, 81.272, 81.56, 81.848, 82.136, 82.424, 82.712, 83.0, 83.288, 83.576, 83.864, 84.152, 84.44, 84.728, 85.016, 85.304, 85.592, 85.88, 86.168, 86.456, 86.744, 87.032, 87.32, 87.608, 87.896, 88.184, 88.472, 88.76, 89.048, 89.336, 89.624, 89.912, 90.2, 90.488, 90.776, 91.064, 91.352, 91.64, 91.928, 92.216, 92.504, 92.792, 93.08, 93.368, 93.656, 93.944, 94.232, 94.52, 94.808, 95.096, 95.384, 95.672, 95.96, 96.248, 96.536, 96.824, 97.112, 97.4, 97.688, 97.976, 98.264, 98.552, 98.84, 99.128, 99.416, 99.704, 99.992, 100.28, 100.568, 100.856, 101.144, 101.432, 101.72, 102.008, 102.296, 102.584, 102.872, 103.16, 103.448, 103.736, 104.024, 104.312, 104.6, 104.888, 105.176, 105.464, 105.752, 106.04, 106.328, 106.616, 106.904, 107.192, 107.48, 107.768, 108.056, 108.344, 108.632, 108.92, 109.208, 109.496, 109.784, 110.072, 110.36, 110.648, 110.936, 111.224, 111.512, 111.8, 112.088, 112.376, 112.664, 112.952, 113.24, 113.528, 113.816, 114.104, 114.392, 114.68, 114.968, 115.256, 115.544, 115.832, 116.12, 116.408, 116.696, 116.984, 117.272, 117.56, 117.848, 118.136, 118.424, 118.712, 119.0, 119.288, 119.576, 119.864, 120.152, 120.44, 120.728, 121.016, 121.304, 121.592, 121.88, 122.168, 122.456, 122.744, 123.032, 123.32, 123.608, 123.896, 124.184, 124.472, 124.76, 125.048, 125.336, 125.624, 125.912, 126.2, 126.488, 126.776, 127.064, 127.352, 127.64, 127.928, 128.216, 128.50400000000002, 128.792, 129.07999999999998, 129.368, 129.656, 129.94400000000002, 130.232, 130.51999999999998, 130.808, 131.096, 131.38400000000001, 131.672, 131.95999999999998, 132.248, 132.536, 132.824, 133.112, 133.4, 133.688, 133.976, 134.264, 134.55200000000002, 134.84, 135.128, 135.416, 135.704, 135.99200000000002, 136.28, 136.56799999999998, 136.856, 137.144, 137.43200000000002, 137.72, 138.00799999999998, 138.296, 138.584, 138.872, 139.16, 139.448, 139.736, 140.024, 140.312, 140.6, 140.888, 141.176, 141.464, 141.752, 142.04, 142.328, 142.616, 142.904, 143.192, 143.48, 143.768, 144.056, 144.344, 144.632, 144.92, 145.208, 145.496, 145.784, 146.072, 146.36, 146.648, 146.936, 147.224, 147.512, 147.8, 148.088, 148.376, 148.664, 148.952, 149.24, 149.528, 149.816, 150.104, 150.392, 150.68, 150.968, 151.256, 151.544, 151.832, 152.12, 152.408, 152.696, 152.984, 153.272, 153.56, 153.848, 154.136, 154.424, 154.712], \"xaxis\": \"x\", \"y\": [0.0033238968483786527, 0.0033340339868646505, 0.003344063095947977, 0.003353984211454388, 0.003363797409112044, 0.0033735028047046397, 0.0033831005542096044, 0.003392590853921242, 0.0034019739405586414, 0.0034112500913582567, 0.0034204196241509766, 0.0034294828974235823, 0.003438440310364485, 0.0034472923028935915, 0.0034560393556762226, 0.003464681990120981, 0.0034732207683614426, 0.0034816562932216237, 0.0034899892081651247, 0.0034982201972278706, 0.0035063499849343977, 0.0035143793361976042, 0.003522309056201951, 0.003530139990270006, 0.0035378730237123714, 0.003545509081660888, 0.0035530491288851508, 0.0035604941695922872, 0.003567845247209996, 0.003575103444152867, 0.0035822698815719456, 0.003589345719087609, 0.003596332154505732, 0.003603230423517193, 0.003610041799380764, 0.003616767592589404, 0.0036234091505200432, 0.0036299678570668897, 0.0036364451322583326, 0.0036428424318575357, 0.0036491612469467917, 0.0036554031034957165, 0.0036615695619134055, 0.00366766221658466, 0.0036736826953903574, 0.003679632659212153, 0.003685513801421585, 0.0036913278473537556, 0.0036970765537657096, 0.0037027617082796963, 0.0037083851288114244, 0.0037139486629835378, 0.0037194541875244336, 0.0037249036076526425, 0.0037302988564469437, 0.0037356418942024023, 0.003740934707772569, 0.0037461793098980075, 0.003751377738521408, 0.003756532056089486, 0.0037616443488419048, 0.0037667167260874695, 0.0037717513194678327, 0.0037767502822089564, 0.0037817157883606035, 0.0037866500320241072, 0.003791555226568709, 0.003796433603836733, 0.003801287413337867, 0.0038061189214328665, 0.0038109304105069645, 0.0038157241781332845, 0.0038205025362265605, 0.0038252678101874976, 0.0038300223380380713, 0.003834768469548088, 0.003839508565353356, 0.003844244996065766, 0.0038489801413756556, 0.0038537163891467813, 0.0038584561345042356, 0.0038632017789156812, 0.003867955729266256, 0.0038727203969274875, 0.003877498196820603, 0.0038822915464745977, 0.003887102865079431, 0.0038919345725347064, 0.0038967890884942474, 0.003901668831406937, 0.003906576217554182, 0.00391151366008442, 0.003916483568045045, 0.003921488345412135, 0.003926530390118395, 0.0039316120930796925, 0.003936735837220584, 0.003941903996499268, 0.0039471189349322856, 0.003952383005619466, 0.003957698549769454, 0.003963067895726236, 0.003968493357997103, 0.003973977236282401, 0.003979521814507525, 0.003985129359857529, 0.0039908021218147734, 0.0039965423312000176, 0.004002352199217342, 0.004008233916503344, 0.004014189652180953, 0.004020221552918339, 0.004026331741993248, 0.004032522318363214, 0.004038795355742012, 0.004045152901682788, 0.004051596976668211, 0.004058129573208087, 0.00406475265494479, 0.004071468155766923, 0.00407827797893159, 0.004085183996195634, 0.004092188046956265, 0.004099291937401429, 0.004106497439670278, 0.004113806291024141, 0.004121220193028348, 0.004128740810745246, 0.004136369771938813, 0.0041441086662911755, 0.004151959044631399, 0.004159922418176903, 0.00416800025778782, 0.004176193993234649, 0.004184505012479516, 0.004192934660971391, 0.004201484240955539, 0.004210155010797563, 0.004218948184322312, 0.0042278649301679665, 0.004236906371155599, 0.004246073583674485, 0.00425536759708346, 0.004264789393128605, 0.0042743399053774825, 0.004284020018670254, 0.004293830568587879, 0.004303772340937659, 0.004313846071256384, 0.004324052444331285, 0.004334392093739043, 0.004344865601403053, 0.004355473497169173, 0.004366216258400146, 0.004377094309588888, 0.004388108021990841, 0.004399257713275559, 0.004410543647197703, 0.004421966033287601, 0.00443352502656154, 0.004445220727251909, 0.004457053180557366, 0.004469022376413115, 0.004481128249281458, 0.004493370677962698, 0.004505749485426498, 0.004518264438663814, 0.004530915248559457, 0.004543701569785382, 0.004556623000714748, 0.0045696790833568285, 0.004582869303312807, 0.004596193089752498, 0.004609649815412025, 0.004623238796612483, 0.004636959293299581, 0.004650810509104291, 0.004664791591424465, 0.004678901631527434, 0.004693139664673554, 0.004707504670260654, 0.004721995571989356, 0.00473661123804921, 0.004751350481325583, 0.004766212059627237, 0.00478119467593449, 0.004796296978667922, 0.00481151756197747, 0.004826854966051856, 0.004842307677448189, 0.004857874129441658, 0.004873552702395147, 0.004889341724148654, 0.004905239470428356, 0.004921244165275149, 0.004937353981492525, 0.004953567041113572, 0.004969881415886947, 0.004986295127781613, 0.005002806149510128, 0.0050194124050703, 0.0050361117703049945, 0.0050529020734798175, 0.005069781095878528, 0.005086746572415852, 0.005103796192267515, 0.00512092759951721, 0.005138138393820226, 0.005155426131083503, 0.00517278832416181, 0.005190222443569758, 0.0052077259182094025, 0.005225296136113059, 0.005242930445201115, 0.005260626154054467, 0.005278380532701292, 0.005296190813417833, 0.005314054191542859, 0.005331967826305473, 0.005349928841665932, 0.005367934327169121, 0.005385981338810356, 0.005404066899913136, 0.005422188002018486, 0.005440341605785552, 0.005458524641903059, 0.005476734012011246, 0.005494966589633942, 0.005513219221120347, 0.005531488726596189, 0.005549771900923825, 0.005568065514670915, 0.005586366315087268, 0.005604671027089464, 0.005622976354252849, 0.005641278979810497, 0.005659575567658736, 0.005677862763368829, 0.005696137195204402, 0.0057143954751441945, 0.005732634199909741, 0.00575084995199754, 0.005769039300715318, 0.005787198803221961, 0.005805325005570685, 0.00582341444375505, 0.005841463644757372, 0.005859469127599139, 0.005877427404392977, 0.005895334981395788, 0.005913188360062607, 0.005930984038100779, 0.005948718510524016, 0.005966388270705958, 0.005983989811432768, 0.0060015196259543945, 0.006018974209034065, 0.0060363500579956, 0.006053643673768136, 0.006070851561927883, 0.006087970233736458, 0.006104996207175432, 0.006121926007976682, 0.006138756170648159, 0.00615548323949465, 0.00617210376963318, 0.006188614328002655, 0.0062050114943673455, 0.00622129186231387, 0.0062374520402412635, 0.006253488652343794, 0.0062693983395861255, 0.006285177760670514, 0.006300823592995633, 0.006316332533606706, 0.006331701300136576, 0.006346926631737412, 0.006362005290002653, 0.00637693405987893, 0.006391709750567574, 0.006406329196415445, 0.00642078925779473, 0.006435086821971434, 0.006449218803962235, 0.006463182147379419, 0.006476973825263625, 0.006490590840904088, 0.006504030228646113, 0.006517289054685544, 0.006530364417849907, 0.00654325345036603, 0.006555953318613868, 0.006568461223866272, 0.0065807744030145195, 0.006592890129279339, 0.006604805712907225, 0.006616518501851843, 0.006628025882440295, 0.006639325280024095, 0.006650414159614609, 0.006661290026502848, 0.00667195042686337, 0.006682392948342202, 0.006692615220628565, 0.006702614916010286, 0.006712389749912752, 0.006721937481421286, 0.006731255913786793, 0.006740342894914594, 0.006749196317836315, 0.0067578141211647605, 0.0067661942895316605, 0.006774334854008202, 0.0067822338925083115, 0.006789889530174569, 0.006797299939746748, 0.006804463341912895, 0.006811378005642932, 0.0068180422485047305, 0.00682445443696265, 0.006830612986658518, 0.0068365163626750445, 0.006842163079781665, 0.006847551702662832, 0.006852680846128761, 0.006857549175308661, 0.006862155405826489, 0.006866498303959237, 0.006870576686777851, 0.006874389422270787, 0.006877935429450291, 0.006881213678441485, 0.006884223190554305, 0.006886963038338406, 0.006889432345621108, 0.006891630287528493, 0.006893556090489764, 0.006895209032224951, 0.006896588441716137, 0.006897693699162271, 0.00689852423591776, 0.006899079534414926, 0.00689935912807053, 0.006899362601176467, 0.006899089588774834, 0.006898539776517497, 0.0068977129005103706, 0.00689660874714255, 0.006895227152900503, 0.006893568004167506, 0.006891631237008514, 0.006889416836940667, 0.006886924838689627, 0.006884155325931996, 0.0068811084310239625, 0.0068777843347164564, 0.00687418326585701, 0.0068703055010785495, 0.006866151364475364, 0.006861721227266479, 0.006857015507446677, 0.006852034669425408, 0.006846779223653846, 0.006841249726240328, 0.006835446778554456, 0.00682937102682008, 0.006823023161697463, 0.006816403917854868, 0.006809514073529845, 0.006802354450080474, 0.006794925911526848, 0.006787229364083057, 0.006779265755679969, 0.006771036075479048, 0.006762541353377538, 0.006753782659505231, 0.006744761103713171, 0.00673547783505451, 0.006725934041257838, 0.0067161309481932755, 0.006706069819331577, 0.0066957519551965605, 0.0066851786928111565, 0.006674351405137334, 0.006663271500510188, 0.006651940422066523, 0.006640359647168147, 0.006628530686820224, 0.00661645508508492, 0.006604134418490667, 0.006591570295437281, 0.006578764355597276, 0.006565718269313589, 0.006552433736994037, 0.006538912488502776, 0.006525156282549022, 0.006511166906073333, 0.006496946173631677, 0.006482495926777632, 0.0064678180334429005, 0.006452914387316469, 0.006437786907222634, 0.006422437536498173, 0.0064068682423689205, 0.006391081015325987, 0.006375077868501901, 0.006358860837046873, 0.006342431977505482, 0.0063257933671940015, 0.006308947103578591, 0.006291895303654601, 0.006274640103327241, 0.006257183656793797, 0.006239528135927664, 0.006221675729664382, 0.00620362864338991, 0.006185389098331343, 0.006166959330950295, 0.006148341592339114, 0.00612953814762018, 0.006110551275348432, 0.006091383266917358, 0.006072036425968605, 0.006052513067805401, 0.006032815518809973, 0.006012946115865105, 0.005992907205780076, 0.005972701144721026, 0.0059523302976460446, 0.0059317970377450084, 0.005911103745884421, 0.00589025281005732, 0.005869246624838451, 0.005848087590844811, 0.0058267781142016944, 0.005805320606014378, 0.00578371748184555, 0.005761971161198616, 0.005740084067006986, 0.005718058625129434, 0.005695897263851658, 0.005673602413394098, 0.005651176505426159, 0.005628621972586867, 0.0056059412480120715, 0.005583136764868269, 0.0055602109558931054, 0.005537166252942645, 0.00551400508654544, 0.005490729885463499, 0.005467343076260152, 0.005443847082874913, 0.005420244326205353, 0.005396537223696029, 0.005372728188934506, 0.0053488196312545125, 0.005324813955346205, 0.005300713560873656, 0.005276520842099484, 0.005252238187516688, 0.005227867979487714, 0.005203412593890688, 0.005178874399772903, 0.005154255759011486, 0.005129559025981256, 0.005104786547229804, 0.005079940661159702, 0.005055023697717899, 0.005030037978092226, 0.005004985814415002, 0.0049798695094737345, 0.004954691356428835, 0.004929453638538349, 0.00490415862888966, 0.004878808590138083, 0.004853405774252371, 0.004827952422267028, 0.004802450764041376, 0.004776903018025389, 0.004751311391032138, 0.004725678078016876, 0.0047000052618626454, 0.0046742951131723475, 0.004648549790067256, 0.004622771437991825, 0.0045969621895247895, 0.004571124164196461, 0.004545259468312109, 0.004519370194781424, 0.004493458422953907, 0.004467526218460138, 0.004441575633058878, 0.00441560870448982, 0.004389627456332034, 0.004363633897867898, 0.004337630023952494, 0.004311617814888394, 0.004285599236305678, 0.004259576239047149, 0.004233550759058647], \"yaxis\": \"y\"}],\n",
       "                        {\"barmode\": \"overlay\", \"hovermode\": \"closest\", \"legend\": {\"traceorder\": \"reversed\"}, \"template\": {\"data\": {\"bar\": [{\"error_x\": {\"color\": \"#2a3f5f\"}, \"error_y\": {\"color\": \"#2a3f5f\"}, \"marker\": {\"line\": {\"color\": \"#E5ECF6\", \"width\": 0.5}}, \"type\": \"bar\"}], \"barpolar\": [{\"marker\": {\"line\": {\"color\": \"#E5ECF6\", \"width\": 0.5}}, \"type\": \"barpolar\"}], \"carpet\": [{\"aaxis\": {\"endlinecolor\": \"#2a3f5f\", \"gridcolor\": \"white\", \"linecolor\": \"white\", \"minorgridcolor\": \"white\", \"startlinecolor\": \"#2a3f5f\"}, \"baxis\": {\"endlinecolor\": \"#2a3f5f\", \"gridcolor\": \"white\", \"linecolor\": \"white\", \"minorgridcolor\": \"white\", \"startlinecolor\": \"#2a3f5f\"}, \"type\": \"carpet\"}], \"choropleth\": [{\"colorbar\": {\"outlinewidth\": 0, \"ticks\": \"\"}, \"type\": \"choropleth\"}], \"contour\": [{\"colorbar\": {\"outlinewidth\": 0, \"ticks\": \"\"}, \"colorscale\": [[0.0, \"#0d0887\"], [0.1111111111111111, \"#46039f\"], [0.2222222222222222, \"#7201a8\"], [0.3333333333333333, \"#9c179e\"], [0.4444444444444444, \"#bd3786\"], [0.5555555555555556, \"#d8576b\"], [0.6666666666666666, \"#ed7953\"], [0.7777777777777778, \"#fb9f3a\"], [0.8888888888888888, \"#fdca26\"], [1.0, \"#f0f921\"]], \"type\": \"contour\"}], \"contourcarpet\": [{\"colorbar\": {\"outlinewidth\": 0, \"ticks\": \"\"}, \"type\": \"contourcarpet\"}], \"heatmap\": [{\"colorbar\": {\"outlinewidth\": 0, \"ticks\": \"\"}, \"colorscale\": [[0.0, \"#0d0887\"], [0.1111111111111111, \"#46039f\"], [0.2222222222222222, \"#7201a8\"], [0.3333333333333333, \"#9c179e\"], [0.4444444444444444, \"#bd3786\"], [0.5555555555555556, \"#d8576b\"], [0.6666666666666666, \"#ed7953\"], [0.7777777777777778, \"#fb9f3a\"], [0.8888888888888888, \"#fdca26\"], [1.0, \"#f0f921\"]], \"type\": \"heatmap\"}], \"heatmapgl\": [{\"colorbar\": {\"outlinewidth\": 0, \"ticks\": \"\"}, \"colorscale\": [[0.0, \"#0d0887\"], [0.1111111111111111, \"#46039f\"], [0.2222222222222222, \"#7201a8\"], [0.3333333333333333, \"#9c179e\"], [0.4444444444444444, \"#bd3786\"], [0.5555555555555556, \"#d8576b\"], [0.6666666666666666, \"#ed7953\"], [0.7777777777777778, \"#fb9f3a\"], [0.8888888888888888, \"#fdca26\"], [1.0, \"#f0f921\"]], \"type\": \"heatmapgl\"}], \"histogram\": [{\"marker\": {\"colorbar\": {\"outlinewidth\": 0, \"ticks\": \"\"}}, \"type\": \"histogram\"}], \"histogram2d\": [{\"colorbar\": {\"outlinewidth\": 0, \"ticks\": \"\"}, \"colorscale\": [[0.0, \"#0d0887\"], [0.1111111111111111, \"#46039f\"], [0.2222222222222222, \"#7201a8\"], [0.3333333333333333, \"#9c179e\"], [0.4444444444444444, \"#bd3786\"], [0.5555555555555556, \"#d8576b\"], [0.6666666666666666, \"#ed7953\"], [0.7777777777777778, \"#fb9f3a\"], [0.8888888888888888, \"#fdca26\"], [1.0, \"#f0f921\"]], \"type\": \"histogram2d\"}], \"histogram2dcontour\": [{\"colorbar\": {\"outlinewidth\": 0, \"ticks\": \"\"}, \"colorscale\": [[0.0, \"#0d0887\"], [0.1111111111111111, \"#46039f\"], [0.2222222222222222, \"#7201a8\"], [0.3333333333333333, \"#9c179e\"], [0.4444444444444444, \"#bd3786\"], [0.5555555555555556, \"#d8576b\"], [0.6666666666666666, \"#ed7953\"], [0.7777777777777778, \"#fb9f3a\"], [0.8888888888888888, \"#fdca26\"], [1.0, \"#f0f921\"]], \"type\": \"histogram2dcontour\"}], \"mesh3d\": [{\"colorbar\": {\"outlinewidth\": 0, \"ticks\": \"\"}, \"type\": \"mesh3d\"}], \"parcoords\": [{\"line\": {\"colorbar\": {\"outlinewidth\": 0, \"ticks\": \"\"}}, \"type\": \"parcoords\"}], \"scatter\": [{\"marker\": {\"colorbar\": {\"outlinewidth\": 0, \"ticks\": \"\"}}, \"type\": \"scatter\"}], \"scatter3d\": [{\"line\": {\"colorbar\": {\"outlinewidth\": 0, \"ticks\": \"\"}}, \"marker\": {\"colorbar\": {\"outlinewidth\": 0, \"ticks\": \"\"}}, \"type\": \"scatter3d\"}], \"scattercarpet\": [{\"marker\": {\"colorbar\": {\"outlinewidth\": 0, \"ticks\": \"\"}}, \"type\": \"scattercarpet\"}], \"scattergeo\": [{\"marker\": {\"colorbar\": {\"outlinewidth\": 0, \"ticks\": \"\"}}, \"type\": \"scattergeo\"}], \"scattergl\": [{\"marker\": {\"colorbar\": {\"outlinewidth\": 0, \"ticks\": \"\"}}, \"type\": \"scattergl\"}], \"scattermapbox\": [{\"marker\": {\"colorbar\": {\"outlinewidth\": 0, \"ticks\": \"\"}}, \"type\": \"scattermapbox\"}], \"scatterpolar\": [{\"marker\": {\"colorbar\": {\"outlinewidth\": 0, \"ticks\": \"\"}}, \"type\": \"scatterpolar\"}], \"scatterpolargl\": [{\"marker\": {\"colorbar\": {\"outlinewidth\": 0, \"ticks\": \"\"}}, \"type\": \"scatterpolargl\"}], \"scatterternary\": [{\"marker\": {\"colorbar\": {\"outlinewidth\": 0, \"ticks\": \"\"}}, \"type\": \"scatterternary\"}], \"surface\": [{\"colorbar\": {\"outlinewidth\": 0, \"ticks\": \"\"}, \"colorscale\": [[0.0, \"#0d0887\"], [0.1111111111111111, \"#46039f\"], [0.2222222222222222, \"#7201a8\"], [0.3333333333333333, \"#9c179e\"], [0.4444444444444444, \"#bd3786\"], [0.5555555555555556, \"#d8576b\"], [0.6666666666666666, \"#ed7953\"], [0.7777777777777778, \"#fb9f3a\"], [0.8888888888888888, \"#fdca26\"], [1.0, \"#f0f921\"]], \"type\": \"surface\"}], \"table\": [{\"cells\": {\"fill\": {\"color\": \"#EBF0F8\"}, \"line\": {\"color\": \"white\"}}, \"header\": {\"fill\": {\"color\": \"#C8D4E3\"}, \"line\": {\"color\": \"white\"}}, \"type\": \"table\"}]}, \"layout\": {\"annotationdefaults\": {\"arrowcolor\": \"#2a3f5f\", \"arrowhead\": 0, \"arrowwidth\": 1}, \"colorscale\": {\"diverging\": [[0, \"#8e0152\"], [0.1, \"#c51b7d\"], [0.2, \"#de77ae\"], [0.3, \"#f1b6da\"], [0.4, \"#fde0ef\"], [0.5, \"#f7f7f7\"], [0.6, \"#e6f5d0\"], [0.7, \"#b8e186\"], [0.8, \"#7fbc41\"], [0.9, \"#4d9221\"], [1, \"#276419\"]], \"sequential\": [[0.0, \"#0d0887\"], [0.1111111111111111, \"#46039f\"], [0.2222222222222222, \"#7201a8\"], [0.3333333333333333, \"#9c179e\"], [0.4444444444444444, \"#bd3786\"], [0.5555555555555556, \"#d8576b\"], [0.6666666666666666, \"#ed7953\"], [0.7777777777777778, \"#fb9f3a\"], [0.8888888888888888, \"#fdca26\"], [1.0, \"#f0f921\"]], \"sequentialminus\": [[0.0, \"#0d0887\"], [0.1111111111111111, \"#46039f\"], [0.2222222222222222, \"#7201a8\"], [0.3333333333333333, \"#9c179e\"], [0.4444444444444444, \"#bd3786\"], [0.5555555555555556, \"#d8576b\"], [0.6666666666666666, \"#ed7953\"], [0.7777777777777778, \"#fb9f3a\"], [0.8888888888888888, \"#fdca26\"], [1.0, \"#f0f921\"]]}, \"colorway\": [\"#636efa\", \"#EF553B\", \"#00cc96\", \"#ab63fa\", \"#FFA15A\", \"#19d3f3\", \"#FF6692\", \"#B6E880\", \"#FF97FF\", \"#FECB52\"], \"font\": {\"color\": \"#2a3f5f\"}, \"geo\": {\"bgcolor\": \"white\", \"lakecolor\": \"white\", \"landcolor\": \"#E5ECF6\", \"showlakes\": true, \"showland\": true, \"subunitcolor\": \"white\"}, \"hoverlabel\": {\"align\": \"left\"}, \"hovermode\": \"closest\", \"mapbox\": {\"style\": \"light\"}, \"paper_bgcolor\": \"white\", \"plot_bgcolor\": \"#E5ECF6\", \"polar\": {\"angularaxis\": {\"gridcolor\": \"white\", \"linecolor\": \"white\", \"ticks\": \"\"}, \"bgcolor\": \"#E5ECF6\", \"radialaxis\": {\"gridcolor\": \"white\", \"linecolor\": \"white\", \"ticks\": \"\"}}, \"scene\": {\"xaxis\": {\"backgroundcolor\": \"#E5ECF6\", \"gridcolor\": \"white\", \"gridwidth\": 2, \"linecolor\": \"white\", \"showbackground\": true, \"ticks\": \"\", \"zerolinecolor\": \"white\"}, \"yaxis\": {\"backgroundcolor\": \"#E5ECF6\", \"gridcolor\": \"white\", \"gridwidth\": 2, \"linecolor\": \"white\", \"showbackground\": true, \"ticks\": \"\", \"zerolinecolor\": \"white\"}, \"zaxis\": {\"backgroundcolor\": \"#E5ECF6\", \"gridcolor\": \"white\", \"gridwidth\": 2, \"linecolor\": \"white\", \"showbackground\": true, \"ticks\": \"\", \"zerolinecolor\": \"white\"}}, \"shapedefaults\": {\"line\": {\"color\": \"#2a3f5f\"}}, \"ternary\": {\"aaxis\": {\"gridcolor\": \"white\", \"linecolor\": \"white\", \"ticks\": \"\"}, \"baxis\": {\"gridcolor\": \"white\", \"linecolor\": \"white\", \"ticks\": \"\"}, \"bgcolor\": \"#E5ECF6\", \"caxis\": {\"gridcolor\": \"white\", \"linecolor\": \"white\", \"ticks\": \"\"}}, \"title\": {\"x\": 0.05}, \"xaxis\": {\"automargin\": true, \"gridcolor\": \"white\", \"linecolor\": \"white\", \"ticks\": \"\", \"zerolinecolor\": \"white\", \"zerolinewidth\": 2}, \"yaxis\": {\"automargin\": true, \"gridcolor\": \"white\", \"linecolor\": \"white\", \"ticks\": \"\", \"zerolinecolor\": \"white\", \"zerolinewidth\": 2}}}, \"title\": {\"text\": \"Comparison of Models in predicting bridges with respect to countyCode\"}, \"xaxis\": {\"anchor\": \"y2\", \"domain\": [0.0, 1.0], \"zeroline\": false}, \"yaxis\": {\"anchor\": \"free\", \"domain\": [0.0, 1], \"position\": 0.0}},\n",
       "                        {\"responsive\": true}\n",
       "                    ).then(function(){\n",
       "                            \n",
       "var gd = document.getElementById('d9dc64c8-cc8b-4090-a6b6-6d8cab7031db');\n",
       "var x = new MutationObserver(function (mutations, observer) {{\n",
       "        var display = window.getComputedStyle(gd).display;\n",
       "        if (!display || display === 'none') {{\n",
       "            console.log([gd, 'removed!']);\n",
       "            Plotly.purge(gd);\n",
       "            observer.disconnect();\n",
       "        }}\n",
       "}});\n",
       "\n",
       "// Listen for the removal of the full notebook cells\n",
       "var notebookContainer = gd.closest('#notebook-container');\n",
       "if (notebookContainer) {{\n",
       "    x.observe(notebookContainer, {childList: true});\n",
       "}}\n",
       "\n",
       "// Listen for the clearing of the current output cell\n",
       "var outputEl = gd.closest('.output');\n",
       "if (outputEl) {{\n",
       "    x.observe(outputEl, {childList: true});\n",
       "}}\n",
       "\n",
       "                        })\n",
       "                };\n",
       "                });\n",
       "            </script>\n",
       "        </div>"
      ]
     },
     "metadata": {},
     "output_type": "display_data"
    }
   ],
   "source": [
    "attribute = 'countyCode'\n",
    "x1 = randomForest[attribute]\n",
    "x2 = flowChart[attribute]\n",
    "hist_data = [x1, x2]\n",
    "\n",
    "group_labels = ['True RandomForest', 'True FlowChart']\n",
    "colors = ['#A56CC1', '#A6ACEC']\n",
    "\n",
    "# Create distplot with curve_type set to 'normal'\n",
    "fig = ff.create_distplot(hist_data, group_labels, colors=colors,\n",
    "                         bin_size=.2, show_rug=False)\n",
    "\n",
    "# Add title\n",
    "text = 'Comparison of Models in predicting bridges with respect to '+attribute\n",
    "fig.update_layout(title_text=text)\n",
    "fig.show()"
   ]
  },
  {
   "cell_type": "markdown",
   "metadata": {},
   "source": [
    "## Comparison of models with respect to deck"
   ]
  },
  {
   "cell_type": "code",
   "execution_count": 60,
   "metadata": {},
   "outputs": [
    {
     "data": {
      "application/vnd.plotly.v1+json": {
       "config": {
        "plotlyServerURL": "https://plot.ly"
       },
       "data": [
        {
         "autobinx": false,
         "histnorm": "probability density",
         "legendgroup": "True RandomForest",
         "marker": {
          "color": "#A56CC1"
         },
         "name": "True RandomForest",
         "opacity": 0.7,
         "type": "histogram",
         "x": [
          8,
          5,
          8,
          8,
          6,
          5,
          7,
          6,
          7,
          7,
          7,
          6,
          7,
          7,
          6,
          7,
          6,
          6,
          5,
          5,
          7,
          6,
          6,
          6,
          7,
          6,
          7,
          7,
          7,
          9,
          7,
          7,
          6,
          7,
          6,
          7,
          4,
          8
         ],
         "xaxis": "x",
         "xbins": {
          "end": 9,
          "size": 0.2,
          "start": 4
         },
         "yaxis": "y"
        },
        {
         "autobinx": false,
         "histnorm": "probability density",
         "legendgroup": "True FlowChart",
         "marker": {
          "color": "#A6ACEC"
         },
         "name": "True FlowChart",
         "opacity": 0.7,
         "type": "histogram",
         "x": [
          7,
          5,
          8,
          7,
          9,
          9,
          9
         ],
         "xaxis": "x",
         "xbins": {
          "end": 9,
          "size": 0.2,
          "start": 5
         },
         "yaxis": "y"
        },
        {
         "legendgroup": "True RandomForest",
         "marker": {
          "color": "#A56CC1"
         },
         "mode": "lines",
         "name": "True RandomForest",
         "showlegend": false,
         "type": "scatter",
         "x": [
          4,
          4.01,
          4.02,
          4.03,
          4.04,
          4.05,
          4.06,
          4.07,
          4.08,
          4.09,
          4.1,
          4.11,
          4.12,
          4.13,
          4.14,
          4.15,
          4.16,
          4.17,
          4.18,
          4.19,
          4.2,
          4.21,
          4.22,
          4.23,
          4.24,
          4.25,
          4.26,
          4.27,
          4.28,
          4.29,
          4.3,
          4.31,
          4.32,
          4.33,
          4.34,
          4.35,
          4.36,
          4.37,
          4.38,
          4.39,
          4.4,
          4.41,
          4.42,
          4.43,
          4.44,
          4.45,
          4.46,
          4.47,
          4.48,
          4.49,
          4.5,
          4.51,
          4.52,
          4.53,
          4.54,
          4.55,
          4.5600000000000005,
          4.57,
          4.58,
          4.59,
          4.6,
          4.61,
          4.62,
          4.63,
          4.64,
          4.65,
          4.66,
          4.67,
          4.68,
          4.6899999999999995,
          4.7,
          4.71,
          4.72,
          4.73,
          4.74,
          4.75,
          4.76,
          4.77,
          4.78,
          4.79,
          4.8,
          4.8100000000000005,
          4.82,
          4.83,
          4.84,
          4.85,
          4.86,
          4.87,
          4.88,
          4.89,
          4.9,
          4.91,
          4.92,
          4.93,
          4.9399999999999995,
          4.95,
          4.96,
          4.97,
          4.98,
          4.99,
          5,
          5.01,
          5.02,
          5.03,
          5.04,
          5.05,
          5.0600000000000005,
          5.07,
          5.08,
          5.09,
          5.1,
          5.11,
          5.12,
          5.13,
          5.14,
          5.15,
          5.16,
          5.17,
          5.18,
          5.1899999999999995,
          5.2,
          5.21,
          5.22,
          5.23,
          5.24,
          5.25,
          5.26,
          5.27,
          5.28,
          5.29,
          5.3,
          5.3100000000000005,
          5.32,
          5.33,
          5.34,
          5.35,
          5.36,
          5.37,
          5.38,
          5.39,
          5.4,
          5.41,
          5.42,
          5.43,
          5.4399999999999995,
          5.45,
          5.46,
          5.47,
          5.48,
          5.49,
          5.5,
          5.51,
          5.52,
          5.53,
          5.54,
          5.55,
          5.5600000000000005,
          5.57,
          5.58,
          5.59,
          5.6,
          5.61,
          5.62,
          5.63,
          5.64,
          5.65,
          5.66,
          5.67,
          5.68,
          5.6899999999999995,
          5.7,
          5.71,
          5.72,
          5.73,
          5.74,
          5.75,
          5.76,
          5.77,
          5.78,
          5.79,
          5.8,
          5.8100000000000005,
          5.82,
          5.83,
          5.84,
          5.85,
          5.86,
          5.87,
          5.88,
          5.89,
          5.9,
          5.91,
          5.92,
          5.93,
          5.9399999999999995,
          5.95,
          5.96,
          5.97,
          5.98,
          5.99,
          6,
          6.01,
          6.02,
          6.029999999999999,
          6.04,
          6.05,
          6.0600000000000005,
          6.07,
          6.08,
          6.09,
          6.1,
          6.109999999999999,
          6.12,
          6.13,
          6.140000000000001,
          6.15,
          6.16,
          6.17,
          6.18,
          6.1899999999999995,
          6.2,
          6.21,
          6.220000000000001,
          6.23,
          6.24,
          6.25,
          6.26,
          6.27,
          6.279999999999999,
          6.29,
          6.3,
          6.3100000000000005,
          6.32,
          6.33,
          6.34,
          6.35,
          6.359999999999999,
          6.37,
          6.38,
          6.390000000000001,
          6.4,
          6.41,
          6.42,
          6.43,
          6.4399999999999995,
          6.45,
          6.46,
          6.470000000000001,
          6.48,
          6.49,
          6.5,
          6.51,
          6.52,
          6.529999999999999,
          6.54,
          6.55,
          6.5600000000000005,
          6.57,
          6.58,
          6.59,
          6.6,
          6.609999999999999,
          6.62,
          6.63,
          6.640000000000001,
          6.65,
          6.66,
          6.67,
          6.68,
          6.6899999999999995,
          6.7,
          6.71,
          6.720000000000001,
          6.73,
          6.74,
          6.75,
          6.76,
          6.77,
          6.779999999999999,
          6.79,
          6.8,
          6.8100000000000005,
          6.82,
          6.83,
          6.84,
          6.85,
          6.859999999999999,
          6.87,
          6.88,
          6.890000000000001,
          6.9,
          6.91,
          6.92,
          6.93,
          6.9399999999999995,
          6.95,
          6.96,
          6.970000000000001,
          6.98,
          6.99,
          7,
          7.01,
          7.02,
          7.029999999999999,
          7.04,
          7.05,
          7.0600000000000005,
          7.07,
          7.08,
          7.09,
          7.1,
          7.109999999999999,
          7.12,
          7.13,
          7.140000000000001,
          7.15,
          7.16,
          7.17,
          7.18,
          7.1899999999999995,
          7.2,
          7.21,
          7.220000000000001,
          7.23,
          7.24,
          7.25,
          7.26,
          7.27,
          7.279999999999999,
          7.29,
          7.3,
          7.3100000000000005,
          7.32,
          7.33,
          7.34,
          7.35,
          7.359999999999999,
          7.37,
          7.38,
          7.390000000000001,
          7.4,
          7.41,
          7.42,
          7.43,
          7.4399999999999995,
          7.45,
          7.46,
          7.470000000000001,
          7.48,
          7.49,
          7.5,
          7.51,
          7.52,
          7.529999999999999,
          7.54,
          7.55,
          7.5600000000000005,
          7.57,
          7.58,
          7.59,
          7.6,
          7.609999999999999,
          7.62,
          7.63,
          7.640000000000001,
          7.65,
          7.66,
          7.67,
          7.68,
          7.6899999999999995,
          7.7,
          7.71,
          7.720000000000001,
          7.73,
          7.74,
          7.75,
          7.76,
          7.77,
          7.779999999999999,
          7.79,
          7.8,
          7.8100000000000005,
          7.82,
          7.83,
          7.84,
          7.85,
          7.859999999999999,
          7.87,
          7.88,
          7.890000000000001,
          7.9,
          7.91,
          7.92,
          7.93,
          7.9399999999999995,
          7.95,
          7.96,
          7.970000000000001,
          7.98,
          7.99,
          8,
          8.01,
          8.02,
          8.030000000000001,
          8.04,
          8.05,
          8.059999999999999,
          8.07,
          8.08,
          8.09,
          8.1,
          8.11,
          8.120000000000001,
          8.129999999999999,
          8.14,
          8.15,
          8.16,
          8.17,
          8.18,
          8.190000000000001,
          8.2,
          8.21,
          8.219999999999999,
          8.23,
          8.24,
          8.25,
          8.26,
          8.27,
          8.280000000000001,
          8.29,
          8.3,
          8.309999999999999,
          8.32,
          8.33,
          8.34,
          8.35,
          8.36,
          8.370000000000001,
          8.379999999999999,
          8.39,
          8.4,
          8.41,
          8.42,
          8.43,
          8.440000000000001,
          8.45,
          8.46,
          8.469999999999999,
          8.48,
          8.49,
          8.5,
          8.51,
          8.52,
          8.530000000000001,
          8.54,
          8.55,
          8.559999999999999,
          8.57,
          8.58,
          8.59,
          8.6,
          8.61,
          8.620000000000001,
          8.629999999999999,
          8.64,
          8.65,
          8.66,
          8.67,
          8.68,
          8.690000000000001,
          8.7,
          8.71,
          8.719999999999999,
          8.73,
          8.74,
          8.75,
          8.76,
          8.77,
          8.780000000000001,
          8.79,
          8.8,
          8.809999999999999,
          8.82,
          8.83,
          8.84,
          8.85,
          8.86,
          8.870000000000001,
          8.879999999999999,
          8.89,
          8.9,
          8.91,
          8.92,
          8.93,
          8.940000000000001,
          8.95,
          8.96,
          8.969999999999999,
          8.98,
          8.99
         ],
         "xaxis": "x",
         "y": [
          0.032051681328838365,
          0.03249914236142953,
          0.03295232248843294,
          0.03341148692652326,
          0.033876904706906664,
          0.0343488479617055,
          0.034827591182334604,
          0.035313410451934854,
          0.03580658265408528,
          0.036307384660172845,
          0.0368160924979458,
          0.03733298050392237,
          0.03785832046246234,
          0.038392380734440255,
          0.03893542537857837,
          0.03948771326861283,
          0.040049497209567006,
          0.04062102305650186,
          0.041202528839191545,
          0.04179424389624639,
          0.042396388022260395,
          0.043009170631608466,
          0.043632789942548024,
          0.04426743218530039,
          0.04491327083778832,
          0.04557046589269907,
          0.046239163159511744,
          0.046919493605091143,
          0.04761157273639003,
          0.04831550002873084,
          0.04903135840304898,
          0.049759213755374,
          0.050499114541706636,
          0.05125109142131003,
          0.052015156961284774,
          0.052791305405125166,
          0.05357951250777347,
          0.05437973543949021,
          0.05519191276064429,
          0.05601596446930029,
          0.05685179212323961,
          0.05769927903779747,
          0.058558290560634184,
          0.059428674424278335,
          0.060310261176993285,
          0.06120286469222168,
          0.06210628275655399,
          0.06302029773585224,
          0.06394467731884244,
          0.06487917533715856,
          0.06582353266049334,
          0.06677747816517302,
          0.06774072977414317,
          0.06871299556600961,
          0.06969397495044738,
          0.0706833599069573,
          0.07168083628361552,
          0.07268608515214289,
          0.07369878421529866,
          0.07471860926229354,
          0.07574523566761875,
          0.07677833992839356,
          0.07781760123506118,
          0.07886270306999639,
          0.07991333482833932,
          0.0809691934551391,
          0.08202998509267742,
          0.0830954267316463,
          0.08416524785967842,
          0.08523919210058009,
          0.08631701883748198,
          0.08739850481302008,
          0.08848344569957652,
          0.08957165763255559,
          0.09066297869964011,
          0.09175727037897374,
          0.09285441891923996,
          0.09395433665466445,
          0.09505696324805221,
          0.09616226685508256,
          0.09727024520323291,
          0.0983809265788677,
          0.09949437071623995,
          0.10061066958237914,
          0.10172994805210385,
          0.10285236446768417,
          0.10397811107800567,
          0.10510741435242124,
          0.10624053516486646,
          0.10737776884419642,
          0.10851944508714215,
          0.10966592773072463,
          0.11081761438143953,
          0.11197493589901694,
          0.1131383557330747,
          0.11430836911151443,
          0.11548550208005441,
          0.11667031039286009,
          0.11786337825480372,
          0.11906531691646945,
          0.12027676312361972,
          0.12149837742343102,
          0.12273084233041864,
          0.12397486035557286,
          0.12523115190283174,
          0.12650045303762628,
          0.12778351313282296,
          0.129081092397979,
          0.1303939592984101,
          0.13172288787112743,
          0.13306865494525608,
          0.13443203727507866,
          0.1358138085943546,
          0.13721473660106023,
          0.13863557988215272,
          0.14007708478839648,
          0.1415399822696979,
          0.14302498468176483,
          0.14453278257524485,
          0.1460640414787993,
          0.14761939868783297,
          0.14919946007082008,
          0.15080479690535414,
          0.15243594275617808,
          0.15409339040755127,
          0.15577758886235576,
          0.15748894042033776,
          0.15922779784784094,
          0.16099446165128395,
          0.1627891774664901,
          0.1646121335757853,
          0.16646345856452524,
          0.16834321912842676,
          0.17025141804272745,
          0.17218799230380483,
          0.1741528114534431,
          0.1761456760954484,
          0.17816631661376872,
          0.18021439210070708,
          0.18228948950317325,
          0.18439112299426616,
          0.18651873357676543,
          0.18867168892436478,
          0.1908492834656993,
          0.19305073871540498,
          0.19527520385560299,
          0.1975217565703265,
          0.1997894041345146,
          0.2020770847582735,
          0.2043836691861657,
          0.20670796255034862,
          0.2090487064753976,
          0.2114045814316943,
          0.21377420933327937,
          0.21615615637508398,
          0.21854893610349785,
          0.22095101271324452,
          0.22336080456259788,
          0.2257766878980265,
          0.22819700077842925,
          0.23062004718823453,
          0.23304410132776382,
          0.23546741206841443,
          0.23788820755942477,
          0.24030469997220424,
          0.24271509036749642,
          0.24511757366995748,
          0.24751034373411152,
          0.24989159848505219,
          0.2522595451167497,
          0.2546124053303484,
          0.2569484205944394,
          0.2592658574089501,
          0.26156301255400916,
          0.26383821830494864,
          0.2660898475944503,
          0.26831631910278253,
          0.27051610225706607,
          0.27268772212059317,
          0.27482976415335547,
          0.2769408788251725,
          0.279019786063093,
          0.2810652795151157,
          0.2830762306127214,
          0.2850515924152045,
          0.2869904032193956,
          0.28889178991900716,
          0.29075497109855536,
          0.2925792598476094,
          0.2943640662819549,
          0.29610889975918087,
          0.2978133707771651,
          0.2994771925449593,
          0.30110018221664714,
          0.3026822617798799,
          0.30422345859195754,
          0.3057239055575303,
          0.3071838409432518,
          0.30860360782596935,
          0.3099836531723615,
          0.31132452654924436,
          0.3126268784651093,
          0.3138914583448118,
          0.31511911214069416,
          0.31631077958477044,
          0.3174674910879797,
          0.3185903642938477,
          0.3196806002952326,
          0.3207394795241512,
          0.321768357325962,
          0.3227686592304453,
          0.32374187593354625,
          0.3246895580047165,
          0.32561331033594537,
          0.3265147863496445,
          0.3273956819835825,
          0.3282577294720539,
          0.3291026909433478,
          0.32993235185445546,
          0.3307485142846961,
          0.3315529901106604,
          0.3323475940854664,
          0.3331341368458738,
          0.33391441787124615,
          0.3346902184187193,
          0.3354632944592091,
          0.33623536963908185,
          0.33700812829240295,
          0.3377832085286894,
          0.3385621954209957,
          0.33934661431898605,
          0.34013792431136547,
          0.34093751186168597,
          0.3417466846410654,
          0.34256666558083254,
          0.3433985871674455,
          0.34424348600133414,
          0.3451022976404814,
          0.3459758517486869,
          0.3468648675674749,
          0.3477699497295647,
          0.34869158443070913,
          0.34963013597551046,
          0.3505858437115913,
          0.35155881936516586,
          0.35254904478971855,
          0.35355637013806646,
          0.3545805124666403,
          0.35562105477930483,
          0.3566774455165378,
          0.3577489984942049,
          0.3588348932946097,
          0.35993417611089196,
          0.36104576104426117,
          0.3621684318519298,
          0.36330084414202063,
          0.36444152801012264,
          0.365588891110598,
          0.3667412221541777,
          0.3678966948218606,
          0.3690533720836273,
          0.3702092109090333,
          0.3713620673553169,
          0.37250970201731287,
          0.3736497858221402,
          0.37477990615039286,
          0.37589757326438444,
          0.37700022702287356,
          0.378085243860678,
          0.3791499440106081,
          0.3801915989442915,
          0.38120743900765225,
          0.3821946612261257,
          0.38315043725405684,
          0.3840719214422338,
          0.38495625899707187,
          0.38580059420464463,
          0.38660207869253244,
          0.3873578797023329,
          0.3880651883456466,
          0.38872122781642676,
          0.38932326153275454,
          0.38986860118136646,
          0.3903546146386328,
          0.39077873374214706,
          0.3911384618876386,
          0.39143138142657813,
          0.3916551608405701,
          0.39180756166946024,
          0.3918864451709782,
          0.39188977869073033,
          0.39181564172240485,
          0.39166223163918484,
          0.3914278690785552,
          0.39111100296394324,
          0.3907102151479436,
          0.39022422466323614,
          0.38965189156871155,
          0.3889922203797637,
          0.3882443630731857,
          0.38740762165860915,
          0.3864814503099659,
          0.3854654570519715,
          0.3843594049982145,
          0.38316321313896357,
          0.3818769566783802,
          0.3805008669223589,
          0.37903533071976175,
          0.37748088946131225,
          0.37583823764191654,
          0.3741082209936268,
          0.37229183419788114,
          0.3703902181870422,
          0.36840465704657316,
          0.3663365745304843,
          0.36418753020389905,
          0.3619592152277518,
          0.3596534478017325,
          0.3572721682826253,
          0.35481743399613896,
          0.3522914137612265,
          0.3496963821466903,
          0.34703471348059156,
          0.3443088756336515,
          0.3415214235983682,
          0.33867499288607106,
          0.33577229276452175,
          0.3328160993589712,
          0.3298092486398136,
          0.3267546293201004,
          0.3236551756862337,
          0.3205138603851066,
          0.3173336871908588,
          0.3141176837741783,
          0.31086889449682553,
          0.30759037325366295,
          0.30428517638405395,
          0.3009563556739569,
          0.29760695146947147,
          0.29423998592192163,
          0.29085845638385616,
          0.2874653289745491,
          0.284063532332757,
          0.28065595157359513,
          0.27724542246544454,
          0.27383472584183316,
          0.2704265822621938,
          0.2670236469343465,
          0.26362850491046036,
          0.2602436665671282,
          0.2568715633790481,
          0.2535145439946487,
          0.2501748706208173,
          0.246854715722724,
          0.24355615904354186,
          0.24028118494769024,
          0.23703168009004819,
          0.23380943141243443,
          0.230616124467482,
          0.22745334206892634,
          0.22432256326620373,
          0.22122516264018732,
          0.21816240991582958,
          0.21513546988647675,
          0.21214540264362636,
          0.2091931641049814,
          0.20627960683274313,
          0.20340548113324405,
          0.20057143642822778,
          0.1977780228873215,
          0.19502569331056133,
          0.19231480524918193,
          0.18964562335229931,
          0.1870183219265836,
          0.1844329876955475,
          0.18188962274466366,
          0.17938814763817124,
          0.17692840469313262,
          0.17451016139607053,
          0.17213311394733824,
          0.1697968909182524,
          0.16750105700596402,
          0.16524511687103746,
          0.16302851904275228,
          0.16085065987726166,
          0.1587108875538871,
          0.15660850609504792,
          0.15454277939557579,
          0.15251293524747886,
          0.1505181693465604,
          0.14855764926770354,
          0.14663051839605162,
          0.14473589980180027,
          0.14287290004681297,
          0.14104061291181427,
          0.13923812303348307,
          0.13746450944136338,
          0.1357188489851225,
          0.13400021964333825,
          0.13230770370563638,
          0.13064039082068826,
          0.12899738090325152,
          0.1273777868941328,
          0.1257807373676511,
          0.12420537898188481,
          0.12265087876767866,
          0.12111642625310662,
          0.119601235420756,
          0.11810454649591713,
          0.11662562756440996,
          0.11516377601947322,
          0.11371831983777328,
          0.11228861868523464,
          0.11087406485400814,
          0.10947408403248203,
          0.10808813591082966,
          0.10671571462510955,
          0.10535634904348733,
          0.10400960289861551,
          0.10267507477069604,
          0.10135239792617343,
          0.10004124001741882,
          0.09874130264914617,
          0.09745232081762903,
          0.09617406222911992,
          0.09490632650412957,
          0.09364894427448632,
          0.09240177618029659,
          0.09116471177411005,
          0.08993766833973905,
          0.08872058963328856,
          0.08751344455404562,
          0.08631622575290576,
          0.08512894818605522,
          0.08395164762159028,
          0.08278437910673098,
          0.08162721540320203,
          0.08048024539826411,
          0.07934357249874438,
          0.0782173130152674,
          0.07710159454371968,
          0.07599655435076567,
          0.074902337770035,
          0.07381909661534451,
          0.07274698761707318,
          0.07168617088752545,
          0.07063680842083206,
          0.06959906263264076,
          0.06857309494451744,
          0.06755906441767355,
          0.06655712644027942,
          0.06556743147229764,
          0.06459012385141225,
          0.06362534066327957,
          0.06267321067897395,
          0.061733853362137325,
          0.06080737794799806,
          0.05989388259605045,
          0.05899345361785752,
          0.058106164781068496,
          0.05723207669041856,
          0.05637123624613288,
          0.05552367617983287,
          0.05468941466772334,
          0.0538684550205298,
          0.053060785449362546,
          0.052266378906388924,
          0.05148519299893322,
          0.05071716997535576,
          0.0499622367808222,
          0.04922030518084085,
          0.048491271950229266,
          0.04777501912497782,
          0.047071414314282134,
          0.04638031106986344,
          0.045701549309529264,
          0.04503495579180533,
          0.044380344638343096,
          0.043737517900709254,
          0.0431062661680802,
          0.04248636921229064,
          0.041877596666643355,
          0.0412797087348383,
          0.04069245692637273,
          0.04011558481474666,
          0.039548828814827616,
          0.03899191897574667,
          0.03844457978573958,
          0.03790653098539692,
          0.037377488385850866,
          0.036857164688506576,
          0.036345270303007465,
          0.035841514160229286,
          0.03534560451720191,
          0.034857249750978044,
          0.03437615913859401,
          0.03390204362040099,
          0.0334346165441908,
          0.03297359438768014,
          0.03251869745708014
         ],
         "yaxis": "y"
        },
        {
         "legendgroup": "True FlowChart",
         "marker": {
          "color": "#A6ACEC"
         },
         "mode": "lines",
         "name": "True FlowChart",
         "showlegend": false,
         "type": "scatter",
         "x": [
          5,
          5.008,
          5.016,
          5.024,
          5.032,
          5.04,
          5.048,
          5.056,
          5.064,
          5.072,
          5.08,
          5.088,
          5.096,
          5.104,
          5.112,
          5.12,
          5.128,
          5.136,
          5.144,
          5.152,
          5.16,
          5.168,
          5.176,
          5.184,
          5.192,
          5.2,
          5.208,
          5.216,
          5.224,
          5.232,
          5.24,
          5.248,
          5.256,
          5.264,
          5.272,
          5.28,
          5.288,
          5.296,
          5.304,
          5.312,
          5.32,
          5.328,
          5.336,
          5.344,
          5.352,
          5.36,
          5.368,
          5.376,
          5.384,
          5.392,
          5.4,
          5.408,
          5.416,
          5.424,
          5.432,
          5.44,
          5.448,
          5.456,
          5.464,
          5.4719999999999995,
          5.48,
          5.4879999999999995,
          5.496,
          5.504,
          5.5120000000000005,
          5.52,
          5.5280000000000005,
          5.536,
          5.5440000000000005,
          5.552,
          5.5600000000000005,
          5.568,
          5.576,
          5.584,
          5.592,
          5.6,
          5.608,
          5.616,
          5.624,
          5.632,
          5.64,
          5.648,
          5.656,
          5.664,
          5.672,
          5.68,
          5.688,
          5.696,
          5.704,
          5.712,
          5.72,
          5.728,
          5.736,
          5.744,
          5.752,
          5.76,
          5.768,
          5.776,
          5.784,
          5.792,
          5.8,
          5.808,
          5.816,
          5.824,
          5.832,
          5.84,
          5.848,
          5.856,
          5.864,
          5.872,
          5.88,
          5.888,
          5.896,
          5.904,
          5.912,
          5.92,
          5.928,
          5.936,
          5.944,
          5.952,
          5.96,
          5.968,
          5.976,
          5.984,
          5.992,
          6,
          6.008,
          6.016,
          6.024,
          6.032,
          6.04,
          6.048,
          6.056,
          6.064,
          6.072,
          6.08,
          6.088,
          6.096,
          6.104,
          6.112,
          6.12,
          6.128,
          6.136,
          6.144,
          6.152,
          6.16,
          6.168,
          6.176,
          6.184,
          6.192,
          6.2,
          6.208,
          6.216,
          6.224,
          6.232,
          6.24,
          6.248,
          6.256,
          6.264,
          6.272,
          6.28,
          6.288,
          6.296,
          6.304,
          6.312,
          6.32,
          6.328,
          6.336,
          6.344,
          6.352,
          6.36,
          6.368,
          6.3759999999999994,
          6.384,
          6.3919999999999995,
          6.4,
          6.4079999999999995,
          6.416,
          6.4239999999999995,
          6.432,
          6.4399999999999995,
          6.448,
          6.4559999999999995,
          6.464,
          6.4719999999999995,
          6.48,
          6.4879999999999995,
          6.496,
          6.504,
          6.5120000000000005,
          6.52,
          6.5280000000000005,
          6.536,
          6.5440000000000005,
          6.552,
          6.5600000000000005,
          6.568,
          6.5760000000000005,
          6.584,
          6.5920000000000005,
          6.6,
          6.6080000000000005,
          6.616,
          6.6240000000000006,
          6.632,
          6.64,
          6.648,
          6.656,
          6.664,
          6.672,
          6.68,
          6.688,
          6.696,
          6.704,
          6.712,
          6.72,
          6.728,
          6.736,
          6.744,
          6.752,
          6.76,
          6.768,
          6.776,
          6.784,
          6.792,
          6.8,
          6.808,
          6.816,
          6.824,
          6.832,
          6.84,
          6.848,
          6.856,
          6.864,
          6.872,
          6.88,
          6.888,
          6.896,
          6.904,
          6.912,
          6.92,
          6.928,
          6.936,
          6.944,
          6.952,
          6.96,
          6.968,
          6.976,
          6.984,
          6.992,
          7,
          7.008,
          7.016,
          7.024,
          7.032,
          7.04,
          7.048,
          7.056,
          7.064,
          7.072,
          7.08,
          7.088,
          7.096,
          7.104,
          7.112,
          7.12,
          7.128,
          7.136,
          7.144,
          7.152,
          7.16,
          7.168,
          7.176,
          7.184,
          7.192,
          7.2,
          7.208,
          7.216,
          7.224,
          7.232,
          7.24,
          7.248,
          7.256,
          7.263999999999999,
          7.272,
          7.279999999999999,
          7.288,
          7.295999999999999,
          7.304,
          7.311999999999999,
          7.32,
          7.327999999999999,
          7.336,
          7.343999999999999,
          7.352,
          7.359999999999999,
          7.368,
          7.3759999999999994,
          7.384,
          7.3919999999999995,
          7.4,
          7.4079999999999995,
          7.416,
          7.4239999999999995,
          7.432,
          7.4399999999999995,
          7.448,
          7.4559999999999995,
          7.464,
          7.4719999999999995,
          7.48,
          7.4879999999999995,
          7.496,
          7.504,
          7.5120000000000005,
          7.52,
          7.5280000000000005,
          7.536,
          7.5440000000000005,
          7.552,
          7.5600000000000005,
          7.568,
          7.5760000000000005,
          7.584,
          7.5920000000000005,
          7.6,
          7.6080000000000005,
          7.616,
          7.6240000000000006,
          7.632,
          7.640000000000001,
          7.648,
          7.656000000000001,
          7.664,
          7.672000000000001,
          7.68,
          7.688000000000001,
          7.696,
          7.704000000000001,
          7.712,
          7.720000000000001,
          7.728,
          7.736000000000001,
          7.744,
          7.752,
          7.76,
          7.768,
          7.776,
          7.784,
          7.792,
          7.8,
          7.808,
          7.816,
          7.824,
          7.832,
          7.84,
          7.848,
          7.856,
          7.864,
          7.872,
          7.88,
          7.888,
          7.896,
          7.904,
          7.912,
          7.92,
          7.928,
          7.936,
          7.944,
          7.952,
          7.96,
          7.968,
          7.976,
          7.984,
          7.992,
          8,
          8.008,
          8.016,
          8.024000000000001,
          8.032,
          8.04,
          8.048,
          8.056000000000001,
          8.064,
          8.072,
          8.08,
          8.088000000000001,
          8.096,
          8.104,
          8.112,
          8.120000000000001,
          8.128,
          8.136,
          8.144,
          8.152000000000001,
          8.16,
          8.168,
          8.176,
          8.184000000000001,
          8.192,
          8.2,
          8.208,
          8.216000000000001,
          8.224,
          8.232,
          8.24,
          8.248000000000001,
          8.256,
          8.264,
          8.272,
          8.28,
          8.288,
          8.296,
          8.304,
          8.312,
          8.32,
          8.328,
          8.336,
          8.344,
          8.352,
          8.36,
          8.368,
          8.376,
          8.384,
          8.392,
          8.4,
          8.408,
          8.416,
          8.424,
          8.432,
          8.44,
          8.448,
          8.456,
          8.464,
          8.472,
          8.48,
          8.488,
          8.496,
          8.504,
          8.512,
          8.52,
          8.528,
          8.536,
          8.544,
          8.552,
          8.56,
          8.568,
          8.576,
          8.584,
          8.592,
          8.6,
          8.608,
          8.616,
          8.624,
          8.632,
          8.64,
          8.648,
          8.656,
          8.664,
          8.672,
          8.68,
          8.688,
          8.696,
          8.704,
          8.712,
          8.72,
          8.728,
          8.736,
          8.744,
          8.751999999999999,
          8.76,
          8.768,
          8.776,
          8.783999999999999,
          8.792,
          8.8,
          8.808,
          8.815999999999999,
          8.824,
          8.832,
          8.84,
          8.847999999999999,
          8.856,
          8.864,
          8.872,
          8.879999999999999,
          8.888,
          8.896,
          8.904,
          8.911999999999999,
          8.92,
          8.928,
          8.936,
          8.943999999999999,
          8.952,
          8.96,
          8.968,
          8.975999999999999,
          8.984,
          8.992
         ],
         "xaxis": "x",
         "y": [
          0.07305328045120361,
          0.07332184803888067,
          0.07359023295009627,
          0.07385845735361969,
          0.07412654384862592,
          0.07439451545672547,
          0.07466239561376328,
          0.07493020816139039,
          0.07519797733840979,
          0.07546572777190118,
          0.07573348446812629,
          0.07600127280321924,
          0.07626911851366447,
          0.07653704768656702,
          0.07680508674971706,
          0.07707326246145471,
          0.07734160190033705,
          0.07761013245461292,
          0.07787888181150873,
          0.07814787794633038,
          0.07841714911138503,
          0.07868672382472797,
          0.0789566308587385,
          0.07922689922853049,
          0.07949755818020189,
          0.07976863717892824,
          0.08004016589690581,
          0.080312174201149,
          0.0805846921411477,
          0.0808577499363899,
          0.08113137796375507,
          0.08140560674478407,
          0.08168046693283117,
          0.08195598930010382,
          0.08223220472459664,
          0.08250914417692491,
          0.08278683870706398,
          0.08306531943100083,
          0.08334461751730368,
          0.083624764173616,
          0.08390579063308161,
          0.08418772814070666,
          0.0844706079396657,
          0.08475446125755756,
          0.08503931929261829,
          0.08532521319989747,
          0.08561217407740455,
          0.08590023295223224,
          0.08618942076666318,
          0.08647976836426714,
          0.08677130647599574,
          0.08706406570628061,
          0.08735807651914307,
          0.0876533692243215,
          0.08794997396342343,
          0.08824792069610946,
          0.08854723918631574,
          0.08884795898852225,
          0.0891501094340735,
          0.0894537196175588,
          0.08975881838325912,
          0.09006543431166693,
          0.0903735957060873,
          0.09068333057932479,
          0.09099466664046607,
          0.09130763128176192,
          0.0916222515656185,
          0.09193855421170162,
          0.0922565655841639,
          0.09257631167899845,
          0.09289781811152846,
          0.09322111010403698,
          0.09354621247354557,
          0.09387314961974616,
          0.09420194551309458,
          0.09453262368307054,
          0.09486520720661137,
          0.09519971869672508,
          0.09553618029128934,
          0.09587461364204213,
          0.09621503990377023,
          0.09655747972370127,
          0.096901953231105,
          0.09724848002711012,
          0.09759707917474113,
          0.09794776918918206,
          0.09830056802827095,
          0.0986554930832317,
          0.09901256116964748,
          0.09937178851868124,
          0.09973319076854786,
          0.10009678295624319,
          0.10046257950953393,
          0.10083059423921373,
          0.1012008403316289,
          0.10157333034147895,
          0.10194807618489533,
          0.10232508913280261,
          0.1027043798045657,
          0.10308595816192766,
          0.10346983350323984,
          0.10385601445798943,
          0.10424450898162682,
          0.10463532435069572,
          0.10502846715826923,
          0.10542394330969428,
          0.10582175801864739,
          0.10622191580350349,
          0.10662442048402052,
          0.10702927517834175,
          0.10743648230031752,
          0.1078460435571479,
          0.10825795994734844,
          0.10867223175903969,
          0.10908885856856158,
          0.10950783923941439,
          0.10992917192152625,
          0.11035285405084787,
          0.11077888234927566,
          0.11120725282490262,
          0.11163796077259722,
          0.11207100077491026,
          0.11250636670330981,
          0.11294405171974248,
          0.11338404827852173,
          0.11382634812854131,
          0.1142709423158132,
          0.11471782118632848,
          0.11516697438924044,
          0.11561839088036674,
          0.11607205892601069,
          0.11652796610709812,
          0.11698609932362833,
          0.11744644479943656,
          0.11790898808726548,
          0.11837371407414296,
          0.11884060698706302,
          0.11930965039896683,
          0.1197808272350207,
          0.12025411977918772,
          0.12072950968108832,
          0.12120697796314785,
          0.12168650502802503,
          0.12216807066631882,
          0.12265165406454848,
          0.1231372338134022,
          0.12362478791625078,
          0.12411429379791974,
          0.12460572831371655,
          0.125099067758707,
          0.12559428787723528,
          0.12609136387268294,
          0.12659027041746052,
          0.12709098166322652,
          0.12759347125132775,
          0.12809771232345488,
          0.1286036775325073,
          0.12911133905366026,
          0.12962066859562948,
          0.13013163741212463,
          0.13064421631348688,
          0.131158375678502,
          0.13167408546638426,
          0.13219131522892166,
          0.13271003412277743,
          0.13323021092193948,
          0.13375181403031067,
          0.1342748114944329,
          0.1347991710163372,
          0.13532485996651208,
          0.13585184539698267,
          0.13638009405449356,
          0.13690957239378587,
          0.13744024659096318,
          0.13797208255693483,
          0.13850504595093335,
          0.13903910219409282,
          0.13957421648308452,
          0.14011035380379822,
          0.14064747894506424,
          0.14118555651240447,
          0.14172455094180772,
          0.142264426513518,
          0.14280514736583022,
          0.14334667750888214,
          0.1438889808384375,
          0.14443202114964893,
          0.14497576215079447,
          0.14552016747697852,
          0.14606520070378942,
          0.14661082536090397,
          0.1471570049456336,
          0.14770370293640028,
          0.14825088280613724,
          0.14879850803560365,
          0.1493465421266083,
          0.14989494861512997,
          0.15044369108433145,
          0.15099273317745465,
          0.15154203861059234,
          0.15209157118532632,
          0.1526412948012267,
          0.15319117346820138,
          0.153741171318692,
          0.15429125261970492,
          0.1548413817846738,
          0.15539152338514262,
          0.15594164216226483,
          0.15649170303811036,
          0.1570416711267734,
          0.15759151174527417,
          0.1581411904242487,
          0.15869067291841848,
          0.15923992521683503,
          0.15978891355289218,
          0.1603376044140996,
          0.16088596455161253,
          0.1614339609895107,
          0.16198156103382122,
          0.1625287322812797,
          0.1630754426278238,
          0.16362166027681452,
          0.16416735374697988,
          0.16471249188007514,
          0.16525704384825576,
          0.16580097916115913,
          0.1663442676726875,
          0.1668868795874925,
          0.16742878546715226,
          0.16796995623604136,
          0.1685103631868868,
          0.16904997798600907,
          0.16958877267824227,
          0.17012671969153254,
          0.17066379184121075,
          0.17119996233393628,
          0.1717352047713108,
          0.17226949315315818,
          0.1728028018804696,
          0.17333510575801103,
          0.17386637999659224,
          0.1743966002149952,
          0.17492574244156103,
          0.1754537831154342,
          0.17598069908746358,
          0.17650646762075864,
          0.17703106639090233,
          0.17755447348581826,
          0.178076667405294,
          0.17859762706015966,
          0.17911733177112305,
          0.17963576126726158,
          0.18015289568417175,
          0.18066871556177835,
          0.18118320184180325,
          0.18169633586489672,
          0.18220809936743226,
          0.18271847447796805,
          0.1832274437133752,
          0.18373498997463794,
          0.18424109654232637,
          0.18474574707174565,
          0.18524892558776454,
          0.18575061647932659,
          0.18625080449364764,
          0.18674947473010342,
          0.18724661263381107,
          0.18774220398890853,
          0.188236234911537,
          0.18872869184253013,
          0.18921956153981515,
          0.18970883107053127,
          0.1901964878028697,
          0.19068251939764103,
          0.19116691379957604,
          0.19164965922836516,
          0.1921307441694417,
          0.1926101573645172,
          0.19308788780187253,
          0.19356392470641326,
          0.19403825752949486,
          0.1945108759385242,
          0.19498176980634596,
          0.19545092920041862,
          0.19591834437178993,
          0.1963840057438764,
          0.19684790390105747,
          0.1973100295770889,
          0.19777037364334626,
          0.19822892709690337,
          0.19868568104845702,
          0.19914062671010271,
          0.19959375538297336,
          0.20004505844474588,
          0.20049452733702733,
          0.2009421535526265,
          0.20138792862272228,
          0.20183184410393493,
          0.202273891565312,
          0.20271406257523525,
          0.20315234868825993,
          0.20358874143189323,
          0.20402323229332436,
          0.20445581270611102,
          0.20488647403683669,
          0.2053152075717434,
          0.20574200450335325,
          0.20616685591708508,
          0.20658975277787858,
          0.20701068591683208,
          0.20742964601786743,
          0.2078466236044277,
          0.20826160902622026,
          0.2086745924460129,
          0.2090855638264937,
          0.20949451291720295,
          0.20990142924154875,
          0.21030630208391257,
          0.21070912047685839,
          0.21110987318845065,
          0.2115085487096937,
          0.21190513524210008,
          0.2122996206853985,
          0.21269199262538885,
          0.2130822383219559,
          0.21347034469724827,
          0.21385629832403397,
          0.2142400854142398,
          0.2146216918076847,
          0.21500110296101468,
          0.2153783039368497,
          0.21575327939314887,
          0.21612601357280536,
          0.21649649029347576,
          0.21686469293765637,
          0.21723060444301032,
          0.21759420729295736,
          0.21795548350753113,
          0.21831441463451398,
          0.21867098174085486,
          0.2190251654043806,
          0.21937694570580382,
          0.21972630222103892,
          0.22007321401382998,
          0.2204176596286991,
          0.22075961708422107,
          0.22109906386663083,
          0.22143597692377057,
          0.22177033265938237,
          0.22210210692775123,
          0.22243127502870655,
          0.22275781170298484,
          0.22308169112796106,
          0.22340288691375282,
          0.22372137209970241,
          0.22403711915124155,
          0.22435009995714303,
          0.22466028582716435,
          0.22496764749008571,
          0.2252721550921483,
          0.22557377819589514,
          0.22587248577941757,
          0.22616824623601203,
          0.22646102737424836,
          0.22675079641845342,
          0.22703752000961214,
          0.2273211642066876,
          0.2276016944883633,
          0.22787907575520822,
          0.22815327233226657,
          0.22842424797207364,
          0.22869196585809812,
          0.22895638860861242,
          0.22921747828099073,
          0.2294751963764352,
          0.2297295038451308,
          0.22998036109182718,
          0.23022772798184948,
          0.23047156384753362,
          0.23071182749508887,
          0.23094847721188372,
          0.23118147077415477,
          0.23141076545513625,
          0.23163631803360873,
          0.23185808480286357,
          0.2320760215800825,
          0.23229008371612708,
          0.23250022610573703,
          0.23270640319813338,
          0.23290856900802231,
          0.23310667712699687,
          0.23330068073533194,
          0.23349053261416916,
          0.2336761851580848,
          0.23385759038803916,
          0.23403469996470033,
          0.2342074652021377,
          0.23437583708187973,
          0.2345397662673305,
          0.23469920311853912,
          0.2348540977073155,
          0.2350043998326871,
          0.2351500590366888,
          0.2352910246204805,
          0.23542724566078457,
          0.2355586710266366,
          0.23568524939644162,
          0.23580692927532834,
          0.23592365901279458,
          0.2360353868206345,
          0.23614206079114028,
          0.23624362891557077,
          0.236340039102877,
          0.2364312391986772,
          0.23651717700447247,
          0.23659780029709335,
          0.23667305684836903,
          0.23674289444500984,
          0.23680726090869317,
          0.23686610411634376,
          0.2369193720205989,
          0.23696701267044773,
          0.23700897423203637,
          0.23704520500962722,
          0.23707565346670348,
          0.23710026824720798,
          0.23711899819690654,
          0.23713179238486498,
          0.2371386001250293,
          0.23713937099789892,
          0.23713405487228179,
          0.23712260192712056,
          0.23710496267338013,
          0.23708108797598354,
          0.2370509290757879,
          0.23701443761158716,
          0.2369715656421325,
          0.23692226566815758,
          0.23686649065439935,
          0.2368041940516019,
          0.23673532981849335,
          0.23665985244372348,
          0.23657771696775257,
          0.23648887900467894,
          0.23639329476399462,
          0.23629092107225858,
          0.2361817153946752,
          0.2360656358565689,
          0.23594264126474151,
          0.23581269112870398,
          0.23567574568176944,
          0.23553176590199787,
          0.2353807135329817,
          0.23522255110446075,
          0.23505724195275698,
          0.23488475024101743,
          0.2347050409792556,
          0.2345180800441807,
          0.23432383419880465,
          0.23412227111181544,
          0.2339133593767093,
          0.23369706853066874,
          0.2334733690731789,
          0.23324223248437126,
          0.23300363124308576,
          0.232757538844641,
          0.2325039298183048,
          0.2322427797444535,
          0.23197406527141404,
          0.23169776413197696,
          0.2314138551595736,
          0.23112231830410854,
          0.23082313464743806,
          0.2305162864184874,
          0.2302017570079985,
          0.2298795309829005,
          0.22954959410029457,
          0.22921193332104683,
          0.22886653682298114,
          0.22851339401366552,
          0.2281524955427844,
          0.22778383331409055,
          0.22740740049693045,
          0.22702319153733683,
          0.22663120216868185,
          0.22623142942188532,
          0.22582387163517298,
          0.22540852846337914,
          0.22498540088678826,
          0.22455449121951024,
          0.2241158031173868,
          0.22366934158542204,
          0.22321511298473454,
          0.222753125039026,
          0.22228338684056442,
          0.22180590885567672,
          0.22132070292974804,
          0.22082778229172537,
          0.22032716155812213,
          0.2198188567365218
         ],
         "yaxis": "y"
        }
       ],
       "layout": {
        "barmode": "overlay",
        "hovermode": "closest",
        "legend": {
         "traceorder": "reversed"
        },
        "template": {
         "data": {
          "bar": [
           {
            "error_x": {
             "color": "#2a3f5f"
            },
            "error_y": {
             "color": "#2a3f5f"
            },
            "marker": {
             "line": {
              "color": "#E5ECF6",
              "width": 0.5
             }
            },
            "type": "bar"
           }
          ],
          "barpolar": [
           {
            "marker": {
             "line": {
              "color": "#E5ECF6",
              "width": 0.5
             }
            },
            "type": "barpolar"
           }
          ],
          "carpet": [
           {
            "aaxis": {
             "endlinecolor": "#2a3f5f",
             "gridcolor": "white",
             "linecolor": "white",
             "minorgridcolor": "white",
             "startlinecolor": "#2a3f5f"
            },
            "baxis": {
             "endlinecolor": "#2a3f5f",
             "gridcolor": "white",
             "linecolor": "white",
             "minorgridcolor": "white",
             "startlinecolor": "#2a3f5f"
            },
            "type": "carpet"
           }
          ],
          "choropleth": [
           {
            "colorbar": {
             "outlinewidth": 0,
             "ticks": ""
            },
            "type": "choropleth"
           }
          ],
          "contour": [
           {
            "colorbar": {
             "outlinewidth": 0,
             "ticks": ""
            },
            "colorscale": [
             [
              0,
              "#0d0887"
             ],
             [
              0.1111111111111111,
              "#46039f"
             ],
             [
              0.2222222222222222,
              "#7201a8"
             ],
             [
              0.3333333333333333,
              "#9c179e"
             ],
             [
              0.4444444444444444,
              "#bd3786"
             ],
             [
              0.5555555555555556,
              "#d8576b"
             ],
             [
              0.6666666666666666,
              "#ed7953"
             ],
             [
              0.7777777777777778,
              "#fb9f3a"
             ],
             [
              0.8888888888888888,
              "#fdca26"
             ],
             [
              1,
              "#f0f921"
             ]
            ],
            "type": "contour"
           }
          ],
          "contourcarpet": [
           {
            "colorbar": {
             "outlinewidth": 0,
             "ticks": ""
            },
            "type": "contourcarpet"
           }
          ],
          "heatmap": [
           {
            "colorbar": {
             "outlinewidth": 0,
             "ticks": ""
            },
            "colorscale": [
             [
              0,
              "#0d0887"
             ],
             [
              0.1111111111111111,
              "#46039f"
             ],
             [
              0.2222222222222222,
              "#7201a8"
             ],
             [
              0.3333333333333333,
              "#9c179e"
             ],
             [
              0.4444444444444444,
              "#bd3786"
             ],
             [
              0.5555555555555556,
              "#d8576b"
             ],
             [
              0.6666666666666666,
              "#ed7953"
             ],
             [
              0.7777777777777778,
              "#fb9f3a"
             ],
             [
              0.8888888888888888,
              "#fdca26"
             ],
             [
              1,
              "#f0f921"
             ]
            ],
            "type": "heatmap"
           }
          ],
          "heatmapgl": [
           {
            "colorbar": {
             "outlinewidth": 0,
             "ticks": ""
            },
            "colorscale": [
             [
              0,
              "#0d0887"
             ],
             [
              0.1111111111111111,
              "#46039f"
             ],
             [
              0.2222222222222222,
              "#7201a8"
             ],
             [
              0.3333333333333333,
              "#9c179e"
             ],
             [
              0.4444444444444444,
              "#bd3786"
             ],
             [
              0.5555555555555556,
              "#d8576b"
             ],
             [
              0.6666666666666666,
              "#ed7953"
             ],
             [
              0.7777777777777778,
              "#fb9f3a"
             ],
             [
              0.8888888888888888,
              "#fdca26"
             ],
             [
              1,
              "#f0f921"
             ]
            ],
            "type": "heatmapgl"
           }
          ],
          "histogram": [
           {
            "marker": {
             "colorbar": {
              "outlinewidth": 0,
              "ticks": ""
             }
            },
            "type": "histogram"
           }
          ],
          "histogram2d": [
           {
            "colorbar": {
             "outlinewidth": 0,
             "ticks": ""
            },
            "colorscale": [
             [
              0,
              "#0d0887"
             ],
             [
              0.1111111111111111,
              "#46039f"
             ],
             [
              0.2222222222222222,
              "#7201a8"
             ],
             [
              0.3333333333333333,
              "#9c179e"
             ],
             [
              0.4444444444444444,
              "#bd3786"
             ],
             [
              0.5555555555555556,
              "#d8576b"
             ],
             [
              0.6666666666666666,
              "#ed7953"
             ],
             [
              0.7777777777777778,
              "#fb9f3a"
             ],
             [
              0.8888888888888888,
              "#fdca26"
             ],
             [
              1,
              "#f0f921"
             ]
            ],
            "type": "histogram2d"
           }
          ],
          "histogram2dcontour": [
           {
            "colorbar": {
             "outlinewidth": 0,
             "ticks": ""
            },
            "colorscale": [
             [
              0,
              "#0d0887"
             ],
             [
              0.1111111111111111,
              "#46039f"
             ],
             [
              0.2222222222222222,
              "#7201a8"
             ],
             [
              0.3333333333333333,
              "#9c179e"
             ],
             [
              0.4444444444444444,
              "#bd3786"
             ],
             [
              0.5555555555555556,
              "#d8576b"
             ],
             [
              0.6666666666666666,
              "#ed7953"
             ],
             [
              0.7777777777777778,
              "#fb9f3a"
             ],
             [
              0.8888888888888888,
              "#fdca26"
             ],
             [
              1,
              "#f0f921"
             ]
            ],
            "type": "histogram2dcontour"
           }
          ],
          "mesh3d": [
           {
            "colorbar": {
             "outlinewidth": 0,
             "ticks": ""
            },
            "type": "mesh3d"
           }
          ],
          "parcoords": [
           {
            "line": {
             "colorbar": {
              "outlinewidth": 0,
              "ticks": ""
             }
            },
            "type": "parcoords"
           }
          ],
          "scatter": [
           {
            "marker": {
             "colorbar": {
              "outlinewidth": 0,
              "ticks": ""
             }
            },
            "type": "scatter"
           }
          ],
          "scatter3d": [
           {
            "line": {
             "colorbar": {
              "outlinewidth": 0,
              "ticks": ""
             }
            },
            "marker": {
             "colorbar": {
              "outlinewidth": 0,
              "ticks": ""
             }
            },
            "type": "scatter3d"
           }
          ],
          "scattercarpet": [
           {
            "marker": {
             "colorbar": {
              "outlinewidth": 0,
              "ticks": ""
             }
            },
            "type": "scattercarpet"
           }
          ],
          "scattergeo": [
           {
            "marker": {
             "colorbar": {
              "outlinewidth": 0,
              "ticks": ""
             }
            },
            "type": "scattergeo"
           }
          ],
          "scattergl": [
           {
            "marker": {
             "colorbar": {
              "outlinewidth": 0,
              "ticks": ""
             }
            },
            "type": "scattergl"
           }
          ],
          "scattermapbox": [
           {
            "marker": {
             "colorbar": {
              "outlinewidth": 0,
              "ticks": ""
             }
            },
            "type": "scattermapbox"
           }
          ],
          "scatterpolar": [
           {
            "marker": {
             "colorbar": {
              "outlinewidth": 0,
              "ticks": ""
             }
            },
            "type": "scatterpolar"
           }
          ],
          "scatterpolargl": [
           {
            "marker": {
             "colorbar": {
              "outlinewidth": 0,
              "ticks": ""
             }
            },
            "type": "scatterpolargl"
           }
          ],
          "scatterternary": [
           {
            "marker": {
             "colorbar": {
              "outlinewidth": 0,
              "ticks": ""
             }
            },
            "type": "scatterternary"
           }
          ],
          "surface": [
           {
            "colorbar": {
             "outlinewidth": 0,
             "ticks": ""
            },
            "colorscale": [
             [
              0,
              "#0d0887"
             ],
             [
              0.1111111111111111,
              "#46039f"
             ],
             [
              0.2222222222222222,
              "#7201a8"
             ],
             [
              0.3333333333333333,
              "#9c179e"
             ],
             [
              0.4444444444444444,
              "#bd3786"
             ],
             [
              0.5555555555555556,
              "#d8576b"
             ],
             [
              0.6666666666666666,
              "#ed7953"
             ],
             [
              0.7777777777777778,
              "#fb9f3a"
             ],
             [
              0.8888888888888888,
              "#fdca26"
             ],
             [
              1,
              "#f0f921"
             ]
            ],
            "type": "surface"
           }
          ],
          "table": [
           {
            "cells": {
             "fill": {
              "color": "#EBF0F8"
             },
             "line": {
              "color": "white"
             }
            },
            "header": {
             "fill": {
              "color": "#C8D4E3"
             },
             "line": {
              "color": "white"
             }
            },
            "type": "table"
           }
          ]
         },
         "layout": {
          "annotationdefaults": {
           "arrowcolor": "#2a3f5f",
           "arrowhead": 0,
           "arrowwidth": 1
          },
          "colorscale": {
           "diverging": [
            [
             0,
             "#8e0152"
            ],
            [
             0.1,
             "#c51b7d"
            ],
            [
             0.2,
             "#de77ae"
            ],
            [
             0.3,
             "#f1b6da"
            ],
            [
             0.4,
             "#fde0ef"
            ],
            [
             0.5,
             "#f7f7f7"
            ],
            [
             0.6,
             "#e6f5d0"
            ],
            [
             0.7,
             "#b8e186"
            ],
            [
             0.8,
             "#7fbc41"
            ],
            [
             0.9,
             "#4d9221"
            ],
            [
             1,
             "#276419"
            ]
           ],
           "sequential": [
            [
             0,
             "#0d0887"
            ],
            [
             0.1111111111111111,
             "#46039f"
            ],
            [
             0.2222222222222222,
             "#7201a8"
            ],
            [
             0.3333333333333333,
             "#9c179e"
            ],
            [
             0.4444444444444444,
             "#bd3786"
            ],
            [
             0.5555555555555556,
             "#d8576b"
            ],
            [
             0.6666666666666666,
             "#ed7953"
            ],
            [
             0.7777777777777778,
             "#fb9f3a"
            ],
            [
             0.8888888888888888,
             "#fdca26"
            ],
            [
             1,
             "#f0f921"
            ]
           ],
           "sequentialminus": [
            [
             0,
             "#0d0887"
            ],
            [
             0.1111111111111111,
             "#46039f"
            ],
            [
             0.2222222222222222,
             "#7201a8"
            ],
            [
             0.3333333333333333,
             "#9c179e"
            ],
            [
             0.4444444444444444,
             "#bd3786"
            ],
            [
             0.5555555555555556,
             "#d8576b"
            ],
            [
             0.6666666666666666,
             "#ed7953"
            ],
            [
             0.7777777777777778,
             "#fb9f3a"
            ],
            [
             0.8888888888888888,
             "#fdca26"
            ],
            [
             1,
             "#f0f921"
            ]
           ]
          },
          "colorway": [
           "#636efa",
           "#EF553B",
           "#00cc96",
           "#ab63fa",
           "#FFA15A",
           "#19d3f3",
           "#FF6692",
           "#B6E880",
           "#FF97FF",
           "#FECB52"
          ],
          "font": {
           "color": "#2a3f5f"
          },
          "geo": {
           "bgcolor": "white",
           "lakecolor": "white",
           "landcolor": "#E5ECF6",
           "showlakes": true,
           "showland": true,
           "subunitcolor": "white"
          },
          "hoverlabel": {
           "align": "left"
          },
          "hovermode": "closest",
          "mapbox": {
           "style": "light"
          },
          "paper_bgcolor": "white",
          "plot_bgcolor": "#E5ECF6",
          "polar": {
           "angularaxis": {
            "gridcolor": "white",
            "linecolor": "white",
            "ticks": ""
           },
           "bgcolor": "#E5ECF6",
           "radialaxis": {
            "gridcolor": "white",
            "linecolor": "white",
            "ticks": ""
           }
          },
          "scene": {
           "xaxis": {
            "backgroundcolor": "#E5ECF6",
            "gridcolor": "white",
            "gridwidth": 2,
            "linecolor": "white",
            "showbackground": true,
            "ticks": "",
            "zerolinecolor": "white"
           },
           "yaxis": {
            "backgroundcolor": "#E5ECF6",
            "gridcolor": "white",
            "gridwidth": 2,
            "linecolor": "white",
            "showbackground": true,
            "ticks": "",
            "zerolinecolor": "white"
           },
           "zaxis": {
            "backgroundcolor": "#E5ECF6",
            "gridcolor": "white",
            "gridwidth": 2,
            "linecolor": "white",
            "showbackground": true,
            "ticks": "",
            "zerolinecolor": "white"
           }
          },
          "shapedefaults": {
           "line": {
            "color": "#2a3f5f"
           }
          },
          "ternary": {
           "aaxis": {
            "gridcolor": "white",
            "linecolor": "white",
            "ticks": ""
           },
           "baxis": {
            "gridcolor": "white",
            "linecolor": "white",
            "ticks": ""
           },
           "bgcolor": "#E5ECF6",
           "caxis": {
            "gridcolor": "white",
            "linecolor": "white",
            "ticks": ""
           }
          },
          "title": {
           "x": 0.05
          },
          "xaxis": {
           "automargin": true,
           "gridcolor": "white",
           "linecolor": "white",
           "ticks": "",
           "zerolinecolor": "white",
           "zerolinewidth": 2
          },
          "yaxis": {
           "automargin": true,
           "gridcolor": "white",
           "linecolor": "white",
           "ticks": "",
           "zerolinecolor": "white",
           "zerolinewidth": 2
          }
         }
        },
        "title": {
         "text": "Comparison of Models in predicting bridges with respect to deck"
        },
        "xaxis": {
         "anchor": "y2",
         "domain": [
          0,
          1
         ],
         "zeroline": false
        },
        "yaxis": {
         "anchor": "free",
         "domain": [
          0,
          1
         ],
         "position": 0
        }
       }
      },
      "text/html": [
       "<div>\n",
       "        \n",
       "        \n",
       "            <div id=\"1861f96b-14df-429b-ade7-b6b28a88b7f4\" class=\"plotly-graph-div\" style=\"height:525px; width:100%;\"></div>\n",
       "            <script type=\"text/javascript\">\n",
       "                require([\"plotly\"], function(Plotly) {\n",
       "                    window.PLOTLYENV=window.PLOTLYENV || {};\n",
       "                    \n",
       "                if (document.getElementById(\"1861f96b-14df-429b-ade7-b6b28a88b7f4\")) {\n",
       "                    Plotly.newPlot(\n",
       "                        '1861f96b-14df-429b-ade7-b6b28a88b7f4',\n",
       "                        [{\"autobinx\": false, \"histnorm\": \"probability density\", \"legendgroup\": \"True RandomForest\", \"marker\": {\"color\": \"#A56CC1\"}, \"name\": \"True RandomForest\", \"opacity\": 0.7, \"type\": \"histogram\", \"x\": [8, 5, 8, 8, 6, 5, 7, 6, 7, 7, 7, 6, 7, 7, 6, 7, 6, 6, 5, 5, 7, 6, 6, 6, 7, 6, 7, 7, 7, 9, 7, 7, 6, 7, 6, 7, 4, 8], \"xaxis\": \"x\", \"xbins\": {\"end\": 9.0, \"size\": 0.2, \"start\": 4.0}, \"yaxis\": \"y\"}, {\"autobinx\": false, \"histnorm\": \"probability density\", \"legendgroup\": \"True FlowChart\", \"marker\": {\"color\": \"#A6ACEC\"}, \"name\": \"True FlowChart\", \"opacity\": 0.7, \"type\": \"histogram\", \"x\": [7, 5, 8, 7, 9, 9, 9], \"xaxis\": \"x\", \"xbins\": {\"end\": 9.0, \"size\": 0.2, \"start\": 5.0}, \"yaxis\": \"y\"}, {\"legendgroup\": \"True RandomForest\", \"marker\": {\"color\": \"#A56CC1\"}, \"mode\": \"lines\", \"name\": \"True RandomForest\", \"showlegend\": false, \"type\": \"scatter\", \"x\": [4.0, 4.01, 4.02, 4.03, 4.04, 4.05, 4.06, 4.07, 4.08, 4.09, 4.1, 4.11, 4.12, 4.13, 4.14, 4.15, 4.16, 4.17, 4.18, 4.19, 4.2, 4.21, 4.22, 4.23, 4.24, 4.25, 4.26, 4.27, 4.28, 4.29, 4.3, 4.31, 4.32, 4.33, 4.34, 4.35, 4.36, 4.37, 4.38, 4.39, 4.4, 4.41, 4.42, 4.43, 4.44, 4.45, 4.46, 4.47, 4.48, 4.49, 4.5, 4.51, 4.52, 4.53, 4.54, 4.55, 4.5600000000000005, 4.57, 4.58, 4.59, 4.6, 4.61, 4.62, 4.63, 4.64, 4.65, 4.66, 4.67, 4.68, 4.6899999999999995, 4.7, 4.71, 4.72, 4.73, 4.74, 4.75, 4.76, 4.77, 4.78, 4.79, 4.8, 4.8100000000000005, 4.82, 4.83, 4.84, 4.85, 4.86, 4.87, 4.88, 4.89, 4.9, 4.91, 4.92, 4.93, 4.9399999999999995, 4.95, 4.96, 4.97, 4.98, 4.99, 5.0, 5.01, 5.02, 5.03, 5.04, 5.05, 5.0600000000000005, 5.07, 5.08, 5.09, 5.1, 5.11, 5.12, 5.13, 5.14, 5.15, 5.16, 5.17, 5.18, 5.1899999999999995, 5.2, 5.21, 5.22, 5.23, 5.24, 5.25, 5.26, 5.27, 5.28, 5.29, 5.3, 5.3100000000000005, 5.32, 5.33, 5.34, 5.35, 5.36, 5.37, 5.38, 5.39, 5.4, 5.41, 5.42, 5.43, 5.4399999999999995, 5.45, 5.46, 5.47, 5.48, 5.49, 5.5, 5.51, 5.52, 5.53, 5.54, 5.55, 5.5600000000000005, 5.57, 5.58, 5.59, 5.6, 5.61, 5.62, 5.63, 5.64, 5.65, 5.66, 5.67, 5.68, 5.6899999999999995, 5.7, 5.71, 5.72, 5.73, 5.74, 5.75, 5.76, 5.77, 5.78, 5.79, 5.8, 5.8100000000000005, 5.82, 5.83, 5.84, 5.85, 5.86, 5.87, 5.88, 5.89, 5.9, 5.91, 5.92, 5.93, 5.9399999999999995, 5.95, 5.96, 5.97, 5.98, 5.99, 6.0, 6.01, 6.02, 6.029999999999999, 6.04, 6.05, 6.0600000000000005, 6.07, 6.08, 6.09, 6.1, 6.109999999999999, 6.12, 6.13, 6.140000000000001, 6.15, 6.16, 6.17, 6.18, 6.1899999999999995, 6.2, 6.21, 6.220000000000001, 6.23, 6.24, 6.25, 6.26, 6.27, 6.279999999999999, 6.29, 6.3, 6.3100000000000005, 6.32, 6.33, 6.34, 6.35, 6.359999999999999, 6.37, 6.38, 6.390000000000001, 6.4, 6.41, 6.42, 6.43, 6.4399999999999995, 6.45, 6.46, 6.470000000000001, 6.48, 6.49, 6.5, 6.51, 6.52, 6.529999999999999, 6.54, 6.55, 6.5600000000000005, 6.57, 6.58, 6.59, 6.6, 6.609999999999999, 6.62, 6.63, 6.640000000000001, 6.65, 6.66, 6.67, 6.68, 6.6899999999999995, 6.7, 6.71, 6.720000000000001, 6.73, 6.74, 6.75, 6.76, 6.77, 6.779999999999999, 6.79, 6.8, 6.8100000000000005, 6.82, 6.83, 6.84, 6.85, 6.859999999999999, 6.87, 6.88, 6.890000000000001, 6.9, 6.91, 6.92, 6.93, 6.9399999999999995, 6.95, 6.96, 6.970000000000001, 6.98, 6.99, 7.0, 7.01, 7.02, 7.029999999999999, 7.04, 7.05, 7.0600000000000005, 7.07, 7.08, 7.09, 7.1, 7.109999999999999, 7.12, 7.13, 7.140000000000001, 7.15, 7.16, 7.17, 7.18, 7.1899999999999995, 7.2, 7.21, 7.220000000000001, 7.23, 7.24, 7.25, 7.26, 7.27, 7.279999999999999, 7.29, 7.3, 7.3100000000000005, 7.32, 7.33, 7.34, 7.35, 7.359999999999999, 7.37, 7.38, 7.390000000000001, 7.4, 7.41, 7.42, 7.43, 7.4399999999999995, 7.45, 7.46, 7.470000000000001, 7.48, 7.49, 7.5, 7.51, 7.52, 7.529999999999999, 7.54, 7.55, 7.5600000000000005, 7.57, 7.58, 7.59, 7.6, 7.609999999999999, 7.62, 7.63, 7.640000000000001, 7.65, 7.66, 7.67, 7.68, 7.6899999999999995, 7.7, 7.71, 7.720000000000001, 7.73, 7.74, 7.75, 7.76, 7.77, 7.779999999999999, 7.79, 7.8, 7.8100000000000005, 7.82, 7.83, 7.84, 7.85, 7.859999999999999, 7.87, 7.88, 7.890000000000001, 7.9, 7.91, 7.92, 7.93, 7.9399999999999995, 7.95, 7.96, 7.970000000000001, 7.98, 7.99, 8.0, 8.01, 8.02, 8.030000000000001, 8.04, 8.05, 8.059999999999999, 8.07, 8.08, 8.09, 8.1, 8.11, 8.120000000000001, 8.129999999999999, 8.14, 8.15, 8.16, 8.17, 8.18, 8.190000000000001, 8.2, 8.21, 8.219999999999999, 8.23, 8.24, 8.25, 8.26, 8.27, 8.280000000000001, 8.29, 8.3, 8.309999999999999, 8.32, 8.33, 8.34, 8.35, 8.36, 8.370000000000001, 8.379999999999999, 8.39, 8.4, 8.41, 8.42, 8.43, 8.440000000000001, 8.45, 8.46, 8.469999999999999, 8.48, 8.49, 8.5, 8.51, 8.52, 8.530000000000001, 8.54, 8.55, 8.559999999999999, 8.57, 8.58, 8.59, 8.6, 8.61, 8.620000000000001, 8.629999999999999, 8.64, 8.65, 8.66, 8.67, 8.68, 8.690000000000001, 8.7, 8.71, 8.719999999999999, 8.73, 8.74, 8.75, 8.76, 8.77, 8.780000000000001, 8.79, 8.8, 8.809999999999999, 8.82, 8.83, 8.84, 8.85, 8.86, 8.870000000000001, 8.879999999999999, 8.89, 8.9, 8.91, 8.92, 8.93, 8.940000000000001, 8.95, 8.96, 8.969999999999999, 8.98, 8.99], \"xaxis\": \"x\", \"y\": [0.032051681328838365, 0.03249914236142953, 0.03295232248843294, 0.03341148692652326, 0.033876904706906664, 0.0343488479617055, 0.034827591182334604, 0.035313410451934854, 0.03580658265408528, 0.036307384660172845, 0.0368160924979458, 0.03733298050392237, 0.03785832046246234, 0.038392380734440255, 0.03893542537857837, 0.03948771326861283, 0.040049497209567006, 0.04062102305650186, 0.041202528839191545, 0.04179424389624639, 0.042396388022260395, 0.043009170631608466, 0.043632789942548024, 0.04426743218530039, 0.04491327083778832, 0.04557046589269907, 0.046239163159511744, 0.046919493605091143, 0.04761157273639003, 0.04831550002873084, 0.04903135840304898, 0.049759213755374, 0.050499114541706636, 0.05125109142131003, 0.052015156961284774, 0.052791305405125166, 0.05357951250777347, 0.05437973543949021, 0.05519191276064429, 0.05601596446930029, 0.05685179212323961, 0.05769927903779747, 0.058558290560634184, 0.059428674424278335, 0.060310261176993285, 0.06120286469222168, 0.06210628275655399, 0.06302029773585224, 0.06394467731884244, 0.06487917533715856, 0.06582353266049334, 0.06677747816517302, 0.06774072977414317, 0.06871299556600961, 0.06969397495044738, 0.0706833599069573, 0.07168083628361552, 0.07268608515214289, 0.07369878421529866, 0.07471860926229354, 0.07574523566761875, 0.07677833992839356, 0.07781760123506118, 0.07886270306999639, 0.07991333482833932, 0.0809691934551391, 0.08202998509267742, 0.0830954267316463, 0.08416524785967842, 0.08523919210058009, 0.08631701883748198, 0.08739850481302008, 0.08848344569957652, 0.08957165763255559, 0.09066297869964011, 0.09175727037897374, 0.09285441891923996, 0.09395433665466445, 0.09505696324805221, 0.09616226685508256, 0.09727024520323291, 0.0983809265788677, 0.09949437071623995, 0.10061066958237914, 0.10172994805210385, 0.10285236446768417, 0.10397811107800567, 0.10510741435242124, 0.10624053516486646, 0.10737776884419642, 0.10851944508714215, 0.10966592773072463, 0.11081761438143953, 0.11197493589901694, 0.1131383557330747, 0.11430836911151443, 0.11548550208005441, 0.11667031039286009, 0.11786337825480372, 0.11906531691646945, 0.12027676312361972, 0.12149837742343102, 0.12273084233041864, 0.12397486035557286, 0.12523115190283174, 0.12650045303762628, 0.12778351313282296, 0.129081092397979, 0.1303939592984101, 0.13172288787112743, 0.13306865494525608, 0.13443203727507866, 0.1358138085943546, 0.13721473660106023, 0.13863557988215272, 0.14007708478839648, 0.1415399822696979, 0.14302498468176483, 0.14453278257524485, 0.1460640414787993, 0.14761939868783297, 0.14919946007082008, 0.15080479690535414, 0.15243594275617808, 0.15409339040755127, 0.15577758886235576, 0.15748894042033776, 0.15922779784784094, 0.16099446165128395, 0.1627891774664901, 0.1646121335757853, 0.16646345856452524, 0.16834321912842676, 0.17025141804272745, 0.17218799230380483, 0.1741528114534431, 0.1761456760954484, 0.17816631661376872, 0.18021439210070708, 0.18228948950317325, 0.18439112299426616, 0.18651873357676543, 0.18867168892436478, 0.1908492834656993, 0.19305073871540498, 0.19527520385560299, 0.1975217565703265, 0.1997894041345146, 0.2020770847582735, 0.2043836691861657, 0.20670796255034862, 0.2090487064753976, 0.2114045814316943, 0.21377420933327937, 0.21615615637508398, 0.21854893610349785, 0.22095101271324452, 0.22336080456259788, 0.2257766878980265, 0.22819700077842925, 0.23062004718823453, 0.23304410132776382, 0.23546741206841443, 0.23788820755942477, 0.24030469997220424, 0.24271509036749642, 0.24511757366995748, 0.24751034373411152, 0.24989159848505219, 0.2522595451167497, 0.2546124053303484, 0.2569484205944394, 0.2592658574089501, 0.26156301255400916, 0.26383821830494864, 0.2660898475944503, 0.26831631910278253, 0.27051610225706607, 0.27268772212059317, 0.27482976415335547, 0.2769408788251725, 0.279019786063093, 0.2810652795151157, 0.2830762306127214, 0.2850515924152045, 0.2869904032193956, 0.28889178991900716, 0.29075497109855536, 0.2925792598476094, 0.2943640662819549, 0.29610889975918087, 0.2978133707771651, 0.2994771925449593, 0.30110018221664714, 0.3026822617798799, 0.30422345859195754, 0.3057239055575303, 0.3071838409432518, 0.30860360782596935, 0.3099836531723615, 0.31132452654924436, 0.3126268784651093, 0.3138914583448118, 0.31511911214069416, 0.31631077958477044, 0.3174674910879797, 0.3185903642938477, 0.3196806002952326, 0.3207394795241512, 0.321768357325962, 0.3227686592304453, 0.32374187593354625, 0.3246895580047165, 0.32561331033594537, 0.3265147863496445, 0.3273956819835825, 0.3282577294720539, 0.3291026909433478, 0.32993235185445546, 0.3307485142846961, 0.3315529901106604, 0.3323475940854664, 0.3331341368458738, 0.33391441787124615, 0.3346902184187193, 0.3354632944592091, 0.33623536963908185, 0.33700812829240295, 0.3377832085286894, 0.3385621954209957, 0.33934661431898605, 0.34013792431136547, 0.34093751186168597, 0.3417466846410654, 0.34256666558083254, 0.3433985871674455, 0.34424348600133414, 0.3451022976404814, 0.3459758517486869, 0.3468648675674749, 0.3477699497295647, 0.34869158443070913, 0.34963013597551046, 0.3505858437115913, 0.35155881936516586, 0.35254904478971855, 0.35355637013806646, 0.3545805124666403, 0.35562105477930483, 0.3566774455165378, 0.3577489984942049, 0.3588348932946097, 0.35993417611089196, 0.36104576104426117, 0.3621684318519298, 0.36330084414202063, 0.36444152801012264, 0.365588891110598, 0.3667412221541777, 0.3678966948218606, 0.3690533720836273, 0.3702092109090333, 0.3713620673553169, 0.37250970201731287, 0.3736497858221402, 0.37477990615039286, 0.37589757326438444, 0.37700022702287356, 0.378085243860678, 0.3791499440106081, 0.3801915989442915, 0.38120743900765225, 0.3821946612261257, 0.38315043725405684, 0.3840719214422338, 0.38495625899707187, 0.38580059420464463, 0.38660207869253244, 0.3873578797023329, 0.3880651883456466, 0.38872122781642676, 0.38932326153275454, 0.38986860118136646, 0.3903546146386328, 0.39077873374214706, 0.3911384618876386, 0.39143138142657813, 0.3916551608405701, 0.39180756166946024, 0.3918864451709782, 0.39188977869073033, 0.39181564172240485, 0.39166223163918484, 0.3914278690785552, 0.39111100296394324, 0.3907102151479436, 0.39022422466323614, 0.38965189156871155, 0.3889922203797637, 0.3882443630731857, 0.38740762165860915, 0.3864814503099659, 0.3854654570519715, 0.3843594049982145, 0.38316321313896357, 0.3818769566783802, 0.3805008669223589, 0.37903533071976175, 0.37748088946131225, 0.37583823764191654, 0.3741082209936268, 0.37229183419788114, 0.3703902181870422, 0.36840465704657316, 0.3663365745304843, 0.36418753020389905, 0.3619592152277518, 0.3596534478017325, 0.3572721682826253, 0.35481743399613896, 0.3522914137612265, 0.3496963821466903, 0.34703471348059156, 0.3443088756336515, 0.3415214235983682, 0.33867499288607106, 0.33577229276452175, 0.3328160993589712, 0.3298092486398136, 0.3267546293201004, 0.3236551756862337, 0.3205138603851066, 0.3173336871908588, 0.3141176837741783, 0.31086889449682553, 0.30759037325366295, 0.30428517638405395, 0.3009563556739569, 0.29760695146947147, 0.29423998592192163, 0.29085845638385616, 0.2874653289745491, 0.284063532332757, 0.28065595157359513, 0.27724542246544454, 0.27383472584183316, 0.2704265822621938, 0.2670236469343465, 0.26362850491046036, 0.2602436665671282, 0.2568715633790481, 0.2535145439946487, 0.2501748706208173, 0.246854715722724, 0.24355615904354186, 0.24028118494769024, 0.23703168009004819, 0.23380943141243443, 0.230616124467482, 0.22745334206892634, 0.22432256326620373, 0.22122516264018732, 0.21816240991582958, 0.21513546988647675, 0.21214540264362636, 0.2091931641049814, 0.20627960683274313, 0.20340548113324405, 0.20057143642822778, 0.1977780228873215, 0.19502569331056133, 0.19231480524918193, 0.18964562335229931, 0.1870183219265836, 0.1844329876955475, 0.18188962274466366, 0.17938814763817124, 0.17692840469313262, 0.17451016139607053, 0.17213311394733824, 0.1697968909182524, 0.16750105700596402, 0.16524511687103746, 0.16302851904275228, 0.16085065987726166, 0.1587108875538871, 0.15660850609504792, 0.15454277939557579, 0.15251293524747886, 0.1505181693465604, 0.14855764926770354, 0.14663051839605162, 0.14473589980180027, 0.14287290004681297, 0.14104061291181427, 0.13923812303348307, 0.13746450944136338, 0.1357188489851225, 0.13400021964333825, 0.13230770370563638, 0.13064039082068826, 0.12899738090325152, 0.1273777868941328, 0.1257807373676511, 0.12420537898188481, 0.12265087876767866, 0.12111642625310662, 0.119601235420756, 0.11810454649591713, 0.11662562756440996, 0.11516377601947322, 0.11371831983777328, 0.11228861868523464, 0.11087406485400814, 0.10947408403248203, 0.10808813591082966, 0.10671571462510955, 0.10535634904348733, 0.10400960289861551, 0.10267507477069604, 0.10135239792617343, 0.10004124001741882, 0.09874130264914617, 0.09745232081762903, 0.09617406222911992, 0.09490632650412957, 0.09364894427448632, 0.09240177618029659, 0.09116471177411005, 0.08993766833973905, 0.08872058963328856, 0.08751344455404562, 0.08631622575290576, 0.08512894818605522, 0.08395164762159028, 0.08278437910673098, 0.08162721540320203, 0.08048024539826411, 0.07934357249874438, 0.0782173130152674, 0.07710159454371968, 0.07599655435076567, 0.074902337770035, 0.07381909661534451, 0.07274698761707318, 0.07168617088752545, 0.07063680842083206, 0.06959906263264076, 0.06857309494451744, 0.06755906441767355, 0.06655712644027942, 0.06556743147229764, 0.06459012385141225, 0.06362534066327957, 0.06267321067897395, 0.061733853362137325, 0.06080737794799806, 0.05989388259605045, 0.05899345361785752, 0.058106164781068496, 0.05723207669041856, 0.05637123624613288, 0.05552367617983287, 0.05468941466772334, 0.0538684550205298, 0.053060785449362546, 0.052266378906388924, 0.05148519299893322, 0.05071716997535576, 0.0499622367808222, 0.04922030518084085, 0.048491271950229266, 0.04777501912497782, 0.047071414314282134, 0.04638031106986344, 0.045701549309529264, 0.04503495579180533, 0.044380344638343096, 0.043737517900709254, 0.0431062661680802, 0.04248636921229064, 0.041877596666643355, 0.0412797087348383, 0.04069245692637273, 0.04011558481474666, 0.039548828814827616, 0.03899191897574667, 0.03844457978573958, 0.03790653098539692, 0.037377488385850866, 0.036857164688506576, 0.036345270303007465, 0.035841514160229286, 0.03534560451720191, 0.034857249750978044, 0.03437615913859401, 0.03390204362040099, 0.0334346165441908, 0.03297359438768014, 0.03251869745708014], \"yaxis\": \"y\"}, {\"legendgroup\": \"True FlowChart\", \"marker\": {\"color\": \"#A6ACEC\"}, \"mode\": \"lines\", \"name\": \"True FlowChart\", \"showlegend\": false, \"type\": \"scatter\", \"x\": [5.0, 5.008, 5.016, 5.024, 5.032, 5.04, 5.048, 5.056, 5.064, 5.072, 5.08, 5.088, 5.096, 5.104, 5.112, 5.12, 5.128, 5.136, 5.144, 5.152, 5.16, 5.168, 5.176, 5.184, 5.192, 5.2, 5.208, 5.216, 5.224, 5.232, 5.24, 5.248, 5.256, 5.264, 5.272, 5.28, 5.288, 5.296, 5.304, 5.312, 5.32, 5.328, 5.336, 5.344, 5.352, 5.36, 5.368, 5.376, 5.384, 5.392, 5.4, 5.408, 5.416, 5.424, 5.432, 5.44, 5.448, 5.456, 5.464, 5.4719999999999995, 5.48, 5.4879999999999995, 5.496, 5.504, 5.5120000000000005, 5.52, 5.5280000000000005, 5.536, 5.5440000000000005, 5.552, 5.5600000000000005, 5.568, 5.576, 5.584, 5.592, 5.6, 5.608, 5.616, 5.624, 5.632, 5.64, 5.648, 5.656, 5.664, 5.672, 5.68, 5.688, 5.696, 5.704, 5.712, 5.72, 5.728, 5.736, 5.744, 5.752, 5.76, 5.768, 5.776, 5.784, 5.792, 5.8, 5.808, 5.816, 5.824, 5.832, 5.84, 5.848, 5.856, 5.864, 5.872, 5.88, 5.888, 5.896, 5.904, 5.912, 5.92, 5.928, 5.936, 5.944, 5.952, 5.96, 5.968, 5.976, 5.984, 5.992, 6.0, 6.008, 6.016, 6.024, 6.032, 6.04, 6.048, 6.056, 6.064, 6.072, 6.08, 6.088, 6.096, 6.104, 6.112, 6.12, 6.128, 6.136, 6.144, 6.152, 6.16, 6.168, 6.176, 6.184, 6.192, 6.2, 6.208, 6.216, 6.224, 6.232, 6.24, 6.248, 6.256, 6.264, 6.272, 6.28, 6.288, 6.296, 6.304, 6.312, 6.32, 6.328, 6.336, 6.344, 6.352, 6.36, 6.368, 6.3759999999999994, 6.384, 6.3919999999999995, 6.4, 6.4079999999999995, 6.416, 6.4239999999999995, 6.432, 6.4399999999999995, 6.448, 6.4559999999999995, 6.464, 6.4719999999999995, 6.48, 6.4879999999999995, 6.496, 6.504, 6.5120000000000005, 6.52, 6.5280000000000005, 6.536, 6.5440000000000005, 6.552, 6.5600000000000005, 6.568, 6.5760000000000005, 6.584, 6.5920000000000005, 6.6, 6.6080000000000005, 6.616, 6.6240000000000006, 6.632, 6.64, 6.648, 6.656, 6.664, 6.672, 6.68, 6.688, 6.696, 6.704, 6.712, 6.72, 6.728, 6.736, 6.744, 6.752, 6.76, 6.768, 6.776, 6.784, 6.792, 6.8, 6.808, 6.816, 6.824, 6.832, 6.84, 6.848, 6.856, 6.864, 6.872, 6.88, 6.888, 6.896, 6.904, 6.912, 6.92, 6.928, 6.936, 6.944, 6.952, 6.96, 6.968, 6.976, 6.984, 6.992, 7.0, 7.008, 7.016, 7.024, 7.032, 7.04, 7.048, 7.056, 7.064, 7.072, 7.08, 7.088, 7.096, 7.104, 7.112, 7.12, 7.128, 7.136, 7.144, 7.152, 7.16, 7.168, 7.176, 7.184, 7.192, 7.2, 7.208, 7.216, 7.224, 7.232, 7.24, 7.248, 7.256, 7.263999999999999, 7.272, 7.279999999999999, 7.288, 7.295999999999999, 7.304, 7.311999999999999, 7.32, 7.327999999999999, 7.336, 7.343999999999999, 7.352, 7.359999999999999, 7.368, 7.3759999999999994, 7.384, 7.3919999999999995, 7.4, 7.4079999999999995, 7.416, 7.4239999999999995, 7.432, 7.4399999999999995, 7.448, 7.4559999999999995, 7.464, 7.4719999999999995, 7.48, 7.4879999999999995, 7.496, 7.504, 7.5120000000000005, 7.52, 7.5280000000000005, 7.536, 7.5440000000000005, 7.552, 7.5600000000000005, 7.568, 7.5760000000000005, 7.584, 7.5920000000000005, 7.6, 7.6080000000000005, 7.616, 7.6240000000000006, 7.632, 7.640000000000001, 7.648, 7.656000000000001, 7.664, 7.672000000000001, 7.68, 7.688000000000001, 7.696, 7.704000000000001, 7.712, 7.720000000000001, 7.728, 7.736000000000001, 7.744, 7.752, 7.76, 7.768, 7.776, 7.784, 7.792, 7.8, 7.808, 7.816, 7.824, 7.832, 7.84, 7.848, 7.856, 7.864, 7.872, 7.88, 7.888, 7.896, 7.904, 7.912, 7.92, 7.928, 7.936, 7.944, 7.952, 7.96, 7.968, 7.976, 7.984, 7.992, 8.0, 8.008, 8.016, 8.024000000000001, 8.032, 8.04, 8.048, 8.056000000000001, 8.064, 8.072, 8.08, 8.088000000000001, 8.096, 8.104, 8.112, 8.120000000000001, 8.128, 8.136, 8.144, 8.152000000000001, 8.16, 8.168, 8.176, 8.184000000000001, 8.192, 8.2, 8.208, 8.216000000000001, 8.224, 8.232, 8.24, 8.248000000000001, 8.256, 8.264, 8.272, 8.28, 8.288, 8.296, 8.304, 8.312, 8.32, 8.328, 8.336, 8.344, 8.352, 8.36, 8.368, 8.376, 8.384, 8.392, 8.4, 8.408, 8.416, 8.424, 8.432, 8.44, 8.448, 8.456, 8.464, 8.472, 8.48, 8.488, 8.496, 8.504, 8.512, 8.52, 8.528, 8.536, 8.544, 8.552, 8.56, 8.568, 8.576, 8.584, 8.592, 8.6, 8.608, 8.616, 8.624, 8.632, 8.64, 8.648, 8.656, 8.664, 8.672, 8.68, 8.688, 8.696, 8.704, 8.712, 8.72, 8.728, 8.736, 8.744, 8.751999999999999, 8.76, 8.768, 8.776, 8.783999999999999, 8.792, 8.8, 8.808, 8.815999999999999, 8.824, 8.832, 8.84, 8.847999999999999, 8.856, 8.864, 8.872, 8.879999999999999, 8.888, 8.896, 8.904, 8.911999999999999, 8.92, 8.928, 8.936, 8.943999999999999, 8.952, 8.96, 8.968, 8.975999999999999, 8.984, 8.992], \"xaxis\": \"x\", \"y\": [0.07305328045120361, 0.07332184803888067, 0.07359023295009627, 0.07385845735361969, 0.07412654384862592, 0.07439451545672547, 0.07466239561376328, 0.07493020816139039, 0.07519797733840979, 0.07546572777190118, 0.07573348446812629, 0.07600127280321924, 0.07626911851366447, 0.07653704768656702, 0.07680508674971706, 0.07707326246145471, 0.07734160190033705, 0.07761013245461292, 0.07787888181150873, 0.07814787794633038, 0.07841714911138503, 0.07868672382472797, 0.0789566308587385, 0.07922689922853049, 0.07949755818020189, 0.07976863717892824, 0.08004016589690581, 0.080312174201149, 0.0805846921411477, 0.0808577499363899, 0.08113137796375507, 0.08140560674478407, 0.08168046693283117, 0.08195598930010382, 0.08223220472459664, 0.08250914417692491, 0.08278683870706398, 0.08306531943100083, 0.08334461751730368, 0.083624764173616, 0.08390579063308161, 0.08418772814070666, 0.0844706079396657, 0.08475446125755756, 0.08503931929261829, 0.08532521319989747, 0.08561217407740455, 0.08590023295223224, 0.08618942076666318, 0.08647976836426714, 0.08677130647599574, 0.08706406570628061, 0.08735807651914307, 0.0876533692243215, 0.08794997396342343, 0.08824792069610946, 0.08854723918631574, 0.08884795898852225, 0.0891501094340735, 0.0894537196175588, 0.08975881838325912, 0.09006543431166693, 0.0903735957060873, 0.09068333057932479, 0.09099466664046607, 0.09130763128176192, 0.0916222515656185, 0.09193855421170162, 0.0922565655841639, 0.09257631167899845, 0.09289781811152846, 0.09322111010403698, 0.09354621247354557, 0.09387314961974616, 0.09420194551309458, 0.09453262368307054, 0.09486520720661137, 0.09519971869672508, 0.09553618029128934, 0.09587461364204213, 0.09621503990377023, 0.09655747972370127, 0.096901953231105, 0.09724848002711012, 0.09759707917474113, 0.09794776918918206, 0.09830056802827095, 0.0986554930832317, 0.09901256116964748, 0.09937178851868124, 0.09973319076854786, 0.10009678295624319, 0.10046257950953393, 0.10083059423921373, 0.1012008403316289, 0.10157333034147895, 0.10194807618489533, 0.10232508913280261, 0.1027043798045657, 0.10308595816192766, 0.10346983350323984, 0.10385601445798943, 0.10424450898162682, 0.10463532435069572, 0.10502846715826923, 0.10542394330969428, 0.10582175801864739, 0.10622191580350349, 0.10662442048402052, 0.10702927517834175, 0.10743648230031752, 0.1078460435571479, 0.10825795994734844, 0.10867223175903969, 0.10908885856856158, 0.10950783923941439, 0.10992917192152625, 0.11035285405084787, 0.11077888234927566, 0.11120725282490262, 0.11163796077259722, 0.11207100077491026, 0.11250636670330981, 0.11294405171974248, 0.11338404827852173, 0.11382634812854131, 0.1142709423158132, 0.11471782118632848, 0.11516697438924044, 0.11561839088036674, 0.11607205892601069, 0.11652796610709812, 0.11698609932362833, 0.11744644479943656, 0.11790898808726548, 0.11837371407414296, 0.11884060698706302, 0.11930965039896683, 0.1197808272350207, 0.12025411977918772, 0.12072950968108832, 0.12120697796314785, 0.12168650502802503, 0.12216807066631882, 0.12265165406454848, 0.1231372338134022, 0.12362478791625078, 0.12411429379791974, 0.12460572831371655, 0.125099067758707, 0.12559428787723528, 0.12609136387268294, 0.12659027041746052, 0.12709098166322652, 0.12759347125132775, 0.12809771232345488, 0.1286036775325073, 0.12911133905366026, 0.12962066859562948, 0.13013163741212463, 0.13064421631348688, 0.131158375678502, 0.13167408546638426, 0.13219131522892166, 0.13271003412277743, 0.13323021092193948, 0.13375181403031067, 0.1342748114944329, 0.1347991710163372, 0.13532485996651208, 0.13585184539698267, 0.13638009405449356, 0.13690957239378587, 0.13744024659096318, 0.13797208255693483, 0.13850504595093335, 0.13903910219409282, 0.13957421648308452, 0.14011035380379822, 0.14064747894506424, 0.14118555651240447, 0.14172455094180772, 0.142264426513518, 0.14280514736583022, 0.14334667750888214, 0.1438889808384375, 0.14443202114964893, 0.14497576215079447, 0.14552016747697852, 0.14606520070378942, 0.14661082536090397, 0.1471570049456336, 0.14770370293640028, 0.14825088280613724, 0.14879850803560365, 0.1493465421266083, 0.14989494861512997, 0.15044369108433145, 0.15099273317745465, 0.15154203861059234, 0.15209157118532632, 0.1526412948012267, 0.15319117346820138, 0.153741171318692, 0.15429125261970492, 0.1548413817846738, 0.15539152338514262, 0.15594164216226483, 0.15649170303811036, 0.1570416711267734, 0.15759151174527417, 0.1581411904242487, 0.15869067291841848, 0.15923992521683503, 0.15978891355289218, 0.1603376044140996, 0.16088596455161253, 0.1614339609895107, 0.16198156103382122, 0.1625287322812797, 0.1630754426278238, 0.16362166027681452, 0.16416735374697988, 0.16471249188007514, 0.16525704384825576, 0.16580097916115913, 0.1663442676726875, 0.1668868795874925, 0.16742878546715226, 0.16796995623604136, 0.1685103631868868, 0.16904997798600907, 0.16958877267824227, 0.17012671969153254, 0.17066379184121075, 0.17119996233393628, 0.1717352047713108, 0.17226949315315818, 0.1728028018804696, 0.17333510575801103, 0.17386637999659224, 0.1743966002149952, 0.17492574244156103, 0.1754537831154342, 0.17598069908746358, 0.17650646762075864, 0.17703106639090233, 0.17755447348581826, 0.178076667405294, 0.17859762706015966, 0.17911733177112305, 0.17963576126726158, 0.18015289568417175, 0.18066871556177835, 0.18118320184180325, 0.18169633586489672, 0.18220809936743226, 0.18271847447796805, 0.1832274437133752, 0.18373498997463794, 0.18424109654232637, 0.18474574707174565, 0.18524892558776454, 0.18575061647932659, 0.18625080449364764, 0.18674947473010342, 0.18724661263381107, 0.18774220398890853, 0.188236234911537, 0.18872869184253013, 0.18921956153981515, 0.18970883107053127, 0.1901964878028697, 0.19068251939764103, 0.19116691379957604, 0.19164965922836516, 0.1921307441694417, 0.1926101573645172, 0.19308788780187253, 0.19356392470641326, 0.19403825752949486, 0.1945108759385242, 0.19498176980634596, 0.19545092920041862, 0.19591834437178993, 0.1963840057438764, 0.19684790390105747, 0.1973100295770889, 0.19777037364334626, 0.19822892709690337, 0.19868568104845702, 0.19914062671010271, 0.19959375538297336, 0.20004505844474588, 0.20049452733702733, 0.2009421535526265, 0.20138792862272228, 0.20183184410393493, 0.202273891565312, 0.20271406257523525, 0.20315234868825993, 0.20358874143189323, 0.20402323229332436, 0.20445581270611102, 0.20488647403683669, 0.2053152075717434, 0.20574200450335325, 0.20616685591708508, 0.20658975277787858, 0.20701068591683208, 0.20742964601786743, 0.2078466236044277, 0.20826160902622026, 0.2086745924460129, 0.2090855638264937, 0.20949451291720295, 0.20990142924154875, 0.21030630208391257, 0.21070912047685839, 0.21110987318845065, 0.2115085487096937, 0.21190513524210008, 0.2122996206853985, 0.21269199262538885, 0.2130822383219559, 0.21347034469724827, 0.21385629832403397, 0.2142400854142398, 0.2146216918076847, 0.21500110296101468, 0.2153783039368497, 0.21575327939314887, 0.21612601357280536, 0.21649649029347576, 0.21686469293765637, 0.21723060444301032, 0.21759420729295736, 0.21795548350753113, 0.21831441463451398, 0.21867098174085486, 0.2190251654043806, 0.21937694570580382, 0.21972630222103892, 0.22007321401382998, 0.2204176596286991, 0.22075961708422107, 0.22109906386663083, 0.22143597692377057, 0.22177033265938237, 0.22210210692775123, 0.22243127502870655, 0.22275781170298484, 0.22308169112796106, 0.22340288691375282, 0.22372137209970241, 0.22403711915124155, 0.22435009995714303, 0.22466028582716435, 0.22496764749008571, 0.2252721550921483, 0.22557377819589514, 0.22587248577941757, 0.22616824623601203, 0.22646102737424836, 0.22675079641845342, 0.22703752000961214, 0.2273211642066876, 0.2276016944883633, 0.22787907575520822, 0.22815327233226657, 0.22842424797207364, 0.22869196585809812, 0.22895638860861242, 0.22921747828099073, 0.2294751963764352, 0.2297295038451308, 0.22998036109182718, 0.23022772798184948, 0.23047156384753362, 0.23071182749508887, 0.23094847721188372, 0.23118147077415477, 0.23141076545513625, 0.23163631803360873, 0.23185808480286357, 0.2320760215800825, 0.23229008371612708, 0.23250022610573703, 0.23270640319813338, 0.23290856900802231, 0.23310667712699687, 0.23330068073533194, 0.23349053261416916, 0.2336761851580848, 0.23385759038803916, 0.23403469996470033, 0.2342074652021377, 0.23437583708187973, 0.2345397662673305, 0.23469920311853912, 0.2348540977073155, 0.2350043998326871, 0.2351500590366888, 0.2352910246204805, 0.23542724566078457, 0.2355586710266366, 0.23568524939644162, 0.23580692927532834, 0.23592365901279458, 0.2360353868206345, 0.23614206079114028, 0.23624362891557077, 0.236340039102877, 0.2364312391986772, 0.23651717700447247, 0.23659780029709335, 0.23667305684836903, 0.23674289444500984, 0.23680726090869317, 0.23686610411634376, 0.2369193720205989, 0.23696701267044773, 0.23700897423203637, 0.23704520500962722, 0.23707565346670348, 0.23710026824720798, 0.23711899819690654, 0.23713179238486498, 0.2371386001250293, 0.23713937099789892, 0.23713405487228179, 0.23712260192712056, 0.23710496267338013, 0.23708108797598354, 0.2370509290757879, 0.23701443761158716, 0.2369715656421325, 0.23692226566815758, 0.23686649065439935, 0.2368041940516019, 0.23673532981849335, 0.23665985244372348, 0.23657771696775257, 0.23648887900467894, 0.23639329476399462, 0.23629092107225858, 0.2361817153946752, 0.2360656358565689, 0.23594264126474151, 0.23581269112870398, 0.23567574568176944, 0.23553176590199787, 0.2353807135329817, 0.23522255110446075, 0.23505724195275698, 0.23488475024101743, 0.2347050409792556, 0.2345180800441807, 0.23432383419880465, 0.23412227111181544, 0.2339133593767093, 0.23369706853066874, 0.2334733690731789, 0.23324223248437126, 0.23300363124308576, 0.232757538844641, 0.2325039298183048, 0.2322427797444535, 0.23197406527141404, 0.23169776413197696, 0.2314138551595736, 0.23112231830410854, 0.23082313464743806, 0.2305162864184874, 0.2302017570079985, 0.2298795309829005, 0.22954959410029457, 0.22921193332104683, 0.22886653682298114, 0.22851339401366552, 0.2281524955427844, 0.22778383331409055, 0.22740740049693045, 0.22702319153733683, 0.22663120216868185, 0.22623142942188532, 0.22582387163517298, 0.22540852846337914, 0.22498540088678826, 0.22455449121951024, 0.2241158031173868, 0.22366934158542204, 0.22321511298473454, 0.222753125039026, 0.22228338684056442, 0.22180590885567672, 0.22132070292974804, 0.22082778229172537, 0.22032716155812213, 0.2198188567365218], \"yaxis\": \"y\"}],\n",
       "                        {\"barmode\": \"overlay\", \"hovermode\": \"closest\", \"legend\": {\"traceorder\": \"reversed\"}, \"template\": {\"data\": {\"bar\": [{\"error_x\": {\"color\": \"#2a3f5f\"}, \"error_y\": {\"color\": \"#2a3f5f\"}, \"marker\": {\"line\": {\"color\": \"#E5ECF6\", \"width\": 0.5}}, \"type\": \"bar\"}], \"barpolar\": [{\"marker\": {\"line\": {\"color\": \"#E5ECF6\", \"width\": 0.5}}, \"type\": \"barpolar\"}], \"carpet\": [{\"aaxis\": {\"endlinecolor\": \"#2a3f5f\", \"gridcolor\": \"white\", \"linecolor\": \"white\", \"minorgridcolor\": \"white\", \"startlinecolor\": \"#2a3f5f\"}, \"baxis\": {\"endlinecolor\": \"#2a3f5f\", \"gridcolor\": \"white\", \"linecolor\": \"white\", \"minorgridcolor\": \"white\", \"startlinecolor\": \"#2a3f5f\"}, \"type\": \"carpet\"}], \"choropleth\": [{\"colorbar\": {\"outlinewidth\": 0, \"ticks\": \"\"}, \"type\": \"choropleth\"}], \"contour\": [{\"colorbar\": {\"outlinewidth\": 0, \"ticks\": \"\"}, \"colorscale\": [[0.0, \"#0d0887\"], [0.1111111111111111, \"#46039f\"], [0.2222222222222222, \"#7201a8\"], [0.3333333333333333, \"#9c179e\"], [0.4444444444444444, \"#bd3786\"], [0.5555555555555556, \"#d8576b\"], [0.6666666666666666, \"#ed7953\"], [0.7777777777777778, \"#fb9f3a\"], [0.8888888888888888, \"#fdca26\"], [1.0, \"#f0f921\"]], \"type\": \"contour\"}], \"contourcarpet\": [{\"colorbar\": {\"outlinewidth\": 0, \"ticks\": \"\"}, \"type\": \"contourcarpet\"}], \"heatmap\": [{\"colorbar\": {\"outlinewidth\": 0, \"ticks\": \"\"}, \"colorscale\": [[0.0, \"#0d0887\"], [0.1111111111111111, \"#46039f\"], [0.2222222222222222, \"#7201a8\"], [0.3333333333333333, \"#9c179e\"], [0.4444444444444444, \"#bd3786\"], [0.5555555555555556, \"#d8576b\"], [0.6666666666666666, \"#ed7953\"], [0.7777777777777778, \"#fb9f3a\"], [0.8888888888888888, \"#fdca26\"], [1.0, \"#f0f921\"]], \"type\": \"heatmap\"}], \"heatmapgl\": [{\"colorbar\": {\"outlinewidth\": 0, \"ticks\": \"\"}, \"colorscale\": [[0.0, \"#0d0887\"], [0.1111111111111111, \"#46039f\"], [0.2222222222222222, \"#7201a8\"], [0.3333333333333333, \"#9c179e\"], [0.4444444444444444, \"#bd3786\"], [0.5555555555555556, \"#d8576b\"], [0.6666666666666666, \"#ed7953\"], [0.7777777777777778, \"#fb9f3a\"], [0.8888888888888888, \"#fdca26\"], [1.0, \"#f0f921\"]], \"type\": \"heatmapgl\"}], \"histogram\": [{\"marker\": {\"colorbar\": {\"outlinewidth\": 0, \"ticks\": \"\"}}, \"type\": \"histogram\"}], \"histogram2d\": [{\"colorbar\": {\"outlinewidth\": 0, \"ticks\": \"\"}, \"colorscale\": [[0.0, \"#0d0887\"], [0.1111111111111111, \"#46039f\"], [0.2222222222222222, \"#7201a8\"], [0.3333333333333333, \"#9c179e\"], [0.4444444444444444, \"#bd3786\"], [0.5555555555555556, \"#d8576b\"], [0.6666666666666666, \"#ed7953\"], [0.7777777777777778, \"#fb9f3a\"], [0.8888888888888888, \"#fdca26\"], [1.0, \"#f0f921\"]], \"type\": \"histogram2d\"}], \"histogram2dcontour\": [{\"colorbar\": {\"outlinewidth\": 0, \"ticks\": \"\"}, \"colorscale\": [[0.0, \"#0d0887\"], [0.1111111111111111, \"#46039f\"], [0.2222222222222222, \"#7201a8\"], [0.3333333333333333, \"#9c179e\"], [0.4444444444444444, \"#bd3786\"], [0.5555555555555556, \"#d8576b\"], [0.6666666666666666, \"#ed7953\"], [0.7777777777777778, \"#fb9f3a\"], [0.8888888888888888, \"#fdca26\"], [1.0, \"#f0f921\"]], \"type\": \"histogram2dcontour\"}], \"mesh3d\": [{\"colorbar\": {\"outlinewidth\": 0, \"ticks\": \"\"}, \"type\": \"mesh3d\"}], \"parcoords\": [{\"line\": {\"colorbar\": {\"outlinewidth\": 0, \"ticks\": \"\"}}, \"type\": \"parcoords\"}], \"scatter\": [{\"marker\": {\"colorbar\": {\"outlinewidth\": 0, \"ticks\": \"\"}}, \"type\": \"scatter\"}], \"scatter3d\": [{\"line\": {\"colorbar\": {\"outlinewidth\": 0, \"ticks\": \"\"}}, \"marker\": {\"colorbar\": {\"outlinewidth\": 0, \"ticks\": \"\"}}, \"type\": \"scatter3d\"}], \"scattercarpet\": [{\"marker\": {\"colorbar\": {\"outlinewidth\": 0, \"ticks\": \"\"}}, \"type\": \"scattercarpet\"}], \"scattergeo\": [{\"marker\": {\"colorbar\": {\"outlinewidth\": 0, \"ticks\": \"\"}}, \"type\": \"scattergeo\"}], \"scattergl\": [{\"marker\": {\"colorbar\": {\"outlinewidth\": 0, \"ticks\": \"\"}}, \"type\": \"scattergl\"}], \"scattermapbox\": [{\"marker\": {\"colorbar\": {\"outlinewidth\": 0, \"ticks\": \"\"}}, \"type\": \"scattermapbox\"}], \"scatterpolar\": [{\"marker\": {\"colorbar\": {\"outlinewidth\": 0, \"ticks\": \"\"}}, \"type\": \"scatterpolar\"}], \"scatterpolargl\": [{\"marker\": {\"colorbar\": {\"outlinewidth\": 0, \"ticks\": \"\"}}, \"type\": \"scatterpolargl\"}], \"scatterternary\": [{\"marker\": {\"colorbar\": {\"outlinewidth\": 0, \"ticks\": \"\"}}, \"type\": \"scatterternary\"}], \"surface\": [{\"colorbar\": {\"outlinewidth\": 0, \"ticks\": \"\"}, \"colorscale\": [[0.0, \"#0d0887\"], [0.1111111111111111, \"#46039f\"], [0.2222222222222222, \"#7201a8\"], [0.3333333333333333, \"#9c179e\"], [0.4444444444444444, \"#bd3786\"], [0.5555555555555556, \"#d8576b\"], [0.6666666666666666, \"#ed7953\"], [0.7777777777777778, \"#fb9f3a\"], [0.8888888888888888, \"#fdca26\"], [1.0, \"#f0f921\"]], \"type\": \"surface\"}], \"table\": [{\"cells\": {\"fill\": {\"color\": \"#EBF0F8\"}, \"line\": {\"color\": \"white\"}}, \"header\": {\"fill\": {\"color\": \"#C8D4E3\"}, \"line\": {\"color\": \"white\"}}, \"type\": \"table\"}]}, \"layout\": {\"annotationdefaults\": {\"arrowcolor\": \"#2a3f5f\", \"arrowhead\": 0, \"arrowwidth\": 1}, \"colorscale\": {\"diverging\": [[0, \"#8e0152\"], [0.1, \"#c51b7d\"], [0.2, \"#de77ae\"], [0.3, \"#f1b6da\"], [0.4, \"#fde0ef\"], [0.5, \"#f7f7f7\"], [0.6, \"#e6f5d0\"], [0.7, \"#b8e186\"], [0.8, \"#7fbc41\"], [0.9, \"#4d9221\"], [1, \"#276419\"]], \"sequential\": [[0.0, \"#0d0887\"], [0.1111111111111111, \"#46039f\"], [0.2222222222222222, \"#7201a8\"], [0.3333333333333333, \"#9c179e\"], [0.4444444444444444, \"#bd3786\"], [0.5555555555555556, \"#d8576b\"], [0.6666666666666666, \"#ed7953\"], [0.7777777777777778, \"#fb9f3a\"], [0.8888888888888888, \"#fdca26\"], [1.0, \"#f0f921\"]], \"sequentialminus\": [[0.0, \"#0d0887\"], [0.1111111111111111, \"#46039f\"], [0.2222222222222222, \"#7201a8\"], [0.3333333333333333, \"#9c179e\"], [0.4444444444444444, \"#bd3786\"], [0.5555555555555556, \"#d8576b\"], [0.6666666666666666, \"#ed7953\"], [0.7777777777777778, \"#fb9f3a\"], [0.8888888888888888, \"#fdca26\"], [1.0, \"#f0f921\"]]}, \"colorway\": [\"#636efa\", \"#EF553B\", \"#00cc96\", \"#ab63fa\", \"#FFA15A\", \"#19d3f3\", \"#FF6692\", \"#B6E880\", \"#FF97FF\", \"#FECB52\"], \"font\": {\"color\": \"#2a3f5f\"}, \"geo\": {\"bgcolor\": \"white\", \"lakecolor\": \"white\", \"landcolor\": \"#E5ECF6\", \"showlakes\": true, \"showland\": true, \"subunitcolor\": \"white\"}, \"hoverlabel\": {\"align\": \"left\"}, \"hovermode\": \"closest\", \"mapbox\": {\"style\": \"light\"}, \"paper_bgcolor\": \"white\", \"plot_bgcolor\": \"#E5ECF6\", \"polar\": {\"angularaxis\": {\"gridcolor\": \"white\", \"linecolor\": \"white\", \"ticks\": \"\"}, \"bgcolor\": \"#E5ECF6\", \"radialaxis\": {\"gridcolor\": \"white\", \"linecolor\": \"white\", \"ticks\": \"\"}}, \"scene\": {\"xaxis\": {\"backgroundcolor\": \"#E5ECF6\", \"gridcolor\": \"white\", \"gridwidth\": 2, \"linecolor\": \"white\", \"showbackground\": true, \"ticks\": \"\", \"zerolinecolor\": \"white\"}, \"yaxis\": {\"backgroundcolor\": \"#E5ECF6\", \"gridcolor\": \"white\", \"gridwidth\": 2, \"linecolor\": \"white\", \"showbackground\": true, \"ticks\": \"\", \"zerolinecolor\": \"white\"}, \"zaxis\": {\"backgroundcolor\": \"#E5ECF6\", \"gridcolor\": \"white\", \"gridwidth\": 2, \"linecolor\": \"white\", \"showbackground\": true, \"ticks\": \"\", \"zerolinecolor\": \"white\"}}, \"shapedefaults\": {\"line\": {\"color\": \"#2a3f5f\"}}, \"ternary\": {\"aaxis\": {\"gridcolor\": \"white\", \"linecolor\": \"white\", \"ticks\": \"\"}, \"baxis\": {\"gridcolor\": \"white\", \"linecolor\": \"white\", \"ticks\": \"\"}, \"bgcolor\": \"#E5ECF6\", \"caxis\": {\"gridcolor\": \"white\", \"linecolor\": \"white\", \"ticks\": \"\"}}, \"title\": {\"x\": 0.05}, \"xaxis\": {\"automargin\": true, \"gridcolor\": \"white\", \"linecolor\": \"white\", \"ticks\": \"\", \"zerolinecolor\": \"white\", \"zerolinewidth\": 2}, \"yaxis\": {\"automargin\": true, \"gridcolor\": \"white\", \"linecolor\": \"white\", \"ticks\": \"\", \"zerolinecolor\": \"white\", \"zerolinewidth\": 2}}}, \"title\": {\"text\": \"Comparison of Models in predicting bridges with respect to deck\"}, \"xaxis\": {\"anchor\": \"y2\", \"domain\": [0.0, 1.0], \"zeroline\": false}, \"yaxis\": {\"anchor\": \"free\", \"domain\": [0.0, 1], \"position\": 0.0}},\n",
       "                        {\"responsive\": true}\n",
       "                    ).then(function(){\n",
       "                            \n",
       "var gd = document.getElementById('1861f96b-14df-429b-ade7-b6b28a88b7f4');\n",
       "var x = new MutationObserver(function (mutations, observer) {{\n",
       "        var display = window.getComputedStyle(gd).display;\n",
       "        if (!display || display === 'none') {{\n",
       "            console.log([gd, 'removed!']);\n",
       "            Plotly.purge(gd);\n",
       "            observer.disconnect();\n",
       "        }}\n",
       "}});\n",
       "\n",
       "// Listen for the removal of the full notebook cells\n",
       "var notebookContainer = gd.closest('#notebook-container');\n",
       "if (notebookContainer) {{\n",
       "    x.observe(notebookContainer, {childList: true});\n",
       "}}\n",
       "\n",
       "// Listen for the clearing of the current output cell\n",
       "var outputEl = gd.closest('.output');\n",
       "if (outputEl) {{\n",
       "    x.observe(outputEl, {childList: true});\n",
       "}}\n",
       "\n",
       "                        })\n",
       "                };\n",
       "                });\n",
       "            </script>\n",
       "        </div>"
      ]
     },
     "metadata": {},
     "output_type": "display_data"
    }
   ],
   "source": [
    "attribute = 'deck'\n",
    "x1 = randomForest[attribute]\n",
    "x2 = flowChart[attribute]\n",
    "hist_data = [x1, x2]\n",
    "\n",
    "group_labels = ['True RandomForest', 'True FlowChart']\n",
    "colors = ['#A56CC1', '#A6ACEC']\n",
    "\n",
    "# Create distplot with curve_type set to 'normal'\n",
    "fig = ff.create_distplot(hist_data, group_labels, colors=colors,\n",
    "                         bin_size=.2, show_rug=False)\n",
    "\n",
    "# Add title\n",
    "text = 'Comparison of Models in predicting bridges with respect to '+attribute\n",
    "fig.update_layout(title_text=text)\n",
    "fig.show()"
   ]
  },
  {
   "cell_type": "code",
   "execution_count": 47,
   "metadata": {},
   "outputs": [
    {
     "data": {
      "application/vnd.plotly.v1+json": {
       "config": {
        "plotlyServerURL": "https://plot.ly"
       },
       "data": [
        {
         "alignmentgroup": "True",
         "hoverlabel": {
          "namelength": 0
         },
         "hovertemplate": "label=%{x}<br>deck=%{y}",
         "legendgroup": "",
         "marker": {
          "color": "#636efa"
         },
         "name": "",
         "notched": false,
         "offsetgroup": "",
         "orientation": "v",
         "showlegend": false,
         "type": "box",
         "x": [
          "True - RF & False - FL",
          "True - RF & False - FL",
          "True - RF & False - FL",
          "True - RF & False - FL",
          "True - RF & False - FL",
          "True - RF & False - FL",
          "True - RF & False - FL",
          "True - RF & False - FL",
          "True - RF & False - FL",
          "True - RF & False - FL",
          "True - RF & False - FL",
          "True - RF & False - FL",
          "True - RF & False - FL",
          "True - RF & False - FL",
          "True - RF & False - FL",
          "True - RF & False - FL",
          "True - RF & False - FL",
          "True - RF & False - FL",
          "True - RF & False - FL",
          "True - RF & False - FL",
          "True - RF & False - FL",
          "True - RF & False - FL",
          "True - RF & False - FL",
          "True - RF & False - FL",
          "True - RF & False - FL",
          "True - RF & False - FL",
          "True - RF & False - FL",
          "True - RF & False - FL",
          "True - RF & False - FL",
          "True - RF & False - FL",
          "True - RF & False - FL",
          "True - RF & False - FL",
          "True - RF & False - FL",
          "True - RF & False - FL",
          "True - RF & False - FL",
          "True - RF & False - FL",
          "True - RF & False - FL",
          "True - RF & False - FL",
          "True - FL & False - RF",
          "True - FL & False - RF",
          "True - FL & False - RF",
          "True - FL & False - RF",
          "True - FL & False - RF",
          "True - FL & False - RF",
          "True - FL & False - RF"
         ],
         "x0": " ",
         "xaxis": "x",
         "y": [
          8,
          5,
          8,
          8,
          6,
          5,
          7,
          6,
          7,
          7,
          7,
          6,
          7,
          7,
          6,
          7,
          6,
          6,
          5,
          5,
          7,
          6,
          6,
          6,
          7,
          6,
          7,
          7,
          7,
          9,
          7,
          7,
          6,
          7,
          6,
          7,
          4,
          8,
          7,
          5,
          8,
          7,
          9,
          9,
          9
         ],
         "y0": " ",
         "yaxis": "y"
        }
       ],
       "layout": {
        "boxmode": "group",
        "height": 600,
        "legend": {
         "tracegroupgap": 0
        },
        "margin": {
         "t": 60
        },
        "template": {
         "data": {
          "bar": [
           {
            "error_x": {
             "color": "#2a3f5f"
            },
            "error_y": {
             "color": "#2a3f5f"
            },
            "marker": {
             "line": {
              "color": "#E5ECF6",
              "width": 0.5
             }
            },
            "type": "bar"
           }
          ],
          "barpolar": [
           {
            "marker": {
             "line": {
              "color": "#E5ECF6",
              "width": 0.5
             }
            },
            "type": "barpolar"
           }
          ],
          "carpet": [
           {
            "aaxis": {
             "endlinecolor": "#2a3f5f",
             "gridcolor": "white",
             "linecolor": "white",
             "minorgridcolor": "white",
             "startlinecolor": "#2a3f5f"
            },
            "baxis": {
             "endlinecolor": "#2a3f5f",
             "gridcolor": "white",
             "linecolor": "white",
             "minorgridcolor": "white",
             "startlinecolor": "#2a3f5f"
            },
            "type": "carpet"
           }
          ],
          "choropleth": [
           {
            "colorbar": {
             "outlinewidth": 0,
             "ticks": ""
            },
            "type": "choropleth"
           }
          ],
          "contour": [
           {
            "colorbar": {
             "outlinewidth": 0,
             "ticks": ""
            },
            "colorscale": [
             [
              0,
              "#0d0887"
             ],
             [
              0.1111111111111111,
              "#46039f"
             ],
             [
              0.2222222222222222,
              "#7201a8"
             ],
             [
              0.3333333333333333,
              "#9c179e"
             ],
             [
              0.4444444444444444,
              "#bd3786"
             ],
             [
              0.5555555555555556,
              "#d8576b"
             ],
             [
              0.6666666666666666,
              "#ed7953"
             ],
             [
              0.7777777777777778,
              "#fb9f3a"
             ],
             [
              0.8888888888888888,
              "#fdca26"
             ],
             [
              1,
              "#f0f921"
             ]
            ],
            "type": "contour"
           }
          ],
          "contourcarpet": [
           {
            "colorbar": {
             "outlinewidth": 0,
             "ticks": ""
            },
            "type": "contourcarpet"
           }
          ],
          "heatmap": [
           {
            "colorbar": {
             "outlinewidth": 0,
             "ticks": ""
            },
            "colorscale": [
             [
              0,
              "#0d0887"
             ],
             [
              0.1111111111111111,
              "#46039f"
             ],
             [
              0.2222222222222222,
              "#7201a8"
             ],
             [
              0.3333333333333333,
              "#9c179e"
             ],
             [
              0.4444444444444444,
              "#bd3786"
             ],
             [
              0.5555555555555556,
              "#d8576b"
             ],
             [
              0.6666666666666666,
              "#ed7953"
             ],
             [
              0.7777777777777778,
              "#fb9f3a"
             ],
             [
              0.8888888888888888,
              "#fdca26"
             ],
             [
              1,
              "#f0f921"
             ]
            ],
            "type": "heatmap"
           }
          ],
          "heatmapgl": [
           {
            "colorbar": {
             "outlinewidth": 0,
             "ticks": ""
            },
            "colorscale": [
             [
              0,
              "#0d0887"
             ],
             [
              0.1111111111111111,
              "#46039f"
             ],
             [
              0.2222222222222222,
              "#7201a8"
             ],
             [
              0.3333333333333333,
              "#9c179e"
             ],
             [
              0.4444444444444444,
              "#bd3786"
             ],
             [
              0.5555555555555556,
              "#d8576b"
             ],
             [
              0.6666666666666666,
              "#ed7953"
             ],
             [
              0.7777777777777778,
              "#fb9f3a"
             ],
             [
              0.8888888888888888,
              "#fdca26"
             ],
             [
              1,
              "#f0f921"
             ]
            ],
            "type": "heatmapgl"
           }
          ],
          "histogram": [
           {
            "marker": {
             "colorbar": {
              "outlinewidth": 0,
              "ticks": ""
             }
            },
            "type": "histogram"
           }
          ],
          "histogram2d": [
           {
            "colorbar": {
             "outlinewidth": 0,
             "ticks": ""
            },
            "colorscale": [
             [
              0,
              "#0d0887"
             ],
             [
              0.1111111111111111,
              "#46039f"
             ],
             [
              0.2222222222222222,
              "#7201a8"
             ],
             [
              0.3333333333333333,
              "#9c179e"
             ],
             [
              0.4444444444444444,
              "#bd3786"
             ],
             [
              0.5555555555555556,
              "#d8576b"
             ],
             [
              0.6666666666666666,
              "#ed7953"
             ],
             [
              0.7777777777777778,
              "#fb9f3a"
             ],
             [
              0.8888888888888888,
              "#fdca26"
             ],
             [
              1,
              "#f0f921"
             ]
            ],
            "type": "histogram2d"
           }
          ],
          "histogram2dcontour": [
           {
            "colorbar": {
             "outlinewidth": 0,
             "ticks": ""
            },
            "colorscale": [
             [
              0,
              "#0d0887"
             ],
             [
              0.1111111111111111,
              "#46039f"
             ],
             [
              0.2222222222222222,
              "#7201a8"
             ],
             [
              0.3333333333333333,
              "#9c179e"
             ],
             [
              0.4444444444444444,
              "#bd3786"
             ],
             [
              0.5555555555555556,
              "#d8576b"
             ],
             [
              0.6666666666666666,
              "#ed7953"
             ],
             [
              0.7777777777777778,
              "#fb9f3a"
             ],
             [
              0.8888888888888888,
              "#fdca26"
             ],
             [
              1,
              "#f0f921"
             ]
            ],
            "type": "histogram2dcontour"
           }
          ],
          "mesh3d": [
           {
            "colorbar": {
             "outlinewidth": 0,
             "ticks": ""
            },
            "type": "mesh3d"
           }
          ],
          "parcoords": [
           {
            "line": {
             "colorbar": {
              "outlinewidth": 0,
              "ticks": ""
             }
            },
            "type": "parcoords"
           }
          ],
          "scatter": [
           {
            "marker": {
             "colorbar": {
              "outlinewidth": 0,
              "ticks": ""
             }
            },
            "type": "scatter"
           }
          ],
          "scatter3d": [
           {
            "line": {
             "colorbar": {
              "outlinewidth": 0,
              "ticks": ""
             }
            },
            "marker": {
             "colorbar": {
              "outlinewidth": 0,
              "ticks": ""
             }
            },
            "type": "scatter3d"
           }
          ],
          "scattercarpet": [
           {
            "marker": {
             "colorbar": {
              "outlinewidth": 0,
              "ticks": ""
             }
            },
            "type": "scattercarpet"
           }
          ],
          "scattergeo": [
           {
            "marker": {
             "colorbar": {
              "outlinewidth": 0,
              "ticks": ""
             }
            },
            "type": "scattergeo"
           }
          ],
          "scattergl": [
           {
            "marker": {
             "colorbar": {
              "outlinewidth": 0,
              "ticks": ""
             }
            },
            "type": "scattergl"
           }
          ],
          "scattermapbox": [
           {
            "marker": {
             "colorbar": {
              "outlinewidth": 0,
              "ticks": ""
             }
            },
            "type": "scattermapbox"
           }
          ],
          "scatterpolar": [
           {
            "marker": {
             "colorbar": {
              "outlinewidth": 0,
              "ticks": ""
             }
            },
            "type": "scatterpolar"
           }
          ],
          "scatterpolargl": [
           {
            "marker": {
             "colorbar": {
              "outlinewidth": 0,
              "ticks": ""
             }
            },
            "type": "scatterpolargl"
           }
          ],
          "scatterternary": [
           {
            "marker": {
             "colorbar": {
              "outlinewidth": 0,
              "ticks": ""
             }
            },
            "type": "scatterternary"
           }
          ],
          "surface": [
           {
            "colorbar": {
             "outlinewidth": 0,
             "ticks": ""
            },
            "colorscale": [
             [
              0,
              "#0d0887"
             ],
             [
              0.1111111111111111,
              "#46039f"
             ],
             [
              0.2222222222222222,
              "#7201a8"
             ],
             [
              0.3333333333333333,
              "#9c179e"
             ],
             [
              0.4444444444444444,
              "#bd3786"
             ],
             [
              0.5555555555555556,
              "#d8576b"
             ],
             [
              0.6666666666666666,
              "#ed7953"
             ],
             [
              0.7777777777777778,
              "#fb9f3a"
             ],
             [
              0.8888888888888888,
              "#fdca26"
             ],
             [
              1,
              "#f0f921"
             ]
            ],
            "type": "surface"
           }
          ],
          "table": [
           {
            "cells": {
             "fill": {
              "color": "#EBF0F8"
             },
             "line": {
              "color": "white"
             }
            },
            "header": {
             "fill": {
              "color": "#C8D4E3"
             },
             "line": {
              "color": "white"
             }
            },
            "type": "table"
           }
          ]
         },
         "layout": {
          "annotationdefaults": {
           "arrowcolor": "#2a3f5f",
           "arrowhead": 0,
           "arrowwidth": 1
          },
          "colorscale": {
           "diverging": [
            [
             0,
             "#8e0152"
            ],
            [
             0.1,
             "#c51b7d"
            ],
            [
             0.2,
             "#de77ae"
            ],
            [
             0.3,
             "#f1b6da"
            ],
            [
             0.4,
             "#fde0ef"
            ],
            [
             0.5,
             "#f7f7f7"
            ],
            [
             0.6,
             "#e6f5d0"
            ],
            [
             0.7,
             "#b8e186"
            ],
            [
             0.8,
             "#7fbc41"
            ],
            [
             0.9,
             "#4d9221"
            ],
            [
             1,
             "#276419"
            ]
           ],
           "sequential": [
            [
             0,
             "#0d0887"
            ],
            [
             0.1111111111111111,
             "#46039f"
            ],
            [
             0.2222222222222222,
             "#7201a8"
            ],
            [
             0.3333333333333333,
             "#9c179e"
            ],
            [
             0.4444444444444444,
             "#bd3786"
            ],
            [
             0.5555555555555556,
             "#d8576b"
            ],
            [
             0.6666666666666666,
             "#ed7953"
            ],
            [
             0.7777777777777778,
             "#fb9f3a"
            ],
            [
             0.8888888888888888,
             "#fdca26"
            ],
            [
             1,
             "#f0f921"
            ]
           ],
           "sequentialminus": [
            [
             0,
             "#0d0887"
            ],
            [
             0.1111111111111111,
             "#46039f"
            ],
            [
             0.2222222222222222,
             "#7201a8"
            ],
            [
             0.3333333333333333,
             "#9c179e"
            ],
            [
             0.4444444444444444,
             "#bd3786"
            ],
            [
             0.5555555555555556,
             "#d8576b"
            ],
            [
             0.6666666666666666,
             "#ed7953"
            ],
            [
             0.7777777777777778,
             "#fb9f3a"
            ],
            [
             0.8888888888888888,
             "#fdca26"
            ],
            [
             1,
             "#f0f921"
            ]
           ]
          },
          "colorway": [
           "#636efa",
           "#EF553B",
           "#00cc96",
           "#ab63fa",
           "#FFA15A",
           "#19d3f3",
           "#FF6692",
           "#B6E880",
           "#FF97FF",
           "#FECB52"
          ],
          "font": {
           "color": "#2a3f5f"
          },
          "geo": {
           "bgcolor": "white",
           "lakecolor": "white",
           "landcolor": "#E5ECF6",
           "showlakes": true,
           "showland": true,
           "subunitcolor": "white"
          },
          "hoverlabel": {
           "align": "left"
          },
          "hovermode": "closest",
          "mapbox": {
           "style": "light"
          },
          "paper_bgcolor": "white",
          "plot_bgcolor": "#E5ECF6",
          "polar": {
           "angularaxis": {
            "gridcolor": "white",
            "linecolor": "white",
            "ticks": ""
           },
           "bgcolor": "#E5ECF6",
           "radialaxis": {
            "gridcolor": "white",
            "linecolor": "white",
            "ticks": ""
           }
          },
          "scene": {
           "xaxis": {
            "backgroundcolor": "#E5ECF6",
            "gridcolor": "white",
            "gridwidth": 2,
            "linecolor": "white",
            "showbackground": true,
            "ticks": "",
            "zerolinecolor": "white"
           },
           "yaxis": {
            "backgroundcolor": "#E5ECF6",
            "gridcolor": "white",
            "gridwidth": 2,
            "linecolor": "white",
            "showbackground": true,
            "ticks": "",
            "zerolinecolor": "white"
           },
           "zaxis": {
            "backgroundcolor": "#E5ECF6",
            "gridcolor": "white",
            "gridwidth": 2,
            "linecolor": "white",
            "showbackground": true,
            "ticks": "",
            "zerolinecolor": "white"
           }
          },
          "shapedefaults": {
           "line": {
            "color": "#2a3f5f"
           }
          },
          "ternary": {
           "aaxis": {
            "gridcolor": "white",
            "linecolor": "white",
            "ticks": ""
           },
           "baxis": {
            "gridcolor": "white",
            "linecolor": "white",
            "ticks": ""
           },
           "bgcolor": "#E5ECF6",
           "caxis": {
            "gridcolor": "white",
            "linecolor": "white",
            "ticks": ""
           }
          },
          "title": {
           "x": 0.05
          },
          "xaxis": {
           "automargin": true,
           "gridcolor": "white",
           "linecolor": "white",
           "ticks": "",
           "zerolinecolor": "white",
           "zerolinewidth": 2
          },
          "yaxis": {
           "automargin": true,
           "gridcolor": "white",
           "linecolor": "white",
           "ticks": "",
           "zerolinecolor": "white",
           "zerolinewidth": 2
          }
         }
        },
        "xaxis": {
         "anchor": "y",
         "domain": [
          0,
          0.98
         ],
         "title": {
          "text": "label"
         }
        },
        "yaxis": {
         "anchor": "x",
         "domain": [
          0,
          1
         ],
         "title": {
          "text": "deck"
         }
        }
       }
      },
      "text/html": [
       "<div>\n",
       "        \n",
       "        \n",
       "            <div id=\"bf9ebb69-100d-4044-bf75-89628246dc39\" class=\"plotly-graph-div\" style=\"height:600px; width:100%;\"></div>\n",
       "            <script type=\"text/javascript\">\n",
       "                require([\"plotly\"], function(Plotly) {\n",
       "                    window.PLOTLYENV=window.PLOTLYENV || {};\n",
       "                    \n",
       "                if (document.getElementById(\"bf9ebb69-100d-4044-bf75-89628246dc39\")) {\n",
       "                    Plotly.newPlot(\n",
       "                        'bf9ebb69-100d-4044-bf75-89628246dc39',\n",
       "                        [{\"alignmentgroup\": \"True\", \"hoverlabel\": {\"namelength\": 0}, \"hovertemplate\": \"label=%{x}<br>deck=%{y}\", \"legendgroup\": \"\", \"marker\": {\"color\": \"#636efa\"}, \"name\": \"\", \"notched\": false, \"offsetgroup\": \"\", \"orientation\": \"v\", \"showlegend\": false, \"type\": \"box\", \"x\": [\"True - RF & False - FL\", \"True - RF & False - FL\", \"True - RF & False - FL\", \"True - RF & False - FL\", \"True - RF & False - FL\", \"True - RF & False - FL\", \"True - RF & False - FL\", \"True - RF & False - FL\", \"True - RF & False - FL\", \"True - RF & False - FL\", \"True - RF & False - FL\", \"True - RF & False - FL\", \"True - RF & False - FL\", \"True - RF & False - FL\", \"True - RF & False - FL\", \"True - RF & False - FL\", \"True - RF & False - FL\", \"True - RF & False - FL\", \"True - RF & False - FL\", \"True - RF & False - FL\", \"True - RF & False - FL\", \"True - RF & False - FL\", \"True - RF & False - FL\", \"True - RF & False - FL\", \"True - RF & False - FL\", \"True - RF & False - FL\", \"True - RF & False - FL\", \"True - RF & False - FL\", \"True - RF & False - FL\", \"True - RF & False - FL\", \"True - RF & False - FL\", \"True - RF & False - FL\", \"True - RF & False - FL\", \"True - RF & False - FL\", \"True - RF & False - FL\", \"True - RF & False - FL\", \"True - RF & False - FL\", \"True - RF & False - FL\", \"True - FL & False - RF\", \"True - FL & False - RF\", \"True - FL & False - RF\", \"True - FL & False - RF\", \"True - FL & False - RF\", \"True - FL & False - RF\", \"True - FL & False - RF\"], \"x0\": \" \", \"xaxis\": \"x\", \"y\": [8, 5, 8, 8, 6, 5, 7, 6, 7, 7, 7, 6, 7, 7, 6, 7, 6, 6, 5, 5, 7, 6, 6, 6, 7, 6, 7, 7, 7, 9, 7, 7, 6, 7, 6, 7, 4, 8, 7, 5, 8, 7, 9, 9, 9], \"y0\": \" \", \"yaxis\": \"y\"}],\n",
       "                        {\"boxmode\": \"group\", \"height\": 600, \"legend\": {\"tracegroupgap\": 0}, \"margin\": {\"t\": 60}, \"template\": {\"data\": {\"bar\": [{\"error_x\": {\"color\": \"#2a3f5f\"}, \"error_y\": {\"color\": \"#2a3f5f\"}, \"marker\": {\"line\": {\"color\": \"#E5ECF6\", \"width\": 0.5}}, \"type\": \"bar\"}], \"barpolar\": [{\"marker\": {\"line\": {\"color\": \"#E5ECF6\", \"width\": 0.5}}, \"type\": \"barpolar\"}], \"carpet\": [{\"aaxis\": {\"endlinecolor\": \"#2a3f5f\", \"gridcolor\": \"white\", \"linecolor\": \"white\", \"minorgridcolor\": \"white\", \"startlinecolor\": \"#2a3f5f\"}, \"baxis\": {\"endlinecolor\": \"#2a3f5f\", \"gridcolor\": \"white\", \"linecolor\": \"white\", \"minorgridcolor\": \"white\", \"startlinecolor\": \"#2a3f5f\"}, \"type\": \"carpet\"}], \"choropleth\": [{\"colorbar\": {\"outlinewidth\": 0, \"ticks\": \"\"}, \"type\": \"choropleth\"}], \"contour\": [{\"colorbar\": {\"outlinewidth\": 0, \"ticks\": \"\"}, \"colorscale\": [[0.0, \"#0d0887\"], [0.1111111111111111, \"#46039f\"], [0.2222222222222222, \"#7201a8\"], [0.3333333333333333, \"#9c179e\"], [0.4444444444444444, \"#bd3786\"], [0.5555555555555556, \"#d8576b\"], [0.6666666666666666, \"#ed7953\"], [0.7777777777777778, \"#fb9f3a\"], [0.8888888888888888, \"#fdca26\"], [1.0, \"#f0f921\"]], \"type\": \"contour\"}], \"contourcarpet\": [{\"colorbar\": {\"outlinewidth\": 0, \"ticks\": \"\"}, \"type\": \"contourcarpet\"}], \"heatmap\": [{\"colorbar\": {\"outlinewidth\": 0, \"ticks\": \"\"}, \"colorscale\": [[0.0, \"#0d0887\"], [0.1111111111111111, \"#46039f\"], [0.2222222222222222, \"#7201a8\"], [0.3333333333333333, \"#9c179e\"], [0.4444444444444444, \"#bd3786\"], [0.5555555555555556, \"#d8576b\"], [0.6666666666666666, \"#ed7953\"], [0.7777777777777778, \"#fb9f3a\"], [0.8888888888888888, \"#fdca26\"], [1.0, \"#f0f921\"]], \"type\": \"heatmap\"}], \"heatmapgl\": [{\"colorbar\": {\"outlinewidth\": 0, \"ticks\": \"\"}, \"colorscale\": [[0.0, \"#0d0887\"], [0.1111111111111111, \"#46039f\"], [0.2222222222222222, \"#7201a8\"], [0.3333333333333333, \"#9c179e\"], [0.4444444444444444, \"#bd3786\"], [0.5555555555555556, \"#d8576b\"], [0.6666666666666666, \"#ed7953\"], [0.7777777777777778, \"#fb9f3a\"], [0.8888888888888888, \"#fdca26\"], [1.0, \"#f0f921\"]], \"type\": \"heatmapgl\"}], \"histogram\": [{\"marker\": {\"colorbar\": {\"outlinewidth\": 0, \"ticks\": \"\"}}, \"type\": \"histogram\"}], \"histogram2d\": [{\"colorbar\": {\"outlinewidth\": 0, \"ticks\": \"\"}, \"colorscale\": [[0.0, \"#0d0887\"], [0.1111111111111111, \"#46039f\"], [0.2222222222222222, \"#7201a8\"], [0.3333333333333333, \"#9c179e\"], [0.4444444444444444, \"#bd3786\"], [0.5555555555555556, \"#d8576b\"], [0.6666666666666666, \"#ed7953\"], [0.7777777777777778, \"#fb9f3a\"], [0.8888888888888888, \"#fdca26\"], [1.0, \"#f0f921\"]], \"type\": \"histogram2d\"}], \"histogram2dcontour\": [{\"colorbar\": {\"outlinewidth\": 0, \"ticks\": \"\"}, \"colorscale\": [[0.0, \"#0d0887\"], [0.1111111111111111, \"#46039f\"], [0.2222222222222222, \"#7201a8\"], [0.3333333333333333, \"#9c179e\"], [0.4444444444444444, \"#bd3786\"], [0.5555555555555556, \"#d8576b\"], [0.6666666666666666, \"#ed7953\"], [0.7777777777777778, \"#fb9f3a\"], [0.8888888888888888, \"#fdca26\"], [1.0, \"#f0f921\"]], \"type\": \"histogram2dcontour\"}], \"mesh3d\": [{\"colorbar\": {\"outlinewidth\": 0, \"ticks\": \"\"}, \"type\": \"mesh3d\"}], \"parcoords\": [{\"line\": {\"colorbar\": {\"outlinewidth\": 0, \"ticks\": \"\"}}, \"type\": \"parcoords\"}], \"scatter\": [{\"marker\": {\"colorbar\": {\"outlinewidth\": 0, \"ticks\": \"\"}}, \"type\": \"scatter\"}], \"scatter3d\": [{\"line\": {\"colorbar\": {\"outlinewidth\": 0, \"ticks\": \"\"}}, \"marker\": {\"colorbar\": {\"outlinewidth\": 0, \"ticks\": \"\"}}, \"type\": \"scatter3d\"}], \"scattercarpet\": [{\"marker\": {\"colorbar\": {\"outlinewidth\": 0, \"ticks\": \"\"}}, \"type\": \"scattercarpet\"}], \"scattergeo\": [{\"marker\": {\"colorbar\": {\"outlinewidth\": 0, \"ticks\": \"\"}}, \"type\": \"scattergeo\"}], \"scattergl\": [{\"marker\": {\"colorbar\": {\"outlinewidth\": 0, \"ticks\": \"\"}}, \"type\": \"scattergl\"}], \"scattermapbox\": [{\"marker\": {\"colorbar\": {\"outlinewidth\": 0, \"ticks\": \"\"}}, \"type\": \"scattermapbox\"}], \"scatterpolar\": [{\"marker\": {\"colorbar\": {\"outlinewidth\": 0, \"ticks\": \"\"}}, \"type\": \"scatterpolar\"}], \"scatterpolargl\": [{\"marker\": {\"colorbar\": {\"outlinewidth\": 0, \"ticks\": \"\"}}, \"type\": \"scatterpolargl\"}], \"scatterternary\": [{\"marker\": {\"colorbar\": {\"outlinewidth\": 0, \"ticks\": \"\"}}, \"type\": \"scatterternary\"}], \"surface\": [{\"colorbar\": {\"outlinewidth\": 0, \"ticks\": \"\"}, \"colorscale\": [[0.0, \"#0d0887\"], [0.1111111111111111, \"#46039f\"], [0.2222222222222222, \"#7201a8\"], [0.3333333333333333, \"#9c179e\"], [0.4444444444444444, \"#bd3786\"], [0.5555555555555556, \"#d8576b\"], [0.6666666666666666, \"#ed7953\"], [0.7777777777777778, \"#fb9f3a\"], [0.8888888888888888, \"#fdca26\"], [1.0, \"#f0f921\"]], \"type\": \"surface\"}], \"table\": [{\"cells\": {\"fill\": {\"color\": \"#EBF0F8\"}, \"line\": {\"color\": \"white\"}}, \"header\": {\"fill\": {\"color\": \"#C8D4E3\"}, \"line\": {\"color\": \"white\"}}, \"type\": \"table\"}]}, \"layout\": {\"annotationdefaults\": {\"arrowcolor\": \"#2a3f5f\", \"arrowhead\": 0, \"arrowwidth\": 1}, \"colorscale\": {\"diverging\": [[0, \"#8e0152\"], [0.1, \"#c51b7d\"], [0.2, \"#de77ae\"], [0.3, \"#f1b6da\"], [0.4, \"#fde0ef\"], [0.5, \"#f7f7f7\"], [0.6, \"#e6f5d0\"], [0.7, \"#b8e186\"], [0.8, \"#7fbc41\"], [0.9, \"#4d9221\"], [1, \"#276419\"]], \"sequential\": [[0.0, \"#0d0887\"], [0.1111111111111111, \"#46039f\"], [0.2222222222222222, \"#7201a8\"], [0.3333333333333333, \"#9c179e\"], [0.4444444444444444, \"#bd3786\"], [0.5555555555555556, \"#d8576b\"], [0.6666666666666666, \"#ed7953\"], [0.7777777777777778, \"#fb9f3a\"], [0.8888888888888888, \"#fdca26\"], [1.0, \"#f0f921\"]], \"sequentialminus\": [[0.0, \"#0d0887\"], [0.1111111111111111, \"#46039f\"], [0.2222222222222222, \"#7201a8\"], [0.3333333333333333, \"#9c179e\"], [0.4444444444444444, \"#bd3786\"], [0.5555555555555556, \"#d8576b\"], [0.6666666666666666, \"#ed7953\"], [0.7777777777777778, \"#fb9f3a\"], [0.8888888888888888, \"#fdca26\"], [1.0, \"#f0f921\"]]}, \"colorway\": [\"#636efa\", \"#EF553B\", \"#00cc96\", \"#ab63fa\", \"#FFA15A\", \"#19d3f3\", \"#FF6692\", \"#B6E880\", \"#FF97FF\", \"#FECB52\"], \"font\": {\"color\": \"#2a3f5f\"}, \"geo\": {\"bgcolor\": \"white\", \"lakecolor\": \"white\", \"landcolor\": \"#E5ECF6\", \"showlakes\": true, \"showland\": true, \"subunitcolor\": \"white\"}, \"hoverlabel\": {\"align\": \"left\"}, \"hovermode\": \"closest\", \"mapbox\": {\"style\": \"light\"}, \"paper_bgcolor\": \"white\", \"plot_bgcolor\": \"#E5ECF6\", \"polar\": {\"angularaxis\": {\"gridcolor\": \"white\", \"linecolor\": \"white\", \"ticks\": \"\"}, \"bgcolor\": \"#E5ECF6\", \"radialaxis\": {\"gridcolor\": \"white\", \"linecolor\": \"white\", \"ticks\": \"\"}}, \"scene\": {\"xaxis\": {\"backgroundcolor\": \"#E5ECF6\", \"gridcolor\": \"white\", \"gridwidth\": 2, \"linecolor\": \"white\", \"showbackground\": true, \"ticks\": \"\", \"zerolinecolor\": \"white\"}, \"yaxis\": {\"backgroundcolor\": \"#E5ECF6\", \"gridcolor\": \"white\", \"gridwidth\": 2, \"linecolor\": \"white\", \"showbackground\": true, \"ticks\": \"\", \"zerolinecolor\": \"white\"}, \"zaxis\": {\"backgroundcolor\": \"#E5ECF6\", \"gridcolor\": \"white\", \"gridwidth\": 2, \"linecolor\": \"white\", \"showbackground\": true, \"ticks\": \"\", \"zerolinecolor\": \"white\"}}, \"shapedefaults\": {\"line\": {\"color\": \"#2a3f5f\"}}, \"ternary\": {\"aaxis\": {\"gridcolor\": \"white\", \"linecolor\": \"white\", \"ticks\": \"\"}, \"baxis\": {\"gridcolor\": \"white\", \"linecolor\": \"white\", \"ticks\": \"\"}, \"bgcolor\": \"#E5ECF6\", \"caxis\": {\"gridcolor\": \"white\", \"linecolor\": \"white\", \"ticks\": \"\"}}, \"title\": {\"x\": 0.05}, \"xaxis\": {\"automargin\": true, \"gridcolor\": \"white\", \"linecolor\": \"white\", \"ticks\": \"\", \"zerolinecolor\": \"white\", \"zerolinewidth\": 2}, \"yaxis\": {\"automargin\": true, \"gridcolor\": \"white\", \"linecolor\": \"white\", \"ticks\": \"\", \"zerolinecolor\": \"white\", \"zerolinewidth\": 2}}}, \"xaxis\": {\"anchor\": \"y\", \"domain\": [0.0, 0.98], \"title\": {\"text\": \"label\"}}, \"yaxis\": {\"anchor\": \"x\", \"domain\": [0.0, 1.0], \"title\": {\"text\": \"deck\"}}},\n",
       "                        {\"responsive\": true}\n",
       "                    ).then(function(){\n",
       "                            \n",
       "var gd = document.getElementById('bf9ebb69-100d-4044-bf75-89628246dc39');\n",
       "var x = new MutationObserver(function (mutations, observer) {{\n",
       "        var display = window.getComputedStyle(gd).display;\n",
       "        if (!display || display === 'none') {{\n",
       "            console.log([gd, 'removed!']);\n",
       "            Plotly.purge(gd);\n",
       "            observer.disconnect();\n",
       "        }}\n",
       "}});\n",
       "\n",
       "// Listen for the removal of the full notebook cells\n",
       "var notebookContainer = gd.closest('#notebook-container');\n",
       "if (notebookContainer) {{\n",
       "    x.observe(notebookContainer, {childList: true});\n",
       "}}\n",
       "\n",
       "// Listen for the clearing of the current output cell\n",
       "var outputEl = gd.closest('.output');\n",
       "if (outputEl) {{\n",
       "    x.observe(outputEl, {childList: true});\n",
       "}}\n",
       "\n",
       "                        })\n",
       "                };\n",
       "                });\n",
       "            </script>\n",
       "        </div>"
      ]
     },
     "metadata": {},
     "output_type": "display_data"
    }
   ],
   "source": [
    "fig = px.box(df, x=\"label\", y=\"deck\")\n",
    "fig.show()"
   ]
  },
  {
   "cell_type": "markdown",
   "metadata": {},
   "source": [
    "## Comparison of models with respect to material"
   ]
  },
  {
   "cell_type": "code",
   "execution_count": 65,
   "metadata": {},
   "outputs": [
    {
     "data": {
      "application/vnd.plotly.v1+json": {
       "config": {
        "plotlyServerURL": "https://plot.ly"
       },
       "data": [
        {
         "alignmentgroup": "True",
         "hoverlabel": {
          "namelength": 0
         },
         "hovertemplate": "label=True - RF & False - FL<br>material=%{x}",
         "legendgroup": "label=True - RF & False - FL",
         "marker": {
          "color": "#636efa"
         },
         "name": "label=True - RF & False - FL",
         "offsetgroup": "label=True - RF & False - FL",
         "orientation": "v",
         "showlegend": true,
         "textposition": "auto",
         "type": "bar",
         "x": [
          7,
          1,
          1,
          3,
          3,
          3,
          3,
          3,
          2,
          3,
          5,
          1,
          3,
          3,
          3,
          3,
          3,
          3,
          3,
          3,
          3,
          3,
          3,
          3,
          3,
          3,
          3,
          3,
          3,
          3,
          7,
          2,
          1,
          5,
          2,
          2,
          3,
          4
         ],
         "xaxis": "x",
         "yaxis": "y"
        },
        {
         "alignmentgroup": "True",
         "hoverlabel": {
          "namelength": 0
         },
         "hovertemplate": "label=True - FL & False - RF<br>material=%{x}",
         "legendgroup": "label=True - FL & False - RF",
         "marker": {
          "color": "#EF553B"
         },
         "name": "label=True - FL & False - RF",
         "offsetgroup": "label=True - FL & False - RF",
         "orientation": "v",
         "showlegend": true,
         "textposition": "auto",
         "type": "bar",
         "x": [
          3,
          1,
          5,
          3,
          5,
          2,
          3
         ],
         "xaxis": "x",
         "yaxis": "y"
        }
       ],
       "layout": {
        "barmode": "relative",
        "height": 400,
        "legend": {
         "tracegroupgap": 0
        },
        "margin": {
         "t": 60
        },
        "template": {
         "data": {
          "bar": [
           {
            "error_x": {
             "color": "#2a3f5f"
            },
            "error_y": {
             "color": "#2a3f5f"
            },
            "marker": {
             "line": {
              "color": "#E5ECF6",
              "width": 0.5
             }
            },
            "type": "bar"
           }
          ],
          "barpolar": [
           {
            "marker": {
             "line": {
              "color": "#E5ECF6",
              "width": 0.5
             }
            },
            "type": "barpolar"
           }
          ],
          "carpet": [
           {
            "aaxis": {
             "endlinecolor": "#2a3f5f",
             "gridcolor": "white",
             "linecolor": "white",
             "minorgridcolor": "white",
             "startlinecolor": "#2a3f5f"
            },
            "baxis": {
             "endlinecolor": "#2a3f5f",
             "gridcolor": "white",
             "linecolor": "white",
             "minorgridcolor": "white",
             "startlinecolor": "#2a3f5f"
            },
            "type": "carpet"
           }
          ],
          "choropleth": [
           {
            "colorbar": {
             "outlinewidth": 0,
             "ticks": ""
            },
            "type": "choropleth"
           }
          ],
          "contour": [
           {
            "colorbar": {
             "outlinewidth": 0,
             "ticks": ""
            },
            "colorscale": [
             [
              0,
              "#0d0887"
             ],
             [
              0.1111111111111111,
              "#46039f"
             ],
             [
              0.2222222222222222,
              "#7201a8"
             ],
             [
              0.3333333333333333,
              "#9c179e"
             ],
             [
              0.4444444444444444,
              "#bd3786"
             ],
             [
              0.5555555555555556,
              "#d8576b"
             ],
             [
              0.6666666666666666,
              "#ed7953"
             ],
             [
              0.7777777777777778,
              "#fb9f3a"
             ],
             [
              0.8888888888888888,
              "#fdca26"
             ],
             [
              1,
              "#f0f921"
             ]
            ],
            "type": "contour"
           }
          ],
          "contourcarpet": [
           {
            "colorbar": {
             "outlinewidth": 0,
             "ticks": ""
            },
            "type": "contourcarpet"
           }
          ],
          "heatmap": [
           {
            "colorbar": {
             "outlinewidth": 0,
             "ticks": ""
            },
            "colorscale": [
             [
              0,
              "#0d0887"
             ],
             [
              0.1111111111111111,
              "#46039f"
             ],
             [
              0.2222222222222222,
              "#7201a8"
             ],
             [
              0.3333333333333333,
              "#9c179e"
             ],
             [
              0.4444444444444444,
              "#bd3786"
             ],
             [
              0.5555555555555556,
              "#d8576b"
             ],
             [
              0.6666666666666666,
              "#ed7953"
             ],
             [
              0.7777777777777778,
              "#fb9f3a"
             ],
             [
              0.8888888888888888,
              "#fdca26"
             ],
             [
              1,
              "#f0f921"
             ]
            ],
            "type": "heatmap"
           }
          ],
          "heatmapgl": [
           {
            "colorbar": {
             "outlinewidth": 0,
             "ticks": ""
            },
            "colorscale": [
             [
              0,
              "#0d0887"
             ],
             [
              0.1111111111111111,
              "#46039f"
             ],
             [
              0.2222222222222222,
              "#7201a8"
             ],
             [
              0.3333333333333333,
              "#9c179e"
             ],
             [
              0.4444444444444444,
              "#bd3786"
             ],
             [
              0.5555555555555556,
              "#d8576b"
             ],
             [
              0.6666666666666666,
              "#ed7953"
             ],
             [
              0.7777777777777778,
              "#fb9f3a"
             ],
             [
              0.8888888888888888,
              "#fdca26"
             ],
             [
              1,
              "#f0f921"
             ]
            ],
            "type": "heatmapgl"
           }
          ],
          "histogram": [
           {
            "marker": {
             "colorbar": {
              "outlinewidth": 0,
              "ticks": ""
             }
            },
            "type": "histogram"
           }
          ],
          "histogram2d": [
           {
            "colorbar": {
             "outlinewidth": 0,
             "ticks": ""
            },
            "colorscale": [
             [
              0,
              "#0d0887"
             ],
             [
              0.1111111111111111,
              "#46039f"
             ],
             [
              0.2222222222222222,
              "#7201a8"
             ],
             [
              0.3333333333333333,
              "#9c179e"
             ],
             [
              0.4444444444444444,
              "#bd3786"
             ],
             [
              0.5555555555555556,
              "#d8576b"
             ],
             [
              0.6666666666666666,
              "#ed7953"
             ],
             [
              0.7777777777777778,
              "#fb9f3a"
             ],
             [
              0.8888888888888888,
              "#fdca26"
             ],
             [
              1,
              "#f0f921"
             ]
            ],
            "type": "histogram2d"
           }
          ],
          "histogram2dcontour": [
           {
            "colorbar": {
             "outlinewidth": 0,
             "ticks": ""
            },
            "colorscale": [
             [
              0,
              "#0d0887"
             ],
             [
              0.1111111111111111,
              "#46039f"
             ],
             [
              0.2222222222222222,
              "#7201a8"
             ],
             [
              0.3333333333333333,
              "#9c179e"
             ],
             [
              0.4444444444444444,
              "#bd3786"
             ],
             [
              0.5555555555555556,
              "#d8576b"
             ],
             [
              0.6666666666666666,
              "#ed7953"
             ],
             [
              0.7777777777777778,
              "#fb9f3a"
             ],
             [
              0.8888888888888888,
              "#fdca26"
             ],
             [
              1,
              "#f0f921"
             ]
            ],
            "type": "histogram2dcontour"
           }
          ],
          "mesh3d": [
           {
            "colorbar": {
             "outlinewidth": 0,
             "ticks": ""
            },
            "type": "mesh3d"
           }
          ],
          "parcoords": [
           {
            "line": {
             "colorbar": {
              "outlinewidth": 0,
              "ticks": ""
             }
            },
            "type": "parcoords"
           }
          ],
          "scatter": [
           {
            "marker": {
             "colorbar": {
              "outlinewidth": 0,
              "ticks": ""
             }
            },
            "type": "scatter"
           }
          ],
          "scatter3d": [
           {
            "line": {
             "colorbar": {
              "outlinewidth": 0,
              "ticks": ""
             }
            },
            "marker": {
             "colorbar": {
              "outlinewidth": 0,
              "ticks": ""
             }
            },
            "type": "scatter3d"
           }
          ],
          "scattercarpet": [
           {
            "marker": {
             "colorbar": {
              "outlinewidth": 0,
              "ticks": ""
             }
            },
            "type": "scattercarpet"
           }
          ],
          "scattergeo": [
           {
            "marker": {
             "colorbar": {
              "outlinewidth": 0,
              "ticks": ""
             }
            },
            "type": "scattergeo"
           }
          ],
          "scattergl": [
           {
            "marker": {
             "colorbar": {
              "outlinewidth": 0,
              "ticks": ""
             }
            },
            "type": "scattergl"
           }
          ],
          "scattermapbox": [
           {
            "marker": {
             "colorbar": {
              "outlinewidth": 0,
              "ticks": ""
             }
            },
            "type": "scattermapbox"
           }
          ],
          "scatterpolar": [
           {
            "marker": {
             "colorbar": {
              "outlinewidth": 0,
              "ticks": ""
             }
            },
            "type": "scatterpolar"
           }
          ],
          "scatterpolargl": [
           {
            "marker": {
             "colorbar": {
              "outlinewidth": 0,
              "ticks": ""
             }
            },
            "type": "scatterpolargl"
           }
          ],
          "scatterternary": [
           {
            "marker": {
             "colorbar": {
              "outlinewidth": 0,
              "ticks": ""
             }
            },
            "type": "scatterternary"
           }
          ],
          "surface": [
           {
            "colorbar": {
             "outlinewidth": 0,
             "ticks": ""
            },
            "colorscale": [
             [
              0,
              "#0d0887"
             ],
             [
              0.1111111111111111,
              "#46039f"
             ],
             [
              0.2222222222222222,
              "#7201a8"
             ],
             [
              0.3333333333333333,
              "#9c179e"
             ],
             [
              0.4444444444444444,
              "#bd3786"
             ],
             [
              0.5555555555555556,
              "#d8576b"
             ],
             [
              0.6666666666666666,
              "#ed7953"
             ],
             [
              0.7777777777777778,
              "#fb9f3a"
             ],
             [
              0.8888888888888888,
              "#fdca26"
             ],
             [
              1,
              "#f0f921"
             ]
            ],
            "type": "surface"
           }
          ],
          "table": [
           {
            "cells": {
             "fill": {
              "color": "#EBF0F8"
             },
             "line": {
              "color": "white"
             }
            },
            "header": {
             "fill": {
              "color": "#C8D4E3"
             },
             "line": {
              "color": "white"
             }
            },
            "type": "table"
           }
          ]
         },
         "layout": {
          "annotationdefaults": {
           "arrowcolor": "#2a3f5f",
           "arrowhead": 0,
           "arrowwidth": 1
          },
          "colorscale": {
           "diverging": [
            [
             0,
             "#8e0152"
            ],
            [
             0.1,
             "#c51b7d"
            ],
            [
             0.2,
             "#de77ae"
            ],
            [
             0.3,
             "#f1b6da"
            ],
            [
             0.4,
             "#fde0ef"
            ],
            [
             0.5,
             "#f7f7f7"
            ],
            [
             0.6,
             "#e6f5d0"
            ],
            [
             0.7,
             "#b8e186"
            ],
            [
             0.8,
             "#7fbc41"
            ],
            [
             0.9,
             "#4d9221"
            ],
            [
             1,
             "#276419"
            ]
           ],
           "sequential": [
            [
             0,
             "#0d0887"
            ],
            [
             0.1111111111111111,
             "#46039f"
            ],
            [
             0.2222222222222222,
             "#7201a8"
            ],
            [
             0.3333333333333333,
             "#9c179e"
            ],
            [
             0.4444444444444444,
             "#bd3786"
            ],
            [
             0.5555555555555556,
             "#d8576b"
            ],
            [
             0.6666666666666666,
             "#ed7953"
            ],
            [
             0.7777777777777778,
             "#fb9f3a"
            ],
            [
             0.8888888888888888,
             "#fdca26"
            ],
            [
             1,
             "#f0f921"
            ]
           ],
           "sequentialminus": [
            [
             0,
             "#0d0887"
            ],
            [
             0.1111111111111111,
             "#46039f"
            ],
            [
             0.2222222222222222,
             "#7201a8"
            ],
            [
             0.3333333333333333,
             "#9c179e"
            ],
            [
             0.4444444444444444,
             "#bd3786"
            ],
            [
             0.5555555555555556,
             "#d8576b"
            ],
            [
             0.6666666666666666,
             "#ed7953"
            ],
            [
             0.7777777777777778,
             "#fb9f3a"
            ],
            [
             0.8888888888888888,
             "#fdca26"
            ],
            [
             1,
             "#f0f921"
            ]
           ]
          },
          "colorway": [
           "#636efa",
           "#EF553B",
           "#00cc96",
           "#ab63fa",
           "#FFA15A",
           "#19d3f3",
           "#FF6692",
           "#B6E880",
           "#FF97FF",
           "#FECB52"
          ],
          "font": {
           "color": "#2a3f5f"
          },
          "geo": {
           "bgcolor": "white",
           "lakecolor": "white",
           "landcolor": "#E5ECF6",
           "showlakes": true,
           "showland": true,
           "subunitcolor": "white"
          },
          "hoverlabel": {
           "align": "left"
          },
          "hovermode": "closest",
          "mapbox": {
           "style": "light"
          },
          "paper_bgcolor": "white",
          "plot_bgcolor": "#E5ECF6",
          "polar": {
           "angularaxis": {
            "gridcolor": "white",
            "linecolor": "white",
            "ticks": ""
           },
           "bgcolor": "#E5ECF6",
           "radialaxis": {
            "gridcolor": "white",
            "linecolor": "white",
            "ticks": ""
           }
          },
          "scene": {
           "xaxis": {
            "backgroundcolor": "#E5ECF6",
            "gridcolor": "white",
            "gridwidth": 2,
            "linecolor": "white",
            "showbackground": true,
            "ticks": "",
            "zerolinecolor": "white"
           },
           "yaxis": {
            "backgroundcolor": "#E5ECF6",
            "gridcolor": "white",
            "gridwidth": 2,
            "linecolor": "white",
            "showbackground": true,
            "ticks": "",
            "zerolinecolor": "white"
           },
           "zaxis": {
            "backgroundcolor": "#E5ECF6",
            "gridcolor": "white",
            "gridwidth": 2,
            "linecolor": "white",
            "showbackground": true,
            "ticks": "",
            "zerolinecolor": "white"
           }
          },
          "shapedefaults": {
           "line": {
            "color": "#2a3f5f"
           }
          },
          "ternary": {
           "aaxis": {
            "gridcolor": "white",
            "linecolor": "white",
            "ticks": ""
           },
           "baxis": {
            "gridcolor": "white",
            "linecolor": "white",
            "ticks": ""
           },
           "bgcolor": "#E5ECF6",
           "caxis": {
            "gridcolor": "white",
            "linecolor": "white",
            "ticks": ""
           }
          },
          "title": {
           "x": 0.05
          },
          "xaxis": {
           "automargin": true,
           "gridcolor": "white",
           "linecolor": "white",
           "ticks": "",
           "zerolinecolor": "white",
           "zerolinewidth": 2
          },
          "yaxis": {
           "automargin": true,
           "gridcolor": "white",
           "linecolor": "white",
           "ticks": "",
           "zerolinecolor": "white",
           "zerolinewidth": 2
          }
         }
        },
        "xaxis": {
         "anchor": "y",
         "domain": [
          0,
          0.98
         ],
         "title": {
          "text": "material"
         }
        },
        "yaxis": {
         "anchor": "x",
         "domain": [
          0,
          1
         ]
        }
       }
      },
      "text/html": [
       "<div>\n",
       "        \n",
       "        \n",
       "            <div id=\"d35652fa-cf5c-409e-8c50-d85d03fca146\" class=\"plotly-graph-div\" style=\"height:400px; width:100%;\"></div>\n",
       "            <script type=\"text/javascript\">\n",
       "                require([\"plotly\"], function(Plotly) {\n",
       "                    window.PLOTLYENV=window.PLOTLYENV || {};\n",
       "                    \n",
       "                if (document.getElementById(\"d35652fa-cf5c-409e-8c50-d85d03fca146\")) {\n",
       "                    Plotly.newPlot(\n",
       "                        'd35652fa-cf5c-409e-8c50-d85d03fca146',\n",
       "                        [{\"alignmentgroup\": \"True\", \"hoverlabel\": {\"namelength\": 0}, \"hovertemplate\": \"label=True - RF & False - FL<br>material=%{x}\", \"legendgroup\": \"label=True - RF & False - FL\", \"marker\": {\"color\": \"#636efa\"}, \"name\": \"label=True - RF & False - FL\", \"offsetgroup\": \"label=True - RF & False - FL\", \"orientation\": \"v\", \"showlegend\": true, \"textposition\": \"auto\", \"type\": \"bar\", \"x\": [7, 1, 1, 3, 3, 3, 3, 3, 2, 3, 5, 1, 3, 3, 3, 3, 3, 3, 3, 3, 3, 3, 3, 3, 3, 3, 3, 3, 3, 3, 7, 2, 1, 5, 2, 2, 3, 4], \"xaxis\": \"x\", \"yaxis\": \"y\"}, {\"alignmentgroup\": \"True\", \"hoverlabel\": {\"namelength\": 0}, \"hovertemplate\": \"label=True - FL & False - RF<br>material=%{x}\", \"legendgroup\": \"label=True - FL & False - RF\", \"marker\": {\"color\": \"#EF553B\"}, \"name\": \"label=True - FL & False - RF\", \"offsetgroup\": \"label=True - FL & False - RF\", \"orientation\": \"v\", \"showlegend\": true, \"textposition\": \"auto\", \"type\": \"bar\", \"x\": [3, 1, 5, 3, 5, 2, 3], \"xaxis\": \"x\", \"yaxis\": \"y\"}],\n",
       "                        {\"barmode\": \"relative\", \"height\": 400, \"legend\": {\"tracegroupgap\": 0}, \"margin\": {\"t\": 60}, \"template\": {\"data\": {\"bar\": [{\"error_x\": {\"color\": \"#2a3f5f\"}, \"error_y\": {\"color\": \"#2a3f5f\"}, \"marker\": {\"line\": {\"color\": \"#E5ECF6\", \"width\": 0.5}}, \"type\": \"bar\"}], \"barpolar\": [{\"marker\": {\"line\": {\"color\": \"#E5ECF6\", \"width\": 0.5}}, \"type\": \"barpolar\"}], \"carpet\": [{\"aaxis\": {\"endlinecolor\": \"#2a3f5f\", \"gridcolor\": \"white\", \"linecolor\": \"white\", \"minorgridcolor\": \"white\", \"startlinecolor\": \"#2a3f5f\"}, \"baxis\": {\"endlinecolor\": \"#2a3f5f\", \"gridcolor\": \"white\", \"linecolor\": \"white\", \"minorgridcolor\": \"white\", \"startlinecolor\": \"#2a3f5f\"}, \"type\": \"carpet\"}], \"choropleth\": [{\"colorbar\": {\"outlinewidth\": 0, \"ticks\": \"\"}, \"type\": \"choropleth\"}], \"contour\": [{\"colorbar\": {\"outlinewidth\": 0, \"ticks\": \"\"}, \"colorscale\": [[0.0, \"#0d0887\"], [0.1111111111111111, \"#46039f\"], [0.2222222222222222, \"#7201a8\"], [0.3333333333333333, \"#9c179e\"], [0.4444444444444444, \"#bd3786\"], [0.5555555555555556, \"#d8576b\"], [0.6666666666666666, \"#ed7953\"], [0.7777777777777778, \"#fb9f3a\"], [0.8888888888888888, \"#fdca26\"], [1.0, \"#f0f921\"]], \"type\": \"contour\"}], \"contourcarpet\": [{\"colorbar\": {\"outlinewidth\": 0, \"ticks\": \"\"}, \"type\": \"contourcarpet\"}], \"heatmap\": [{\"colorbar\": {\"outlinewidth\": 0, \"ticks\": \"\"}, \"colorscale\": [[0.0, \"#0d0887\"], [0.1111111111111111, \"#46039f\"], [0.2222222222222222, \"#7201a8\"], [0.3333333333333333, \"#9c179e\"], [0.4444444444444444, \"#bd3786\"], [0.5555555555555556, \"#d8576b\"], [0.6666666666666666, \"#ed7953\"], [0.7777777777777778, \"#fb9f3a\"], [0.8888888888888888, \"#fdca26\"], [1.0, \"#f0f921\"]], \"type\": \"heatmap\"}], \"heatmapgl\": [{\"colorbar\": {\"outlinewidth\": 0, \"ticks\": \"\"}, \"colorscale\": [[0.0, \"#0d0887\"], [0.1111111111111111, \"#46039f\"], [0.2222222222222222, \"#7201a8\"], [0.3333333333333333, \"#9c179e\"], [0.4444444444444444, \"#bd3786\"], [0.5555555555555556, \"#d8576b\"], [0.6666666666666666, \"#ed7953\"], [0.7777777777777778, \"#fb9f3a\"], [0.8888888888888888, \"#fdca26\"], [1.0, \"#f0f921\"]], \"type\": \"heatmapgl\"}], \"histogram\": [{\"marker\": {\"colorbar\": {\"outlinewidth\": 0, \"ticks\": \"\"}}, \"type\": \"histogram\"}], \"histogram2d\": [{\"colorbar\": {\"outlinewidth\": 0, \"ticks\": \"\"}, \"colorscale\": [[0.0, \"#0d0887\"], [0.1111111111111111, \"#46039f\"], [0.2222222222222222, \"#7201a8\"], [0.3333333333333333, \"#9c179e\"], [0.4444444444444444, \"#bd3786\"], [0.5555555555555556, \"#d8576b\"], [0.6666666666666666, \"#ed7953\"], [0.7777777777777778, \"#fb9f3a\"], [0.8888888888888888, \"#fdca26\"], [1.0, \"#f0f921\"]], \"type\": \"histogram2d\"}], \"histogram2dcontour\": [{\"colorbar\": {\"outlinewidth\": 0, \"ticks\": \"\"}, \"colorscale\": [[0.0, \"#0d0887\"], [0.1111111111111111, \"#46039f\"], [0.2222222222222222, \"#7201a8\"], [0.3333333333333333, \"#9c179e\"], [0.4444444444444444, \"#bd3786\"], [0.5555555555555556, \"#d8576b\"], [0.6666666666666666, \"#ed7953\"], [0.7777777777777778, \"#fb9f3a\"], [0.8888888888888888, \"#fdca26\"], [1.0, \"#f0f921\"]], \"type\": \"histogram2dcontour\"}], \"mesh3d\": [{\"colorbar\": {\"outlinewidth\": 0, \"ticks\": \"\"}, \"type\": \"mesh3d\"}], \"parcoords\": [{\"line\": {\"colorbar\": {\"outlinewidth\": 0, \"ticks\": \"\"}}, \"type\": \"parcoords\"}], \"scatter\": [{\"marker\": {\"colorbar\": {\"outlinewidth\": 0, \"ticks\": \"\"}}, \"type\": \"scatter\"}], \"scatter3d\": [{\"line\": {\"colorbar\": {\"outlinewidth\": 0, \"ticks\": \"\"}}, \"marker\": {\"colorbar\": {\"outlinewidth\": 0, \"ticks\": \"\"}}, \"type\": \"scatter3d\"}], \"scattercarpet\": [{\"marker\": {\"colorbar\": {\"outlinewidth\": 0, \"ticks\": \"\"}}, \"type\": \"scattercarpet\"}], \"scattergeo\": [{\"marker\": {\"colorbar\": {\"outlinewidth\": 0, \"ticks\": \"\"}}, \"type\": \"scattergeo\"}], \"scattergl\": [{\"marker\": {\"colorbar\": {\"outlinewidth\": 0, \"ticks\": \"\"}}, \"type\": \"scattergl\"}], \"scattermapbox\": [{\"marker\": {\"colorbar\": {\"outlinewidth\": 0, \"ticks\": \"\"}}, \"type\": \"scattermapbox\"}], \"scatterpolar\": [{\"marker\": {\"colorbar\": {\"outlinewidth\": 0, \"ticks\": \"\"}}, \"type\": \"scatterpolar\"}], \"scatterpolargl\": [{\"marker\": {\"colorbar\": {\"outlinewidth\": 0, \"ticks\": \"\"}}, \"type\": \"scatterpolargl\"}], \"scatterternary\": [{\"marker\": {\"colorbar\": {\"outlinewidth\": 0, \"ticks\": \"\"}}, \"type\": \"scatterternary\"}], \"surface\": [{\"colorbar\": {\"outlinewidth\": 0, \"ticks\": \"\"}, \"colorscale\": [[0.0, \"#0d0887\"], [0.1111111111111111, \"#46039f\"], [0.2222222222222222, \"#7201a8\"], [0.3333333333333333, \"#9c179e\"], [0.4444444444444444, \"#bd3786\"], [0.5555555555555556, \"#d8576b\"], [0.6666666666666666, \"#ed7953\"], [0.7777777777777778, \"#fb9f3a\"], [0.8888888888888888, \"#fdca26\"], [1.0, \"#f0f921\"]], \"type\": \"surface\"}], \"table\": [{\"cells\": {\"fill\": {\"color\": \"#EBF0F8\"}, \"line\": {\"color\": \"white\"}}, \"header\": {\"fill\": {\"color\": \"#C8D4E3\"}, \"line\": {\"color\": \"white\"}}, \"type\": \"table\"}]}, \"layout\": {\"annotationdefaults\": {\"arrowcolor\": \"#2a3f5f\", \"arrowhead\": 0, \"arrowwidth\": 1}, \"colorscale\": {\"diverging\": [[0, \"#8e0152\"], [0.1, \"#c51b7d\"], [0.2, \"#de77ae\"], [0.3, \"#f1b6da\"], [0.4, \"#fde0ef\"], [0.5, \"#f7f7f7\"], [0.6, \"#e6f5d0\"], [0.7, \"#b8e186\"], [0.8, \"#7fbc41\"], [0.9, \"#4d9221\"], [1, \"#276419\"]], \"sequential\": [[0.0, \"#0d0887\"], [0.1111111111111111, \"#46039f\"], [0.2222222222222222, \"#7201a8\"], [0.3333333333333333, \"#9c179e\"], [0.4444444444444444, \"#bd3786\"], [0.5555555555555556, \"#d8576b\"], [0.6666666666666666, \"#ed7953\"], [0.7777777777777778, \"#fb9f3a\"], [0.8888888888888888, \"#fdca26\"], [1.0, \"#f0f921\"]], \"sequentialminus\": [[0.0, \"#0d0887\"], [0.1111111111111111, \"#46039f\"], [0.2222222222222222, \"#7201a8\"], [0.3333333333333333, \"#9c179e\"], [0.4444444444444444, \"#bd3786\"], [0.5555555555555556, \"#d8576b\"], [0.6666666666666666, \"#ed7953\"], [0.7777777777777778, \"#fb9f3a\"], [0.8888888888888888, \"#fdca26\"], [1.0, \"#f0f921\"]]}, \"colorway\": [\"#636efa\", \"#EF553B\", \"#00cc96\", \"#ab63fa\", \"#FFA15A\", \"#19d3f3\", \"#FF6692\", \"#B6E880\", \"#FF97FF\", \"#FECB52\"], \"font\": {\"color\": \"#2a3f5f\"}, \"geo\": {\"bgcolor\": \"white\", \"lakecolor\": \"white\", \"landcolor\": \"#E5ECF6\", \"showlakes\": true, \"showland\": true, \"subunitcolor\": \"white\"}, \"hoverlabel\": {\"align\": \"left\"}, \"hovermode\": \"closest\", \"mapbox\": {\"style\": \"light\"}, \"paper_bgcolor\": \"white\", \"plot_bgcolor\": \"#E5ECF6\", \"polar\": {\"angularaxis\": {\"gridcolor\": \"white\", \"linecolor\": \"white\", \"ticks\": \"\"}, \"bgcolor\": \"#E5ECF6\", \"radialaxis\": {\"gridcolor\": \"white\", \"linecolor\": \"white\", \"ticks\": \"\"}}, \"scene\": {\"xaxis\": {\"backgroundcolor\": \"#E5ECF6\", \"gridcolor\": \"white\", \"gridwidth\": 2, \"linecolor\": \"white\", \"showbackground\": true, \"ticks\": \"\", \"zerolinecolor\": \"white\"}, \"yaxis\": {\"backgroundcolor\": \"#E5ECF6\", \"gridcolor\": \"white\", \"gridwidth\": 2, \"linecolor\": \"white\", \"showbackground\": true, \"ticks\": \"\", \"zerolinecolor\": \"white\"}, \"zaxis\": {\"backgroundcolor\": \"#E5ECF6\", \"gridcolor\": \"white\", \"gridwidth\": 2, \"linecolor\": \"white\", \"showbackground\": true, \"ticks\": \"\", \"zerolinecolor\": \"white\"}}, \"shapedefaults\": {\"line\": {\"color\": \"#2a3f5f\"}}, \"ternary\": {\"aaxis\": {\"gridcolor\": \"white\", \"linecolor\": \"white\", \"ticks\": \"\"}, \"baxis\": {\"gridcolor\": \"white\", \"linecolor\": \"white\", \"ticks\": \"\"}, \"bgcolor\": \"#E5ECF6\", \"caxis\": {\"gridcolor\": \"white\", \"linecolor\": \"white\", \"ticks\": \"\"}}, \"title\": {\"x\": 0.05}, \"xaxis\": {\"automargin\": true, \"gridcolor\": \"white\", \"linecolor\": \"white\", \"ticks\": \"\", \"zerolinecolor\": \"white\", \"zerolinewidth\": 2}, \"yaxis\": {\"automargin\": true, \"gridcolor\": \"white\", \"linecolor\": \"white\", \"ticks\": \"\", \"zerolinecolor\": \"white\", \"zerolinewidth\": 2}}}, \"xaxis\": {\"anchor\": \"y\", \"domain\": [0.0, 0.98], \"title\": {\"text\": \"material\"}}, \"yaxis\": {\"anchor\": \"x\", \"domain\": [0.0, 1.0]}},\n",
       "                        {\"responsive\": true}\n",
       "                    ).then(function(){\n",
       "                            \n",
       "var gd = document.getElementById('d35652fa-cf5c-409e-8c50-d85d03fca146');\n",
       "var x = new MutationObserver(function (mutations, observer) {{\n",
       "        var display = window.getComputedStyle(gd).display;\n",
       "        if (!display || display === 'none') {{\n",
       "            console.log([gd, 'removed!']);\n",
       "            Plotly.purge(gd);\n",
       "            observer.disconnect();\n",
       "        }}\n",
       "}});\n",
       "\n",
       "// Listen for the removal of the full notebook cells\n",
       "var notebookContainer = gd.closest('#notebook-container');\n",
       "if (notebookContainer) {{\n",
       "    x.observe(notebookContainer, {childList: true});\n",
       "}}\n",
       "\n",
       "// Listen for the clearing of the current output cell\n",
       "var outputEl = gd.closest('.output');\n",
       "if (outputEl) {{\n",
       "    x.observe(outputEl, {childList: true});\n",
       "}}\n",
       "\n",
       "                        })\n",
       "                };\n",
       "                });\n",
       "            </script>\n",
       "        </div>"
      ]
     },
     "metadata": {},
     "output_type": "display_data"
    }
   ],
   "source": [
    "fig = px.bar(df, x='material', height=400, color='label')\n",
    "fig.show()"
   ]
  },
  {
   "cell_type": "code",
   "execution_count": 67,
   "metadata": {},
   "outputs": [
    {
     "data": {
      "application/vnd.plotly.v1+json": {
       "config": {
        "plotlyServerURL": "https://plot.ly"
       },
       "data": [
        {
         "alignmentgroup": "True",
         "hoverlabel": {
          "namelength": 0
         },
         "hovertemplate": "label=True - RF & False - FL<br>deck=%{x}",
         "legendgroup": "label=True - RF & False - FL",
         "marker": {
          "color": "#636efa"
         },
         "name": "label=True - RF & False - FL",
         "offsetgroup": "label=True - RF & False - FL",
         "orientation": "v",
         "showlegend": true,
         "textposition": "auto",
         "type": "bar",
         "x": [
          8,
          5,
          8,
          8,
          6,
          5,
          7,
          6,
          7,
          7,
          7,
          6,
          7,
          7,
          6,
          7,
          6,
          6,
          5,
          5,
          7,
          6,
          6,
          6,
          7,
          6,
          7,
          7,
          7,
          9,
          7,
          7,
          6,
          7,
          6,
          7,
          4,
          8
         ],
         "xaxis": "x",
         "yaxis": "y"
        },
        {
         "alignmentgroup": "True",
         "hoverlabel": {
          "namelength": 0
         },
         "hovertemplate": "label=True - FL & False - RF<br>deck=%{x}",
         "legendgroup": "label=True - FL & False - RF",
         "marker": {
          "color": "#EF553B"
         },
         "name": "label=True - FL & False - RF",
         "offsetgroup": "label=True - FL & False - RF",
         "orientation": "v",
         "showlegend": true,
         "textposition": "auto",
         "type": "bar",
         "x": [
          7,
          5,
          8,
          7,
          9,
          9,
          9
         ],
         "xaxis": "x",
         "yaxis": "y"
        }
       ],
       "layout": {
        "barmode": "relative",
        "height": 400,
        "legend": {
         "tracegroupgap": 0
        },
        "margin": {
         "t": 60
        },
        "template": {
         "data": {
          "bar": [
           {
            "error_x": {
             "color": "#2a3f5f"
            },
            "error_y": {
             "color": "#2a3f5f"
            },
            "marker": {
             "line": {
              "color": "#E5ECF6",
              "width": 0.5
             }
            },
            "type": "bar"
           }
          ],
          "barpolar": [
           {
            "marker": {
             "line": {
              "color": "#E5ECF6",
              "width": 0.5
             }
            },
            "type": "barpolar"
           }
          ],
          "carpet": [
           {
            "aaxis": {
             "endlinecolor": "#2a3f5f",
             "gridcolor": "white",
             "linecolor": "white",
             "minorgridcolor": "white",
             "startlinecolor": "#2a3f5f"
            },
            "baxis": {
             "endlinecolor": "#2a3f5f",
             "gridcolor": "white",
             "linecolor": "white",
             "minorgridcolor": "white",
             "startlinecolor": "#2a3f5f"
            },
            "type": "carpet"
           }
          ],
          "choropleth": [
           {
            "colorbar": {
             "outlinewidth": 0,
             "ticks": ""
            },
            "type": "choropleth"
           }
          ],
          "contour": [
           {
            "colorbar": {
             "outlinewidth": 0,
             "ticks": ""
            },
            "colorscale": [
             [
              0,
              "#0d0887"
             ],
             [
              0.1111111111111111,
              "#46039f"
             ],
             [
              0.2222222222222222,
              "#7201a8"
             ],
             [
              0.3333333333333333,
              "#9c179e"
             ],
             [
              0.4444444444444444,
              "#bd3786"
             ],
             [
              0.5555555555555556,
              "#d8576b"
             ],
             [
              0.6666666666666666,
              "#ed7953"
             ],
             [
              0.7777777777777778,
              "#fb9f3a"
             ],
             [
              0.8888888888888888,
              "#fdca26"
             ],
             [
              1,
              "#f0f921"
             ]
            ],
            "type": "contour"
           }
          ],
          "contourcarpet": [
           {
            "colorbar": {
             "outlinewidth": 0,
             "ticks": ""
            },
            "type": "contourcarpet"
           }
          ],
          "heatmap": [
           {
            "colorbar": {
             "outlinewidth": 0,
             "ticks": ""
            },
            "colorscale": [
             [
              0,
              "#0d0887"
             ],
             [
              0.1111111111111111,
              "#46039f"
             ],
             [
              0.2222222222222222,
              "#7201a8"
             ],
             [
              0.3333333333333333,
              "#9c179e"
             ],
             [
              0.4444444444444444,
              "#bd3786"
             ],
             [
              0.5555555555555556,
              "#d8576b"
             ],
             [
              0.6666666666666666,
              "#ed7953"
             ],
             [
              0.7777777777777778,
              "#fb9f3a"
             ],
             [
              0.8888888888888888,
              "#fdca26"
             ],
             [
              1,
              "#f0f921"
             ]
            ],
            "type": "heatmap"
           }
          ],
          "heatmapgl": [
           {
            "colorbar": {
             "outlinewidth": 0,
             "ticks": ""
            },
            "colorscale": [
             [
              0,
              "#0d0887"
             ],
             [
              0.1111111111111111,
              "#46039f"
             ],
             [
              0.2222222222222222,
              "#7201a8"
             ],
             [
              0.3333333333333333,
              "#9c179e"
             ],
             [
              0.4444444444444444,
              "#bd3786"
             ],
             [
              0.5555555555555556,
              "#d8576b"
             ],
             [
              0.6666666666666666,
              "#ed7953"
             ],
             [
              0.7777777777777778,
              "#fb9f3a"
             ],
             [
              0.8888888888888888,
              "#fdca26"
             ],
             [
              1,
              "#f0f921"
             ]
            ],
            "type": "heatmapgl"
           }
          ],
          "histogram": [
           {
            "marker": {
             "colorbar": {
              "outlinewidth": 0,
              "ticks": ""
             }
            },
            "type": "histogram"
           }
          ],
          "histogram2d": [
           {
            "colorbar": {
             "outlinewidth": 0,
             "ticks": ""
            },
            "colorscale": [
             [
              0,
              "#0d0887"
             ],
             [
              0.1111111111111111,
              "#46039f"
             ],
             [
              0.2222222222222222,
              "#7201a8"
             ],
             [
              0.3333333333333333,
              "#9c179e"
             ],
             [
              0.4444444444444444,
              "#bd3786"
             ],
             [
              0.5555555555555556,
              "#d8576b"
             ],
             [
              0.6666666666666666,
              "#ed7953"
             ],
             [
              0.7777777777777778,
              "#fb9f3a"
             ],
             [
              0.8888888888888888,
              "#fdca26"
             ],
             [
              1,
              "#f0f921"
             ]
            ],
            "type": "histogram2d"
           }
          ],
          "histogram2dcontour": [
           {
            "colorbar": {
             "outlinewidth": 0,
             "ticks": ""
            },
            "colorscale": [
             [
              0,
              "#0d0887"
             ],
             [
              0.1111111111111111,
              "#46039f"
             ],
             [
              0.2222222222222222,
              "#7201a8"
             ],
             [
              0.3333333333333333,
              "#9c179e"
             ],
             [
              0.4444444444444444,
              "#bd3786"
             ],
             [
              0.5555555555555556,
              "#d8576b"
             ],
             [
              0.6666666666666666,
              "#ed7953"
             ],
             [
              0.7777777777777778,
              "#fb9f3a"
             ],
             [
              0.8888888888888888,
              "#fdca26"
             ],
             [
              1,
              "#f0f921"
             ]
            ],
            "type": "histogram2dcontour"
           }
          ],
          "mesh3d": [
           {
            "colorbar": {
             "outlinewidth": 0,
             "ticks": ""
            },
            "type": "mesh3d"
           }
          ],
          "parcoords": [
           {
            "line": {
             "colorbar": {
              "outlinewidth": 0,
              "ticks": ""
             }
            },
            "type": "parcoords"
           }
          ],
          "scatter": [
           {
            "marker": {
             "colorbar": {
              "outlinewidth": 0,
              "ticks": ""
             }
            },
            "type": "scatter"
           }
          ],
          "scatter3d": [
           {
            "line": {
             "colorbar": {
              "outlinewidth": 0,
              "ticks": ""
             }
            },
            "marker": {
             "colorbar": {
              "outlinewidth": 0,
              "ticks": ""
             }
            },
            "type": "scatter3d"
           }
          ],
          "scattercarpet": [
           {
            "marker": {
             "colorbar": {
              "outlinewidth": 0,
              "ticks": ""
             }
            },
            "type": "scattercarpet"
           }
          ],
          "scattergeo": [
           {
            "marker": {
             "colorbar": {
              "outlinewidth": 0,
              "ticks": ""
             }
            },
            "type": "scattergeo"
           }
          ],
          "scattergl": [
           {
            "marker": {
             "colorbar": {
              "outlinewidth": 0,
              "ticks": ""
             }
            },
            "type": "scattergl"
           }
          ],
          "scattermapbox": [
           {
            "marker": {
             "colorbar": {
              "outlinewidth": 0,
              "ticks": ""
             }
            },
            "type": "scattermapbox"
           }
          ],
          "scatterpolar": [
           {
            "marker": {
             "colorbar": {
              "outlinewidth": 0,
              "ticks": ""
             }
            },
            "type": "scatterpolar"
           }
          ],
          "scatterpolargl": [
           {
            "marker": {
             "colorbar": {
              "outlinewidth": 0,
              "ticks": ""
             }
            },
            "type": "scatterpolargl"
           }
          ],
          "scatterternary": [
           {
            "marker": {
             "colorbar": {
              "outlinewidth": 0,
              "ticks": ""
             }
            },
            "type": "scatterternary"
           }
          ],
          "surface": [
           {
            "colorbar": {
             "outlinewidth": 0,
             "ticks": ""
            },
            "colorscale": [
             [
              0,
              "#0d0887"
             ],
             [
              0.1111111111111111,
              "#46039f"
             ],
             [
              0.2222222222222222,
              "#7201a8"
             ],
             [
              0.3333333333333333,
              "#9c179e"
             ],
             [
              0.4444444444444444,
              "#bd3786"
             ],
             [
              0.5555555555555556,
              "#d8576b"
             ],
             [
              0.6666666666666666,
              "#ed7953"
             ],
             [
              0.7777777777777778,
              "#fb9f3a"
             ],
             [
              0.8888888888888888,
              "#fdca26"
             ],
             [
              1,
              "#f0f921"
             ]
            ],
            "type": "surface"
           }
          ],
          "table": [
           {
            "cells": {
             "fill": {
              "color": "#EBF0F8"
             },
             "line": {
              "color": "white"
             }
            },
            "header": {
             "fill": {
              "color": "#C8D4E3"
             },
             "line": {
              "color": "white"
             }
            },
            "type": "table"
           }
          ]
         },
         "layout": {
          "annotationdefaults": {
           "arrowcolor": "#2a3f5f",
           "arrowhead": 0,
           "arrowwidth": 1
          },
          "colorscale": {
           "diverging": [
            [
             0,
             "#8e0152"
            ],
            [
             0.1,
             "#c51b7d"
            ],
            [
             0.2,
             "#de77ae"
            ],
            [
             0.3,
             "#f1b6da"
            ],
            [
             0.4,
             "#fde0ef"
            ],
            [
             0.5,
             "#f7f7f7"
            ],
            [
             0.6,
             "#e6f5d0"
            ],
            [
             0.7,
             "#b8e186"
            ],
            [
             0.8,
             "#7fbc41"
            ],
            [
             0.9,
             "#4d9221"
            ],
            [
             1,
             "#276419"
            ]
           ],
           "sequential": [
            [
             0,
             "#0d0887"
            ],
            [
             0.1111111111111111,
             "#46039f"
            ],
            [
             0.2222222222222222,
             "#7201a8"
            ],
            [
             0.3333333333333333,
             "#9c179e"
            ],
            [
             0.4444444444444444,
             "#bd3786"
            ],
            [
             0.5555555555555556,
             "#d8576b"
            ],
            [
             0.6666666666666666,
             "#ed7953"
            ],
            [
             0.7777777777777778,
             "#fb9f3a"
            ],
            [
             0.8888888888888888,
             "#fdca26"
            ],
            [
             1,
             "#f0f921"
            ]
           ],
           "sequentialminus": [
            [
             0,
             "#0d0887"
            ],
            [
             0.1111111111111111,
             "#46039f"
            ],
            [
             0.2222222222222222,
             "#7201a8"
            ],
            [
             0.3333333333333333,
             "#9c179e"
            ],
            [
             0.4444444444444444,
             "#bd3786"
            ],
            [
             0.5555555555555556,
             "#d8576b"
            ],
            [
             0.6666666666666666,
             "#ed7953"
            ],
            [
             0.7777777777777778,
             "#fb9f3a"
            ],
            [
             0.8888888888888888,
             "#fdca26"
            ],
            [
             1,
             "#f0f921"
            ]
           ]
          },
          "colorway": [
           "#636efa",
           "#EF553B",
           "#00cc96",
           "#ab63fa",
           "#FFA15A",
           "#19d3f3",
           "#FF6692",
           "#B6E880",
           "#FF97FF",
           "#FECB52"
          ],
          "font": {
           "color": "#2a3f5f"
          },
          "geo": {
           "bgcolor": "white",
           "lakecolor": "white",
           "landcolor": "#E5ECF6",
           "showlakes": true,
           "showland": true,
           "subunitcolor": "white"
          },
          "hoverlabel": {
           "align": "left"
          },
          "hovermode": "closest",
          "mapbox": {
           "style": "light"
          },
          "paper_bgcolor": "white",
          "plot_bgcolor": "#E5ECF6",
          "polar": {
           "angularaxis": {
            "gridcolor": "white",
            "linecolor": "white",
            "ticks": ""
           },
           "bgcolor": "#E5ECF6",
           "radialaxis": {
            "gridcolor": "white",
            "linecolor": "white",
            "ticks": ""
           }
          },
          "scene": {
           "xaxis": {
            "backgroundcolor": "#E5ECF6",
            "gridcolor": "white",
            "gridwidth": 2,
            "linecolor": "white",
            "showbackground": true,
            "ticks": "",
            "zerolinecolor": "white"
           },
           "yaxis": {
            "backgroundcolor": "#E5ECF6",
            "gridcolor": "white",
            "gridwidth": 2,
            "linecolor": "white",
            "showbackground": true,
            "ticks": "",
            "zerolinecolor": "white"
           },
           "zaxis": {
            "backgroundcolor": "#E5ECF6",
            "gridcolor": "white",
            "gridwidth": 2,
            "linecolor": "white",
            "showbackground": true,
            "ticks": "",
            "zerolinecolor": "white"
           }
          },
          "shapedefaults": {
           "line": {
            "color": "#2a3f5f"
           }
          },
          "ternary": {
           "aaxis": {
            "gridcolor": "white",
            "linecolor": "white",
            "ticks": ""
           },
           "baxis": {
            "gridcolor": "white",
            "linecolor": "white",
            "ticks": ""
           },
           "bgcolor": "#E5ECF6",
           "caxis": {
            "gridcolor": "white",
            "linecolor": "white",
            "ticks": ""
           }
          },
          "title": {
           "x": 0.05
          },
          "xaxis": {
           "automargin": true,
           "gridcolor": "white",
           "linecolor": "white",
           "ticks": "",
           "zerolinecolor": "white",
           "zerolinewidth": 2
          },
          "yaxis": {
           "automargin": true,
           "gridcolor": "white",
           "linecolor": "white",
           "ticks": "",
           "zerolinecolor": "white",
           "zerolinewidth": 2
          }
         }
        },
        "xaxis": {
         "anchor": "y",
         "domain": [
          0,
          0.98
         ],
         "title": {
          "text": "deck"
         }
        },
        "yaxis": {
         "anchor": "x",
         "domain": [
          0,
          1
         ]
        }
       }
      },
      "text/html": [
       "<div>\n",
       "        \n",
       "        \n",
       "            <div id=\"61ebd738-f982-4520-b10f-d136c57c4fc7\" class=\"plotly-graph-div\" style=\"height:400px; width:100%;\"></div>\n",
       "            <script type=\"text/javascript\">\n",
       "                require([\"plotly\"], function(Plotly) {\n",
       "                    window.PLOTLYENV=window.PLOTLYENV || {};\n",
       "                    \n",
       "                if (document.getElementById(\"61ebd738-f982-4520-b10f-d136c57c4fc7\")) {\n",
       "                    Plotly.newPlot(\n",
       "                        '61ebd738-f982-4520-b10f-d136c57c4fc7',\n",
       "                        [{\"alignmentgroup\": \"True\", \"hoverlabel\": {\"namelength\": 0}, \"hovertemplate\": \"label=True - RF & False - FL<br>deck=%{x}\", \"legendgroup\": \"label=True - RF & False - FL\", \"marker\": {\"color\": \"#636efa\"}, \"name\": \"label=True - RF & False - FL\", \"offsetgroup\": \"label=True - RF & False - FL\", \"orientation\": \"v\", \"showlegend\": true, \"textposition\": \"auto\", \"type\": \"bar\", \"x\": [8, 5, 8, 8, 6, 5, 7, 6, 7, 7, 7, 6, 7, 7, 6, 7, 6, 6, 5, 5, 7, 6, 6, 6, 7, 6, 7, 7, 7, 9, 7, 7, 6, 7, 6, 7, 4, 8], \"xaxis\": \"x\", \"yaxis\": \"y\"}, {\"alignmentgroup\": \"True\", \"hoverlabel\": {\"namelength\": 0}, \"hovertemplate\": \"label=True - FL & False - RF<br>deck=%{x}\", \"legendgroup\": \"label=True - FL & False - RF\", \"marker\": {\"color\": \"#EF553B\"}, \"name\": \"label=True - FL & False - RF\", \"offsetgroup\": \"label=True - FL & False - RF\", \"orientation\": \"v\", \"showlegend\": true, \"textposition\": \"auto\", \"type\": \"bar\", \"x\": [7, 5, 8, 7, 9, 9, 9], \"xaxis\": \"x\", \"yaxis\": \"y\"}],\n",
       "                        {\"barmode\": \"relative\", \"height\": 400, \"legend\": {\"tracegroupgap\": 0}, \"margin\": {\"t\": 60}, \"template\": {\"data\": {\"bar\": [{\"error_x\": {\"color\": \"#2a3f5f\"}, \"error_y\": {\"color\": \"#2a3f5f\"}, \"marker\": {\"line\": {\"color\": \"#E5ECF6\", \"width\": 0.5}}, \"type\": \"bar\"}], \"barpolar\": [{\"marker\": {\"line\": {\"color\": \"#E5ECF6\", \"width\": 0.5}}, \"type\": \"barpolar\"}], \"carpet\": [{\"aaxis\": {\"endlinecolor\": \"#2a3f5f\", \"gridcolor\": \"white\", \"linecolor\": \"white\", \"minorgridcolor\": \"white\", \"startlinecolor\": \"#2a3f5f\"}, \"baxis\": {\"endlinecolor\": \"#2a3f5f\", \"gridcolor\": \"white\", \"linecolor\": \"white\", \"minorgridcolor\": \"white\", \"startlinecolor\": \"#2a3f5f\"}, \"type\": \"carpet\"}], \"choropleth\": [{\"colorbar\": {\"outlinewidth\": 0, \"ticks\": \"\"}, \"type\": \"choropleth\"}], \"contour\": [{\"colorbar\": {\"outlinewidth\": 0, \"ticks\": \"\"}, \"colorscale\": [[0.0, \"#0d0887\"], [0.1111111111111111, \"#46039f\"], [0.2222222222222222, \"#7201a8\"], [0.3333333333333333, \"#9c179e\"], [0.4444444444444444, \"#bd3786\"], [0.5555555555555556, \"#d8576b\"], [0.6666666666666666, \"#ed7953\"], [0.7777777777777778, \"#fb9f3a\"], [0.8888888888888888, \"#fdca26\"], [1.0, \"#f0f921\"]], \"type\": \"contour\"}], \"contourcarpet\": [{\"colorbar\": {\"outlinewidth\": 0, \"ticks\": \"\"}, \"type\": \"contourcarpet\"}], \"heatmap\": [{\"colorbar\": {\"outlinewidth\": 0, \"ticks\": \"\"}, \"colorscale\": [[0.0, \"#0d0887\"], [0.1111111111111111, \"#46039f\"], [0.2222222222222222, \"#7201a8\"], [0.3333333333333333, \"#9c179e\"], [0.4444444444444444, \"#bd3786\"], [0.5555555555555556, \"#d8576b\"], [0.6666666666666666, \"#ed7953\"], [0.7777777777777778, \"#fb9f3a\"], [0.8888888888888888, \"#fdca26\"], [1.0, \"#f0f921\"]], \"type\": \"heatmap\"}], \"heatmapgl\": [{\"colorbar\": {\"outlinewidth\": 0, \"ticks\": \"\"}, \"colorscale\": [[0.0, \"#0d0887\"], [0.1111111111111111, \"#46039f\"], [0.2222222222222222, \"#7201a8\"], [0.3333333333333333, \"#9c179e\"], [0.4444444444444444, \"#bd3786\"], [0.5555555555555556, \"#d8576b\"], [0.6666666666666666, \"#ed7953\"], [0.7777777777777778, \"#fb9f3a\"], [0.8888888888888888, \"#fdca26\"], [1.0, \"#f0f921\"]], \"type\": \"heatmapgl\"}], \"histogram\": [{\"marker\": {\"colorbar\": {\"outlinewidth\": 0, \"ticks\": \"\"}}, \"type\": \"histogram\"}], \"histogram2d\": [{\"colorbar\": {\"outlinewidth\": 0, \"ticks\": \"\"}, \"colorscale\": [[0.0, \"#0d0887\"], [0.1111111111111111, \"#46039f\"], [0.2222222222222222, \"#7201a8\"], [0.3333333333333333, \"#9c179e\"], [0.4444444444444444, \"#bd3786\"], [0.5555555555555556, \"#d8576b\"], [0.6666666666666666, \"#ed7953\"], [0.7777777777777778, \"#fb9f3a\"], [0.8888888888888888, \"#fdca26\"], [1.0, \"#f0f921\"]], \"type\": \"histogram2d\"}], \"histogram2dcontour\": [{\"colorbar\": {\"outlinewidth\": 0, \"ticks\": \"\"}, \"colorscale\": [[0.0, \"#0d0887\"], [0.1111111111111111, \"#46039f\"], [0.2222222222222222, \"#7201a8\"], [0.3333333333333333, \"#9c179e\"], [0.4444444444444444, \"#bd3786\"], [0.5555555555555556, \"#d8576b\"], [0.6666666666666666, \"#ed7953\"], [0.7777777777777778, \"#fb9f3a\"], [0.8888888888888888, \"#fdca26\"], [1.0, \"#f0f921\"]], \"type\": \"histogram2dcontour\"}], \"mesh3d\": [{\"colorbar\": {\"outlinewidth\": 0, \"ticks\": \"\"}, \"type\": \"mesh3d\"}], \"parcoords\": [{\"line\": {\"colorbar\": {\"outlinewidth\": 0, \"ticks\": \"\"}}, \"type\": \"parcoords\"}], \"scatter\": [{\"marker\": {\"colorbar\": {\"outlinewidth\": 0, \"ticks\": \"\"}}, \"type\": \"scatter\"}], \"scatter3d\": [{\"line\": {\"colorbar\": {\"outlinewidth\": 0, \"ticks\": \"\"}}, \"marker\": {\"colorbar\": {\"outlinewidth\": 0, \"ticks\": \"\"}}, \"type\": \"scatter3d\"}], \"scattercarpet\": [{\"marker\": {\"colorbar\": {\"outlinewidth\": 0, \"ticks\": \"\"}}, \"type\": \"scattercarpet\"}], \"scattergeo\": [{\"marker\": {\"colorbar\": {\"outlinewidth\": 0, \"ticks\": \"\"}}, \"type\": \"scattergeo\"}], \"scattergl\": [{\"marker\": {\"colorbar\": {\"outlinewidth\": 0, \"ticks\": \"\"}}, \"type\": \"scattergl\"}], \"scattermapbox\": [{\"marker\": {\"colorbar\": {\"outlinewidth\": 0, \"ticks\": \"\"}}, \"type\": \"scattermapbox\"}], \"scatterpolar\": [{\"marker\": {\"colorbar\": {\"outlinewidth\": 0, \"ticks\": \"\"}}, \"type\": \"scatterpolar\"}], \"scatterpolargl\": [{\"marker\": {\"colorbar\": {\"outlinewidth\": 0, \"ticks\": \"\"}}, \"type\": \"scatterpolargl\"}], \"scatterternary\": [{\"marker\": {\"colorbar\": {\"outlinewidth\": 0, \"ticks\": \"\"}}, \"type\": \"scatterternary\"}], \"surface\": [{\"colorbar\": {\"outlinewidth\": 0, \"ticks\": \"\"}, \"colorscale\": [[0.0, \"#0d0887\"], [0.1111111111111111, \"#46039f\"], [0.2222222222222222, \"#7201a8\"], [0.3333333333333333, \"#9c179e\"], [0.4444444444444444, \"#bd3786\"], [0.5555555555555556, \"#d8576b\"], [0.6666666666666666, \"#ed7953\"], [0.7777777777777778, \"#fb9f3a\"], [0.8888888888888888, \"#fdca26\"], [1.0, \"#f0f921\"]], \"type\": \"surface\"}], \"table\": [{\"cells\": {\"fill\": {\"color\": \"#EBF0F8\"}, \"line\": {\"color\": \"white\"}}, \"header\": {\"fill\": {\"color\": \"#C8D4E3\"}, \"line\": {\"color\": \"white\"}}, \"type\": \"table\"}]}, \"layout\": {\"annotationdefaults\": {\"arrowcolor\": \"#2a3f5f\", \"arrowhead\": 0, \"arrowwidth\": 1}, \"colorscale\": {\"diverging\": [[0, \"#8e0152\"], [0.1, \"#c51b7d\"], [0.2, \"#de77ae\"], [0.3, \"#f1b6da\"], [0.4, \"#fde0ef\"], [0.5, \"#f7f7f7\"], [0.6, \"#e6f5d0\"], [0.7, \"#b8e186\"], [0.8, \"#7fbc41\"], [0.9, \"#4d9221\"], [1, \"#276419\"]], \"sequential\": [[0.0, \"#0d0887\"], [0.1111111111111111, \"#46039f\"], [0.2222222222222222, \"#7201a8\"], [0.3333333333333333, \"#9c179e\"], [0.4444444444444444, \"#bd3786\"], [0.5555555555555556, \"#d8576b\"], [0.6666666666666666, \"#ed7953\"], [0.7777777777777778, \"#fb9f3a\"], [0.8888888888888888, \"#fdca26\"], [1.0, \"#f0f921\"]], \"sequentialminus\": [[0.0, \"#0d0887\"], [0.1111111111111111, \"#46039f\"], [0.2222222222222222, \"#7201a8\"], [0.3333333333333333, \"#9c179e\"], [0.4444444444444444, \"#bd3786\"], [0.5555555555555556, \"#d8576b\"], [0.6666666666666666, \"#ed7953\"], [0.7777777777777778, \"#fb9f3a\"], [0.8888888888888888, \"#fdca26\"], [1.0, \"#f0f921\"]]}, \"colorway\": [\"#636efa\", \"#EF553B\", \"#00cc96\", \"#ab63fa\", \"#FFA15A\", \"#19d3f3\", \"#FF6692\", \"#B6E880\", \"#FF97FF\", \"#FECB52\"], \"font\": {\"color\": \"#2a3f5f\"}, \"geo\": {\"bgcolor\": \"white\", \"lakecolor\": \"white\", \"landcolor\": \"#E5ECF6\", \"showlakes\": true, \"showland\": true, \"subunitcolor\": \"white\"}, \"hoverlabel\": {\"align\": \"left\"}, \"hovermode\": \"closest\", \"mapbox\": {\"style\": \"light\"}, \"paper_bgcolor\": \"white\", \"plot_bgcolor\": \"#E5ECF6\", \"polar\": {\"angularaxis\": {\"gridcolor\": \"white\", \"linecolor\": \"white\", \"ticks\": \"\"}, \"bgcolor\": \"#E5ECF6\", \"radialaxis\": {\"gridcolor\": \"white\", \"linecolor\": \"white\", \"ticks\": \"\"}}, \"scene\": {\"xaxis\": {\"backgroundcolor\": \"#E5ECF6\", \"gridcolor\": \"white\", \"gridwidth\": 2, \"linecolor\": \"white\", \"showbackground\": true, \"ticks\": \"\", \"zerolinecolor\": \"white\"}, \"yaxis\": {\"backgroundcolor\": \"#E5ECF6\", \"gridcolor\": \"white\", \"gridwidth\": 2, \"linecolor\": \"white\", \"showbackground\": true, \"ticks\": \"\", \"zerolinecolor\": \"white\"}, \"zaxis\": {\"backgroundcolor\": \"#E5ECF6\", \"gridcolor\": \"white\", \"gridwidth\": 2, \"linecolor\": \"white\", \"showbackground\": true, \"ticks\": \"\", \"zerolinecolor\": \"white\"}}, \"shapedefaults\": {\"line\": {\"color\": \"#2a3f5f\"}}, \"ternary\": {\"aaxis\": {\"gridcolor\": \"white\", \"linecolor\": \"white\", \"ticks\": \"\"}, \"baxis\": {\"gridcolor\": \"white\", \"linecolor\": \"white\", \"ticks\": \"\"}, \"bgcolor\": \"#E5ECF6\", \"caxis\": {\"gridcolor\": \"white\", \"linecolor\": \"white\", \"ticks\": \"\"}}, \"title\": {\"x\": 0.05}, \"xaxis\": {\"automargin\": true, \"gridcolor\": \"white\", \"linecolor\": \"white\", \"ticks\": \"\", \"zerolinecolor\": \"white\", \"zerolinewidth\": 2}, \"yaxis\": {\"automargin\": true, \"gridcolor\": \"white\", \"linecolor\": \"white\", \"ticks\": \"\", \"zerolinecolor\": \"white\", \"zerolinewidth\": 2}}}, \"xaxis\": {\"anchor\": \"y\", \"domain\": [0.0, 0.98], \"title\": {\"text\": \"deck\"}}, \"yaxis\": {\"anchor\": \"x\", \"domain\": [0.0, 1.0]}},\n",
       "                        {\"responsive\": true}\n",
       "                    ).then(function(){\n",
       "                            \n",
       "var gd = document.getElementById('61ebd738-f982-4520-b10f-d136c57c4fc7');\n",
       "var x = new MutationObserver(function (mutations, observer) {{\n",
       "        var display = window.getComputedStyle(gd).display;\n",
       "        if (!display || display === 'none') {{\n",
       "            console.log([gd, 'removed!']);\n",
       "            Plotly.purge(gd);\n",
       "            observer.disconnect();\n",
       "        }}\n",
       "}});\n",
       "\n",
       "// Listen for the removal of the full notebook cells\n",
       "var notebookContainer = gd.closest('#notebook-container');\n",
       "if (notebookContainer) {{\n",
       "    x.observe(notebookContainer, {childList: true});\n",
       "}}\n",
       "\n",
       "// Listen for the clearing of the current output cell\n",
       "var outputEl = gd.closest('.output');\n",
       "if (outputEl) {{\n",
       "    x.observe(outputEl, {childList: true});\n",
       "}}\n",
       "\n",
       "                        })\n",
       "                };\n",
       "                });\n",
       "            </script>\n",
       "        </div>"
      ]
     },
     "metadata": {},
     "output_type": "display_data"
    }
   ],
   "source": [
    "fig = px.bar(df, x='deck', height=400, color='label')\n",
    "fig.show()"
   ]
  },
  {
   "cell_type": "markdown",
   "metadata": {},
   "source": [
    "## Comparison of models with respect to structureType"
   ]
  },
  {
   "cell_type": "code",
   "execution_count": 66,
   "metadata": {},
   "outputs": [
    {
     "data": {
      "application/vnd.plotly.v1+json": {
       "config": {
        "plotlyServerURL": "https://plot.ly"
       },
       "data": [
        {
         "alignmentgroup": "True",
         "hoverlabel": {
          "namelength": 0
         },
         "hovertemplate": "label=True - RF & False - FL<br>structureType=%{x}",
         "legendgroup": "label=True - RF & False - FL",
         "marker": {
          "color": "#636efa"
         },
         "name": "label=True - RF & False - FL",
         "offsetgroup": "label=True - RF & False - FL",
         "orientation": "v",
         "showlegend": true,
         "textposition": "auto",
         "type": "bar",
         "x": [
          2,
          2,
          2,
          3,
          2,
          10,
          2,
          2,
          1,
          10,
          4,
          22,
          2,
          3,
          3,
          2,
          2,
          3,
          10,
          10,
          2,
          2,
          2,
          3,
          2,
          2,
          2,
          2,
          2,
          2,
          2,
          1,
          1,
          2,
          1,
          1,
          2,
          2
         ],
         "xaxis": "x",
         "yaxis": "y"
        },
        {
         "alignmentgroup": "True",
         "hoverlabel": {
          "namelength": 0
         },
         "hovertemplate": "label=True - FL & False - RF<br>structureType=%{x}",
         "legendgroup": "label=True - FL & False - RF",
         "marker": {
          "color": "#EF553B"
         },
         "name": "label=True - FL & False - RF",
         "offsetgroup": "label=True - FL & False - RF",
         "orientation": "v",
         "showlegend": true,
         "textposition": "auto",
         "type": "bar",
         "x": [
          2,
          2,
          4,
          2,
          4,
          1,
          2
         ],
         "xaxis": "x",
         "yaxis": "y"
        }
       ],
       "layout": {
        "barmode": "relative",
        "height": 400,
        "legend": {
         "tracegroupgap": 0
        },
        "margin": {
         "t": 60
        },
        "template": {
         "data": {
          "bar": [
           {
            "error_x": {
             "color": "#2a3f5f"
            },
            "error_y": {
             "color": "#2a3f5f"
            },
            "marker": {
             "line": {
              "color": "#E5ECF6",
              "width": 0.5
             }
            },
            "type": "bar"
           }
          ],
          "barpolar": [
           {
            "marker": {
             "line": {
              "color": "#E5ECF6",
              "width": 0.5
             }
            },
            "type": "barpolar"
           }
          ],
          "carpet": [
           {
            "aaxis": {
             "endlinecolor": "#2a3f5f",
             "gridcolor": "white",
             "linecolor": "white",
             "minorgridcolor": "white",
             "startlinecolor": "#2a3f5f"
            },
            "baxis": {
             "endlinecolor": "#2a3f5f",
             "gridcolor": "white",
             "linecolor": "white",
             "minorgridcolor": "white",
             "startlinecolor": "#2a3f5f"
            },
            "type": "carpet"
           }
          ],
          "choropleth": [
           {
            "colorbar": {
             "outlinewidth": 0,
             "ticks": ""
            },
            "type": "choropleth"
           }
          ],
          "contour": [
           {
            "colorbar": {
             "outlinewidth": 0,
             "ticks": ""
            },
            "colorscale": [
             [
              0,
              "#0d0887"
             ],
             [
              0.1111111111111111,
              "#46039f"
             ],
             [
              0.2222222222222222,
              "#7201a8"
             ],
             [
              0.3333333333333333,
              "#9c179e"
             ],
             [
              0.4444444444444444,
              "#bd3786"
             ],
             [
              0.5555555555555556,
              "#d8576b"
             ],
             [
              0.6666666666666666,
              "#ed7953"
             ],
             [
              0.7777777777777778,
              "#fb9f3a"
             ],
             [
              0.8888888888888888,
              "#fdca26"
             ],
             [
              1,
              "#f0f921"
             ]
            ],
            "type": "contour"
           }
          ],
          "contourcarpet": [
           {
            "colorbar": {
             "outlinewidth": 0,
             "ticks": ""
            },
            "type": "contourcarpet"
           }
          ],
          "heatmap": [
           {
            "colorbar": {
             "outlinewidth": 0,
             "ticks": ""
            },
            "colorscale": [
             [
              0,
              "#0d0887"
             ],
             [
              0.1111111111111111,
              "#46039f"
             ],
             [
              0.2222222222222222,
              "#7201a8"
             ],
             [
              0.3333333333333333,
              "#9c179e"
             ],
             [
              0.4444444444444444,
              "#bd3786"
             ],
             [
              0.5555555555555556,
              "#d8576b"
             ],
             [
              0.6666666666666666,
              "#ed7953"
             ],
             [
              0.7777777777777778,
              "#fb9f3a"
             ],
             [
              0.8888888888888888,
              "#fdca26"
             ],
             [
              1,
              "#f0f921"
             ]
            ],
            "type": "heatmap"
           }
          ],
          "heatmapgl": [
           {
            "colorbar": {
             "outlinewidth": 0,
             "ticks": ""
            },
            "colorscale": [
             [
              0,
              "#0d0887"
             ],
             [
              0.1111111111111111,
              "#46039f"
             ],
             [
              0.2222222222222222,
              "#7201a8"
             ],
             [
              0.3333333333333333,
              "#9c179e"
             ],
             [
              0.4444444444444444,
              "#bd3786"
             ],
             [
              0.5555555555555556,
              "#d8576b"
             ],
             [
              0.6666666666666666,
              "#ed7953"
             ],
             [
              0.7777777777777778,
              "#fb9f3a"
             ],
             [
              0.8888888888888888,
              "#fdca26"
             ],
             [
              1,
              "#f0f921"
             ]
            ],
            "type": "heatmapgl"
           }
          ],
          "histogram": [
           {
            "marker": {
             "colorbar": {
              "outlinewidth": 0,
              "ticks": ""
             }
            },
            "type": "histogram"
           }
          ],
          "histogram2d": [
           {
            "colorbar": {
             "outlinewidth": 0,
             "ticks": ""
            },
            "colorscale": [
             [
              0,
              "#0d0887"
             ],
             [
              0.1111111111111111,
              "#46039f"
             ],
             [
              0.2222222222222222,
              "#7201a8"
             ],
             [
              0.3333333333333333,
              "#9c179e"
             ],
             [
              0.4444444444444444,
              "#bd3786"
             ],
             [
              0.5555555555555556,
              "#d8576b"
             ],
             [
              0.6666666666666666,
              "#ed7953"
             ],
             [
              0.7777777777777778,
              "#fb9f3a"
             ],
             [
              0.8888888888888888,
              "#fdca26"
             ],
             [
              1,
              "#f0f921"
             ]
            ],
            "type": "histogram2d"
           }
          ],
          "histogram2dcontour": [
           {
            "colorbar": {
             "outlinewidth": 0,
             "ticks": ""
            },
            "colorscale": [
             [
              0,
              "#0d0887"
             ],
             [
              0.1111111111111111,
              "#46039f"
             ],
             [
              0.2222222222222222,
              "#7201a8"
             ],
             [
              0.3333333333333333,
              "#9c179e"
             ],
             [
              0.4444444444444444,
              "#bd3786"
             ],
             [
              0.5555555555555556,
              "#d8576b"
             ],
             [
              0.6666666666666666,
              "#ed7953"
             ],
             [
              0.7777777777777778,
              "#fb9f3a"
             ],
             [
              0.8888888888888888,
              "#fdca26"
             ],
             [
              1,
              "#f0f921"
             ]
            ],
            "type": "histogram2dcontour"
           }
          ],
          "mesh3d": [
           {
            "colorbar": {
             "outlinewidth": 0,
             "ticks": ""
            },
            "type": "mesh3d"
           }
          ],
          "parcoords": [
           {
            "line": {
             "colorbar": {
              "outlinewidth": 0,
              "ticks": ""
             }
            },
            "type": "parcoords"
           }
          ],
          "scatter": [
           {
            "marker": {
             "colorbar": {
              "outlinewidth": 0,
              "ticks": ""
             }
            },
            "type": "scatter"
           }
          ],
          "scatter3d": [
           {
            "line": {
             "colorbar": {
              "outlinewidth": 0,
              "ticks": ""
             }
            },
            "marker": {
             "colorbar": {
              "outlinewidth": 0,
              "ticks": ""
             }
            },
            "type": "scatter3d"
           }
          ],
          "scattercarpet": [
           {
            "marker": {
             "colorbar": {
              "outlinewidth": 0,
              "ticks": ""
             }
            },
            "type": "scattercarpet"
           }
          ],
          "scattergeo": [
           {
            "marker": {
             "colorbar": {
              "outlinewidth": 0,
              "ticks": ""
             }
            },
            "type": "scattergeo"
           }
          ],
          "scattergl": [
           {
            "marker": {
             "colorbar": {
              "outlinewidth": 0,
              "ticks": ""
             }
            },
            "type": "scattergl"
           }
          ],
          "scattermapbox": [
           {
            "marker": {
             "colorbar": {
              "outlinewidth": 0,
              "ticks": ""
             }
            },
            "type": "scattermapbox"
           }
          ],
          "scatterpolar": [
           {
            "marker": {
             "colorbar": {
              "outlinewidth": 0,
              "ticks": ""
             }
            },
            "type": "scatterpolar"
           }
          ],
          "scatterpolargl": [
           {
            "marker": {
             "colorbar": {
              "outlinewidth": 0,
              "ticks": ""
             }
            },
            "type": "scatterpolargl"
           }
          ],
          "scatterternary": [
           {
            "marker": {
             "colorbar": {
              "outlinewidth": 0,
              "ticks": ""
             }
            },
            "type": "scatterternary"
           }
          ],
          "surface": [
           {
            "colorbar": {
             "outlinewidth": 0,
             "ticks": ""
            },
            "colorscale": [
             [
              0,
              "#0d0887"
             ],
             [
              0.1111111111111111,
              "#46039f"
             ],
             [
              0.2222222222222222,
              "#7201a8"
             ],
             [
              0.3333333333333333,
              "#9c179e"
             ],
             [
              0.4444444444444444,
              "#bd3786"
             ],
             [
              0.5555555555555556,
              "#d8576b"
             ],
             [
              0.6666666666666666,
              "#ed7953"
             ],
             [
              0.7777777777777778,
              "#fb9f3a"
             ],
             [
              0.8888888888888888,
              "#fdca26"
             ],
             [
              1,
              "#f0f921"
             ]
            ],
            "type": "surface"
           }
          ],
          "table": [
           {
            "cells": {
             "fill": {
              "color": "#EBF0F8"
             },
             "line": {
              "color": "white"
             }
            },
            "header": {
             "fill": {
              "color": "#C8D4E3"
             },
             "line": {
              "color": "white"
             }
            },
            "type": "table"
           }
          ]
         },
         "layout": {
          "annotationdefaults": {
           "arrowcolor": "#2a3f5f",
           "arrowhead": 0,
           "arrowwidth": 1
          },
          "colorscale": {
           "diverging": [
            [
             0,
             "#8e0152"
            ],
            [
             0.1,
             "#c51b7d"
            ],
            [
             0.2,
             "#de77ae"
            ],
            [
             0.3,
             "#f1b6da"
            ],
            [
             0.4,
             "#fde0ef"
            ],
            [
             0.5,
             "#f7f7f7"
            ],
            [
             0.6,
             "#e6f5d0"
            ],
            [
             0.7,
             "#b8e186"
            ],
            [
             0.8,
             "#7fbc41"
            ],
            [
             0.9,
             "#4d9221"
            ],
            [
             1,
             "#276419"
            ]
           ],
           "sequential": [
            [
             0,
             "#0d0887"
            ],
            [
             0.1111111111111111,
             "#46039f"
            ],
            [
             0.2222222222222222,
             "#7201a8"
            ],
            [
             0.3333333333333333,
             "#9c179e"
            ],
            [
             0.4444444444444444,
             "#bd3786"
            ],
            [
             0.5555555555555556,
             "#d8576b"
            ],
            [
             0.6666666666666666,
             "#ed7953"
            ],
            [
             0.7777777777777778,
             "#fb9f3a"
            ],
            [
             0.8888888888888888,
             "#fdca26"
            ],
            [
             1,
             "#f0f921"
            ]
           ],
           "sequentialminus": [
            [
             0,
             "#0d0887"
            ],
            [
             0.1111111111111111,
             "#46039f"
            ],
            [
             0.2222222222222222,
             "#7201a8"
            ],
            [
             0.3333333333333333,
             "#9c179e"
            ],
            [
             0.4444444444444444,
             "#bd3786"
            ],
            [
             0.5555555555555556,
             "#d8576b"
            ],
            [
             0.6666666666666666,
             "#ed7953"
            ],
            [
             0.7777777777777778,
             "#fb9f3a"
            ],
            [
             0.8888888888888888,
             "#fdca26"
            ],
            [
             1,
             "#f0f921"
            ]
           ]
          },
          "colorway": [
           "#636efa",
           "#EF553B",
           "#00cc96",
           "#ab63fa",
           "#FFA15A",
           "#19d3f3",
           "#FF6692",
           "#B6E880",
           "#FF97FF",
           "#FECB52"
          ],
          "font": {
           "color": "#2a3f5f"
          },
          "geo": {
           "bgcolor": "white",
           "lakecolor": "white",
           "landcolor": "#E5ECF6",
           "showlakes": true,
           "showland": true,
           "subunitcolor": "white"
          },
          "hoverlabel": {
           "align": "left"
          },
          "hovermode": "closest",
          "mapbox": {
           "style": "light"
          },
          "paper_bgcolor": "white",
          "plot_bgcolor": "#E5ECF6",
          "polar": {
           "angularaxis": {
            "gridcolor": "white",
            "linecolor": "white",
            "ticks": ""
           },
           "bgcolor": "#E5ECF6",
           "radialaxis": {
            "gridcolor": "white",
            "linecolor": "white",
            "ticks": ""
           }
          },
          "scene": {
           "xaxis": {
            "backgroundcolor": "#E5ECF6",
            "gridcolor": "white",
            "gridwidth": 2,
            "linecolor": "white",
            "showbackground": true,
            "ticks": "",
            "zerolinecolor": "white"
           },
           "yaxis": {
            "backgroundcolor": "#E5ECF6",
            "gridcolor": "white",
            "gridwidth": 2,
            "linecolor": "white",
            "showbackground": true,
            "ticks": "",
            "zerolinecolor": "white"
           },
           "zaxis": {
            "backgroundcolor": "#E5ECF6",
            "gridcolor": "white",
            "gridwidth": 2,
            "linecolor": "white",
            "showbackground": true,
            "ticks": "",
            "zerolinecolor": "white"
           }
          },
          "shapedefaults": {
           "line": {
            "color": "#2a3f5f"
           }
          },
          "ternary": {
           "aaxis": {
            "gridcolor": "white",
            "linecolor": "white",
            "ticks": ""
           },
           "baxis": {
            "gridcolor": "white",
            "linecolor": "white",
            "ticks": ""
           },
           "bgcolor": "#E5ECF6",
           "caxis": {
            "gridcolor": "white",
            "linecolor": "white",
            "ticks": ""
           }
          },
          "title": {
           "x": 0.05
          },
          "xaxis": {
           "automargin": true,
           "gridcolor": "white",
           "linecolor": "white",
           "ticks": "",
           "zerolinecolor": "white",
           "zerolinewidth": 2
          },
          "yaxis": {
           "automargin": true,
           "gridcolor": "white",
           "linecolor": "white",
           "ticks": "",
           "zerolinecolor": "white",
           "zerolinewidth": 2
          }
         }
        },
        "xaxis": {
         "anchor": "y",
         "domain": [
          0,
          0.98
         ],
         "title": {
          "text": "structureType"
         }
        },
        "yaxis": {
         "anchor": "x",
         "domain": [
          0,
          1
         ]
        }
       }
      },
      "text/html": [
       "<div>\n",
       "        \n",
       "        \n",
       "            <div id=\"efd7eaa8-fcd1-4ab3-b56d-6e967418d9f2\" class=\"plotly-graph-div\" style=\"height:400px; width:100%;\"></div>\n",
       "            <script type=\"text/javascript\">\n",
       "                require([\"plotly\"], function(Plotly) {\n",
       "                    window.PLOTLYENV=window.PLOTLYENV || {};\n",
       "                    \n",
       "                if (document.getElementById(\"efd7eaa8-fcd1-4ab3-b56d-6e967418d9f2\")) {\n",
       "                    Plotly.newPlot(\n",
       "                        'efd7eaa8-fcd1-4ab3-b56d-6e967418d9f2',\n",
       "                        [{\"alignmentgroup\": \"True\", \"hoverlabel\": {\"namelength\": 0}, \"hovertemplate\": \"label=True - RF & False - FL<br>structureType=%{x}\", \"legendgroup\": \"label=True - RF & False - FL\", \"marker\": {\"color\": \"#636efa\"}, \"name\": \"label=True - RF & False - FL\", \"offsetgroup\": \"label=True - RF & False - FL\", \"orientation\": \"v\", \"showlegend\": true, \"textposition\": \"auto\", \"type\": \"bar\", \"x\": [2, 2, 2, 3, 2, 10, 2, 2, 1, 10, 4, 22, 2, 3, 3, 2, 2, 3, 10, 10, 2, 2, 2, 3, 2, 2, 2, 2, 2, 2, 2, 1, 1, 2, 1, 1, 2, 2], \"xaxis\": \"x\", \"yaxis\": \"y\"}, {\"alignmentgroup\": \"True\", \"hoverlabel\": {\"namelength\": 0}, \"hovertemplate\": \"label=True - FL & False - RF<br>structureType=%{x}\", \"legendgroup\": \"label=True - FL & False - RF\", \"marker\": {\"color\": \"#EF553B\"}, \"name\": \"label=True - FL & False - RF\", \"offsetgroup\": \"label=True - FL & False - RF\", \"orientation\": \"v\", \"showlegend\": true, \"textposition\": \"auto\", \"type\": \"bar\", \"x\": [2, 2, 4, 2, 4, 1, 2], \"xaxis\": \"x\", \"yaxis\": \"y\"}],\n",
       "                        {\"barmode\": \"relative\", \"height\": 400, \"legend\": {\"tracegroupgap\": 0}, \"margin\": {\"t\": 60}, \"template\": {\"data\": {\"bar\": [{\"error_x\": {\"color\": \"#2a3f5f\"}, \"error_y\": {\"color\": \"#2a3f5f\"}, \"marker\": {\"line\": {\"color\": \"#E5ECF6\", \"width\": 0.5}}, \"type\": \"bar\"}], \"barpolar\": [{\"marker\": {\"line\": {\"color\": \"#E5ECF6\", \"width\": 0.5}}, \"type\": \"barpolar\"}], \"carpet\": [{\"aaxis\": {\"endlinecolor\": \"#2a3f5f\", \"gridcolor\": \"white\", \"linecolor\": \"white\", \"minorgridcolor\": \"white\", \"startlinecolor\": \"#2a3f5f\"}, \"baxis\": {\"endlinecolor\": \"#2a3f5f\", \"gridcolor\": \"white\", \"linecolor\": \"white\", \"minorgridcolor\": \"white\", \"startlinecolor\": \"#2a3f5f\"}, \"type\": \"carpet\"}], \"choropleth\": [{\"colorbar\": {\"outlinewidth\": 0, \"ticks\": \"\"}, \"type\": \"choropleth\"}], \"contour\": [{\"colorbar\": {\"outlinewidth\": 0, \"ticks\": \"\"}, \"colorscale\": [[0.0, \"#0d0887\"], [0.1111111111111111, \"#46039f\"], [0.2222222222222222, \"#7201a8\"], [0.3333333333333333, \"#9c179e\"], [0.4444444444444444, \"#bd3786\"], [0.5555555555555556, \"#d8576b\"], [0.6666666666666666, \"#ed7953\"], [0.7777777777777778, \"#fb9f3a\"], [0.8888888888888888, \"#fdca26\"], [1.0, \"#f0f921\"]], \"type\": \"contour\"}], \"contourcarpet\": [{\"colorbar\": {\"outlinewidth\": 0, \"ticks\": \"\"}, \"type\": \"contourcarpet\"}], \"heatmap\": [{\"colorbar\": {\"outlinewidth\": 0, \"ticks\": \"\"}, \"colorscale\": [[0.0, \"#0d0887\"], [0.1111111111111111, \"#46039f\"], [0.2222222222222222, \"#7201a8\"], [0.3333333333333333, \"#9c179e\"], [0.4444444444444444, \"#bd3786\"], [0.5555555555555556, \"#d8576b\"], [0.6666666666666666, \"#ed7953\"], [0.7777777777777778, \"#fb9f3a\"], [0.8888888888888888, \"#fdca26\"], [1.0, \"#f0f921\"]], \"type\": \"heatmap\"}], \"heatmapgl\": [{\"colorbar\": {\"outlinewidth\": 0, \"ticks\": \"\"}, \"colorscale\": [[0.0, \"#0d0887\"], [0.1111111111111111, \"#46039f\"], [0.2222222222222222, \"#7201a8\"], [0.3333333333333333, \"#9c179e\"], [0.4444444444444444, \"#bd3786\"], [0.5555555555555556, \"#d8576b\"], [0.6666666666666666, \"#ed7953\"], [0.7777777777777778, \"#fb9f3a\"], [0.8888888888888888, \"#fdca26\"], [1.0, \"#f0f921\"]], \"type\": \"heatmapgl\"}], \"histogram\": [{\"marker\": {\"colorbar\": {\"outlinewidth\": 0, \"ticks\": \"\"}}, \"type\": \"histogram\"}], \"histogram2d\": [{\"colorbar\": {\"outlinewidth\": 0, \"ticks\": \"\"}, \"colorscale\": [[0.0, \"#0d0887\"], [0.1111111111111111, \"#46039f\"], [0.2222222222222222, \"#7201a8\"], [0.3333333333333333, \"#9c179e\"], [0.4444444444444444, \"#bd3786\"], [0.5555555555555556, \"#d8576b\"], [0.6666666666666666, \"#ed7953\"], [0.7777777777777778, \"#fb9f3a\"], [0.8888888888888888, \"#fdca26\"], [1.0, \"#f0f921\"]], \"type\": \"histogram2d\"}], \"histogram2dcontour\": [{\"colorbar\": {\"outlinewidth\": 0, \"ticks\": \"\"}, \"colorscale\": [[0.0, \"#0d0887\"], [0.1111111111111111, \"#46039f\"], [0.2222222222222222, \"#7201a8\"], [0.3333333333333333, \"#9c179e\"], [0.4444444444444444, \"#bd3786\"], [0.5555555555555556, \"#d8576b\"], [0.6666666666666666, \"#ed7953\"], [0.7777777777777778, \"#fb9f3a\"], [0.8888888888888888, \"#fdca26\"], [1.0, \"#f0f921\"]], \"type\": \"histogram2dcontour\"}], \"mesh3d\": [{\"colorbar\": {\"outlinewidth\": 0, \"ticks\": \"\"}, \"type\": \"mesh3d\"}], \"parcoords\": [{\"line\": {\"colorbar\": {\"outlinewidth\": 0, \"ticks\": \"\"}}, \"type\": \"parcoords\"}], \"scatter\": [{\"marker\": {\"colorbar\": {\"outlinewidth\": 0, \"ticks\": \"\"}}, \"type\": \"scatter\"}], \"scatter3d\": [{\"line\": {\"colorbar\": {\"outlinewidth\": 0, \"ticks\": \"\"}}, \"marker\": {\"colorbar\": {\"outlinewidth\": 0, \"ticks\": \"\"}}, \"type\": \"scatter3d\"}], \"scattercarpet\": [{\"marker\": {\"colorbar\": {\"outlinewidth\": 0, \"ticks\": \"\"}}, \"type\": \"scattercarpet\"}], \"scattergeo\": [{\"marker\": {\"colorbar\": {\"outlinewidth\": 0, \"ticks\": \"\"}}, \"type\": \"scattergeo\"}], \"scattergl\": [{\"marker\": {\"colorbar\": {\"outlinewidth\": 0, \"ticks\": \"\"}}, \"type\": \"scattergl\"}], \"scattermapbox\": [{\"marker\": {\"colorbar\": {\"outlinewidth\": 0, \"ticks\": \"\"}}, \"type\": \"scattermapbox\"}], \"scatterpolar\": [{\"marker\": {\"colorbar\": {\"outlinewidth\": 0, \"ticks\": \"\"}}, \"type\": \"scatterpolar\"}], \"scatterpolargl\": [{\"marker\": {\"colorbar\": {\"outlinewidth\": 0, \"ticks\": \"\"}}, \"type\": \"scatterpolargl\"}], \"scatterternary\": [{\"marker\": {\"colorbar\": {\"outlinewidth\": 0, \"ticks\": \"\"}}, \"type\": \"scatterternary\"}], \"surface\": [{\"colorbar\": {\"outlinewidth\": 0, \"ticks\": \"\"}, \"colorscale\": [[0.0, \"#0d0887\"], [0.1111111111111111, \"#46039f\"], [0.2222222222222222, \"#7201a8\"], [0.3333333333333333, \"#9c179e\"], [0.4444444444444444, \"#bd3786\"], [0.5555555555555556, \"#d8576b\"], [0.6666666666666666, \"#ed7953\"], [0.7777777777777778, \"#fb9f3a\"], [0.8888888888888888, \"#fdca26\"], [1.0, \"#f0f921\"]], \"type\": \"surface\"}], \"table\": [{\"cells\": {\"fill\": {\"color\": \"#EBF0F8\"}, \"line\": {\"color\": \"white\"}}, \"header\": {\"fill\": {\"color\": \"#C8D4E3\"}, \"line\": {\"color\": \"white\"}}, \"type\": \"table\"}]}, \"layout\": {\"annotationdefaults\": {\"arrowcolor\": \"#2a3f5f\", \"arrowhead\": 0, \"arrowwidth\": 1}, \"colorscale\": {\"diverging\": [[0, \"#8e0152\"], [0.1, \"#c51b7d\"], [0.2, \"#de77ae\"], [0.3, \"#f1b6da\"], [0.4, \"#fde0ef\"], [0.5, \"#f7f7f7\"], [0.6, \"#e6f5d0\"], [0.7, \"#b8e186\"], [0.8, \"#7fbc41\"], [0.9, \"#4d9221\"], [1, \"#276419\"]], \"sequential\": [[0.0, \"#0d0887\"], [0.1111111111111111, \"#46039f\"], [0.2222222222222222, \"#7201a8\"], [0.3333333333333333, \"#9c179e\"], [0.4444444444444444, \"#bd3786\"], [0.5555555555555556, \"#d8576b\"], [0.6666666666666666, \"#ed7953\"], [0.7777777777777778, \"#fb9f3a\"], [0.8888888888888888, \"#fdca26\"], [1.0, \"#f0f921\"]], \"sequentialminus\": [[0.0, \"#0d0887\"], [0.1111111111111111, \"#46039f\"], [0.2222222222222222, \"#7201a8\"], [0.3333333333333333, \"#9c179e\"], [0.4444444444444444, \"#bd3786\"], [0.5555555555555556, \"#d8576b\"], [0.6666666666666666, \"#ed7953\"], [0.7777777777777778, \"#fb9f3a\"], [0.8888888888888888, \"#fdca26\"], [1.0, \"#f0f921\"]]}, \"colorway\": [\"#636efa\", \"#EF553B\", \"#00cc96\", \"#ab63fa\", \"#FFA15A\", \"#19d3f3\", \"#FF6692\", \"#B6E880\", \"#FF97FF\", \"#FECB52\"], \"font\": {\"color\": \"#2a3f5f\"}, \"geo\": {\"bgcolor\": \"white\", \"lakecolor\": \"white\", \"landcolor\": \"#E5ECF6\", \"showlakes\": true, \"showland\": true, \"subunitcolor\": \"white\"}, \"hoverlabel\": {\"align\": \"left\"}, \"hovermode\": \"closest\", \"mapbox\": {\"style\": \"light\"}, \"paper_bgcolor\": \"white\", \"plot_bgcolor\": \"#E5ECF6\", \"polar\": {\"angularaxis\": {\"gridcolor\": \"white\", \"linecolor\": \"white\", \"ticks\": \"\"}, \"bgcolor\": \"#E5ECF6\", \"radialaxis\": {\"gridcolor\": \"white\", \"linecolor\": \"white\", \"ticks\": \"\"}}, \"scene\": {\"xaxis\": {\"backgroundcolor\": \"#E5ECF6\", \"gridcolor\": \"white\", \"gridwidth\": 2, \"linecolor\": \"white\", \"showbackground\": true, \"ticks\": \"\", \"zerolinecolor\": \"white\"}, \"yaxis\": {\"backgroundcolor\": \"#E5ECF6\", \"gridcolor\": \"white\", \"gridwidth\": 2, \"linecolor\": \"white\", \"showbackground\": true, \"ticks\": \"\", \"zerolinecolor\": \"white\"}, \"zaxis\": {\"backgroundcolor\": \"#E5ECF6\", \"gridcolor\": \"white\", \"gridwidth\": 2, \"linecolor\": \"white\", \"showbackground\": true, \"ticks\": \"\", \"zerolinecolor\": \"white\"}}, \"shapedefaults\": {\"line\": {\"color\": \"#2a3f5f\"}}, \"ternary\": {\"aaxis\": {\"gridcolor\": \"white\", \"linecolor\": \"white\", \"ticks\": \"\"}, \"baxis\": {\"gridcolor\": \"white\", \"linecolor\": \"white\", \"ticks\": \"\"}, \"bgcolor\": \"#E5ECF6\", \"caxis\": {\"gridcolor\": \"white\", \"linecolor\": \"white\", \"ticks\": \"\"}}, \"title\": {\"x\": 0.05}, \"xaxis\": {\"automargin\": true, \"gridcolor\": \"white\", \"linecolor\": \"white\", \"ticks\": \"\", \"zerolinecolor\": \"white\", \"zerolinewidth\": 2}, \"yaxis\": {\"automargin\": true, \"gridcolor\": \"white\", \"linecolor\": \"white\", \"ticks\": \"\", \"zerolinecolor\": \"white\", \"zerolinewidth\": 2}}}, \"xaxis\": {\"anchor\": \"y\", \"domain\": [0.0, 0.98], \"title\": {\"text\": \"structureType\"}}, \"yaxis\": {\"anchor\": \"x\", \"domain\": [0.0, 1.0]}},\n",
       "                        {\"responsive\": true}\n",
       "                    ).then(function(){\n",
       "                            \n",
       "var gd = document.getElementById('efd7eaa8-fcd1-4ab3-b56d-6e967418d9f2');\n",
       "var x = new MutationObserver(function (mutations, observer) {{\n",
       "        var display = window.getComputedStyle(gd).display;\n",
       "        if (!display || display === 'none') {{\n",
       "            console.log([gd, 'removed!']);\n",
       "            Plotly.purge(gd);\n",
       "            observer.disconnect();\n",
       "        }}\n",
       "}});\n",
       "\n",
       "// Listen for the removal of the full notebook cells\n",
       "var notebookContainer = gd.closest('#notebook-container');\n",
       "if (notebookContainer) {{\n",
       "    x.observe(notebookContainer, {childList: true});\n",
       "}}\n",
       "\n",
       "// Listen for the clearing of the current output cell\n",
       "var outputEl = gd.closest('.output');\n",
       "if (outputEl) {{\n",
       "    x.observe(outputEl, {childList: true});\n",
       "}}\n",
       "\n",
       "                        })\n",
       "                };\n",
       "                });\n",
       "            </script>\n",
       "        </div>"
      ]
     },
     "metadata": {},
     "output_type": "display_data"
    }
   ],
   "source": [
    "fig = px.bar(df, x='structureType', height=400, color='label')\n",
    "fig.show()"
   ]
  },
  {
   "cell_type": "code",
   "execution_count": 71,
   "metadata": {},
   "outputs": [
    {
     "name": "stdout",
     "output_type": "stream",
     "text": [
      "7.714285714285714 6.552631578947368\n"
     ]
    },
    {
     "data": {
      "text/plain": [
       "Ttest_indResult(statistic=2.5978505684515705, pvalue=0.012794882306643147)"
      ]
     },
     "execution_count": 71,
     "metadata": {},
     "output_type": "execute_result"
    }
   ],
   "source": [
    "# mean deck rating\n",
    "fl = np.mean(flowChart['deck'])\n",
    "rf = np.mean(randomForest['deck'])\n",
    "print(fl, rf) # flowchart: 7, randomForest: 38\n",
    "\n",
    "# t-test\n",
    "from scipy.stats import ttest_ind\n",
    "\n",
    "# flowchart: True, RandomForest:False,  label: True\n",
    "fl = (flowChart['deck'])\n",
    "\n",
    "# flowchart: False, RandomForest:True,  label: True\n",
    "rf = (randomForest['deck'])\n",
    "ttest_ind(fl, rf)"
   ]
  },
  {
   "cell_type": "code",
   "execution_count": null,
   "metadata": {},
   "outputs": [],
   "source": []
  }
 ],
 "metadata": {
  "kernelspec": {
   "display_name": "Python 3",
   "language": "python",
   "name": "python3"
  },
  "language_info": {
   "codemirror_mode": {
    "name": "ipython",
    "version": 3
   },
   "file_extension": ".py",
   "mimetype": "text/x-python",
   "name": "python",
   "nbconvert_exporter": "python",
   "pygments_lexer": "ipython3",
   "version": "3.6.4"
  }
 },
 "nbformat": 4,
 "nbformat_minor": 2
}
